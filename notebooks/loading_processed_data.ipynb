{
 "cells": [
  {
   "cell_type": "code",
   "execution_count": 1,
   "metadata": {},
   "outputs": [],
   "source": [
    "### Imports\n",
    "import pandas as pd\n",
    "import numpy as np\n",
    "import os"
   ]
  },
  {
   "cell_type": "code",
   "execution_count": 2,
   "metadata": {},
   "outputs": [
    {
     "name": "stdout",
     "output_type": "stream",
     "text": [
      "Working Directory:  c:\\Users\\Stephan\\Documents\\Python\\Python-Stat\\Neuer\\Kaggle_semiinar\\student-performance\n"
     ]
    }
   ],
   "source": [
    "# get working directory\n",
    "wd = os.path.dirname(os.getcwd())\n",
    "# wd = \"N:\\MASTER_DS\\Code\\Kaggle_competition\\Kaggle-seminar\\student-performance\"\n",
    "os.chdir(wd)\n",
    "print(\"Working Directory: \", os.getcwd())"
   ]
  },
  {
   "cell_type": "code",
   "execution_count": 4,
   "metadata": {},
   "outputs": [],
   "source": [
    "dtypes={\n",
    "    'level': np.uint8,  \n",
    "    'session_id':np.int64,\n",
    "    'level_group':'category',\n",
    "    'event_name':np.int64,\n",
    "    'name':np.int64,\n",
    "    'fqid':np.int64,\n",
    "    'room_fqid':np.int64,\n",
    "    'text_fqid':np.int64,\n",
    "    'fullscreen':'category',\n",
    "    'hq':'category',\n",
    "    'music':'category',\n",
    "    'hover_duration_mean':np.float32,\n",
    "    'difference_clicks_mean':np.float64,\n",
    "    'elapsed_time_std':np.float64,\n",
    "    'page_std':np.float64,\n",
    "    'room_coor_x_std':np.float64,\n",
    "    'room_coor_y_std':np.float64,\n",
    "    'screen_coor_x_std':np.float64,\n",
    "    'screen_coor_y_std':np.float64,\n",
    "    'hover_duration_std':np.float64,\n",
    "    'difference_clicks_std':np.float64,\n",
    "    'index_sum_of_actions':np.int32,\n",
    "    'difference_clicks_max':np.float64,\n",
    "    'elapsed_time_max':np.float64,\n",
    "    'clicks_per_second':np.float64}\n"
   ]
  },
  {
   "cell_type": "code",
   "execution_count": 5,
   "metadata": {},
   "outputs": [],
   "source": [
    "dataset_df = pd.read_csv('data/processed/data_df_level.csv', dtype=dtypes)"
   ]
  },
  {
   "cell_type": "code",
   "execution_count": null,
   "metadata": {},
   "outputs": [],
   "source": []
  }
 ],
 "metadata": {
  "kernelspec": {
   "display_name": ".venv",
   "language": "python",
   "name": "python3"
  },
  "language_info": {
   "codemirror_mode": {
    "name": "ipython",
    "version": 3
   },
   "file_extension": ".py",
   "mimetype": "text/x-python",
   "name": "python",
   "nbconvert_exporter": "python",
   "pygments_lexer": "ipython3",
   "version": "3.10.11"
  },
  "orig_nbformat": 4
 },
 "nbformat": 4,
 "nbformat_minor": 2
}
