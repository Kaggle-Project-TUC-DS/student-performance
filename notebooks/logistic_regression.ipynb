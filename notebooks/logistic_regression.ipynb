{
 "cells": [
  {
   "cell_type": "code",
   "execution_count": 1,
   "metadata": {},
   "outputs": [],
   "source": [
    "import matplotlib.pyplot as plt\n",
    "import numpy as np\n",
    "import os\n",
    "import pandas as pd\n",
    "from sklearn.linear_model import LogisticRegression\n",
    "from sklearn.metrics import classification_report, confusion_matrix\n"
   ]
  },
  {
   "cell_type": "code",
   "execution_count": 2,
   "metadata": {},
   "outputs": [
    {
     "name": "stdout",
     "output_type": "stream",
     "text": [
      "Current working directory:  /home/joh/student-performance/notebooks\n",
      "New working directory:  /home/joh/student-performance\n"
     ]
    },
    {
     "ename": "NameError",
     "evalue": "name 'np' is not defined",
     "output_type": "error",
     "traceback": [
      "\u001b[0;31m---------------------------------------------------------------------------\u001b[0m",
      "\u001b[0;31mNameError\u001b[0m                                 Traceback (most recent call last)",
      "Cell \u001b[0;32mIn[2], line 7\u001b[0m\n\u001b[1;32m      5\u001b[0m os\u001b[39m.\u001b[39mchdir(wd)\n\u001b[1;32m      6\u001b[0m \u001b[39mprint\u001b[39m(\u001b[39m\"\u001b[39m\u001b[39mNew working directory: \u001b[39m\u001b[39m\"\u001b[39m, os\u001b[39m.\u001b[39mgetcwd())\n\u001b[0;32m----> 7\u001b[0m \u001b[39mfrom\u001b[39;00m \u001b[39mutils\u001b[39;00m\u001b[39m.\u001b[39;00m\u001b[39mloader_steve\u001b[39;00m \u001b[39mimport\u001b[39;00m load_level_group_X_y, load_all_X_y\n",
      "File \u001b[0;32m~/student-performance/utils/loader_steve.py:11\u001b[0m\n\u001b[1;32m      1\u001b[0m \u001b[39m#in this file we will collect the functions/utilities to load the preprocessed data for training purposes\u001b[39;00m\n\u001b[1;32m      2\u001b[0m \u001b[39m#to do- merge the different preprocessing files and create 1 preprocessing function\u001b[39;00m\n\u001b[1;32m      3\u001b[0m \u001b[39m#Stephan and Johannes\u001b[39;00m\n\u001b[0;32m   (...)\u001b[0m\n\u001b[1;32m      7\u001b[0m \n\u001b[1;32m      8\u001b[0m \u001b[39m#define the dictionary to load in the data efficiently\u001b[39;00m\n\u001b[1;32m      9\u001b[0m dtypes\u001b[39m=\u001b[39m{\n\u001b[1;32m     10\u001b[0m     \u001b[39m\"\u001b[39m\u001b[39mlevel_group\u001b[39m\u001b[39m\"\u001b[39m: \u001b[39m\"\u001b[39m\u001b[39mcategory\u001b[39m\u001b[39m\"\u001b[39m,\n\u001b[0;32m---> 11\u001b[0m     \u001b[39m'\u001b[39m\u001b[39mlevel\u001b[39m\u001b[39m'\u001b[39m: np\u001b[39m.\u001b[39muint8,\n\u001b[1;32m     12\u001b[0m     \u001b[39m'\u001b[39m\u001b[39mevent_name_nunique\u001b[39m\u001b[39m'\u001b[39m: np\u001b[39m.\u001b[39muint8,\n\u001b[1;32m     13\u001b[0m     \u001b[39m'\u001b[39m\u001b[39mname_nunique\u001b[39m\u001b[39m'\u001b[39m:np\u001b[39m.\u001b[39muint8,\n\u001b[1;32m     14\u001b[0m     \u001b[39m'\u001b[39m\u001b[39mfqid_nunique\u001b[39m\u001b[39m'\u001b[39m:np\u001b[39m.\u001b[39muint8,\n\u001b[1;32m     15\u001b[0m     \u001b[39m'\u001b[39m\u001b[39mroom_fqid_nunique\u001b[39m\u001b[39m'\u001b[39m:np\u001b[39m.\u001b[39muint8,\n\u001b[1;32m     16\u001b[0m     \u001b[39m'\u001b[39m\u001b[39mtext_fqid_nunique\u001b[39m\u001b[39m'\u001b[39m:np\u001b[39m.\u001b[39muint8, \n\u001b[1;32m     17\u001b[0m     \u001b[39m'\u001b[39m\u001b[39mhover_duration_mean\u001b[39m\u001b[39m'\u001b[39m: np\u001b[39m.\u001b[39mfloat32,\n\u001b[1;32m     18\u001b[0m     \u001b[39m'\u001b[39m\u001b[39mdifference_clicks_mean\u001b[39m\u001b[39m'\u001b[39m:np\u001b[39m.\u001b[39mfloat32,\n\u001b[1;32m     19\u001b[0m     \u001b[39m'\u001b[39m\u001b[39melapsed_time_std\u001b[39m\u001b[39m'\u001b[39m:np\u001b[39m.\u001b[39mfloat32,\n\u001b[1;32m     20\u001b[0m     \u001b[39m'\u001b[39m\u001b[39mpage_std\u001b[39m\u001b[39m'\u001b[39m:np\u001b[39m.\u001b[39mfloat32,\n\u001b[1;32m     21\u001b[0m     \u001b[39m'\u001b[39m\u001b[39mroom_coor_x_std\u001b[39m\u001b[39m'\u001b[39m:np\u001b[39m.\u001b[39mfloat32,\n\u001b[1;32m     22\u001b[0m     \u001b[39m'\u001b[39m\u001b[39mroom_coor_y_std\u001b[39m\u001b[39m'\u001b[39m:np\u001b[39m.\u001b[39mfloat32,\n\u001b[1;32m     23\u001b[0m     \u001b[39m'\u001b[39m\u001b[39mscreen_coor_x_std\u001b[39m\u001b[39m'\u001b[39m:np\u001b[39m.\u001b[39mfloat32,\n\u001b[1;32m     24\u001b[0m     \u001b[39m'\u001b[39m\u001b[39mscreen_coor_y_std\u001b[39m\u001b[39m'\u001b[39m:np\u001b[39m.\u001b[39mfloat32,\n\u001b[1;32m     25\u001b[0m     \u001b[39m'\u001b[39m\u001b[39mhover_duration_std\u001b[39m\u001b[39m'\u001b[39m:np\u001b[39m.\u001b[39mfloat32,\n\u001b[1;32m     26\u001b[0m     \u001b[39m'\u001b[39m\u001b[39mdifference_clicks_std\u001b[39m\u001b[39m'\u001b[39m:np\u001b[39m.\u001b[39mfloat32,\n\u001b[1;32m     27\u001b[0m     \u001b[39m'\u001b[39m\u001b[39mindex_sum_of_actions\u001b[39m\u001b[39m'\u001b[39m:np\u001b[39m.\u001b[39muint16,\n\u001b[1;32m     28\u001b[0m     \u001b[39m'\u001b[39m\u001b[39mdifference_clicks_max\u001b[39m\u001b[39m'\u001b[39m:np\u001b[39m.\u001b[39mfloat32,\n\u001b[1;32m     29\u001b[0m     \u001b[39m'\u001b[39m\u001b[39melapsed_time_max\u001b[39m\u001b[39m'\u001b[39m:np\u001b[39m.\u001b[39mfloat32,\n\u001b[1;32m     30\u001b[0m     \u001b[39m'\u001b[39m\u001b[39mclicks_per_second\u001b[39m\u001b[39m'\u001b[39m:np\u001b[39m.\u001b[39mfloat32\n\u001b[1;32m     31\u001b[0m     }\n",
      "\u001b[0;31mNameError\u001b[0m: name 'np' is not defined"
     ]
    }
   ],
   "source": [
    "wd = os.getcwd()\n",
    "print(\"Current working directory: \", wd)\n",
    "if wd[-9:] == \"notebooks\": wd = wd[:-10]\n",
    "else: print(\"Make sure your working directory is set to the student-performance folder.\")\n",
    "os.chdir(wd)\n",
    "print(\"New working directory: \", os.getcwd())\n",
    "from utils.loader_steve import load_level_group_X_y, load_all_X_y"
   ]
  },
  {
   "cell_type": "code",
   "execution_count": 19,
   "metadata": {},
   "outputs": [],
   "source": [
    "# X\n",
    "df = pd.read_csv(\"data/processed/df_5_12_flattened.csv\", index_col=0)\n",
    "X = df.iloc[:, :].values\n",
    "# X = np.delete(X, 61, 1)\n",
    "\n",
    "# y\n",
    "labels = pd.read_csv(\"data/processed/labels_q4-13.csv\")\n",
    "y = labels['correct'].values"
   ]
  },
  {
   "cell_type": "code",
   "execution_count": 13,
   "metadata": {},
   "outputs": [],
   "source": [
    "model = LogisticRegression(solver='liblinear', random_state=0, max_iter = 100)"
   ]
  },
  {
   "cell_type": "code",
   "execution_count": null,
   "metadata": {},
   "outputs": [],
   "source": []
  },
  {
   "cell_type": "code",
   "execution_count": 14,
   "metadata": {},
   "outputs": [],
   "source": [
    "model = LogisticRegression(C=1.0, class_weight=None, dual=False, fit_intercept=True,\n",
    "                   intercept_scaling=1, l1_ratio=None, max_iter=1000,\n",
    "                   multi_class='auto', n_jobs=None, penalty='l2',\n",
    "                   random_state=0, solver='liblinear', tol=0.0001, verbose=0,\n",
    "                   warm_start=False)"
   ]
  },
  {
   "cell_type": "code",
   "execution_count": 6,
   "metadata": {},
   "outputs": [
    {
     "ename": "NameError",
     "evalue": "name 'model' is not defined",
     "output_type": "error",
     "traceback": [
      "\u001b[0;31m---------------------------------------------------------------------------\u001b[0m",
      "\u001b[0;31mNameError\u001b[0m                                 Traceback (most recent call last)",
      "Cell \u001b[0;32mIn[6], line 1\u001b[0m\n\u001b[0;32m----> 1\u001b[0m model\u001b[39m.\u001b[39mfit(X, y)\n",
      "\u001b[0;31mNameError\u001b[0m: name 'model' is not defined"
     ]
    }
   ],
   "source": [
    "model.fit(X, y)"
   ]
  },
  {
   "cell_type": "code",
   "execution_count": 38,
   "metadata": {},
   "outputs": [
    {
     "data": {
      "text/plain": [
       "array([0, 1])"
      ]
     },
     "execution_count": 38,
     "metadata": {},
     "output_type": "execute_result"
    }
   ],
   "source": [
    "model.classes_"
   ]
  },
  {
   "cell_type": "code",
   "execution_count": 39,
   "metadata": {},
   "outputs": [
    {
     "data": {
      "text/plain": [
       "array([0.00013076])"
      ]
     },
     "execution_count": 39,
     "metadata": {},
     "output_type": "execute_result"
    }
   ],
   "source": [
    "model.intercept_"
   ]
  },
  {
   "cell_type": "code",
   "execution_count": 40,
   "metadata": {},
   "outputs": [
    {
     "data": {
      "text/plain": [
       "array([[ 4.22764741e-04, -1.13232754e-04, -5.79929763e-04,\n",
       "         1.86855765e-05,  1.46332318e-04,  5.85199331e-05,\n",
       "         1.78131057e-04,  2.06530064e-05,  2.13643978e-05,\n",
       "         7.45509928e-04,  1.52646494e-03, -8.91463172e-04,\n",
       "         2.70222636e-04, -1.80504264e-04,  4.54811739e-05,\n",
       "        -1.45689881e-04, -8.45819351e-04, -1.39581424e-04,\n",
       "         1.50435939e-04,  8.08578338e-03, -8.20532751e-03,\n",
       "         2.05596432e-05,  4.80033564e-04, -7.95963481e-05,\n",
       "        -1.18649218e-04, -2.63549032e-04,  4.18795842e-04,\n",
       "        -9.25612795e-04, -1.09388695e-05,  8.01053456e-04,\n",
       "         8.02793548e-04,  2.56167712e-04,  3.69987273e-05,\n",
       "        -3.01199448e-04, -1.28369858e-04,  1.29152576e-04,\n",
       "        -1.37331674e-03,  2.36541601e-03, -4.63894205e-04,\n",
       "        -5.18853991e-06, -2.96484121e-05, -1.48680647e-05,\n",
       "         3.30340962e-04,  1.49219356e-03,  9.89786583e-05,\n",
       "         6.89873597e-04,  1.74549964e-04, -6.47666129e-04,\n",
       "         5.34379228e-06,  1.07956487e-03,  2.13408715e-03,\n",
       "         1.76122214e-03,  1.28692374e-05, -4.22637083e-04,\n",
       "        -1.49426613e-06, -2.38654539e-04,  2.84272187e-04,\n",
       "        -4.47238894e-03, -1.53093896e-03, -1.00711215e-04,\n",
       "         1.12971475e-04,  2.36415733e-06,  3.25629380e-04,\n",
       "         1.24208173e-03,  2.95612297e-04,  4.62323434e-04,\n",
       "         2.39048801e-04,  7.14566913e-05,  6.97818644e-08,\n",
       "         1.01706897e-03, -1.35596351e-03, -3.38142341e-04,\n",
       "         1.22518928e-04, -3.72512739e-04,  6.96449592e-08,\n",
       "         5.54974958e-05,  7.28213927e-04, -2.00699872e-04,\n",
       "        -1.77100098e-03, -8.55699712e-04,  7.72052204e-04,\n",
       "         2.84430379e-05,  1.33230260e-04,  1.16498774e-03,\n",
       "        -5.55996208e-05,  1.41925587e-03,  4.73914287e-04,\n",
       "         2.99823740e-05,  1.26718177e-06,  1.00587198e-03,\n",
       "         4.66925133e-03,  1.09509148e-03,  1.43132373e-05,\n",
       "        -5.66814135e-04, -3.83700054e-07, -4.18211883e-04,\n",
       "         1.92680160e-04, -1.27189030e-03,  8.21887827e-04,\n",
       "         6.90686702e-04, -6.56323378e-04, -2.64209639e-05,\n",
       "         2.56008833e-04,  2.48931883e-04, -6.50762559e-05,\n",
       "         2.29443716e-04,  2.61517526e-04,  4.25875446e-04,\n",
       "        -5.82336141e-08,  1.19704310e-04, -3.14402218e-03,\n",
       "         3.02355440e-03,  4.32774857e-05, -6.76289770e-04,\n",
       "        -1.29998756e-05,  1.60113198e-04, -2.04251840e-05,\n",
       "         2.15504195e-05,  2.84028819e-04,  2.16303467e-03,\n",
       "        -2.22003557e-03,  4.34249639e-05,  2.73669133e-04,\n",
       "         7.98563606e-04,  3.26817809e-04, -1.48648065e-03,\n",
       "        -1.57777727e-04, -1.13324885e-03, -4.46255712e-07,\n",
       "         1.20757269e-03,  2.14517558e-03, -9.65101937e-04,\n",
       "        -5.15964764e-05, -3.05572715e-04, -2.69613249e-08,\n",
       "        -4.10639476e-04, -9.10121793e-04, -5.81233491e-04,\n",
       "        -2.88963058e-03,  1.73903726e-04, -1.19639724e-04,\n",
       "        -2.38271482e-05,  6.09287256e-04, -6.13149751e-04,\n",
       "        -1.30925642e-03, -1.88868778e-03, -6.68050518e-04,\n",
       "        -5.46359222e-04, -1.72717083e-06,  8.83520544e-04,\n",
       "         1.99386863e-03, -2.21089357e-03, -2.57141899e-06,\n",
       "        -8.89395136e-04, -1.65962996e-06, -1.79603813e-04,\n",
       "        -1.02524311e-03,  1.88370127e-03,  5.50688363e-03,\n",
       "        -3.89537144e-05,  2.51696114e-05, -3.47672049e-05,\n",
       "         3.70261267e-04]])"
      ]
     },
     "execution_count": 40,
     "metadata": {},
     "output_type": "execute_result"
    }
   ],
   "source": [
    "model.coef_"
   ]
  },
  {
   "cell_type": "code",
   "execution_count": 41,
   "metadata": {},
   "outputs": [
    {
     "data": {
      "text/plain": [
       "array([[0.47656041, 0.52343959],\n",
       "       [0.68609081, 0.31390919],\n",
       "       [0.46570642, 0.53429358],\n",
       "       ...,\n",
       "       [0.46497393, 0.53502607],\n",
       "       [0.49210275, 0.50789725],\n",
       "       [0.69481013, 0.30518987]])"
      ]
     },
     "execution_count": 41,
     "metadata": {},
     "output_type": "execute_result"
    }
   ],
   "source": [
    "model.predict_proba(X)"
   ]
  },
  {
   "cell_type": "code",
   "execution_count": 42,
   "metadata": {},
   "outputs": [
    {
     "data": {
      "text/plain": [
       "array([1, 0, 1, ..., 1, 1, 0])"
      ]
     },
     "execution_count": 42,
     "metadata": {},
     "output_type": "execute_result"
    }
   ],
   "source": [
    "model.predict(X)"
   ]
  },
  {
   "cell_type": "code",
   "execution_count": 43,
   "metadata": {},
   "outputs": [
    {
     "data": {
      "text/plain": [
       "0.6103896103896104"
      ]
     },
     "execution_count": 43,
     "metadata": {},
     "output_type": "execute_result"
    }
   ],
   "source": [
    "model.score(X, y)"
   ]
  },
  {
   "cell_type": "code",
   "execution_count": 44,
   "metadata": {},
   "outputs": [
    {
     "data": {
      "text/plain": [
       "array([[5936, 5717],\n",
       "       [3463, 8446]])"
      ]
     },
     "execution_count": 44,
     "metadata": {},
     "output_type": "execute_result"
    }
   ],
   "source": [
    "confusion_matrix(y, model.predict(X))"
   ]
  },
  {
   "cell_type": "code",
   "execution_count": 20,
   "metadata": {},
   "outputs": [
    {
     "data": {
      "image/png": "[encoded data removed]",
      "text/plain": [
       "<Figure size 800x800 with 1 Axes>"
      ]
     },
     "metadata": {},
     "output_type": "display_data"
    }
   ],
   "source": [
    "cm = confusion_matrix(y, model.predict(X))\n",
    "\n",
    "fig, ax = plt.subplots(figsize=(8, 8))\n",
    "ax.imshow(cm)\n",
    "ax.grid(False)\n",
    "ax.xaxis.set(ticks=(0, 1), ticklabels=('Predicted 0s', 'Predicted 1s'))\n",
    "ax.yaxis.set(ticks=(0, 1), ticklabels=('Actual 0s', 'Actual 1s'))\n",
    "ax.set_ylim(1.5, -0.5)\n",
    "for i in range(2):\n",
    "    for j in range(2):\n",
    "        ax.text(j, i, cm[i, j], ha='center', va='center', color='red')\n",
    "plt.show()\n"
   ]
  },
  {
   "cell_type": "code",
   "execution_count": 45,
   "metadata": {},
   "outputs": [
    {
     "name": "stdout",
     "output_type": "stream",
     "text": [
      "              precision    recall  f1-score   support\n",
      "\n",
      "           0       0.63      0.51      0.56     11653\n",
      "           1       0.60      0.71      0.65     11909\n",
      "\n",
      "    accuracy                           0.61     23562\n",
      "   macro avg       0.61      0.61      0.61     23562\n",
      "weighted avg       0.61      0.61      0.61     23562\n",
      "\n"
     ]
    }
   ],
   "source": [
    "print(classification_report(y, model.predict(X)))"
   ]
  },
  {
   "cell_type": "code",
   "execution_count": null,
   "metadata": {},
   "outputs": [],
   "source": []
  },
  {
   "cell_type": "code",
   "execution_count": null,
   "metadata": {},
   "outputs": [],
   "source": []
  },
  {
   "cell_type": "code",
   "execution_count": null,
   "metadata": {},
   "outputs": [],
   "source": []
  }
 ],
 "metadata": {
  "kernelspec": {
   "display_name": ".venv",
   "language": "python",
   "name": "python3"
  },
  "language_info": {
   "codemirror_mode": {
    "name": "ipython",
    "version": 3
   },
   "file_extension": ".py",
   "mimetype": "text/x-python",
   "name": "python",
   "nbconvert_exporter": "python",
   "pygments_lexer": "ipython3",
   "version": "3.10.6"
  },
  "orig_nbformat": 4
 },
 "nbformat": 4,
 "nbformat_minor": 2
}
