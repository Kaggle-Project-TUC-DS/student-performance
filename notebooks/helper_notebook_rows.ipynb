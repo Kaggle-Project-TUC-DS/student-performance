{
 "cells": [
  {
   "cell_type": "code",
   "execution_count": 1,
   "metadata": {},
   "outputs": [],
   "source": [
    "### Imports for the Data Preprocessing\n",
    "import numpy as np\n",
    "import pandas as pd\n",
    "import matplotlib as plt\n",
    "import os\n",
    "import gc\n",
    "from typing import Tuple\n",
    "import tensorflow as tf\n",
    "from tensorflow.keras.models import Sequential\n",
    "from tensorflow.keras.layers import Dense\n",
    "from sklearn.model_selection import train_test_split\n",
    "from sklearn.utils import class_weight\n",
    "from sklearn.metrics import f1_score, precision_score, recall_score, confusion_matrix\n",
    "\n",
    "import numpy as np"
   ]
  },
  {
   "cell_type": "code",
   "execution_count": 2,
   "metadata": {},
   "outputs": [
    {
     "name": "stdout",
     "output_type": "stream",
     "text": [
      "Current working directory:  c:\\Users\\Stephan\\Documents\\Python\\Python-Stat\\Neuer\\Kaggle_semiinar\\student-performance\\notebooks\n"
     ]
    }
   ],
   "source": [
    "#working directory\n",
    "# set correct working directory\n",
    "wd = os.getcwd()\n",
    "print(\"Current working directory: \", wd)\n",
    "if wd[-9:] == \"notebooks\": wd = wd[:-10]\n",
    "else: print(\"Make sure your working directory is set to the student-performance folder!\")\n",
    "os.chdir(wd)"
   ]
  },
  {
   "cell_type": "code",
   "execution_count": 3,
   "metadata": {},
   "outputs": [],
   "source": [
    "from utils.loader_steve import load_data\n",
    "\n",
    "data = load_data(\"data\\processed\\df_level.csv\", n_rows= 10000)"
   ]
  },
  {
   "cell_type": "code",
   "execution_count": 23,
   "metadata": {},
   "outputs": [],
   "source": [
    "import pandas as pd\n",
    "\n",
    "def mean_level_values(df):\n",
    "    # Group the DataFrame by 'level' column and calculate the mean for each group\n",
    "    mean_df = df.groupby('level').mean().reset_index()\n",
    "    \n",
    "    return mean_df\n"
   ]
  },
  {
   "cell_type": "code",
   "execution_count": 8,
   "metadata": {},
   "outputs": [],
   "source": [
    "data_mean_level = pd.read_csv(\"data/processed/df_mean_level.csv\")\n",
    "#df_mean_level = mean_level_values(data)\n",
    "#df_mean_level.to_csv('data/processed/df_mean_level.csv')"
   ]
  },
  {
   "cell_type": "code",
   "execution_count": 48,
   "metadata": {},
   "outputs": [],
   "source": [
    "import pandas as pd\n",
    "import numpy as np\n",
    "\n",
    "def generate_rows(df: pd.DataFrame, n_flatten: int, level_g: str, mean_value_levels: pd.DataFrame):\n",
    "    counts = df['session_id'].value_counts()\n",
    "    df['level'] = df['level'].astype(np.uint8)\n",
    "\n",
    "    if (counts % n_flatten).any():\n",
    "        need_generating = counts[counts < n_flatten].index.tolist()\n",
    "        num_generated_rows = 0\n",
    "        generated_sessions = []\n",
    "        generated_rows = []\n",
    "\n",
    "        for session_id in need_generating:\n",
    "            levels_present = set(df.loc[df['session_id'] == session_id, 'level'].unique())\n",
    "\n",
    "            level_group_first = df.loc[df['session_id'] == session_id, 'level_group'].str.split('-').str[0].values[0]\n",
    "            level_group_last = df.loc[df['session_id'] == session_id, 'level_group'].str.split('-').str[-1].values[0]\n",
    "            level_group_first = int(level_group_first)\n",
    "            level_group_last = int(level_group_last)\n",
    "            expected_num_rows = level_group_last - level_group_first + 1\n",
    "\n",
    "            if len(df.loc[df['session_id'] == session_id]) != expected_num_rows:\n",
    "                expected_levels = set(range(level_group_first, level_group_last + 1))\n",
    "                missing_levels = expected_levels - levels_present\n",
    "\n",
    "                new_rows = []\n",
    "                for missing_level in missing_levels:\n",
    "                    new_row = {\n",
    "                        \"session_id\": session_id,\n",
    "                        \"level\": missing_level,\n",
    "                        \"level_group\": str(level_group_first)\n",
    "                    }\n",
    "\n",
    "                    for col in df.columns:\n",
    "                        if col in (\"session_id\", \"level\", \"level_group\"):\n",
    "                            continue\n",
    "\n",
    "                        else:\n",
    "                            mean_value = mean_value_levels.loc[missing_level, col]\n",
    "                            new_row[col] = mean_value\n",
    "\n",
    "                    new_rows.append(new_row)\n",
    "\n",
    "                df = pd.concat([df, pd.DataFrame(new_rows)], ignore_index=True)\n",
    "                num_generated_rows += len(new_rows)\n",
    "                generated_sessions.append({\"session_id\": session_id, \"num_rows\": len(new_rows)})\n",
    "                generated_rows.extend(new_rows)\n",
    "\n",
    "        print(f\"Generated {num_generated_rows} rows with indices: {list(range(len(df) - num_generated_rows, len(df)))}\")\n",
    "\n",
    "        df2 = pd.DataFrame(generated_sessions)\n",
    "        df2 = df2.set_index(\"session_id\")\n",
    "        print(\"Generated rows per session id:\")\n",
    "        print(df2)\n",
    "\n",
    "        df3 = pd.DataFrame(generated_rows)\n",
    "        df3 = df3.reindex(df.columns, axis=1)\n",
    "        print(\"Generated rows:\")\n",
    "        print(df3)\n",
    "    else:\n",
    "        df2 = pd.DataFrame()\n",
    "        df3 = pd.DataFrame()\n",
    "\n",
    "    df[\"level_group\"] = level_g\n",
    "    df = df.sort_values(by=[\"session_id\", \"level\"])\n",
    "    df = df.reset_index(drop=True)\n",
    "    df3[\"level_group\"] = level_g\n",
    "\n",
    "    return df, df2, df3\n"
   ]
  },
  {
   "cell_type": "code",
   "execution_count": 5,
   "metadata": {},
   "outputs": [],
   "source": [
    "import pandas as pd\n",
    "\n",
    "def split_dataframe(df, column):\n",
    "    # Group the DataFrame by the specified column\n",
    "    groups = df.groupby(column)\n",
    "    \n",
    "    # Create empty DataFrames to store the results\n",
    "    dfs = []\n",
    "    \n",
    "    # Iterate over the groups and store each group as a separate DataFrame\n",
    "    for name, group_df in groups:\n",
    "        dfs.append(group_df)\n",
    "    \n",
    "    return tuple(dfs)\n"
   ]
  },
  {
   "cell_type": "code",
   "execution_count": 58,
   "metadata": {},
   "outputs": [],
   "source": [
    "# Assuming your original DataFrame is called 'df'\n",
    "df_1, df_2, df_3 = split_dataframe(data, 'level_group')\n",
    "df_2.reset_index(inplace = True)\n",
    "df_1.reset_index(inplace = True)\n",
    "df_3.reset_index(inplace = True)\n",
    "\n",
    "\n"
   ]
  },
  {
   "cell_type": "code",
   "execution_count": 18,
   "metadata": {},
   "outputs": [
    {
     "name": "stdout",
     "output_type": "stream",
     "text": [
      "session_id\n"
     ]
    }
   ],
   "source": [
    "print(df_2.index.name)"
   ]
  },
  {
   "cell_type": "code",
   "execution_count": 70,
   "metadata": {},
   "outputs": [
    {
     "name": "stdout",
     "output_type": "stream",
     "text": [
      "Generated 7 rows with indices: [1, 2, 3, 4, 5, 6, 7]\n",
      "Generated rows per session id:\n",
      "                   num_rows\n",
      "session_id                 \n",
      "20090312431273200         7\n",
      "Generated rows:\n",
      "          session_id  level level_group  event_name      name       fqid  \\\n",
      "0  20090312431273200      5           5    4.296876  2.300357   6.672311   \n",
      "1  20090312431273200      6           5    4.758552  3.072108  10.719464   \n",
      "2  20090312431273200      7           5    7.163236  3.332117  11.249523   \n",
      "3  20090312431273200      8           5    6.588235  3.285629   5.458450   \n",
      "4  20090312431273200     10           5    4.559630  3.345896   3.187420   \n",
      "5  20090312431273200     11           5    7.374544  3.419404  14.512308   \n",
      "6  20090312431273200     12           5    4.297301  2.640905   5.719082   \n",
      "\n",
      "   room_fqid  text_fqid  fullscreen        hq  ...  page_std  \\\n",
      "0   4.344580   1.379000    0.138783  0.120278  ... -0.927310   \n",
      "1   5.140820   8.657330    0.138783  0.120278  ... -0.506965   \n",
      "2   4.189041   2.680786    0.138789  0.120284  ... -0.683578   \n",
      "3   2.019396   2.445803    0.138783  0.120278  ... -0.733140   \n",
      "4   2.000000   2.108395    0.138783  0.120278  ... -0.654526   \n",
      "5   4.851753   2.963203    0.138783  0.120278  ... -0.606906   \n",
      "6   3.403743   0.226509    0.138783  0.120278  ... -0.710185   \n",
      "\n",
      "   hover_duration_std  difference_clicks_std  distance_clicks_std  \\\n",
      "0          198.955094              55.220352           215.469633   \n",
      "1           32.812289              62.767512           182.752212   \n",
      "2         3582.440537              51.542680           195.459683   \n",
      "3         7999.394202              47.267019           171.538777   \n",
      "4           47.549972              61.166474           304.162740   \n",
      "5         7200.698978              56.375090           194.431212   \n",
      "6          241.569250              49.951579           329.839014   \n",
      "\n",
      "   screen_distance_clicks_std  index_sum_of_actions  difference_clicks_max  \\\n",
      "0                  149.458523             37.071980             382.276608   \n",
      "1                  164.258938             99.266404             670.138394   \n",
      "2                  155.588673             62.122745             466.996074   \n",
      "3                  165.523754             44.995841             372.489145   \n",
      "4                  264.818889             25.744674             332.848072   \n",
      "5                  158.296926             88.521560             567.367601   \n",
      "6                  268.298015             22.297555             253.899202   \n",
      "\n",
      "   elapsed_time_max  sum_distance_clicks_max  clicks_per_second  \n",
      "0        412.231349              7249.243254           0.895137  \n",
      "1        817.532842             12573.576397           0.831708  \n",
      "2        530.727917              8852.379949           0.879195  \n",
      "3        420.644035              4950.177403           0.803613  \n",
      "4        358.088829              4801.889834           0.734478  \n",
      "5        677.402888             12487.159219           0.815921  \n",
      "6        272.025800              4912.402918           0.822726  \n",
      "\n",
      "[7 rows x 26 columns]\n"
     ]
    },
    {
     "name": "stderr",
     "output_type": "stream",
     "text": [
      "C:\\Users\\Stephan\\AppData\\Local\\Temp\\ipykernel_2384\\223129343.py:6: SettingWithCopyWarning: \n",
      "A value is trying to be set on a copy of a slice from a DataFrame.\n",
      "Try using .loc[row_indexer,col_indexer] = value instead\n",
      "\n",
      "See the caveats in the documentation: https://pandas.pydata.org/pandas-docs/stable/user_guide/indexing.html#returning-a-view-versus-a-copy\n",
      "  df['level'] = df['level'].astype(np.uint8)\n"
     ]
    }
   ],
   "source": [
    "\n",
    "df, df2, df3 = generate_rows(df_3.iloc[[4]],8,\"5-12\",data_mean_level)"
   ]
  },
  {
   "cell_type": "code",
   "execution_count": 62,
   "metadata": {},
   "outputs": [
    {
     "name": "stdout",
     "output_type": "stream",
     "text": [
      "8\n"
     ]
    }
   ],
   "source": [
    "check = df['session_id'].value_counts()\n",
    "print(max(check))\n",
    "num_l = levels = df[\"level\"].value_counts()\n",
    "#print(num_l)"
   ]
  },
  {
   "cell_type": "code",
   "execution_count": null,
   "metadata": {},
   "outputs": [],
   "source": []
  }
 ],
 "metadata": {
  "kernelspec": {
   "display_name": "Python 3",
   "language": "python",
   "name": "python3"
  },
  "language_info": {
   "codemirror_mode": {
    "name": "ipython",
    "version": 3
   },
   "file_extension": ".py",
   "mimetype": "text/x-python",
   "name": "python",
   "nbconvert_exporter": "python",
   "pygments_lexer": "ipython3",
   "version": "3.10.11"
  },
  "orig_nbformat": 4
 },
 "nbformat": 4,
 "nbformat_minor": 2
}
