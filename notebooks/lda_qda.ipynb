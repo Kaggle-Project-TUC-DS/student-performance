{
 "cells": [
  {
   "cell_type": "code",
   "execution_count": 1,
   "metadata": {},
   "outputs": [],
   "source": [
    "import matplotlib.pyplot as plt\n",
    "import numpy as np\n",
    "import os\n",
    "import pandas as pd\n",
    "from sklearn.linear_model import LogisticRegression\n",
    "from sklearn.metrics import classification_report, confusion_matrix"
   ]
  },
  {
   "cell_type": "code",
   "execution_count": 3,
   "metadata": {},
   "outputs": [
    {
     "name": "stdout",
     "output_type": "stream",
     "text": [
      "Current working directory:  /home/joh/student-performance\n",
      "Make sure your working directory is set to the student-performance folder.\n",
      "New working directory:  /home/joh/student-performance\n"
     ]
    },
    {
     "ename": "NameError",
     "evalue": "name 'np' is not defined",
     "output_type": "error",
     "traceback": [
      "\u001b[0;31m---------------------------------------------------------------------------\u001b[0m",
      "\u001b[0;31mNameError\u001b[0m                                 Traceback (most recent call last)",
      "Cell \u001b[0;32mIn[3], line 7\u001b[0m\n\u001b[1;32m      5\u001b[0m os\u001b[39m.\u001b[39mchdir(wd)\n\u001b[1;32m      6\u001b[0m \u001b[39mprint\u001b[39m(\u001b[39m\"\u001b[39m\u001b[39mNew working directory: \u001b[39m\u001b[39m\"\u001b[39m, os\u001b[39m.\u001b[39mgetcwd())\n\u001b[0;32m----> 7\u001b[0m \u001b[39mfrom\u001b[39;00m \u001b[39mutils\u001b[39;00m\u001b[39m.\u001b[39;00m\u001b[39mloader_steve\u001b[39;00m\u001b[39m.\u001b[39;00m\u001b[39mpy\u001b[39;00m \u001b[39mimport\u001b[39;00m load_level_group_X_y, load_all_X_y\n",
      "File \u001b[0;32m~/student-performance/utils/loader_steve.py:11\u001b[0m\n\u001b[1;32m      1\u001b[0m \u001b[39m#in this file we will collect the functions/utilities to load the preprocessed data for training purposes\u001b[39;00m\n\u001b[1;32m      2\u001b[0m \u001b[39m#to do- merge the different preprocessing files and create 1 preprocessing function\u001b[39;00m\n\u001b[1;32m      3\u001b[0m \u001b[39m#Stephan and Johannes\u001b[39;00m\n\u001b[0;32m   (...)\u001b[0m\n\u001b[1;32m      7\u001b[0m \n\u001b[1;32m      8\u001b[0m \u001b[39m#define the dictionary to load in the data efficiently\u001b[39;00m\n\u001b[1;32m      9\u001b[0m dtypes\u001b[39m=\u001b[39m{\n\u001b[1;32m     10\u001b[0m     \u001b[39m\"\u001b[39m\u001b[39mlevel_group\u001b[39m\u001b[39m\"\u001b[39m: \u001b[39m\"\u001b[39m\u001b[39mcategory\u001b[39m\u001b[39m\"\u001b[39m,\n\u001b[0;32m---> 11\u001b[0m     \u001b[39m'\u001b[39m\u001b[39mlevel\u001b[39m\u001b[39m'\u001b[39m: np\u001b[39m.\u001b[39muint8,\n\u001b[1;32m     12\u001b[0m     \u001b[39m'\u001b[39m\u001b[39mevent_name_nunique\u001b[39m\u001b[39m'\u001b[39m: np\u001b[39m.\u001b[39muint8,\n\u001b[1;32m     13\u001b[0m     \u001b[39m'\u001b[39m\u001b[39mname_nunique\u001b[39m\u001b[39m'\u001b[39m:np\u001b[39m.\u001b[39muint8,\n\u001b[1;32m     14\u001b[0m     \u001b[39m'\u001b[39m\u001b[39mfqid_nunique\u001b[39m\u001b[39m'\u001b[39m:np\u001b[39m.\u001b[39muint8,\n\u001b[1;32m     15\u001b[0m     \u001b[39m'\u001b[39m\u001b[39mroom_fqid_nunique\u001b[39m\u001b[39m'\u001b[39m:np\u001b[39m.\u001b[39muint8,\n\u001b[1;32m     16\u001b[0m     \u001b[39m'\u001b[39m\u001b[39mtext_fqid_nunique\u001b[39m\u001b[39m'\u001b[39m:np\u001b[39m.\u001b[39muint8, \n\u001b[1;32m     17\u001b[0m     \u001b[39m'\u001b[39m\u001b[39mhover_duration_mean\u001b[39m\u001b[39m'\u001b[39m: np\u001b[39m.\u001b[39mfloat32,\n\u001b[1;32m     18\u001b[0m     \u001b[39m'\u001b[39m\u001b[39mdifference_clicks_mean\u001b[39m\u001b[39m'\u001b[39m:np\u001b[39m.\u001b[39mfloat32,\n\u001b[1;32m     19\u001b[0m     \u001b[39m'\u001b[39m\u001b[39melapsed_time_std\u001b[39m\u001b[39m'\u001b[39m:np\u001b[39m.\u001b[39mfloat32,\n\u001b[1;32m     20\u001b[0m     \u001b[39m'\u001b[39m\u001b[39mpage_std\u001b[39m\u001b[39m'\u001b[39m:np\u001b[39m.\u001b[39mfloat32,\n\u001b[1;32m     21\u001b[0m     \u001b[39m'\u001b[39m\u001b[39mroom_coor_x_std\u001b[39m\u001b[39m'\u001b[39m:np\u001b[39m.\u001b[39mfloat32,\n\u001b[1;32m     22\u001b[0m     \u001b[39m'\u001b[39m\u001b[39mroom_coor_y_std\u001b[39m\u001b[39m'\u001b[39m:np\u001b[39m.\u001b[39mfloat32,\n\u001b[1;32m     23\u001b[0m     \u001b[39m'\u001b[39m\u001b[39mscreen_coor_x_std\u001b[39m\u001b[39m'\u001b[39m:np\u001b[39m.\u001b[39mfloat32,\n\u001b[1;32m     24\u001b[0m     \u001b[39m'\u001b[39m\u001b[39mscreen_coor_y_std\u001b[39m\u001b[39m'\u001b[39m:np\u001b[39m.\u001b[39mfloat32,\n\u001b[1;32m     25\u001b[0m     \u001b[39m'\u001b[39m\u001b[39mhover_duration_std\u001b[39m\u001b[39m'\u001b[39m:np\u001b[39m.\u001b[39mfloat32,\n\u001b[1;32m     26\u001b[0m     \u001b[39m'\u001b[39m\u001b[39mdifference_clicks_std\u001b[39m\u001b[39m'\u001b[39m:np\u001b[39m.\u001b[39mfloat32,\n\u001b[1;32m     27\u001b[0m     \u001b[39m'\u001b[39m\u001b[39mindex_sum_of_actions\u001b[39m\u001b[39m'\u001b[39m:np\u001b[39m.\u001b[39muint16,\n\u001b[1;32m     28\u001b[0m     \u001b[39m'\u001b[39m\u001b[39mdifference_clicks_max\u001b[39m\u001b[39m'\u001b[39m:np\u001b[39m.\u001b[39mfloat32,\n\u001b[1;32m     29\u001b[0m     \u001b[39m'\u001b[39m\u001b[39melapsed_time_max\u001b[39m\u001b[39m'\u001b[39m:np\u001b[39m.\u001b[39mfloat32,\n\u001b[1;32m     30\u001b[0m     \u001b[39m'\u001b[39m\u001b[39mclicks_per_second\u001b[39m\u001b[39m'\u001b[39m:np\u001b[39m.\u001b[39mfloat32\n\u001b[1;32m     31\u001b[0m     }\n",
      "\u001b[0;31mNameError\u001b[0m: name 'np' is not defined"
     ]
    }
   ],
   "source": [
    "wd = os.getcwd()\n",
    "print(\"Current working directory: \", wd)\n",
    "if wd[-9:] == \"notebooks\": wd = wd[:-10]\n",
    "else: print(\"Make sure your working directory is set to the student-performance folder.\")\n",
    "os.chdir(wd)\n",
    "print(\"New working directory: \", os.getcwd())\n",
    "from utils.loader_steve import load_level_group_X_y, load_all_X_y"
   ]
  },
  {
   "cell_type": "code",
   "execution_count": null,
   "metadata": {},
   "outputs": [],
   "source": [
    "# X\n",
    "df = pd.read_csv(\"data/processed/df_5_12_flattened.csv\", index_col=0)\n",
    "X = df.iloc[:, :].values\n",
    "# X = np.delete(X, 61, 1)\n",
    "\n",
    "# y\n",
    "labels = pd.read_csv(\"data/processed/labels_q4-13.csv\")\n",
    "y = labels['correct'].values"
   ]
  }
 ],
 "metadata": {
  "kernelspec": {
   "display_name": ".venv",
   "language": "python",
   "name": "python3"
  },
  "language_info": {
   "codemirror_mode": {
    "name": "ipython",
    "version": 3
   },
   "file_extension": ".py",
   "mimetype": "text/x-python",
   "name": "python",
   "nbconvert_exporter": "python",
   "pygments_lexer": "ipython3",
   "version": "3.10.6"
  },
  "orig_nbformat": 4
 },
 "nbformat": 4,
 "nbformat_minor": 2
}
