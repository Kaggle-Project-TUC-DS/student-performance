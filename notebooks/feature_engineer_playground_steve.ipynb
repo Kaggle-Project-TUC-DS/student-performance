{
 "cells": [
  {
   "cell_type": "code",
   "execution_count": null,
   "metadata": {},
   "outputs": [],
   "source": [
    "### Imports for the Data Preprocessing\n",
    "import numpy as np\n",
    "import pandas as pd\n",
    "import matplotlib as plt\n",
    "import os"
   ]
  },
  {
   "cell_type": "code",
   "execution_count": null,
   "metadata": {},
   "outputs": [],
   "source": [
    "# get working directory and remove last folder\n",
    "# TODO: make this more robust\n",
    "wd = os.path.dirname(os.getcwd())\n",
    "os.chdir(wd)\n",
    "print('Working Directory: ', os.getcwd())"
   ]
  },
  {
   "cell_type": "code",
   "execution_count": null,
   "metadata": {},
   "outputs": [],
   "source": [
    "dtypes={\n",
    "    'elapsed_time':np.int32,\n",
    "    'event_name':'category',\n",
    "    'name':'category',\n",
    "    'level':np.uint8,\n",
    "    'room_coor_x':np.float32,\n",
    "    'index':np.int32,\n",
    "    'room_coor_y':np.float32,\n",
    "    'screen_coor_x':np.float32,\n",
    "    'screen_coor_y':np.float32,\n",
    "    'hover_duration':np.float32,\n",
    "    'text':'category',\n",
    "    'fqid':'category',\n",
    "    'room_fqid':'category',\n",
    "    'text_fqid':'category',\n",
    "    'fullscreen':'category',\n",
    "    'hq':'category',\n",
    "    'music':'category',\n",
    "    'level_group':'category'}\n",
    "\n",
    "\n",
    "# os.chdir('N:\\MASTER_DS\\Code\\Kaggle_competition\\Kaggle-seminar\\student-performance')\n",
    "dataset_df = pd.read_csv('data/raw/train.csv', dtype=dtypes)#, nrows= 2000)"
   ]
  },
  {
   "cell_type": "code",
   "execution_count": null,
   "metadata": {},
   "outputs": [],
   "source": [
    "#preprocessing function to add variables and rescale the time \n",
    "def adding_new_variables_rescaling(dataset_df):\n",
    "    dataset_df = dataset_df.sort_values(['session_id','elapsed_time'])\n",
    "    dataset_df['elapsed_time'] = dataset_df['elapsed_time']/1000\n",
    "    group = dataset_df.groupby(['session_id','level'])['elapsed_time'].diff()\n",
    "    group = group.fillna(value= 0)\n",
    "    dataset_df= dataset_df.assign(difference_clicks = group)\n",
    "\n",
    "    return dataset_df"
   ]
  },
  {
   "cell_type": "code",
   "execution_count": null,
   "metadata": {},
   "outputs": [],
   "source": [
    "#preprocessing to combine variables on level stage\n",
    "#Function to clean the sequential data for the training of the model\n",
    "\n",
    "#For that Function to work we need to specify the variables in Categorical and Numerical & Counting\n",
    "\n",
    "CATEGORICAL = ['event_name', 'name', 'fqid', 'room_fqid', 'text_fqid', 'fullscreen', 'hq', 'music']\n",
    "NUMERICALmean = ['hover_duration','difference_clicks']\n",
    "NUMERICALstd = ['elapsed_time','page','room_coor_x', 'room_coor_y', 'screen_coor_x', 'screen_coor_y', 'hover_duration', 'difference_clicks']\n",
    "COUNTING = ['index']\n",
    "MAXIMUM = ['difference_clicks', 'elapsed_time']\n",
    "\n",
    "\n",
    "\n",
    "def feature_engineer_steve(dataset_df):\n",
    "    dfs = []\n",
    "    for c in CATEGORICAL:\n",
    "        if c not in ['fullscreen', 'hq', 'music']:\n",
    "            tmp = dataset_df.groupby(['session_id','level_group'])[c].agg('nunique')\n",
    "        else:\n",
    "            tmp = dataset_df.groupby(['session_id','level_group'])[c].first().astype(int).fillna(0)\n",
    "        dfs.append(tmp)\n",
    "    for c in NUMERICALmean:\n",
    "        tmp = dataset_df.groupby(['session_id','level_group'])[c].agg('mean')\n",
    "        tmp.name = tmp.name + '_mean'\n",
    "        dfs.append(tmp)\n",
    "    for c in NUMERICALstd:\n",
    "        tmp = dataset_df.groupby(['session_id','level_group'])[c].agg('std')\n",
    "        tmp.name = tmp.name + '_std'\n",
    "        dfs.append(tmp)    \n",
    "    for c in COUNTING:\n",
    "        tmp = 1+ dataset_df.groupby(['session_id','level_group'])[c].agg('max')- dataset_df.groupby(['session_id','level_group'])[c].agg('min') \n",
    "        tmp.name = tmp.name + '_sum_of_actions'\n",
    "        dfs.append(tmp)\n",
    "    for c in MAXIMUM:\n",
    "        tmp = dataset_df.groupby(['session_id','level_group'])[c].agg('max')- dataset_df.groupby(['session_id','level_group'])[c].agg('min') \n",
    "        tmp.name = tmp.name + '_max'\n",
    "        dfs.append(tmp)\n",
    "    \n",
    "    dataset_df = pd.concat(dfs,axis=1)\n",
    "    dataset_df = dataset_df.fillna(-1)\n",
    "    dataset_df = dataset_df.reset_index()\n",
    "    dataset_df = dataset_df.set_index('session_id') \n",
    "    \n",
    "# add Clicks per second afterwards cause we need the time for each level first\n",
    "    dataset_df['clicks_per_second'] = dataset_df['index_sum_of_actions']/ dataset_df['elapsed_time_max']\n",
    " \n",
    "    return dataset_df"
   ]
  },
  {
   "cell_type": "code",
   "execution_count": null,
   "metadata": {},
   "outputs": [],
   "source": [
    "#return the preprocessed data\n",
    "##test data preprocessing with Subset of 5 million rows\n",
    "\n",
    "dataset_df_added = adding_new_variables_rescaling(dataset_df)\n",
    "dataset_df_level = feature_engineer_steve(dataset_df_added)\n",
    "print(dataset_df_added)\n",
    "print(dataset_df_level)"
   ]
  },
  {
   "cell_type": "code",
   "execution_count": null,
   "metadata": {},
   "outputs": [],
   "source": [
    "# Export results\n",
    "#dataset_df_added.to_csv('data/processed/data_df_added.csv')\n",
    "dataset_df_level.to_csv('data/processed/data_df_level.csv')"
   ]
  },
  {
   "cell_type": "code",
   "execution_count": null,
   "metadata": {},
   "outputs": [],
   "source": [
    "print(dataset_df_level.dtypes)"
   ]
  },
  {
   "cell_type": "code",
   "execution_count": null,
   "metadata": {},
   "outputs": [],
   "source": []
  }
 ],
 "metadata": {
  "kernelspec": {
   "display_name": "Python 3",
   "language": "python",
   "name": "python3"
  },
  "language_info": {
   "codemirror_mode": {
    "name": "ipython",
    "version": 3
   },
   "file_extension": ".py",
   "mimetype": "text/x-python",
   "name": "python",
   "nbconvert_exporter": "python",
   "pygments_lexer": "ipython3",
   "version": "3.10.6"
  },
  "orig_nbformat": 4
 },
 "nbformat": 4,
 "nbformat_minor": 2
}
