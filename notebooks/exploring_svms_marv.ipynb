{
 "cells": [
  {
   "cell_type": "code",
   "execution_count": 13,
   "metadata": {},
   "outputs": [],
   "source": [
    "import pandas as pd\n",
    "import numpy as np\n",
    "import matplotlib.pyplot as plt\n",
    "import os\n",
    "\n",
    "from sklearn.svm import SVC\n",
    "from sklearn.preprocessing import StandardScaler\n",
    "from sklearn.model_selection import train_test_split\n",
    "from sklearn.metrics import accuracy_score"
   ]
  },
  {
   "cell_type": "code",
   "execution_count": 5,
   "metadata": {},
   "outputs": [
    {
     "name": "stdout",
     "output_type": "stream",
     "text": [
      "Working Directory:  /Users/marvin/workspace/kaggle_gameplay/student-performance\n"
     ]
    }
   ],
   "source": [
    "# get working directory and remove last folder\n",
    "# TODO: make this more robust\n",
    "wd = os.path.dirname(os.getcwd())\n",
    "os.chdir(wd)\n",
    "print(\"Working Directory: \", os.getcwd())\n",
    "\n",
    "# the working directory should be .../student-performance"
   ]
  },
  {
   "cell_type": "code",
   "execution_count": 15,
   "metadata": {},
   "outputs": [
    {
     "data": {
      "text/html": [
       "<div>\n",
       "<style scoped>\n",
       "    .dataframe tbody tr th:only-of-type {\n",
       "        vertical-align: middle;\n",
       "    }\n",
       "\n",
       "    .dataframe tbody tr th {\n",
       "        vertical-align: top;\n",
       "    }\n",
       "\n",
       "    .dataframe thead th {\n",
       "        text-align: right;\n",
       "    }\n",
       "</style>\n",
       "<table border=\"1\" class=\"dataframe\">\n",
       "  <thead>\n",
       "    <tr style=\"text-align: right;\">\n",
       "      <th></th>\n",
       "      <th>session_id_1</th>\n",
       "      <th>level_group_1</th>\n",
       "      <th>event_name_1</th>\n",
       "      <th>name_1</th>\n",
       "      <th>fqid_1</th>\n",
       "      <th>room_fqid_1</th>\n",
       "      <th>text_fqid_1</th>\n",
       "      <th>fullscreen_1</th>\n",
       "      <th>hq_1</th>\n",
       "      <th>music_1</th>\n",
       "      <th>...</th>\n",
       "      <th>room_coor_x_std_5</th>\n",
       "      <th>room_coor_y_std_5</th>\n",
       "      <th>screen_coor_x_std_5</th>\n",
       "      <th>screen_coor_y_std_5</th>\n",
       "      <th>hover_duration_std_5</th>\n",
       "      <th>difference_clicks_std_5</th>\n",
       "      <th>index_sum_of_actions_5</th>\n",
       "      <th>difference_clicks_max_5</th>\n",
       "      <th>elapsed_time_max_5</th>\n",
       "      <th>clicks_per_second_5</th>\n",
       "    </tr>\n",
       "  </thead>\n",
       "  <tbody>\n",
       "    <tr>\n",
       "      <th>0</th>\n",
       "      <td>20090312431273200</td>\n",
       "      <td>0-4</td>\n",
       "      <td>6</td>\n",
       "      <td>3</td>\n",
       "      <td>5</td>\n",
       "      <td>1</td>\n",
       "      <td>6</td>\n",
       "      <td>0</td>\n",
       "      <td>0</td>\n",
       "      <td>1</td>\n",
       "      <td>...</td>\n",
       "      <td>422.014526</td>\n",
       "      <td>41.143421</td>\n",
       "      <td>181.938446</td>\n",
       "      <td>39.566540</td>\n",
       "      <td>164.755875</td>\n",
       "      <td>8.380692</td>\n",
       "      <td>13.0</td>\n",
       "      <td>30.837000</td>\n",
       "      <td>38.620998</td>\n",
       "      <td>0.336604</td>\n",
       "    </tr>\n",
       "    <tr>\n",
       "      <th>1</th>\n",
       "      <td>20090312433251036</td>\n",
       "      <td>0-4</td>\n",
       "      <td>5</td>\n",
       "      <td>3</td>\n",
       "      <td>4</td>\n",
       "      <td>1</td>\n",
       "      <td>4</td>\n",
       "      <td>0</td>\n",
       "      <td>0</td>\n",
       "      <td>0</td>\n",
       "      <td>...</td>\n",
       "      <td>352.261993</td>\n",
       "      <td>63.718025</td>\n",
       "      <td>181.674881</td>\n",
       "      <td>68.807640</td>\n",
       "      <td>-1.000000</td>\n",
       "      <td>10.578836</td>\n",
       "      <td>12.0</td>\n",
       "      <td>37.409000</td>\n",
       "      <td>47.641998</td>\n",
       "      <td>0.251879</td>\n",
       "    </tr>\n",
       "    <tr>\n",
       "      <th>2</th>\n",
       "      <td>20090312455206810</td>\n",
       "      <td>0-4</td>\n",
       "      <td>5</td>\n",
       "      <td>3</td>\n",
       "      <td>4</td>\n",
       "      <td>1</td>\n",
       "      <td>4</td>\n",
       "      <td>1</td>\n",
       "      <td>1</td>\n",
       "      <td>1</td>\n",
       "      <td>...</td>\n",
       "      <td>284.153931</td>\n",
       "      <td>34.723782</td>\n",
       "      <td>197.985825</td>\n",
       "      <td>54.664265</td>\n",
       "      <td>-1.000000</td>\n",
       "      <td>7.594211</td>\n",
       "      <td>14.0</td>\n",
       "      <td>28.743999</td>\n",
       "      <td>40.616001</td>\n",
       "      <td>0.344692</td>\n",
       "    </tr>\n",
       "    <tr>\n",
       "      <th>3</th>\n",
       "      <td>20090313091715820</td>\n",
       "      <td>0-4</td>\n",
       "      <td>5</td>\n",
       "      <td>3</td>\n",
       "      <td>4</td>\n",
       "      <td>1</td>\n",
       "      <td>4</td>\n",
       "      <td>1</td>\n",
       "      <td>1</td>\n",
       "      <td>1</td>\n",
       "      <td>...</td>\n",
       "      <td>337.755798</td>\n",
       "      <td>117.306465</td>\n",
       "      <td>187.151123</td>\n",
       "      <td>129.229507</td>\n",
       "      <td>-1.000000</td>\n",
       "      <td>12.563816</td>\n",
       "      <td>14.0</td>\n",
       "      <td>47.848999</td>\n",
       "      <td>60.853001</td>\n",
       "      <td>0.230063</td>\n",
       "    </tr>\n",
       "    <tr>\n",
       "      <th>4</th>\n",
       "      <td>20090313571836404</td>\n",
       "      <td>0-4</td>\n",
       "      <td>5</td>\n",
       "      <td>3</td>\n",
       "      <td>5</td>\n",
       "      <td>1</td>\n",
       "      <td>6</td>\n",
       "      <td>0</td>\n",
       "      <td>0</td>\n",
       "      <td>1</td>\n",
       "      <td>...</td>\n",
       "      <td>395.347290</td>\n",
       "      <td>57.395401</td>\n",
       "      <td>155.039871</td>\n",
       "      <td>56.676224</td>\n",
       "      <td>625.082397</td>\n",
       "      <td>9.021479</td>\n",
       "      <td>12.0</td>\n",
       "      <td>31.920000</td>\n",
       "      <td>41.750999</td>\n",
       "      <td>0.287418</td>\n",
       "    </tr>\n",
       "  </tbody>\n",
       "</table>\n",
       "<p>5 rows × 104 columns</p>\n",
       "</div>"
      ],
      "text/plain": [
       "        session_id_1 level_group_1  event_name_1  name_1  fqid_1  room_fqid_1   \n",
       "0  20090312431273200           0-4             6       3       5            1  \\\n",
       "1  20090312433251036           0-4             5       3       4            1   \n",
       "2  20090312455206810           0-4             5       3       4            1   \n",
       "3  20090313091715820           0-4             5       3       4            1   \n",
       "4  20090313571836404           0-4             5       3       5            1   \n",
       "\n",
       "   text_fqid_1  fullscreen_1  hq_1  music_1  ...  room_coor_x_std_5   \n",
       "0            6             0     0        1  ...         422.014526  \\\n",
       "1            4             0     0        0  ...         352.261993   \n",
       "2            4             1     1        1  ...         284.153931   \n",
       "3            4             1     1        1  ...         337.755798   \n",
       "4            6             0     0        1  ...         395.347290   \n",
       "\n",
       "   room_coor_y_std_5  screen_coor_x_std_5  screen_coor_y_std_5   \n",
       "0          41.143421           181.938446            39.566540  \\\n",
       "1          63.718025           181.674881            68.807640   \n",
       "2          34.723782           197.985825            54.664265   \n",
       "3         117.306465           187.151123           129.229507   \n",
       "4          57.395401           155.039871            56.676224   \n",
       "\n",
       "   hover_duration_std_5  difference_clicks_std_5  index_sum_of_actions_5   \n",
       "0            164.755875                 8.380692                    13.0  \\\n",
       "1             -1.000000                10.578836                    12.0   \n",
       "2             -1.000000                 7.594211                    14.0   \n",
       "3             -1.000000                12.563816                    14.0   \n",
       "4            625.082397                 9.021479                    12.0   \n",
       "\n",
       "   difference_clicks_max_5  elapsed_time_max_5  clicks_per_second_5  \n",
       "0                30.837000           38.620998             0.336604  \n",
       "1                37.409000           47.641998             0.251879  \n",
       "2                28.743999           40.616001             0.344692  \n",
       "3                47.848999           60.853001             0.230063  \n",
       "4                31.920000           41.750999             0.287418  \n",
       "\n",
       "[5 rows x 104 columns]"
      ]
     },
     "execution_count": 15,
     "metadata": {},
     "output_type": "execute_result"
    }
   ],
   "source": [
    "df = pd.read_csv(\"data/processed/df_0_4_flattened.csv\", index_col=0)\n",
    "df.head()"
   ]
  },
  {
   "cell_type": "code",
   "execution_count": 7,
   "metadata": {},
   "outputs": [
    {
     "name": "stdout",
     "output_type": "stream",
     "text": [
      "<class 'pandas.core.frame.DataFrame'>\n",
      "Index: 23562 entries, 0 to 23561\n",
      "Columns: 104 entries, session_id_1 to clicks_per_second_5\n",
      "dtypes: float64(70), int64(33), object(1)\n",
      "memory usage: 18.9+ MB\n"
     ]
    }
   ],
   "source": [
    "df.info()"
   ]
  },
  {
   "cell_type": "code",
   "execution_count": 12,
   "metadata": {},
   "outputs": [
    {
     "name": "stdout",
     "output_type": "stream",
     "text": [
      "<class 'numpy.ndarray'>\n",
      "(23562, 8)\n",
      "[[6 3 5 ... 0 0 1]\n",
      " [5 3 4 ... 0 0 0]\n",
      " [5 3 4 ... 1 1 1]\n",
      " ...\n",
      " [5 3 5 ... 0 0 1]\n",
      " [7 3 6 ... 0 0 1]\n",
      " [7 3 6 ... 0 0 1]]\n"
     ]
    }
   ],
   "source": [
    "X = df.iloc[:, 2:10].values\n",
    "print(type(X))\n",
    "print(X.shape)\n",
    "print(X)"
   ]
  },
  {
   "cell_type": "code",
   "execution_count": 16,
   "metadata": {},
   "outputs": [
    {
     "data": {
      "text/html": [
       "<div>\n",
       "<style scoped>\n",
       "    .dataframe tbody tr th:only-of-type {\n",
       "        vertical-align: middle;\n",
       "    }\n",
       "\n",
       "    .dataframe tbody tr th {\n",
       "        vertical-align: top;\n",
       "    }\n",
       "\n",
       "    .dataframe thead th {\n",
       "        text-align: right;\n",
       "    }\n",
       "</style>\n",
       "<table border=\"1\" class=\"dataframe\">\n",
       "  <thead>\n",
       "    <tr style=\"text-align: right;\">\n",
       "      <th></th>\n",
       "      <th>session</th>\n",
       "      <th>correct</th>\n",
       "      <th>q</th>\n",
       "    </tr>\n",
       "  </thead>\n",
       "  <tbody>\n",
       "    <tr>\n",
       "      <th>0</th>\n",
       "      <td>20090312431273200</td>\n",
       "      <td>1</td>\n",
       "      <td>1</td>\n",
       "    </tr>\n",
       "    <tr>\n",
       "      <th>1</th>\n",
       "      <td>20090312433251036</td>\n",
       "      <td>0</td>\n",
       "      <td>1</td>\n",
       "    </tr>\n",
       "    <tr>\n",
       "      <th>2</th>\n",
       "      <td>20090312455206810</td>\n",
       "      <td>1</td>\n",
       "      <td>1</td>\n",
       "    </tr>\n",
       "    <tr>\n",
       "      <th>3</th>\n",
       "      <td>20090313091715820</td>\n",
       "      <td>0</td>\n",
       "      <td>1</td>\n",
       "    </tr>\n",
       "    <tr>\n",
       "      <th>4</th>\n",
       "      <td>20090313571836404</td>\n",
       "      <td>1</td>\n",
       "      <td>1</td>\n",
       "    </tr>\n",
       "  </tbody>\n",
       "</table>\n",
       "</div>"
      ],
      "text/plain": [
       "             session  correct  q\n",
       "0  20090312431273200        1  1\n",
       "1  20090312433251036        0  1\n",
       "2  20090312455206810        1  1\n",
       "3  20090313091715820        0  1\n",
       "4  20090313571836404        1  1"
      ]
     },
     "execution_count": 16,
     "metadata": {},
     "output_type": "execute_result"
    }
   ],
   "source": [
    "labels = pd.read_csv(\"data/processed/labels.csv\")\n",
    "labels.head()\n"
   ]
  },
  {
   "cell_type": "code",
   "execution_count": 18,
   "metadata": {},
   "outputs": [
    {
     "name": "stdout",
     "output_type": "stream",
     "text": [
      "(424116, 3)\n",
      "<class 'pandas.core.frame.DataFrame'>\n",
      "RangeIndex: 424116 entries, 0 to 424115\n",
      "Data columns (total 3 columns):\n",
      " #   Column   Non-Null Count   Dtype\n",
      "---  ------   --------------   -----\n",
      " 0   session  424116 non-null  int64\n",
      " 1   correct  424116 non-null  int64\n",
      " 2   q        424116 non-null  int64\n",
      "dtypes: int64(3)\n",
      "memory usage: 9.7 MB\n"
     ]
    }
   ],
   "source": [
    "print(labels.shape)\n",
    "labels.info()"
   ]
  },
  {
   "cell_type": "code",
   "execution_count": 29,
   "metadata": {},
   "outputs": [
    {
     "name": "stdout",
     "output_type": "stream",
     "text": [
      "(70686,)\n",
      "[1 0 1 ... 1 1 0]\n"
     ]
    }
   ],
   "source": [
    "y = labels[(labels['q'] >= 0) & (labels['q'] <= 3)]\n",
    "y = y['correct'].values\n",
    "print(y.shape)\n",
    "print(y)"
   ]
  },
  {
   "cell_type": "code",
   "execution_count": 9,
   "metadata": {},
   "outputs": [
    {
     "ename": "NameError",
     "evalue": "name 'y' is not defined",
     "output_type": "error",
     "traceback": [
      "\u001b[0;31m---------------------------------------------------------------------------\u001b[0m",
      "\u001b[0;31mNameError\u001b[0m                                 Traceback (most recent call last)",
      "Cell \u001b[0;32mIn[9], line 11\u001b[0m\n\u001b[1;32m      5\u001b[0m \u001b[39mfrom\u001b[39;00m \u001b[39msklearn\u001b[39;00m \u001b[39mimport\u001b[39;00m datasets\n\u001b[1;32m      9\u001b[0m \u001b[39m# Creating training and test split\u001b[39;00m\n\u001b[0;32m---> 11\u001b[0m X_train, X_test, y_train, y_test \u001b[39m=\u001b[39m train_test_split(X, y, test_size\u001b[39m=\u001b[39m\u001b[39m0.3\u001b[39m, random_state\u001b[39m=\u001b[39m\u001b[39m1\u001b[39m, stratify \u001b[39m=\u001b[39m y)\n\u001b[1;32m     13\u001b[0m \u001b[39m# Feature Scaling\u001b[39;00m\n\u001b[1;32m     15\u001b[0m sc \u001b[39m=\u001b[39m StandardScaler()\n",
      "\u001b[0;31mNameError\u001b[0m: name 'y' is not defined"
     ]
    }
   ],
   "source": [
    "\n",
    " \n",
    "\n",
    " \n",
    "# Creating training and test split\n",
    " \n",
    "X_train, X_test, y_train, y_test = train_test_split(X, y, test_size=0.3, random_state=1, stratify = y)\n",
    " \n",
    "# Feature Scaling\n",
    " \n",
    "sc = StandardScaler()\n",
    "sc.fit(X_train)\n",
    "X_train_std = sc.transform(X_train)\n",
    "X_test_std = sc.transform(X_test)\n",
    " \n",
    "# Training a SVM classifier using SVC class\n",
    "svm = SVC(kernel= 'linear', random_state=1, C=0.1)\n",
    "svm.fit(X_train_std, y_train)\n",
    " \n",
    "# Mode performance\n",
    " \n",
    "y_pred = svm.predict(X_test_std)\n",
    "print('Accuracy: %.3f' % accuracy_score(y_test, y_pred))"
   ]
  }
 ],
 "metadata": {
  "kernelspec": {
   "display_name": "kaggle_gameplay",
   "language": "python",
   "name": "python3"
  },
  "language_info": {
   "codemirror_mode": {
    "name": "ipython",
    "version": 3
   },
   "file_extension": ".py",
   "mimetype": "text/x-python",
   "name": "python",
   "nbconvert_exporter": "python",
   "pygments_lexer": "ipython3",
   "version": "3.11.3"
  },
  "orig_nbformat": 4
 },
 "nbformat": 4,
 "nbformat_minor": 2
}
