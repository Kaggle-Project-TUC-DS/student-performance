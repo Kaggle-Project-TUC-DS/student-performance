{
 "cells": [
  {
   "cell_type": "code",
   "execution_count": 13,
   "metadata": {},
   "outputs": [],
   "source": [
    "import pandas as pd\n",
    "import numpy as np\n",
    "import matplotlib.pyplot as plt\n",
    "import os\n",
    "\n",
    "from sklearn.svm import SVC\n",
    "from sklearn.preprocessing import StandardScaler\n",
    "from sklearn.model_selection import train_test_split\n",
    "from sklearn.metrics import accuracy_score"
   ]
  },
  {
   "cell_type": "code",
   "execution_count": 5,
   "metadata": {},
   "outputs": [
    {
     "name": "stdout",
     "output_type": "stream",
     "text": [
      "Working Directory:  /Users/marvin/workspace/kaggle_gameplay/student-performance\n"
     ]
    }
   ],
   "source": [
    "# get working directory and remove last folder\n",
    "# TODO: make this more robust\n",
    "wd = os.path.dirname(os.getcwd())\n",
    "os.chdir(wd)\n",
    "print(\"Working Directory: \", os.getcwd())\n",
    "\n",
    "# the working directory should be .../student-performance"
   ]
  },
  {
   "cell_type": "code",
   "execution_count": 15,
   "metadata": {},
   "outputs": [
    {
     "data": {
      "text/html": [
       "<div>\n",
       "<style scoped>\n",
       "    .dataframe tbody tr th:only-of-type {\n",
       "        vertical-align: middle;\n",
       "    }\n",
       "\n",
       "    .dataframe tbody tr th {\n",
       "        vertical-align: top;\n",
       "    }\n",
       "\n",
       "    .dataframe thead th {\n",
       "        text-align: right;\n",
       "    }\n",
       "</style>\n",
       "<table border=\"1\" class=\"dataframe\">\n",
       "  <thead>\n",
       "    <tr style=\"text-align: right;\">\n",
       "      <th></th>\n",
       "      <th>session_id_1</th>\n",
       "      <th>level_group_1</th>\n",
       "      <th>event_name_1</th>\n",
       "      <th>name_1</th>\n",
       "      <th>fqid_1</th>\n",
       "      <th>room_fqid_1</th>\n",
       "      <th>text_fqid_1</th>\n",
       "      <th>fullscreen_1</th>\n",
       "      <th>hq_1</th>\n",
       "      <th>music_1</th>\n",
       "      <th>...</th>\n",
       "      <th>room_coor_x_std_5</th>\n",
       "      <th>room_coor_y_std_5</th>\n",
       "      <th>screen_coor_x_std_5</th>\n",
       "      <th>screen_coor_y_std_5</th>\n",
       "      <th>hover_duration_std_5</th>\n",
       "      <th>difference_clicks_std_5</th>\n",
       "      <th>index_sum_of_actions_5</th>\n",
       "      <th>difference_clicks_max_5</th>\n",
       "      <th>elapsed_time_max_5</th>\n",
       "      <th>clicks_per_second_5</th>\n",
       "    </tr>\n",
       "  </thead>\n",
       "  <tbody>\n",
       "    <tr>\n",
       "      <th>0</th>\n",
       "      <td>20090312431273200</td>\n",
       "      <td>0-4</td>\n",
       "      <td>6</td>\n",
       "      <td>3</td>\n",
       "      <td>5</td>\n",
       "      <td>1</td>\n",
       "      <td>6</td>\n",
       "      <td>0</td>\n",
       "      <td>0</td>\n",
       "      <td>1</td>\n",
       "      <td>...</td>\n",
       "      <td>422.014526</td>\n",
       "      <td>41.143421</td>\n",
       "      <td>181.938446</td>\n",
       "      <td>39.566540</td>\n",
       "      <td>164.755875</td>\n",
       "      <td>8.380692</td>\n",
       "      <td>13.0</td>\n",
       "      <td>30.837000</td>\n",
       "      <td>38.620998</td>\n",
       "      <td>0.336604</td>\n",
       "    </tr>\n",
       "    <tr>\n",
       "      <th>1</th>\n",
       "      <td>20090312433251036</td>\n",
       "      <td>0-4</td>\n",
       "      <td>5</td>\n",
       "      <td>3</td>\n",
       "      <td>4</td>\n",
       "      <td>1</td>\n",
       "      <td>4</td>\n",
       "      <td>0</td>\n",
       "      <td>0</td>\n",
       "      <td>0</td>\n",
       "      <td>...</td>\n",
       "      <td>352.261993</td>\n",
       "      <td>63.718025</td>\n",
       "      <td>181.674881</td>\n",
       "      <td>68.807640</td>\n",
       "      <td>-1.000000</td>\n",
       "      <td>10.578836</td>\n",
       "      <td>12.0</td>\n",
       "      <td>37.409000</td>\n",
       "      <td>47.641998</td>\n",
       "      <td>0.251879</td>\n",
       "    </tr>\n",
       "    <tr>\n",
       "      <th>2</th>\n",
       "      <td>20090312455206810</td>\n",
       "      <td>0-4</td>\n",
       "      <td>5</td>\n",
       "      <td>3</td>\n",
       "      <td>4</td>\n",
       "      <td>1</td>\n",
       "      <td>4</td>\n",
       "      <td>1</td>\n",
       "      <td>1</td>\n",
       "      <td>1</td>\n",
       "      <td>...</td>\n",
       "      <td>284.153931</td>\n",
       "      <td>34.723782</td>\n",
       "      <td>197.985825</td>\n",
       "      <td>54.664265</td>\n",
       "      <td>-1.000000</td>\n",
       "      <td>7.594211</td>\n",
       "      <td>14.0</td>\n",
       "      <td>28.743999</td>\n",
       "      <td>40.616001</td>\n",
       "      <td>0.344692</td>\n",
       "    </tr>\n",
       "    <tr>\n",
       "      <th>3</th>\n",
       "      <td>20090313091715820</td>\n",
       "      <td>0-4</td>\n",
       "      <td>5</td>\n",
       "      <td>3</td>\n",
       "      <td>4</td>\n",
       "      <td>1</td>\n",
       "      <td>4</td>\n",
       "      <td>1</td>\n",
       "      <td>1</td>\n",
       "      <td>1</td>\n",
       "      <td>...</td>\n",
       "      <td>337.755798</td>\n",
       "      <td>117.306465</td>\n",
       "      <td>187.151123</td>\n",
       "      <td>129.229507</td>\n",
       "      <td>-1.000000</td>\n",
       "      <td>12.563816</td>\n",
       "      <td>14.0</td>\n",
       "      <td>47.848999</td>\n",
       "      <td>60.853001</td>\n",
       "      <td>0.230063</td>\n",
       "    </tr>\n",
       "    <tr>\n",
       "      <th>4</th>\n",
       "      <td>20090313571836404</td>\n",
       "      <td>0-4</td>\n",
       "      <td>5</td>\n",
       "      <td>3</td>\n",
       "      <td>5</td>\n",
       "      <td>1</td>\n",
       "      <td>6</td>\n",
       "      <td>0</td>\n",
       "      <td>0</td>\n",
       "      <td>1</td>\n",
       "      <td>...</td>\n",
       "      <td>395.347290</td>\n",
       "      <td>57.395401</td>\n",
       "      <td>155.039871</td>\n",
       "      <td>56.676224</td>\n",
       "      <td>625.082397</td>\n",
       "      <td>9.021479</td>\n",
       "      <td>12.0</td>\n",
       "      <td>31.920000</td>\n",
       "      <td>41.750999</td>\n",
       "      <td>0.287418</td>\n",
       "    </tr>\n",
       "  </tbody>\n",
       "</table>\n",
       "<p>5 rows × 104 columns</p>\n",
       "</div>"
      ],
      "text/plain": [
       "        session_id_1 level_group_1  event_name_1  name_1  fqid_1  room_fqid_1   \n",
       "0  20090312431273200           0-4             6       3       5            1  \\\n",
       "1  20090312433251036           0-4             5       3       4            1   \n",
       "2  20090312455206810           0-4             5       3       4            1   \n",
       "3  20090313091715820           0-4             5       3       4            1   \n",
       "4  20090313571836404           0-4             5       3       5            1   \n",
       "\n",
       "   text_fqid_1  fullscreen_1  hq_1  music_1  ...  room_coor_x_std_5   \n",
       "0            6             0     0        1  ...         422.014526  \\\n",
       "1            4             0     0        0  ...         352.261993   \n",
       "2            4             1     1        1  ...         284.153931   \n",
       "3            4             1     1        1  ...         337.755798   \n",
       "4            6             0     0        1  ...         395.347290   \n",
       "\n",
       "   room_coor_y_std_5  screen_coor_x_std_5  screen_coor_y_std_5   \n",
       "0          41.143421           181.938446            39.566540  \\\n",
       "1          63.718025           181.674881            68.807640   \n",
       "2          34.723782           197.985825            54.664265   \n",
       "3         117.306465           187.151123           129.229507   \n",
       "4          57.395401           155.039871            56.676224   \n",
       "\n",
       "   hover_duration_std_5  difference_clicks_std_5  index_sum_of_actions_5   \n",
       "0            164.755875                 8.380692                    13.0  \\\n",
       "1             -1.000000                10.578836                    12.0   \n",
       "2             -1.000000                 7.594211                    14.0   \n",
       "3             -1.000000                12.563816                    14.0   \n",
       "4            625.082397                 9.021479                    12.0   \n",
       "\n",
       "   difference_clicks_max_5  elapsed_time_max_5  clicks_per_second_5  \n",
       "0                30.837000           38.620998             0.336604  \n",
       "1                37.409000           47.641998             0.251879  \n",
       "2                28.743999           40.616001             0.344692  \n",
       "3                47.848999           60.853001             0.230063  \n",
       "4                31.920000           41.750999             0.287418  \n",
       "\n",
       "[5 rows x 104 columns]"
      ]
     },
     "execution_count": 15,
     "metadata": {},
     "output_type": "execute_result"
    }
   ],
   "source": [
    "df = pd.read_csv(\"data/processed/df_0_4_flattened.csv\", index_col=0)\n",
    "df.head()"
   ]
  },
  {
   "cell_type": "code",
   "execution_count": 7,
   "metadata": {},
   "outputs": [
    {
     "name": "stdout",
     "output_type": "stream",
     "text": [
      "<class 'pandas.core.frame.DataFrame'>\n",
      "Index: 23562 entries, 0 to 23561\n",
      "Columns: 104 entries, session_id_1 to clicks_per_second_5\n",
      "dtypes: float64(70), int64(33), object(1)\n",
      "memory usage: 18.9+ MB\n"
     ]
    }
   ],
   "source": [
    "df.info()"
   ]
  },
  {
   "cell_type": "code",
   "execution_count": 34,
   "metadata": {},
   "outputs": [
    {
     "name": "stdout",
     "output_type": "stream",
     "text": [
      "session_id_1 int64\n",
      "level_group_1 object\n",
      "event_name_1 int64\n",
      "name_1 int64\n",
      "fqid_1 int64\n",
      "room_fqid_1 int64\n",
      "text_fqid_1 int64\n",
      "fullscreen_1 int64\n",
      "hq_1 int64\n",
      "music_1 int64\n",
      "hover_duration_mean_1 float64\n",
      "difference_clicks_mean_1 float64\n",
      "elapsed_time_std_1 float64\n",
      "page_std_1 float64\n",
      "room_coor_x_std_1 float64\n",
      "room_coor_y_std_1 float64\n",
      "screen_coor_x_std_1 float64\n",
      "screen_coor_y_std_1 float64\n",
      "hover_duration_std_1 float64\n",
      "difference_clicks_std_1 float64\n",
      "index_sum_of_actions_1 float64\n",
      "difference_clicks_max_1 float64\n",
      "elapsed_time_max_1 float64\n",
      "clicks_per_second_1 float64\n",
      "session_id_2 int64\n",
      "event_name_2 int64\n",
      "name_2 int64\n",
      "fqid_2 int64\n",
      "room_fqid_2 int64\n",
      "text_fqid_2 int64\n",
      "hover_duration_mean_2 float64\n",
      "difference_clicks_mean_2 float64\n",
      "elapsed_time_std_2 float64\n",
      "page_std_2 float64\n",
      "room_coor_x_std_2 float64\n",
      "room_coor_y_std_2 float64\n",
      "screen_coor_x_std_2 float64\n",
      "screen_coor_y_std_2 float64\n",
      "hover_duration_std_2 float64\n",
      "difference_clicks_std_2 float64\n",
      "index_sum_of_actions_2 float64\n",
      "difference_clicks_max_2 float64\n",
      "elapsed_time_max_2 float64\n",
      "clicks_per_second_2 float64\n",
      "session_id_3 int64\n",
      "event_name_3 int64\n",
      "name_3 int64\n",
      "fqid_3 int64\n",
      "room_fqid_3 int64\n",
      "text_fqid_3 int64\n",
      "hover_duration_mean_3 float64\n",
      "difference_clicks_mean_3 float64\n",
      "elapsed_time_std_3 float64\n",
      "page_std_3 float64\n",
      "room_coor_x_std_3 float64\n",
      "room_coor_y_std_3 float64\n",
      "screen_coor_x_std_3 float64\n",
      "screen_coor_y_std_3 float64\n",
      "hover_duration_std_3 float64\n",
      "difference_clicks_std_3 float64\n",
      "index_sum_of_actions_3 float64\n",
      "difference_clicks_max_3 float64\n",
      "elapsed_time_max_3 float64\n",
      "clicks_per_second_3 float64\n",
      "session_id_4 int64\n",
      "event_name_4 int64\n",
      "name_4 int64\n",
      "fqid_4 int64\n",
      "room_fqid_4 int64\n",
      "text_fqid_4 int64\n",
      "hover_duration_mean_4 float64\n",
      "difference_clicks_mean_4 float64\n",
      "elapsed_time_std_4 float64\n",
      "page_std_4 float64\n",
      "room_coor_x_std_4 float64\n",
      "room_coor_y_std_4 float64\n",
      "screen_coor_x_std_4 float64\n",
      "screen_coor_y_std_4 float64\n",
      "hover_duration_std_4 float64\n",
      "difference_clicks_std_4 float64\n",
      "index_sum_of_actions_4 float64\n",
      "difference_clicks_max_4 float64\n",
      "elapsed_time_max_4 float64\n",
      "clicks_per_second_4 float64\n",
      "session_id_5 int64\n",
      "event_name_5 int64\n",
      "name_5 int64\n",
      "fqid_5 int64\n",
      "room_fqid_5 int64\n",
      "text_fqid_5 int64\n",
      "hover_duration_mean_5 float64\n",
      "difference_clicks_mean_5 float64\n",
      "elapsed_time_std_5 float64\n",
      "page_std_5 float64\n",
      "room_coor_x_std_5 float64\n",
      "room_coor_y_std_5 float64\n",
      "screen_coor_x_std_5 float64\n",
      "screen_coor_y_std_5 float64\n",
      "hover_duration_std_5 float64\n",
      "difference_clicks_std_5 float64\n",
      "index_sum_of_actions_5 float64\n",
      "difference_clicks_max_5 float64\n",
      "elapsed_time_max_5 float64\n",
      "clicks_per_second_5 float64\n"
     ]
    }
   ],
   "source": [
    "dt = df.dtypes.to_dict()\n",
    "for d in dt:\n",
    "    print(d, dt[d])"
   ]
  },
  {
   "cell_type": "code",
   "execution_count": 63,
   "metadata": {},
   "outputs": [
    {
     "name": "stdout",
     "output_type": "stream",
     "text": [
      "<class 'numpy.ndarray'>\n",
      "(23562, 61)\n",
      "[[  6.           3.           5.         ...  39.           2.21499991\n",
      "   34.25299835]\n",
      " [  5.           3.           4.         ...  32.           8.77999973\n",
      "   91.22299957]\n",
      " [  5.           3.           4.         ...  42.           5.7670002\n",
      "   32.01100159]\n",
      " ...\n",
      " [  5.           3.           5.         ...  34.           4.35900021\n",
      "   46.97100067]\n",
      " [  7.           3.           6.         ...  45.           2.17000008\n",
      "   27.78899956]\n",
      " [  7.           3.           6.         ...  51.           4.96999979\n",
      "  105.43599701]]\n"
     ]
    },
    {
     "data": {
      "text/plain": [
       "dtype('float64')"
      ]
     },
     "execution_count": 63,
     "metadata": {},
     "output_type": "execute_result"
    }
   ],
   "source": [
    "X = df.iloc[:, 2:63:].values\n",
    "print(type(X))\n",
    "print(X.shape)\n",
    "print(X)\n",
    "X = X.astype(np.float64)\n",
    "X.dtype\n",
    "\n",
    "# 63 is making problems: too large for float64"
   ]
  },
  {
   "cell_type": "code",
   "execution_count": 47,
   "metadata": {},
   "outputs": [
    {
     "data": {
      "text/html": [
       "<div>\n",
       "<style scoped>\n",
       "    .dataframe tbody tr th:only-of-type {\n",
       "        vertical-align: middle;\n",
       "    }\n",
       "\n",
       "    .dataframe tbody tr th {\n",
       "        vertical-align: top;\n",
       "    }\n",
       "\n",
       "    .dataframe thead th {\n",
       "        text-align: right;\n",
       "    }\n",
       "</style>\n",
       "<table border=\"1\" class=\"dataframe\">\n",
       "  <thead>\n",
       "    <tr style=\"text-align: right;\">\n",
       "      <th></th>\n",
       "      <th>session</th>\n",
       "      <th>correct</th>\n",
       "      <th>q</th>\n",
       "    </tr>\n",
       "  </thead>\n",
       "  <tbody>\n",
       "    <tr>\n",
       "      <th>0</th>\n",
       "      <td>20090312431273200</td>\n",
       "      <td>1</td>\n",
       "      <td>1</td>\n",
       "    </tr>\n",
       "    <tr>\n",
       "      <th>1</th>\n",
       "      <td>20090312433251036</td>\n",
       "      <td>0</td>\n",
       "      <td>1</td>\n",
       "    </tr>\n",
       "    <tr>\n",
       "      <th>2</th>\n",
       "      <td>20090312455206810</td>\n",
       "      <td>1</td>\n",
       "      <td>1</td>\n",
       "    </tr>\n",
       "    <tr>\n",
       "      <th>3</th>\n",
       "      <td>20090313091715820</td>\n",
       "      <td>0</td>\n",
       "      <td>1</td>\n",
       "    </tr>\n",
       "    <tr>\n",
       "      <th>4</th>\n",
       "      <td>20090313571836404</td>\n",
       "      <td>1</td>\n",
       "      <td>1</td>\n",
       "    </tr>\n",
       "  </tbody>\n",
       "</table>\n",
       "</div>"
      ],
      "text/plain": [
       "             session  correct  q\n",
       "0  20090312431273200        1  1\n",
       "1  20090312433251036        0  1\n",
       "2  20090312455206810        1  1\n",
       "3  20090313091715820        0  1\n",
       "4  20090313571836404        1  1"
      ]
     },
     "execution_count": 47,
     "metadata": {},
     "output_type": "execute_result"
    }
   ],
   "source": [
    "labels = pd.read_csv(\"data/processed/labels.csv\")\n",
    "labels.head()\n"
   ]
  },
  {
   "cell_type": "code",
   "execution_count": 48,
   "metadata": {},
   "outputs": [
    {
     "name": "stdout",
     "output_type": "stream",
     "text": [
      "(424116, 3)\n",
      "<class 'pandas.core.frame.DataFrame'>\n",
      "RangeIndex: 424116 entries, 0 to 424115\n",
      "Data columns (total 3 columns):\n",
      " #   Column   Non-Null Count   Dtype\n",
      "---  ------   --------------   -----\n",
      " 0   session  424116 non-null  int64\n",
      " 1   correct  424116 non-null  int64\n",
      " 2   q        424116 non-null  int64\n",
      "dtypes: int64(3)\n",
      "memory usage: 9.7 MB\n"
     ]
    }
   ],
   "source": [
    "print(labels.shape)\n",
    "labels.info()"
   ]
  },
  {
   "cell_type": "code",
   "execution_count": 49,
   "metadata": {},
   "outputs": [
    {
     "name": "stdout",
     "output_type": "stream",
     "text": [
      "(23562,)\n",
      "[1 0 1 ... 1 0 0]\n"
     ]
    }
   ],
   "source": [
    "# y = labels[(labels['q'] >= 0) & (labels['q'] <= 3)]\n",
    "y = labels[labels['q'] == 1]\n",
    "y = y['correct'].values\n",
    "print(y.shape)\n",
    "print(y)"
   ]
  },
  {
   "cell_type": "code",
   "execution_count": 57,
   "metadata": {},
   "outputs": [
    {
     "ename": "ValueError",
     "evalue": "Input X contains infinity or a value too large for dtype('float64').",
     "output_type": "error",
     "traceback": [
      "\u001b[0;31m---------------------------------------------------------------------------\u001b[0m",
      "\u001b[0;31mValueError\u001b[0m                                Traceback (most recent call last)",
      "Cell \u001b[0;32mIn[57], line 9\u001b[0m\n\u001b[1;32m      7\u001b[0m sc\u001b[39m.\u001b[39mfit(X_train)\n\u001b[1;32m      8\u001b[0m X_train_std \u001b[39m=\u001b[39m sc\u001b[39m.\u001b[39mtransform(X_train)\n\u001b[0;32m----> 9\u001b[0m X_test_std \u001b[39m=\u001b[39m sc\u001b[39m.\u001b[39mtransform(X_test)\n\u001b[1;32m     11\u001b[0m \u001b[39m# Training a SVM classifier using SVC class\u001b[39;00m\n\u001b[1;32m     12\u001b[0m svm \u001b[39m=\u001b[39m SVC(kernel\u001b[39m=\u001b[39m \u001b[39m'\u001b[39m\u001b[39mrbf\u001b[39m\u001b[39m'\u001b[39m, random_state\u001b[39m=\u001b[39m\u001b[39m1\u001b[39m, C\u001b[39m=\u001b[39m\u001b[39m0.1\u001b[39m)\n",
      "File \u001b[0;32m/Applications/anaconda3/envs/kaggle_gameplay/lib/python3.11/site-packages/sklearn/utils/_set_output.py:140\u001b[0m, in \u001b[0;36m_wrap_method_output.<locals>.wrapped\u001b[0;34m(self, X, *args, **kwargs)\u001b[0m\n\u001b[1;32m    138\u001b[0m \u001b[39m@wraps\u001b[39m(f)\n\u001b[1;32m    139\u001b[0m \u001b[39mdef\u001b[39;00m \u001b[39mwrapped\u001b[39m(\u001b[39mself\u001b[39m, X, \u001b[39m*\u001b[39margs, \u001b[39m*\u001b[39m\u001b[39m*\u001b[39mkwargs):\n\u001b[0;32m--> 140\u001b[0m     data_to_wrap \u001b[39m=\u001b[39m f(\u001b[39mself\u001b[39m, X, \u001b[39m*\u001b[39margs, \u001b[39m*\u001b[39m\u001b[39m*\u001b[39mkwargs)\n\u001b[1;32m    141\u001b[0m     \u001b[39mif\u001b[39;00m \u001b[39misinstance\u001b[39m(data_to_wrap, \u001b[39mtuple\u001b[39m):\n\u001b[1;32m    142\u001b[0m         \u001b[39m# only wrap the first output for cross decomposition\u001b[39;00m\n\u001b[1;32m    143\u001b[0m         \u001b[39mreturn\u001b[39;00m (\n\u001b[1;32m    144\u001b[0m             _wrap_data_with_container(method, data_to_wrap[\u001b[39m0\u001b[39m], X, \u001b[39mself\u001b[39m),\n\u001b[1;32m    145\u001b[0m             \u001b[39m*\u001b[39mdata_to_wrap[\u001b[39m1\u001b[39m:],\n\u001b[1;32m    146\u001b[0m         )\n",
      "File \u001b[0;32m/Applications/anaconda3/envs/kaggle_gameplay/lib/python3.11/site-packages/sklearn/preprocessing/_data.py:992\u001b[0m, in \u001b[0;36mStandardScaler.transform\u001b[0;34m(self, X, copy)\u001b[0m\n\u001b[1;32m    989\u001b[0m check_is_fitted(\u001b[39mself\u001b[39m)\n\u001b[1;32m    991\u001b[0m copy \u001b[39m=\u001b[39m copy \u001b[39mif\u001b[39;00m copy \u001b[39mis\u001b[39;00m \u001b[39mnot\u001b[39;00m \u001b[39mNone\u001b[39;00m \u001b[39melse\u001b[39;00m \u001b[39mself\u001b[39m\u001b[39m.\u001b[39mcopy\n\u001b[0;32m--> 992\u001b[0m X \u001b[39m=\u001b[39m \u001b[39mself\u001b[39m\u001b[39m.\u001b[39m_validate_data(\n\u001b[1;32m    993\u001b[0m     X,\n\u001b[1;32m    994\u001b[0m     reset\u001b[39m=\u001b[39m\u001b[39mFalse\u001b[39;00m,\n\u001b[1;32m    995\u001b[0m     accept_sparse\u001b[39m=\u001b[39m\u001b[39m\"\u001b[39m\u001b[39mcsr\u001b[39m\u001b[39m\"\u001b[39m,\n\u001b[1;32m    996\u001b[0m     copy\u001b[39m=\u001b[39mcopy,\n\u001b[1;32m    997\u001b[0m     dtype\u001b[39m=\u001b[39mFLOAT_DTYPES,\n\u001b[1;32m    998\u001b[0m     force_all_finite\u001b[39m=\u001b[39m\u001b[39m\"\u001b[39m\u001b[39mallow-nan\u001b[39m\u001b[39m\"\u001b[39m,\n\u001b[1;32m    999\u001b[0m )\n\u001b[1;32m   1001\u001b[0m \u001b[39mif\u001b[39;00m sparse\u001b[39m.\u001b[39missparse(X):\n\u001b[1;32m   1002\u001b[0m     \u001b[39mif\u001b[39;00m \u001b[39mself\u001b[39m\u001b[39m.\u001b[39mwith_mean:\n",
      "File \u001b[0;32m/Applications/anaconda3/envs/kaggle_gameplay/lib/python3.11/site-packages/sklearn/base.py:565\u001b[0m, in \u001b[0;36mBaseEstimator._validate_data\u001b[0;34m(self, X, y, reset, validate_separately, **check_params)\u001b[0m\n\u001b[1;32m    563\u001b[0m     \u001b[39mraise\u001b[39;00m \u001b[39mValueError\u001b[39;00m(\u001b[39m\"\u001b[39m\u001b[39mValidation should be done on X, y or both.\u001b[39m\u001b[39m\"\u001b[39m)\n\u001b[1;32m    564\u001b[0m \u001b[39melif\u001b[39;00m \u001b[39mnot\u001b[39;00m no_val_X \u001b[39mand\u001b[39;00m no_val_y:\n\u001b[0;32m--> 565\u001b[0m     X \u001b[39m=\u001b[39m check_array(X, input_name\u001b[39m=\u001b[39m\u001b[39m\"\u001b[39m\u001b[39mX\u001b[39m\u001b[39m\"\u001b[39m, \u001b[39m*\u001b[39m\u001b[39m*\u001b[39mcheck_params)\n\u001b[1;32m    566\u001b[0m     out \u001b[39m=\u001b[39m X\n\u001b[1;32m    567\u001b[0m \u001b[39melif\u001b[39;00m no_val_X \u001b[39mand\u001b[39;00m \u001b[39mnot\u001b[39;00m no_val_y:\n",
      "File \u001b[0;32m/Applications/anaconda3/envs/kaggle_gameplay/lib/python3.11/site-packages/sklearn/utils/validation.py:921\u001b[0m, in \u001b[0;36mcheck_array\u001b[0;34m(array, accept_sparse, accept_large_sparse, dtype, order, copy, force_all_finite, ensure_2d, allow_nd, ensure_min_samples, ensure_min_features, estimator, input_name)\u001b[0m\n\u001b[1;32m    915\u001b[0m         \u001b[39mraise\u001b[39;00m \u001b[39mValueError\u001b[39;00m(\n\u001b[1;32m    916\u001b[0m             \u001b[39m\"\u001b[39m\u001b[39mFound array with dim \u001b[39m\u001b[39m%d\u001b[39;00m\u001b[39m. \u001b[39m\u001b[39m%s\u001b[39;00m\u001b[39m expected <= 2.\u001b[39m\u001b[39m\"\u001b[39m\n\u001b[1;32m    917\u001b[0m             \u001b[39m%\u001b[39m (array\u001b[39m.\u001b[39mndim, estimator_name)\n\u001b[1;32m    918\u001b[0m         )\n\u001b[1;32m    920\u001b[0m     \u001b[39mif\u001b[39;00m force_all_finite:\n\u001b[0;32m--> 921\u001b[0m         _assert_all_finite(\n\u001b[1;32m    922\u001b[0m             array,\n\u001b[1;32m    923\u001b[0m             input_name\u001b[39m=\u001b[39minput_name,\n\u001b[1;32m    924\u001b[0m             estimator_name\u001b[39m=\u001b[39mestimator_name,\n\u001b[1;32m    925\u001b[0m             allow_nan\u001b[39m=\u001b[39mforce_all_finite \u001b[39m==\u001b[39m \u001b[39m\"\u001b[39m\u001b[39mallow-nan\u001b[39m\u001b[39m\"\u001b[39m,\n\u001b[1;32m    926\u001b[0m         )\n\u001b[1;32m    928\u001b[0m \u001b[39mif\u001b[39;00m ensure_min_samples \u001b[39m>\u001b[39m \u001b[39m0\u001b[39m:\n\u001b[1;32m    929\u001b[0m     n_samples \u001b[39m=\u001b[39m _num_samples(array)\n",
      "File \u001b[0;32m/Applications/anaconda3/envs/kaggle_gameplay/lib/python3.11/site-packages/sklearn/utils/validation.py:161\u001b[0m, in \u001b[0;36m_assert_all_finite\u001b[0;34m(X, allow_nan, msg_dtype, estimator_name, input_name)\u001b[0m\n\u001b[1;32m    144\u001b[0m \u001b[39mif\u001b[39;00m estimator_name \u001b[39mand\u001b[39;00m input_name \u001b[39m==\u001b[39m \u001b[39m\"\u001b[39m\u001b[39mX\u001b[39m\u001b[39m\"\u001b[39m \u001b[39mand\u001b[39;00m has_nan_error:\n\u001b[1;32m    145\u001b[0m     \u001b[39m# Improve the error message on how to handle missing values in\u001b[39;00m\n\u001b[1;32m    146\u001b[0m     \u001b[39m# scikit-learn.\u001b[39;00m\n\u001b[1;32m    147\u001b[0m     msg_err \u001b[39m+\u001b[39m\u001b[39m=\u001b[39m (\n\u001b[1;32m    148\u001b[0m         \u001b[39mf\u001b[39m\u001b[39m\"\u001b[39m\u001b[39m\\n\u001b[39;00m\u001b[39m{\u001b[39;00mestimator_name\u001b[39m}\u001b[39;00m\u001b[39m does not accept missing values\u001b[39m\u001b[39m\"\u001b[39m\n\u001b[1;32m    149\u001b[0m         \u001b[39m\"\u001b[39m\u001b[39m encoded as NaN natively. For supervised learning, you might want\u001b[39m\u001b[39m\"\u001b[39m\n\u001b[0;32m   (...)\u001b[0m\n\u001b[1;32m    159\u001b[0m         \u001b[39m\"\u001b[39m\u001b[39m#estimators-that-handle-nan-values\u001b[39m\u001b[39m\"\u001b[39m\n\u001b[1;32m    160\u001b[0m     )\n\u001b[0;32m--> 161\u001b[0m \u001b[39mraise\u001b[39;00m \u001b[39mValueError\u001b[39;00m(msg_err)\n",
      "\u001b[0;31mValueError\u001b[0m: Input X contains infinity or a value too large for dtype('float64')."
     ]
    }
   ],
   "source": [
    "# Creating training and test split\n",
    "X_train, X_test, y_train, y_test = train_test_split(X, y, test_size=0.3, random_state=1, stratify = y)\n",
    " \n",
    "# Feature Scaling\n",
    " \n",
    "sc = StandardScaler()\n",
    "sc.fit(X_train)\n",
    "X_train_std = sc.transform(X_train)\n",
    "X_test_std = sc.transform(X_test)\n",
    " \n",
    "# Training a SVM classifier using SVC class\n",
    "svm = SVC(kernel= 'rbf', random_state=1, C=0.1)\n",
    "svm.fit(X_train_std, y_train)\n",
    " \n",
    "# Mode performance\n",
    " \n",
    "y_pred = svm.predict(X_test_std)\n",
    "print('Accuracy: %.3f' % accuracy_score(y_test, y_pred))"
   ]
  },
  {
   "cell_type": "code",
   "execution_count": 58,
   "metadata": {},
   "outputs": [
    {
     "name": "stdout",
     "output_type": "stream",
     "text": [
      "This index 63 does not work.\n"
     ]
    }
   ],
   "source": [
    "for i in range(2,101):\n",
    "    try:\n",
    "        X = df.iloc[:, i:i+1].values\n",
    "        # Creating training and test split\n",
    "        X_train, X_test, y_train, y_test = train_test_split(X, y, test_size=0.3, random_state=1, stratify = y)\n",
    "        \n",
    "        # Feature Scaling\n",
    "        \n",
    "        sc = StandardScaler()\n",
    "        sc.fit(X_train)\n",
    "        X_train_std = sc.transform(X_train)\n",
    "        X_test_std = sc.transform(X_test)\n",
    "    except: \n",
    "        print(f\"This index {i} does not work.\")\n",
    "        "
   ]
  },
  {
   "cell_type": "code",
   "execution_count": 59,
   "metadata": {},
   "outputs": [
    {
     "data": {
      "text/plain": [
       "'clicks_per_second_3'"
      ]
     },
     "execution_count": 59,
     "metadata": {},
     "output_type": "execute_result"
    }
   ],
   "source": [
    "df.columns[63]"
   ]
  },
  {
   "cell_type": "code",
   "execution_count": 61,
   "metadata": {},
   "outputs": [
    {
     "data": {
      "text/plain": [
       "dtype('float64')"
      ]
     },
     "execution_count": 61,
     "metadata": {},
     "output_type": "execute_result"
    }
   ],
   "source": [
    "t = df.iloc[:, 63].values\n",
    "t.dtype"
   ]
  },
  {
   "cell_type": "code",
   "execution_count": null,
   "metadata": {},
   "outputs": [],
   "source": []
  }
 ],
 "metadata": {
  "kernelspec": {
   "display_name": "kaggle_gameplay",
   "language": "python",
   "name": "python3"
  },
  "language_info": {
   "codemirror_mode": {
    "name": "ipython",
    "version": 3
   },
   "file_extension": ".py",
   "mimetype": "text/x-python",
   "name": "python",
   "nbconvert_exporter": "python",
   "pygments_lexer": "ipython3",
   "version": "3.11.3"
  },
  "orig_nbformat": 4
 },
 "nbformat": 4,
 "nbformat_minor": 2
}
