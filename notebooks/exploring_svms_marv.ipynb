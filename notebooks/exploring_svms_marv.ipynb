{
 "cells": [
  {
   "cell_type": "code",
   "execution_count": 1,
   "metadata": {},
   "outputs": [],
   "source": [
    "import pandas as pd\n",
    "import numpy as np\n",
    "import matplotlib.pyplot as plt\n",
    "import os"
   ]
  },
  {
   "cell_type": "code",
   "execution_count": 2,
   "metadata": {},
   "outputs": [
    {
     "name": "stdout",
     "output_type": "stream",
     "text": [
      "Working Directory:  /Users/marvin/workspace/kaggle_gameplay/student-performance\n"
     ]
    }
   ],
   "source": [
    "# get working directory and remove last folder\n",
    "# TODO: make this more robust\n",
    "wd = os.path.dirname(os.getcwd())\n",
    "os.chdir(wd)\n",
    "print(\"Working Directory: \", os.getcwd())\n",
    "\n",
    "# the working directory should be .../student-performance"
   ]
  },
  {
   "cell_type": "code",
   "execution_count": 5,
   "metadata": {},
   "outputs": [],
   "source": [
    "df = pd.read_csv(\"data/processed/df_0_4_flattened.csv\", index_col=0)"
   ]
  },
  {
   "cell_type": "code",
   "execution_count": 10,
   "metadata": {},
   "outputs": [
    {
     "name": "stdout",
     "output_type": "stream",
     "text": [
      "104\n",
      "session_id_1\n",
      "level_group_1\n",
      "event_name_1\n",
      "name_1\n",
      "fqid_1\n",
      "room_fqid_1\n",
      "text_fqid_1\n",
      "fullscreen_1\n",
      "hq_1\n",
      "music_1\n",
      "hover_duration_mean_1\n",
      "difference_clicks_mean_1\n",
      "elapsed_time_std_1\n",
      "page_std_1\n",
      "room_coor_x_std_1\n",
      "room_coor_y_std_1\n",
      "screen_coor_x_std_1\n",
      "screen_coor_y_std_1\n",
      "hover_duration_std_1\n",
      "difference_clicks_std_1\n",
      "index_sum_of_actions_1\n",
      "difference_clicks_max_1\n",
      "elapsed_time_max_1\n",
      "clicks_per_second_1\n",
      "session_id_2\n",
      "event_name_2\n",
      "name_2\n",
      "fqid_2\n",
      "room_fqid_2\n",
      "text_fqid_2\n",
      "hover_duration_mean_2\n",
      "difference_clicks_mean_2\n",
      "elapsed_time_std_2\n",
      "page_std_2\n",
      "room_coor_x_std_2\n",
      "room_coor_y_std_2\n",
      "screen_coor_x_std_2\n",
      "screen_coor_y_std_2\n",
      "hover_duration_std_2\n",
      "difference_clicks_std_2\n",
      "index_sum_of_actions_2\n",
      "difference_clicks_max_2\n",
      "elapsed_time_max_2\n",
      "clicks_per_second_2\n",
      "session_id_3\n",
      "event_name_3\n",
      "name_3\n",
      "fqid_3\n",
      "room_fqid_3\n",
      "text_fqid_3\n",
      "hover_duration_mean_3\n",
      "difference_clicks_mean_3\n",
      "elapsed_time_std_3\n",
      "page_std_3\n",
      "room_coor_x_std_3\n",
      "room_coor_y_std_3\n",
      "screen_coor_x_std_3\n",
      "screen_coor_y_std_3\n",
      "hover_duration_std_3\n",
      "difference_clicks_std_3\n",
      "index_sum_of_actions_3\n",
      "difference_clicks_max_3\n",
      "elapsed_time_max_3\n",
      "clicks_per_second_3\n",
      "session_id_4\n",
      "event_name_4\n",
      "name_4\n",
      "fqid_4\n",
      "room_fqid_4\n",
      "text_fqid_4\n",
      "hover_duration_mean_4\n",
      "difference_clicks_mean_4\n",
      "elapsed_time_std_4\n",
      "page_std_4\n",
      "room_coor_x_std_4\n",
      "room_coor_y_std_4\n",
      "screen_coor_x_std_4\n",
      "screen_coor_y_std_4\n",
      "hover_duration_std_4\n",
      "difference_clicks_std_4\n",
      "index_sum_of_actions_4\n",
      "difference_clicks_max_4\n",
      "elapsed_time_max_4\n",
      "clicks_per_second_4\n",
      "session_id_5\n",
      "event_name_5\n",
      "name_5\n",
      "fqid_5\n",
      "room_fqid_5\n",
      "text_fqid_5\n",
      "hover_duration_mean_5\n",
      "difference_clicks_mean_5\n",
      "elapsed_time_std_5\n",
      "page_std_5\n",
      "room_coor_x_std_5\n",
      "room_coor_y_std_5\n",
      "screen_coor_x_std_5\n",
      "screen_coor_y_std_5\n",
      "hover_duration_std_5\n",
      "difference_clicks_std_5\n",
      "index_sum_of_actions_5\n",
      "difference_clicks_max_5\n",
      "elapsed_time_max_5\n",
      "clicks_per_second_5\n"
     ]
    }
   ],
   "source": [
    "cols = df.columns.tolist()\n",
    "print(len(cols))\n",
    "for c in cols:\n",
    "    print(c)"
   ]
  },
  {
   "cell_type": "code",
   "execution_count": 13,
   "metadata": {},
   "outputs": [
    {
     "name": "stdout",
     "output_type": "stream",
     "text": [
      "<class 'pandas.core.frame.DataFrame'>\n",
      "Index: 23562 entries, 0 to 23561\n",
      "Columns: 104 entries, session_id_1 to clicks_per_second_5\n",
      "dtypes: float64(70), int64(33), object(1)\n",
      "memory usage: 18.9+ MB\n"
     ]
    }
   ],
   "source": [
    "df.info()"
   ]
  },
  {
   "cell_type": "code",
   "execution_count": 31,
   "metadata": {},
   "outputs": [
    {
     "name": "stdout",
     "output_type": "stream",
     "text": [
      "{'session_id_1': dtype('int64'), 'level_group_1': dtype('O'), 'event_name_1': dtype('int64'), 'name_1': dtype('int64'), 'fqid_1': dtype('int64'), 'room_fqid_1': dtype('int64'), 'text_fqid_1': dtype('int64'), 'fullscreen_1': dtype('int64'), 'hq_1': dtype('int64'), 'music_1': dtype('int64'), 'hover_duration_mean_1': dtype('float64'), 'difference_clicks_mean_1': dtype('float64'), 'elapsed_time_std_1': dtype('float64'), 'page_std_1': dtype('float64'), 'room_coor_x_std_1': dtype('float64'), 'room_coor_y_std_1': dtype('float64'), 'screen_coor_x_std_1': dtype('float64'), 'screen_coor_y_std_1': dtype('float64'), 'hover_duration_std_1': dtype('float64'), 'difference_clicks_std_1': dtype('float64'), 'index_sum_of_actions_1': dtype('float64'), 'difference_clicks_max_1': dtype('float64'), 'elapsed_time_max_1': dtype('float64'), 'clicks_per_second_1': dtype('float64'), 'session_id_2': dtype('int64'), 'event_name_2': dtype('int64'), 'name_2': dtype('int64'), 'fqid_2': dtype('int64'), 'room_fqid_2': dtype('int64'), 'text_fqid_2': dtype('int64'), 'hover_duration_mean_2': dtype('float64'), 'difference_clicks_mean_2': dtype('float64'), 'elapsed_time_std_2': dtype('float64'), 'page_std_2': dtype('float64'), 'room_coor_x_std_2': dtype('float64'), 'room_coor_y_std_2': dtype('float64'), 'screen_coor_x_std_2': dtype('float64'), 'screen_coor_y_std_2': dtype('float64'), 'hover_duration_std_2': dtype('float64'), 'difference_clicks_std_2': dtype('float64'), 'index_sum_of_actions_2': dtype('float64'), 'difference_clicks_max_2': dtype('float64'), 'elapsed_time_max_2': dtype('float64'), 'clicks_per_second_2': dtype('float64'), 'session_id_3': dtype('int64'), 'event_name_3': dtype('int64'), 'name_3': dtype('int64'), 'fqid_3': dtype('int64'), 'room_fqid_3': dtype('int64'), 'text_fqid_3': dtype('int64'), 'hover_duration_mean_3': dtype('float64'), 'difference_clicks_mean_3': dtype('float64'), 'elapsed_time_std_3': dtype('float64'), 'page_std_3': dtype('float64'), 'room_coor_x_std_3': dtype('float64'), 'room_coor_y_std_3': dtype('float64'), 'screen_coor_x_std_3': dtype('float64'), 'screen_coor_y_std_3': dtype('float64'), 'hover_duration_std_3': dtype('float64'), 'difference_clicks_std_3': dtype('float64'), 'index_sum_of_actions_3': dtype('float64'), 'difference_clicks_max_3': dtype('float64'), 'elapsed_time_max_3': dtype('float64'), 'clicks_per_second_3': dtype('float64'), 'session_id_4': dtype('int64'), 'event_name_4': dtype('int64'), 'name_4': dtype('int64'), 'fqid_4': dtype('int64'), 'room_fqid_4': dtype('int64'), 'text_fqid_4': dtype('int64'), 'hover_duration_mean_4': dtype('float64'), 'difference_clicks_mean_4': dtype('float64'), 'elapsed_time_std_4': dtype('float64'), 'page_std_4': dtype('float64'), 'room_coor_x_std_4': dtype('float64'), 'room_coor_y_std_4': dtype('float64'), 'screen_coor_x_std_4': dtype('float64'), 'screen_coor_y_std_4': dtype('float64'), 'hover_duration_std_4': dtype('float64'), 'difference_clicks_std_4': dtype('float64'), 'index_sum_of_actions_4': dtype('float64'), 'difference_clicks_max_4': dtype('float64'), 'elapsed_time_max_4': dtype('float64'), 'clicks_per_second_4': dtype('float64'), 'session_id_5': dtype('int64'), 'event_name_5': dtype('int64'), 'name_5': dtype('int64'), 'fqid_5': dtype('int64'), 'room_fqid_5': dtype('int64'), 'text_fqid_5': dtype('int64'), 'hover_duration_mean_5': dtype('float64'), 'difference_clicks_mean_5': dtype('float64'), 'elapsed_time_std_5': dtype('float64'), 'page_std_5': dtype('float64'), 'room_coor_x_std_5': dtype('float64'), 'room_coor_y_std_5': dtype('float64'), 'screen_coor_x_std_5': dtype('float64'), 'screen_coor_y_std_5': dtype('float64'), 'hover_duration_std_5': dtype('float64'), 'difference_clicks_std_5': dtype('float64'), 'index_sum_of_actions_5': dtype('float64'), 'difference_clicks_max_5': dtype('float64'), 'elapsed_time_max_5': dtype('float64'), 'clicks_per_second_5': dtype('float64'), 0: 'int64'}\n"
     ]
    },
    {
     "ename": "TypeError",
     "evalue": "Object of type dtype[int64] is not JSON serializable",
     "output_type": "error",
     "traceback": [
      "\u001b[0;31m---------------------------------------------------------------------------\u001b[0m",
      "\u001b[0;31mTypeError\u001b[0m                                 Traceback (most recent call last)",
      "Cell \u001b[0;32mIn[31], line 8\u001b[0m\n\u001b[1;32m      6\u001b[0m \u001b[39mimport\u001b[39;00m \u001b[39mjson\u001b[39;00m\n\u001b[1;32m      7\u001b[0m \u001b[39mwith\u001b[39;00m \u001b[39mopen\u001b[39m(\u001b[39m'\u001b[39m\u001b[39mdtypes.json\u001b[39m\u001b[39m'\u001b[39m, \u001b[39m'\u001b[39m\u001b[39mw\u001b[39m\u001b[39m'\u001b[39m) \u001b[39mas\u001b[39;00m fp:\n\u001b[0;32m----> 8\u001b[0m     json\u001b[39m.\u001b[39mdump(dt, fp)\n",
      "File \u001b[0;32m/Applications/anaconda3/envs/kaggle_gameplay/lib/python3.11/json/__init__.py:179\u001b[0m, in \u001b[0;36mdump\u001b[0;34m(obj, fp, skipkeys, ensure_ascii, check_circular, allow_nan, cls, indent, separators, default, sort_keys, **kw)\u001b[0m\n\u001b[1;32m    173\u001b[0m     iterable \u001b[39m=\u001b[39m \u001b[39mcls\u001b[39m(skipkeys\u001b[39m=\u001b[39mskipkeys, ensure_ascii\u001b[39m=\u001b[39mensure_ascii,\n\u001b[1;32m    174\u001b[0m         check_circular\u001b[39m=\u001b[39mcheck_circular, allow_nan\u001b[39m=\u001b[39mallow_nan, indent\u001b[39m=\u001b[39mindent,\n\u001b[1;32m    175\u001b[0m         separators\u001b[39m=\u001b[39mseparators,\n\u001b[1;32m    176\u001b[0m         default\u001b[39m=\u001b[39mdefault, sort_keys\u001b[39m=\u001b[39msort_keys, \u001b[39m*\u001b[39m\u001b[39m*\u001b[39mkw)\u001b[39m.\u001b[39miterencode(obj)\n\u001b[1;32m    177\u001b[0m \u001b[39m# could accelerate with writelines in some versions of Python, at\u001b[39;00m\n\u001b[1;32m    178\u001b[0m \u001b[39m# a debuggability cost\u001b[39;00m\n\u001b[0;32m--> 179\u001b[0m \u001b[39mfor\u001b[39;00m chunk \u001b[39min\u001b[39;00m iterable:\n\u001b[1;32m    180\u001b[0m     fp\u001b[39m.\u001b[39mwrite(chunk)\n",
      "File \u001b[0;32m/Applications/anaconda3/envs/kaggle_gameplay/lib/python3.11/json/encoder.py:432\u001b[0m, in \u001b[0;36m_make_iterencode.<locals>._iterencode\u001b[0;34m(o, _current_indent_level)\u001b[0m\n\u001b[1;32m    430\u001b[0m     \u001b[39myield from\u001b[39;00m _iterencode_list(o, _current_indent_level)\n\u001b[1;32m    431\u001b[0m \u001b[39melif\u001b[39;00m \u001b[39misinstance\u001b[39m(o, \u001b[39mdict\u001b[39m):\n\u001b[0;32m--> 432\u001b[0m     \u001b[39myield from\u001b[39;00m _iterencode_dict(o, _current_indent_level)\n\u001b[1;32m    433\u001b[0m \u001b[39melse\u001b[39;00m:\n\u001b[1;32m    434\u001b[0m     \u001b[39mif\u001b[39;00m markers \u001b[39mis\u001b[39;00m \u001b[39mnot\u001b[39;00m \u001b[39mNone\u001b[39;00m:\n",
      "File \u001b[0;32m/Applications/anaconda3/envs/kaggle_gameplay/lib/python3.11/json/encoder.py:406\u001b[0m, in \u001b[0;36m_make_iterencode.<locals>._iterencode_dict\u001b[0;34m(dct, _current_indent_level)\u001b[0m\n\u001b[1;32m    404\u001b[0m         \u001b[39melse\u001b[39;00m:\n\u001b[1;32m    405\u001b[0m             chunks \u001b[39m=\u001b[39m _iterencode(value, _current_indent_level)\n\u001b[0;32m--> 406\u001b[0m         \u001b[39myield from\u001b[39;00m chunks\n\u001b[1;32m    407\u001b[0m \u001b[39mif\u001b[39;00m newline_indent \u001b[39mis\u001b[39;00m \u001b[39mnot\u001b[39;00m \u001b[39mNone\u001b[39;00m:\n\u001b[1;32m    408\u001b[0m     _current_indent_level \u001b[39m-\u001b[39m\u001b[39m=\u001b[39m \u001b[39m1\u001b[39m\n",
      "File \u001b[0;32m/Applications/anaconda3/envs/kaggle_gameplay/lib/python3.11/json/encoder.py:439\u001b[0m, in \u001b[0;36m_make_iterencode.<locals>._iterencode\u001b[0;34m(o, _current_indent_level)\u001b[0m\n\u001b[1;32m    437\u001b[0m         \u001b[39mraise\u001b[39;00m \u001b[39mValueError\u001b[39;00m(\u001b[39m\"\u001b[39m\u001b[39mCircular reference detected\u001b[39m\u001b[39m\"\u001b[39m)\n\u001b[1;32m    438\u001b[0m     markers[markerid] \u001b[39m=\u001b[39m o\n\u001b[0;32m--> 439\u001b[0m o \u001b[39m=\u001b[39m _default(o)\n\u001b[1;32m    440\u001b[0m \u001b[39myield from\u001b[39;00m _iterencode(o, _current_indent_level)\n\u001b[1;32m    441\u001b[0m \u001b[39mif\u001b[39;00m markers \u001b[39mis\u001b[39;00m \u001b[39mnot\u001b[39;00m \u001b[39mNone\u001b[39;00m:\n",
      "File \u001b[0;32m/Applications/anaconda3/envs/kaggle_gameplay/lib/python3.11/json/encoder.py:180\u001b[0m, in \u001b[0;36mJSONEncoder.default\u001b[0;34m(self, o)\u001b[0m\n\u001b[1;32m    161\u001b[0m \u001b[39mdef\u001b[39;00m \u001b[39mdefault\u001b[39m(\u001b[39mself\u001b[39m, o):\n\u001b[1;32m    162\u001b[0m     \u001b[39m\"\"\"Implement this method in a subclass such that it returns\u001b[39;00m\n\u001b[1;32m    163\u001b[0m \u001b[39m    a serializable object for ``o``, or calls the base implementation\u001b[39;00m\n\u001b[1;32m    164\u001b[0m \u001b[39m    (to raise a ``TypeError``).\u001b[39;00m\n\u001b[0;32m   (...)\u001b[0m\n\u001b[1;32m    178\u001b[0m \n\u001b[1;32m    179\u001b[0m \u001b[39m    \"\"\"\u001b[39;00m\n\u001b[0;32m--> 180\u001b[0m     \u001b[39mraise\u001b[39;00m \u001b[39mTypeError\u001b[39;00m(\u001b[39mf\u001b[39m\u001b[39m'\u001b[39m\u001b[39mObject of type \u001b[39m\u001b[39m{\u001b[39;00mo\u001b[39m.\u001b[39m\u001b[39m__class__\u001b[39m\u001b[39m.\u001b[39m\u001b[39m__name__\u001b[39m\u001b[39m}\u001b[39;00m\u001b[39m \u001b[39m\u001b[39m'\u001b[39m\n\u001b[1;32m    181\u001b[0m                     \u001b[39mf\u001b[39m\u001b[39m'\u001b[39m\u001b[39mis not JSON serializable\u001b[39m\u001b[39m'\u001b[39m)\n",
      "\u001b[0;31mTypeError\u001b[0m: Object of type dtype[int64] is not JSON serializable"
     ]
    }
   ],
   "source": [
    "pd.set_option('display.max_rows', 300)\n",
    "dt = df.dtypes.to_dict()\n",
    "dt[0] = 'int64'\n",
    "print(dt)\n",
    "\n",
    "import json\n",
    "with open('dtypes.json', 'w') as fp:\n",
    "    json.dump(dt, fp)"
   ]
  },
  {
   "cell_type": "code",
   "execution_count": null,
   "metadata": {},
   "outputs": [],
   "source": []
  }
 ],
 "metadata": {
  "kernelspec": {
   "display_name": "kaggle_gameplay",
   "language": "python",
   "name": "python3"
  },
  "language_info": {
   "codemirror_mode": {
    "name": "ipython",
    "version": 3
   },
   "file_extension": ".py",
   "mimetype": "text/x-python",
   "name": "python",
   "nbconvert_exporter": "python",
   "pygments_lexer": "ipython3",
   "version": "3.11.3"
  },
  "orig_nbformat": 4
 },
 "nbformat": 4,
 "nbformat_minor": 2
}
