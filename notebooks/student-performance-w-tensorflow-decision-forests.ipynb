{
 "cells": [
  {
   "cell_type": "markdown",
   "metadata": {
    "id": "iCTA6kl3n2O1",
    "pycharm": {
     "name": "#%% md\n"
    }
   },
   "source": [
    "# Student Performance from Game Play Using TensorFlow Decision Forests\n",
    "\n",
    "---\n",
    "\n",
    "This notebook will take you through the steps needed to train a baseline Gradient Boosted Trees Model using TensorFlow Decision Forests on the `Student Performance from Game Play` dataset made available for this competition, to predict if players will answer questions correctly.\n",
    "We will load the data from a CSV file. Roughly, the code will look as follows:\n",
    "\n",
    "```\n",
    "import tensorflow_decision_forests as tfdf\n",
    "import pandas as pd\n",
    "  \n",
    "dataset = pd.read_csv(\"project/dataset.csv\")\n",
    "tf_dataset = tfdf.keras.pd_dataframe_to_tf_dataset(dataset, label=\"my_label\")\n",
    "\n",
    "model = tfdf.keras.GradientBoostedTreesModel()\n",
    "model.fit(tf_dataset)\n",
    "  \n",
    "print(model.summary())\n",
    "```\n",
    "\n",
    "We will also learn how to optimize reading of big datasets, do some feature engineering, data visualization and calculate better results using the F1-score\n",
    "\n",
    "\n",
    "Decision Forests are a family of tree-based models including Random Forests and Gradient Boosted Trees. They are the best place to start when working with tabular data, and will often outperform (or provide a strong baseline) before you begin experimenting with neural networks."
   ]
  },
  {
   "cell_type": "markdown",
   "metadata": {
    "pycharm": {
     "name": "#%% md\n"
    }
   },
   "source": [
    "One of the key aspects of TensorFlow Decision Forests that makes it even more suitable for this competition, particularly given the runtime limitations, is that it has been extensively tested for training and inference on CPUs, making it possible to train it on lower-end machines."
   ]
  },
  {
   "cell_type": "markdown",
   "metadata": {
    "id": "zAXHC6-Tn2O5",
    "pycharm": {
     "name": "#%% md\n"
    }
   },
   "source": [
    "# Import the Required Libraries"
   ]
  },
  {
   "cell_type": "code",
   "execution_count": 1,
   "metadata": {
    "execution": {
     "iopub.execute_input": "2023-04-11T14:09:53.548383Z",
     "iopub.status.busy": "2023-04-11T14:09:53.548001Z",
     "iopub.status.idle": "2023-04-11T14:10:03.418306Z",
     "shell.execute_reply": "2023-04-11T14:10:03.416814Z",
     "shell.execute_reply.started": "2023-04-11T14:09:53.548350Z"
    },
    "id": "IanlX-Eqn2O5",
    "trusted": true,
    "pycharm": {
     "name": "#%%\n"
    }
   },
   "outputs": [
    {
     "name": "stderr",
     "output_type": "stream",
     "text": [
      "2023-05-02 12:14:40.767759: I tensorflow/core/platform/cpu_feature_guard.cc:193] This TensorFlow binary is optimized with oneAPI Deep Neural Network Library (oneDNN) to use the following CPU instructions in performance-critical operations:  AVX2 FMA\n",
      "To enable them in other operations, rebuild TensorFlow with the appropriate compiler flags.\n",
      "/Users/nzuchna/opt/anaconda3/envs/gameplay_kaggel_env/lib/python3.9/site-packages/requests/__init__.py:109: RequestsDependencyWarning: urllib3 (1.26.15) or chardet (None)/charset_normalizer (3.1.0) doesn't match a supported version!\n",
      "  warnings.warn(\n",
      "/Users/nzuchna/opt/anaconda3/envs/gameplay_kaggel_env/lib/python3.9/site-packages/tensorflow_addons/utils/tfa_eol_msg.py:23: UserWarning: \n",
      "\n",
      "TensorFlow Addons (TFA) has ended development and introduction of new features.\n",
      "TFA has entered a minimal maintenance and release mode until a planned end of life in May 2024.\n",
      "Please modify downstream libraries to take dependencies from other repositories in our TensorFlow community (e.g. Keras, Keras-CV, and Keras-NLP). \n",
      "\n",
      "For more information see: https://github.com/tensorflow/addons/issues/2807 \n",
      "\n",
      "  warnings.warn(\n",
      "WARNING:root:TensorFlow Decision Forests 1.2.0 is compatible with the following TensorFlow Versions: ['2.11.0']. However, TensorFlow 2.11.1 was detected. This can cause issues with the TF API and symbols in the custom C++ ops. See the TF and TF-DF compatibility table at https://github.com/tensorflow/decision-forests/blob/main/documentation/known_issues.md#compatibility-table.\n"
     ]
    }
   ],
   "source": [
    "import tensorflow as tf\n",
    "import tensorflow_addons as tfa\n",
    "import tensorflow_decision_forests as tfdf\n",
    "\n",
    "import pandas as pd\n",
    "import numpy as np\n",
    "import matplotlib.pyplot as plt\n",
    "import os"
   ]
  },
  {
   "cell_type": "code",
   "execution_count": 2,
   "metadata": {
    "execution": {
     "iopub.execute_input": "2023-04-11T13:43:31.244392Z",
     "iopub.status.busy": "2023-04-11T13:43:31.243601Z",
     "iopub.status.idle": "2023-04-11T13:43:31.250965Z",
     "shell.execute_reply": "2023-04-11T13:43:31.249810Z",
     "shell.execute_reply.started": "2023-04-11T13:43:31.244354Z"
    },
    "id": "gLpK2yAen2O7",
    "trusted": true,
    "pycharm": {
     "name": "#%%\n"
    }
   },
   "outputs": [
    {
     "name": "stdout",
     "output_type": "stream",
     "text": [
      "TensorFlow Decision Forests v1.2.0\n",
      "TensorFlow Addons v0.20.0\n",
      "TensorFlow v2.11.1\n",
      "Working Directory:  /Users/nzuchna/Desktop/Drive/2. Areas/University/Master-TUC/M2/4_Forschungsmodul/student-performance\n"
     ]
    }
   ],
   "source": [
    "print(\"TensorFlow Decision Forests v\" + tfdf.__version__)\n",
    "print(\"TensorFlow Addons v\" + tfa.__version__)\n",
    "print(\"TensorFlow v\" + tf.__version__)\n",
    "# get working directory and remove last folder\n",
    "wd = os.path.dirname(os.getcwd())\n",
    "os.chdir(wd)\n",
    "print(\"Working Directory: \", os.getcwd())"
   ]
  },
  {
   "cell_type": "markdown",
   "metadata": {
    "id": "22DpLVFLn2O7",
    "pycharm": {
     "name": "#%% md\n"
    }
   },
   "source": [
    "# Load the Dataset\n",
    "\n",
    "Since the dataset is huge, some people may face memory errors while reading the dataset from the csv. To avoid this, we will try to optimize the memory used by Pandas to load and store the dataset.\n",
    "\n",
    "\n",
    "When Pandas loads a dataset, by default, it automatically detects the data types of the different columns.\n",
    "Irresepective of the maximum value that is stored in these columns, Pandas assigns `int64` for numerical columns, `float64` for float columns, `object` dtype for string columns etc.\n",
    "\n",
    "\n",
    "We may be able to reduce the size of these columns in memory by downcasting numerical columns to smaller types (like `int8`, `int32`, `float32` etc.), if their maximum values don't need the larger types for storage, (like `int64`, `float64` etc.).\n",
    "\n",
    "\n",
    "Similarly, Pandas automatically detects string columns as `object` datatype. To reduce memory usage of string columns which store categorical data, we specify their datatype as `category`.\n",
    "\n",
    "\n",
    "Many of the columns in this dataset can be downcast to smaller types.\n",
    "\n",
    "We will provide a dict of `dtypes` for columns to pandas while reading the dataset."
   ]
  },
  {
   "cell_type": "code",
   "execution_count": 3,
   "metadata": {
    "execution": {
     "iopub.execute_input": "2023-04-11T14:10:22.591769Z",
     "iopub.status.busy": "2023-04-11T14:10:22.591365Z",
     "iopub.status.idle": "2023-04-11T14:12:32.862280Z",
     "shell.execute_reply": "2023-04-11T14:12:32.861013Z",
     "shell.execute_reply.started": "2023-04-11T14:10:22.591735Z"
    },
    "id": "_XItl24kn2O7",
    "trusted": true,
    "pycharm": {
     "name": "#%%\n"
    }
   },
   "outputs": [
    {
     "name": "stdout",
     "output_type": "stream",
     "text": [
      "Full train dataset shape is (26296946, 20)\n"
     ]
    }
   ],
   "source": [
    "# Reference: https://www.kaggle.com/competitions/predict-student-performance-from-game-play/discussion/384359\n",
    "dtypes={\n",
    "    'elapsed_time':np.int32,\n",
    "    'event_name':'category',\n",
    "    'name':'category',\n",
    "    'level':np.uint8,\n",
    "    'room_coor_x':np.float32,\n",
    "    'room_coor_y':np.float32,\n",
    "    'screen_coor_x':np.float32,\n",
    "    'screen_coor_y':np.float32,\n",
    "    'hover_duration':np.float32,\n",
    "    'text':'category',\n",
    "    'fqid':'category',\n",
    "    'room_fqid':'category',\n",
    "    'text_fqid':'category',\n",
    "    'fullscreen':'category',\n",
    "    'hq':'category',\n",
    "    'music':'category',\n",
    "    'level_group':'category'}\n",
    "\n",
    "dataset_df = pd.read_csv('data/raw/train.csv', dtype=dtypes)\n",
    "print(\"Full train dataset shape is {}\".format(dataset_df.shape))"
   ]
  },
  {
   "cell_type": "markdown",
   "metadata": {
    "id": "kwJDjr_Rn2O8",
    "pycharm": {
     "name": "#%% md\n"
    }
   },
   "source": [
    "The data is composed of 20 columns and 26296946 entries. We can see all 20 dimensions of our dataset by printing out the first 5 entries using the following code:"
   ]
  },
  {
   "cell_type": "code",
   "execution_count": 4,
   "metadata": {
    "execution": {
     "iopub.execute_input": "2023-04-11T14:20:54.443379Z",
     "iopub.status.busy": "2023-04-11T14:20:54.440847Z",
     "iopub.status.idle": "2023-04-11T14:20:54.495816Z",
     "shell.execute_reply": "2023-04-11T14:20:54.494848Z",
     "shell.execute_reply.started": "2023-04-11T14:20:54.443289Z"
    },
    "id": "-RTRVRiWn2O8",
    "trusted": true,
    "pycharm": {
     "name": "#%%\n"
    }
   },
   "outputs": [
    {
     "data": {
      "text/plain": "          session_id  index  elapsed_time      event_name   name  level  page   \n0  20090312431273200      0             0  cutscene_click  basic      0   NaN  \\\n1  20090312431273200      1          1323    person_click  basic      0   NaN   \n2  20090312431273200      2           831    person_click  basic      0   NaN   \n3  20090312431273200      3          1147    person_click  basic      0   NaN   \n4  20090312431273200      4          1863    person_click  basic      0   NaN   \n\n   room_coor_x  room_coor_y  screen_coor_x  screen_coor_y  hover_duration   \n0  -413.991394  -159.314682          380.0          494.0             NaN  \\\n1  -413.991394  -159.314682          380.0          494.0             NaN   \n2  -413.991394  -159.314682          380.0          494.0             NaN   \n3  -413.991394  -159.314682          380.0          494.0             NaN   \n4  -412.991394  -159.314682          381.0          494.0             NaN   \n\n                            text    fqid                       room_fqid   \n0                      undefined   intro  tunic.historicalsociety.closet  \\\n1  Whatcha doing over there, Jo?  gramps  tunic.historicalsociety.closet   \n2         Just talking to Teddy.  gramps  tunic.historicalsociety.closet   \n3     I gotta run to my meeting!  gramps  tunic.historicalsociety.closet   \n4            Can I come, Gramps?  gramps  tunic.historicalsociety.closet   \n\n                                           text_fqid fullscreen hq music   \n0               tunic.historicalsociety.closet.intro          0  0     1  \\\n1  tunic.historicalsociety.closet.gramps.intro_0_...          0  0     1   \n2  tunic.historicalsociety.closet.gramps.intro_0_...          0  0     1   \n3  tunic.historicalsociety.closet.gramps.intro_0_...          0  0     1   \n4  tunic.historicalsociety.closet.gramps.intro_0_...          0  0     1   \n\n  level_group  \n0         0-4  \n1         0-4  \n2         0-4  \n3         0-4  \n4         0-4  ",
      "text/html": "<div>\n<style scoped>\n    .dataframe tbody tr th:only-of-type {\n        vertical-align: middle;\n    }\n\n    .dataframe tbody tr th {\n        vertical-align: top;\n    }\n\n    .dataframe thead th {\n        text-align: right;\n    }\n</style>\n<table border=\"1\" class=\"dataframe\">\n  <thead>\n    <tr style=\"text-align: right;\">\n      <th></th>\n      <th>session_id</th>\n      <th>index</th>\n      <th>elapsed_time</th>\n      <th>event_name</th>\n      <th>name</th>\n      <th>level</th>\n      <th>page</th>\n      <th>room_coor_x</th>\n      <th>room_coor_y</th>\n      <th>screen_coor_x</th>\n      <th>screen_coor_y</th>\n      <th>hover_duration</th>\n      <th>text</th>\n      <th>fqid</th>\n      <th>room_fqid</th>\n      <th>text_fqid</th>\n      <th>fullscreen</th>\n      <th>hq</th>\n      <th>music</th>\n      <th>level_group</th>\n    </tr>\n  </thead>\n  <tbody>\n    <tr>\n      <th>0</th>\n      <td>20090312431273200</td>\n      <td>0</td>\n      <td>0</td>\n      <td>cutscene_click</td>\n      <td>basic</td>\n      <td>0</td>\n      <td>NaN</td>\n      <td>-413.991394</td>\n      <td>-159.314682</td>\n      <td>380.0</td>\n      <td>494.0</td>\n      <td>NaN</td>\n      <td>undefined</td>\n      <td>intro</td>\n      <td>tunic.historicalsociety.closet</td>\n      <td>tunic.historicalsociety.closet.intro</td>\n      <td>0</td>\n      <td>0</td>\n      <td>1</td>\n      <td>0-4</td>\n    </tr>\n    <tr>\n      <th>1</th>\n      <td>20090312431273200</td>\n      <td>1</td>\n      <td>1323</td>\n      <td>person_click</td>\n      <td>basic</td>\n      <td>0</td>\n      <td>NaN</td>\n      <td>-413.991394</td>\n      <td>-159.314682</td>\n      <td>380.0</td>\n      <td>494.0</td>\n      <td>NaN</td>\n      <td>Whatcha doing over there, Jo?</td>\n      <td>gramps</td>\n      <td>tunic.historicalsociety.closet</td>\n      <td>tunic.historicalsociety.closet.gramps.intro_0_...</td>\n      <td>0</td>\n      <td>0</td>\n      <td>1</td>\n      <td>0-4</td>\n    </tr>\n    <tr>\n      <th>2</th>\n      <td>20090312431273200</td>\n      <td>2</td>\n      <td>831</td>\n      <td>person_click</td>\n      <td>basic</td>\n      <td>0</td>\n      <td>NaN</td>\n      <td>-413.991394</td>\n      <td>-159.314682</td>\n      <td>380.0</td>\n      <td>494.0</td>\n      <td>NaN</td>\n      <td>Just talking to Teddy.</td>\n      <td>gramps</td>\n      <td>tunic.historicalsociety.closet</td>\n      <td>tunic.historicalsociety.closet.gramps.intro_0_...</td>\n      <td>0</td>\n      <td>0</td>\n      <td>1</td>\n      <td>0-4</td>\n    </tr>\n    <tr>\n      <th>3</th>\n      <td>20090312431273200</td>\n      <td>3</td>\n      <td>1147</td>\n      <td>person_click</td>\n      <td>basic</td>\n      <td>0</td>\n      <td>NaN</td>\n      <td>-413.991394</td>\n      <td>-159.314682</td>\n      <td>380.0</td>\n      <td>494.0</td>\n      <td>NaN</td>\n      <td>I gotta run to my meeting!</td>\n      <td>gramps</td>\n      <td>tunic.historicalsociety.closet</td>\n      <td>tunic.historicalsociety.closet.gramps.intro_0_...</td>\n      <td>0</td>\n      <td>0</td>\n      <td>1</td>\n      <td>0-4</td>\n    </tr>\n    <tr>\n      <th>4</th>\n      <td>20090312431273200</td>\n      <td>4</td>\n      <td>1863</td>\n      <td>person_click</td>\n      <td>basic</td>\n      <td>0</td>\n      <td>NaN</td>\n      <td>-412.991394</td>\n      <td>-159.314682</td>\n      <td>381.0</td>\n      <td>494.0</td>\n      <td>NaN</td>\n      <td>Can I come, Gramps?</td>\n      <td>gramps</td>\n      <td>tunic.historicalsociety.closet</td>\n      <td>tunic.historicalsociety.closet.gramps.intro_0_...</td>\n      <td>0</td>\n      <td>0</td>\n      <td>1</td>\n      <td>0-4</td>\n    </tr>\n  </tbody>\n</table>\n</div>"
     },
     "execution_count": 4,
     "metadata": {},
     "output_type": "execute_result"
    }
   ],
   "source": [
    "# Display the first 5 examples\n",
    "dataset_df.head(5)"
   ]
  },
  {
   "cell_type": "markdown",
   "metadata": {
    "id": "ZRZu8V9NpTVN",
    "pycharm": {
     "name": "#%% md\n"
    }
   },
   "source": [
    "Please note that `session_id` uniquely identifies a user session."
   ]
  },
  {
   "cell_type": "markdown",
   "metadata": {
    "id": "ReNY-i3bn2O8",
    "pycharm": {
     "name": "#%% md\n"
    }
   },
   "source": [
    "# Load the labels\n",
    "\n",
    "The labels for the training dataset are stored in the `train_labels.csv`. It consists of the information on whether the user in a particular session answered each question correctly. Load the labels data by running the following code. `"
   ]
  },
  {
   "cell_type": "code",
   "execution_count": 5,
   "metadata": {
    "execution": {
     "iopub.execute_input": "2023-04-11T14:21:38.653150Z",
     "iopub.status.busy": "2023-04-11T14:21:38.652683Z",
     "iopub.status.idle": "2023-04-11T14:21:39.150996Z",
     "shell.execute_reply": "2023-04-11T14:21:39.149727Z",
     "shell.execute_reply.started": "2023-04-11T14:21:38.653109Z"
    },
    "id": "KD4uayl2n2O9",
    "trusted": true,
    "pycharm": {
     "name": "#%%\n"
    }
   },
   "outputs": [],
   "source": [
    "labels = pd.read_csv('data/raw/train_labels.csv')"
   ]
  },
  {
   "cell_type": "markdown",
   "metadata": {
    "id": "SMKh2KAPn2O9",
    "pycharm": {
     "name": "#%% md\n"
    }
   },
   "source": [
    "Each value in the column, `session_id` is a combination of both the session and the question number. \n",
    "We will split these into individual columns for ease of use."
   ]
  },
  {
   "cell_type": "code",
   "execution_count": 6,
   "metadata": {
    "execution": {
     "iopub.execute_input": "2023-04-11T14:21:58.714590Z",
     "iopub.status.busy": "2023-04-11T14:21:58.713303Z",
     "iopub.status.idle": "2023-04-11T14:21:59.500756Z",
     "shell.execute_reply": "2023-04-11T14:21:59.499370Z",
     "shell.execute_reply.started": "2023-04-11T14:21:58.714543Z"
    },
    "id": "Kva8_Dbqn2O9",
    "trusted": true,
    "pycharm": {
     "name": "#%%\n"
    }
   },
   "outputs": [],
   "source": [
    "labels['session'] = labels.session_id.apply(lambda x: int(x.split('_')[0]) )\n",
    "labels['q'] = labels.session_id.apply(lambda x: int(x.split('_')[-1][1:]) )"
   ]
  },
  {
   "cell_type": "markdown",
   "metadata": {
    "id": "0EQFN3vin2O9",
    "pycharm": {
     "name": "#%% md\n"
    }
   },
   "source": [
    " Let us take a look at the first 5 entries of `labels` using the following code:"
   ]
  },
  {
   "cell_type": "code",
   "execution_count": 7,
   "metadata": {
    "execution": {
     "iopub.execute_input": "2023-04-11T14:22:07.124727Z",
     "iopub.status.busy": "2023-04-11T14:22:07.123970Z",
     "iopub.status.idle": "2023-04-11T14:22:07.136480Z",
     "shell.execute_reply": "2023-04-11T14:22:07.135394Z",
     "shell.execute_reply.started": "2023-04-11T14:22:07.124677Z"
    },
    "id": "0eD-KZMvn2O-",
    "trusted": true,
    "pycharm": {
     "name": "#%%\n"
    }
   },
   "outputs": [
    {
     "data": {
      "text/plain": "             session_id  correct            session  q\n0  20090312431273200_q1        1  20090312431273200  1\n1  20090312433251036_q1        0  20090312433251036  1\n2  20090312455206810_q1        1  20090312455206810  1\n3  20090313091715820_q1        0  20090313091715820  1\n4  20090313571836404_q1        1  20090313571836404  1",
      "text/html": "<div>\n<style scoped>\n    .dataframe tbody tr th:only-of-type {\n        vertical-align: middle;\n    }\n\n    .dataframe tbody tr th {\n        vertical-align: top;\n    }\n\n    .dataframe thead th {\n        text-align: right;\n    }\n</style>\n<table border=\"1\" class=\"dataframe\">\n  <thead>\n    <tr style=\"text-align: right;\">\n      <th></th>\n      <th>session_id</th>\n      <th>correct</th>\n      <th>session</th>\n      <th>q</th>\n    </tr>\n  </thead>\n  <tbody>\n    <tr>\n      <th>0</th>\n      <td>20090312431273200_q1</td>\n      <td>1</td>\n      <td>20090312431273200</td>\n      <td>1</td>\n    </tr>\n    <tr>\n      <th>1</th>\n      <td>20090312433251036_q1</td>\n      <td>0</td>\n      <td>20090312433251036</td>\n      <td>1</td>\n    </tr>\n    <tr>\n      <th>2</th>\n      <td>20090312455206810_q1</td>\n      <td>1</td>\n      <td>20090312455206810</td>\n      <td>1</td>\n    </tr>\n    <tr>\n      <th>3</th>\n      <td>20090313091715820_q1</td>\n      <td>0</td>\n      <td>20090313091715820</td>\n      <td>1</td>\n    </tr>\n    <tr>\n      <th>4</th>\n      <td>20090313571836404_q1</td>\n      <td>1</td>\n      <td>20090313571836404</td>\n      <td>1</td>\n    </tr>\n  </tbody>\n</table>\n</div>"
     },
     "execution_count": 7,
     "metadata": {},
     "output_type": "execute_result"
    }
   ],
   "source": [
    "# Display the first 5 examples\n",
    "labels.head(5)"
   ]
  },
  {
   "cell_type": "markdown",
   "metadata": {
    "id": "7rQSOYAYqcZ2",
    "pycharm": {
     "name": "#%% md\n"
    }
   },
   "source": [
    "Our goal is to train models for each question to predict the label `correct` for any input user session. "
   ]
  },
  {
   "cell_type": "markdown",
   "metadata": {
    "id": "JLHAQ1EEn2O-",
    "pycharm": {
     "name": "#%% md\n"
    }
   },
   "source": [
    "# Bar chart for label column: correct"
   ]
  },
  {
   "cell_type": "markdown",
   "metadata": {
    "id": "a-JzBdfen2O-",
    "pycharm": {
     "name": "#%% md\n"
    }
   },
   "source": [
    "First we will plot a bar chart for the values of the label `correct`."
   ]
  },
  {
   "cell_type": "code",
   "execution_count": 8,
   "metadata": {
    "execution": {
     "iopub.execute_input": "2023-04-11T14:22:32.873593Z",
     "iopub.status.busy": "2023-04-11T14:22:32.873134Z",
     "iopub.status.idle": "2023-04-11T14:22:33.131746Z",
     "shell.execute_reply": "2023-04-11T14:22:33.130711Z",
     "shell.execute_reply.started": "2023-04-11T14:22:32.873554Z"
    },
    "id": "-l9wBCTYn2O_",
    "trusted": true,
    "pycharm": {
     "name": "#%%\n"
    }
   },
   "outputs": [
    {
     "data": {
      "text/plain": "<Axes: xlabel='correct'>"
     },
     "execution_count": 8,
     "metadata": {},
     "output_type": "execute_result"
    },
    {
     "data": {
      "text/plain": "<Figure size 300x300 with 1 Axes>",
      "image/png": "[encoded data removed]"
     },
     "metadata": {},
     "output_type": "display_data"
    }
   ],
   "source": [
    "plt.figure(figsize=(3, 3))\n",
    "plot_df = labels.correct.value_counts()\n",
    "plot_df.plot(kind=\"bar\", color=['b', 'c'])"
   ]
  },
  {
   "cell_type": "markdown",
   "metadata": {
    "id": "ghnQfNQin2O_",
    "pycharm": {
     "name": "#%% md\n"
    }
   },
   "source": [
    "Now, let us plot the values of the label column `correct` for each question."
   ]
  },
  {
   "cell_type": "code",
   "execution_count": 9,
   "metadata": {
    "execution": {
     "iopub.execute_input": "2023-04-11T14:22:48.162783Z",
     "iopub.status.busy": "2023-04-11T14:22:48.162389Z",
     "iopub.status.idle": "2023-04-11T14:22:50.428590Z",
     "shell.execute_reply": "2023-04-11T14:22:50.427577Z",
     "shell.execute_reply.started": "2023-04-11T14:22:48.162750Z"
    },
    "id": "X238--97n2O_",
    "trusted": true,
    "pycharm": {
     "name": "#%%\n"
    }
   },
   "outputs": [
    {
     "data": {
      "text/plain": "<Figure size 1000x2000 with 18 Axes>",
      "image/png": "[encoded data removed]"
     },
     "metadata": {},
     "output_type": "display_data"
    }
   ],
   "source": [
    "plt.figure(figsize=(10, 20))\n",
    "plt.subplots_adjust(hspace=0.5, wspace=0.5)\n",
    "plt.suptitle(\"\\\"Correct\\\" column values for each question\", fontsize=14, y=0.94)\n",
    "for n in range(1,19):\n",
    "    #print(n, str(n))\n",
    "    ax = plt.subplot(6, 3, n)\n",
    "\n",
    "    # filter df and plot ticker on the new subplot axis\n",
    "    plot_df = labels.loc[labels.q == n]\n",
    "    plot_df = plot_df.correct.value_counts()\n",
    "    plot_df.plot(ax=ax, kind=\"bar\", color=['b', 'c'])\n",
    "    \n",
    "    # chart formatting\n",
    "    ax.set_title(\"Question \" + str(n))\n",
    "    ax.set_xlabel(\"\")\n"
   ]
  },
  {
   "cell_type": "markdown",
   "metadata": {
    "id": "y5fK05dsn2O_",
    "pycharm": {
     "name": "#%% md\n"
    }
   },
   "source": [
    "# Prepare the dataset\n",
    "\n",
    "As summarized in the competition overview, the dataset presents the questions and data to us in order of `levels - level segments`(represented by column `level_group`) 0-4, 5-12, and 13-22. We have to predict the correctness of each segment's questions as they are presented. To do this we will create basic aggregate features from the relevant columns. You can create more features to boost your scores. \n",
    "\n",
    "First, we will create two separate lists with names of the Categorical columns and Numerical columns. We will avoid columns `fullscreen`, `hq` and `music` since they don't add any useful value for this problem statement."
   ]
  },
  {
   "cell_type": "code",
   "execution_count": 10,
   "metadata": {
    "execution": {
     "iopub.execute_input": "2023-04-11T14:23:53.358071Z",
     "iopub.status.busy": "2023-04-11T14:23:53.357578Z",
     "iopub.status.idle": "2023-04-11T14:23:53.363563Z",
     "shell.execute_reply": "2023-04-11T14:23:53.362389Z",
     "shell.execute_reply.started": "2023-04-11T14:23:53.358029Z"
    },
    "id": "cCZWGiL_n2PA",
    "trusted": true,
    "pycharm": {
     "name": "#%%\n"
    }
   },
   "outputs": [],
   "source": [
    "CATEGORICAL = ['event_name', 'name','fqid', 'room_fqid', 'text_fqid']\n",
    "NUMERICAL = ['elapsed_time','level','page','room_coor_x', 'room_coor_y', \n",
    "        'screen_coor_x', 'screen_coor_y', 'hover_duration']"
   ]
  },
  {
   "cell_type": "markdown",
   "metadata": {
    "id": "Us9sScDSn2PA",
    "pycharm": {
     "name": "#%% md\n"
    }
   },
   "source": [
    "For each categorical column, we will first group the dataset by `session_id`  and `level_group`. We will then count the number of **distinct elements** in the column for each group and store it temporarily.\n",
    "\n",
    "For all numerical columns, we will group the dataset by `session id` and `level_group`. Instead of counting the number of distinct elements, we will calculate the `mean` and `standard deviation` of the numerical column for each group and store it temporarily.\n",
    "\n",
    "After this, we will concatenate the temporary data frames we generated in the earlier step for each column to create our new feature engineered dataset."
   ]
  },
  {
   "cell_type": "code",
   "execution_count": 11,
   "metadata": {
    "execution": {
     "iopub.execute_input": "2023-04-11T14:24:34.807934Z",
     "iopub.status.busy": "2023-04-11T14:24:34.807357Z",
     "iopub.status.idle": "2023-04-11T14:24:34.819191Z",
     "shell.execute_reply": "2023-04-11T14:24:34.818058Z",
     "shell.execute_reply.started": "2023-04-11T14:24:34.807863Z"
    },
    "id": "nHWhAOtTn2PA",
    "trusted": true,
    "pycharm": {
     "name": "#%%\n"
    }
   },
   "outputs": [],
   "source": [
    "# Reference: https://www.kaggle.com/code/cdeotte/random-forest-baseline-0-664/notebook\n",
    "\n",
    "def feature_engineer(dataset_df):\n",
    "    dfs = []\n",
    "    for c in CATEGORICAL:\n",
    "        tmp = dataset_df.groupby(['session_id','level_group'])[c].agg('nunique')\n",
    "        tmp.name = tmp.name + '_nunique'\n",
    "        dfs.append(tmp)\n",
    "    for c in NUMERICAL:\n",
    "        tmp = dataset_df.groupby(['session_id','level_group'])[c].agg('mean')\n",
    "        dfs.append(tmp)\n",
    "    for c in NUMERICAL:\n",
    "        tmp = dataset_df.groupby(['session_id','level_group'])[c].agg('std')\n",
    "        tmp.name = tmp.name + '_std'\n",
    "        dfs.append(tmp)\n",
    "    dataset_df = pd.concat(dfs,axis=1)\n",
    "    dataset_df = dataset_df.fillna(-1)\n",
    "    dataset_df = dataset_df.reset_index()\n",
    "    dataset_df = dataset_df.set_index('session_id')\n",
    "    return dataset_df"
   ]
  },
  {
   "cell_type": "code",
   "execution_count": 12,
   "metadata": {
    "execution": {
     "iopub.execute_input": "2023-04-11T14:28:01.122665Z",
     "iopub.status.busy": "2023-04-11T14:28:01.122096Z",
     "iopub.status.idle": "2023-04-11T14:28:41.731564Z",
     "shell.execute_reply": "2023-04-11T14:28:41.730639Z",
     "shell.execute_reply.started": "2023-04-11T14:28:01.122597Z"
    },
    "id": "JKcoPoemn2PA",
    "trusted": true,
    "pycharm": {
     "name": "#%%\n"
    }
   },
   "outputs": [
    {
     "name": "stdout",
     "output_type": "stream",
     "text": [
      "Full prepared dataset shape is (70686, 22)\n"
     ]
    }
   ],
   "source": [
    "dataset_df = feature_engineer(dataset_df)\n",
    "print(\"Full prepared dataset shape is {}\".format(dataset_df.shape))"
   ]
  },
  {
   "cell_type": "markdown",
   "metadata": {
    "id": "891j7nc1n2PA",
    "pycharm": {
     "name": "#%% md\n"
    }
   },
   "source": [
    "Our feature engineered dataset is composed of 22 columns and 70686 entries. "
   ]
  },
  {
   "cell_type": "markdown",
   "metadata": {
    "id": "Ij7TT3x-n2PB",
    "pycharm": {
     "name": "#%% md\n"
    }
   },
   "source": [
    "# Basic exploration of the prepared dataset"
   ]
  },
  {
   "cell_type": "markdown",
   "metadata": {
    "id": "s1c59fMAn2PB",
    "pycharm": {
     "name": "#%% md\n"
    }
   },
   "source": [
    "Let us print out the first 5 entries using the following code:"
   ]
  },
  {
   "cell_type": "code",
   "execution_count": 13,
   "metadata": {
    "execution": {
     "iopub.execute_input": "2023-04-11T14:36:28.978475Z",
     "iopub.status.busy": "2023-04-11T14:36:28.977997Z",
     "iopub.status.idle": "2023-04-11T14:36:29.013197Z",
     "shell.execute_reply": "2023-04-11T14:36:29.012009Z",
     "shell.execute_reply.started": "2023-04-11T14:36:28.978436Z"
    },
    "id": "mvQEsdV1n2PB",
    "trusted": true,
    "pycharm": {
     "name": "#%%\n"
    }
   },
   "outputs": [
    {
     "data": {
      "text/plain": "                  level_group  event_name_nunique  name_nunique  fqid_nunique   \nsession_id                                                                      \n20090312431273200         0-4                  10             3            30  \\\n20090312431273200       13-22                  10             3            49   \n20090312431273200        5-12                  10             3            39   \n20090312433251036         0-4                  11             4            22   \n20090312433251036       13-22                  11             6            73   \n\n                   room_fqid_nunique  text_fqid_nunique  elapsed_time   \nsession_id                                                              \n20090312431273200                  7                 17  8.579356e+04  \\\n20090312431273200                 12                 35  1.040601e+06   \n20090312431273200                 11                 24  3.572052e+05   \n20090312433251036                  6                 11  9.763342e+04   \n20090312433251036                 16                 43  2.498852e+06   \n\n                       level  page  room_coor_x  ...  screen_coor_y   \nsession_id                                       ...                  \n20090312431273200   1.945455  -1.0     7.701275  ...     383.044861  \\\n20090312431273200  17.402381  -1.0  -130.347168  ...     379.301025   \n20090312431273200   8.054054  -1.0    14.306062  ...     378.784912   \n20090312433251036   1.870504   0.0   -84.045959  ...     370.723083   \n20090312433251036  17.762529   5.1   -30.762283  ...     387.930084   \n\n                   hover_duration  elapsed_time_std  level_std  page_std   \nsession_id                                                                 \n20090312431273200     2389.500000      49246.539458   1.230975 -1.000000  \\\n20090312431273200      899.925903     126666.129584   2.358652 -1.000000   \n20090312431273200      969.333313      80175.676658   2.096919 -1.000000   \n20090312433251036     1378.750000      67372.714092   1.232616  0.000000   \n20090312433251036      720.384949     777382.529186   1.825923  0.863075   \n\n                   room_coor_x_std  room_coor_y_std  screen_coor_x_std   \nsession_id                                                               \n20090312431273200       399.296038       129.292411         214.871000  \\\n20090312431273200       622.061374       230.370874         240.280218   \n20090312431273200       357.227701       137.409476         203.268560   \n20090312433251036       445.980041       156.186242         252.554707   \n20090312433251036       529.575656       234.279590         259.288856   \n\n                   screen_coor_y_std  hover_duration_std  \nsession_id                                                \n20090312431273200         104.082743         3227.370757  \n20090312431273200          99.067861         1305.088265  \n20090312431273200         120.255453         1316.408315  \n20090312433251036         121.062929         2114.876406  \n20090312433251036         133.345693         1990.705518  \n\n[5 rows x 22 columns]",
      "text/html": "<div>\n<style scoped>\n    .dataframe tbody tr th:only-of-type {\n        vertical-align: middle;\n    }\n\n    .dataframe tbody tr th {\n        vertical-align: top;\n    }\n\n    .dataframe thead th {\n        text-align: right;\n    }\n</style>\n<table border=\"1\" class=\"dataframe\">\n  <thead>\n    <tr style=\"text-align: right;\">\n      <th></th>\n      <th>level_group</th>\n      <th>event_name_nunique</th>\n      <th>name_nunique</th>\n      <th>fqid_nunique</th>\n      <th>room_fqid_nunique</th>\n      <th>text_fqid_nunique</th>\n      <th>elapsed_time</th>\n      <th>level</th>\n      <th>page</th>\n      <th>room_coor_x</th>\n      <th>...</th>\n      <th>screen_coor_y</th>\n      <th>hover_duration</th>\n      <th>elapsed_time_std</th>\n      <th>level_std</th>\n      <th>page_std</th>\n      <th>room_coor_x_std</th>\n      <th>room_coor_y_std</th>\n      <th>screen_coor_x_std</th>\n      <th>screen_coor_y_std</th>\n      <th>hover_duration_std</th>\n    </tr>\n    <tr>\n      <th>session_id</th>\n      <th></th>\n      <th></th>\n      <th></th>\n      <th></th>\n      <th></th>\n      <th></th>\n      <th></th>\n      <th></th>\n      <th></th>\n      <th></th>\n      <th></th>\n      <th></th>\n      <th></th>\n      <th></th>\n      <th></th>\n      <th></th>\n      <th></th>\n      <th></th>\n      <th></th>\n      <th></th>\n      <th></th>\n    </tr>\n  </thead>\n  <tbody>\n    <tr>\n      <th>20090312431273200</th>\n      <td>0-4</td>\n      <td>10</td>\n      <td>3</td>\n      <td>30</td>\n      <td>7</td>\n      <td>17</td>\n      <td>8.579356e+04</td>\n      <td>1.945455</td>\n      <td>-1.0</td>\n      <td>7.701275</td>\n      <td>...</td>\n      <td>383.044861</td>\n      <td>2389.500000</td>\n      <td>49246.539458</td>\n      <td>1.230975</td>\n      <td>-1.000000</td>\n      <td>399.296038</td>\n      <td>129.292411</td>\n      <td>214.871000</td>\n      <td>104.082743</td>\n      <td>3227.370757</td>\n    </tr>\n    <tr>\n      <th>20090312431273200</th>\n      <td>13-22</td>\n      <td>10</td>\n      <td>3</td>\n      <td>49</td>\n      <td>12</td>\n      <td>35</td>\n      <td>1.040601e+06</td>\n      <td>17.402381</td>\n      <td>-1.0</td>\n      <td>-130.347168</td>\n      <td>...</td>\n      <td>379.301025</td>\n      <td>899.925903</td>\n      <td>126666.129584</td>\n      <td>2.358652</td>\n      <td>-1.000000</td>\n      <td>622.061374</td>\n      <td>230.370874</td>\n      <td>240.280218</td>\n      <td>99.067861</td>\n      <td>1305.088265</td>\n    </tr>\n    <tr>\n      <th>20090312431273200</th>\n      <td>5-12</td>\n      <td>10</td>\n      <td>3</td>\n      <td>39</td>\n      <td>11</td>\n      <td>24</td>\n      <td>3.572052e+05</td>\n      <td>8.054054</td>\n      <td>-1.0</td>\n      <td>14.306062</td>\n      <td>...</td>\n      <td>378.784912</td>\n      <td>969.333313</td>\n      <td>80175.676658</td>\n      <td>2.096919</td>\n      <td>-1.000000</td>\n      <td>357.227701</td>\n      <td>137.409476</td>\n      <td>203.268560</td>\n      <td>120.255453</td>\n      <td>1316.408315</td>\n    </tr>\n    <tr>\n      <th>20090312433251036</th>\n      <td>0-4</td>\n      <td>11</td>\n      <td>4</td>\n      <td>22</td>\n      <td>6</td>\n      <td>11</td>\n      <td>9.763342e+04</td>\n      <td>1.870504</td>\n      <td>0.0</td>\n      <td>-84.045959</td>\n      <td>...</td>\n      <td>370.723083</td>\n      <td>1378.750000</td>\n      <td>67372.714092</td>\n      <td>1.232616</td>\n      <td>0.000000</td>\n      <td>445.980041</td>\n      <td>156.186242</td>\n      <td>252.554707</td>\n      <td>121.062929</td>\n      <td>2114.876406</td>\n    </tr>\n    <tr>\n      <th>20090312433251036</th>\n      <td>13-22</td>\n      <td>11</td>\n      <td>6</td>\n      <td>73</td>\n      <td>16</td>\n      <td>43</td>\n      <td>2.498852e+06</td>\n      <td>17.762529</td>\n      <td>5.1</td>\n      <td>-30.762283</td>\n      <td>...</td>\n      <td>387.930084</td>\n      <td>720.384949</td>\n      <td>777382.529186</td>\n      <td>1.825923</td>\n      <td>0.863075</td>\n      <td>529.575656</td>\n      <td>234.279590</td>\n      <td>259.288856</td>\n      <td>133.345693</td>\n      <td>1990.705518</td>\n    </tr>\n  </tbody>\n</table>\n<p>5 rows × 22 columns</p>\n</div>"
     },
     "execution_count": 13,
     "metadata": {},
     "output_type": "execute_result"
    }
   ],
   "source": [
    "# Display the first 5 examples\n",
    "dataset_df.head(5)"
   ]
  },
  {
   "cell_type": "code",
   "execution_count": 14,
   "metadata": {
    "execution": {
     "iopub.execute_input": "2023-04-11T14:36:50.991295Z",
     "iopub.status.busy": "2023-04-11T14:36:50.990530Z",
     "iopub.status.idle": "2023-04-11T14:36:51.133687Z",
     "shell.execute_reply": "2023-04-11T14:36:51.132427Z",
     "shell.execute_reply.started": "2023-04-11T14:36:50.991246Z"
    },
    "id": "DRusg-N1n2PB",
    "trusted": true,
    "pycharm": {
     "name": "#%%\n"
    }
   },
   "outputs": [
    {
     "data": {
      "text/plain": "       event_name_nunique  name_nunique  fqid_nunique  room_fqid_nunique   \ncount        70686.000000  70686.000000  70686.000000       70686.000000  \\\nmean            10.390021      3.885324     40.468650          10.268908   \nstd              0.832923      0.799293     13.020929           2.928351   \nmin              7.000000      3.000000     18.000000           5.000000   \n25%             10.000000      3.000000     25.000000           7.000000   \n50%             11.000000      4.000000     43.000000          11.000000   \n75%             11.000000      4.000000     51.000000          12.000000   \nmax             11.000000      6.000000     81.000000          17.000000   \n\n       text_fqid_nunique  elapsed_time         level          page   \ncount       70686.000000  7.068600e+04  70686.000000  70686.000000  \\\nmean           23.838412  2.811806e+06      9.311221      1.439995   \nstd             8.989095  2.289877e+07      6.523788      2.350494   \nmin             8.000000  4.591262e+02      0.923372     -1.000000   \n25%            15.000000  1.642777e+05      2.051613     -1.000000   \n50%            23.000000  5.882137e+05      8.140526      1.000000   \n75%            32.000000  1.351434e+06     17.592593      4.000000   \nmax            48.000000  1.191886e+09     20.222101      6.000000   \n\n        room_coor_x   room_coor_y  ...  screen_coor_y  hover_duration   \ncount  70686.000000  70686.000000  ...   70686.000000    7.068600e+04  \\\nmean     -33.454849    -92.222832  ...     379.749146    4.119625e+03   \nstd       80.784378     69.349052  ...      36.971046    1.394260e+05   \nmin     -461.440765   -409.231293  ...     177.051849   -1.000000e+00   \n25%      -90.615677   -151.717484  ...     358.117455    9.709706e+02   \n50%      -20.255625    -71.538723  ...     377.843857    1.427761e+03   \n75%       23.220109    -38.693486  ...     397.018394    2.158794e+03   \nmax      328.096100    160.347977  ...     986.192993    2.772298e+07   \n\n       elapsed_time_std     level_std      page_std  room_coor_x_std   \ncount      7.068600e+04  70686.000000  70686.000000     70686.000000  \\\nmean       9.322398e+05      1.916549      0.038805       468.689088   \nstd        1.206491e+07      0.492239      0.785170       106.991644   \nmin        2.337003e+02      0.684670     -1.000000       261.425412   \n25%        8.240024e+04      1.295298     -1.000000       381.066225   \n50%        1.440869e+05      2.099711      0.000000       431.901352   \n75%        2.240529e+05      2.316163      0.735893       585.347609   \nmax        9.946229e+08      3.580235      2.715695       817.257133   \n\n       room_coor_y_std  screen_coor_x_std  screen_coor_y_std   \ncount     70686.000000       70686.000000       70686.000000  \\\nmean        183.186301         240.795420         124.016602   \nstd          48.884988          28.709135          15.844603   \nmin          90.098533         109.415466          68.257406   \n25%         143.588600         222.569734         113.994303   \n50%         162.941973         238.383832         122.388964   \n75%         233.385259         255.083349         132.067430   \nmax         349.049304         612.958607         331.833790   \n\n       hover_duration_std  \ncount        7.068600e+04  \nmean         1.322598e+04  \nstd          4.868272e+05  \nmin         -1.000000e+00  \n25%          1.368802e+03  \n50%          2.041432e+03  \n75%          3.105588e+03  \nmax          7.837739e+07  \n\n[8 rows x 21 columns]",
      "text/html": "<div>\n<style scoped>\n    .dataframe tbody tr th:only-of-type {\n        vertical-align: middle;\n    }\n\n    .dataframe tbody tr th {\n        vertical-align: top;\n    }\n\n    .dataframe thead th {\n        text-align: right;\n    }\n</style>\n<table border=\"1\" class=\"dataframe\">\n  <thead>\n    <tr style=\"text-align: right;\">\n      <th></th>\n      <th>event_name_nunique</th>\n      <th>name_nunique</th>\n      <th>fqid_nunique</th>\n      <th>room_fqid_nunique</th>\n      <th>text_fqid_nunique</th>\n      <th>elapsed_time</th>\n      <th>level</th>\n      <th>page</th>\n      <th>room_coor_x</th>\n      <th>room_coor_y</th>\n      <th>...</th>\n      <th>screen_coor_y</th>\n      <th>hover_duration</th>\n      <th>elapsed_time_std</th>\n      <th>level_std</th>\n      <th>page_std</th>\n      <th>room_coor_x_std</th>\n      <th>room_coor_y_std</th>\n      <th>screen_coor_x_std</th>\n      <th>screen_coor_y_std</th>\n      <th>hover_duration_std</th>\n    </tr>\n  </thead>\n  <tbody>\n    <tr>\n      <th>count</th>\n      <td>70686.000000</td>\n      <td>70686.000000</td>\n      <td>70686.000000</td>\n      <td>70686.000000</td>\n      <td>70686.000000</td>\n      <td>7.068600e+04</td>\n      <td>70686.000000</td>\n      <td>70686.000000</td>\n      <td>70686.000000</td>\n      <td>70686.000000</td>\n      <td>...</td>\n      <td>70686.000000</td>\n      <td>7.068600e+04</td>\n      <td>7.068600e+04</td>\n      <td>70686.000000</td>\n      <td>70686.000000</td>\n      <td>70686.000000</td>\n      <td>70686.000000</td>\n      <td>70686.000000</td>\n      <td>70686.000000</td>\n      <td>7.068600e+04</td>\n    </tr>\n    <tr>\n      <th>mean</th>\n      <td>10.390021</td>\n      <td>3.885324</td>\n      <td>40.468650</td>\n      <td>10.268908</td>\n      <td>23.838412</td>\n      <td>2.811806e+06</td>\n      <td>9.311221</td>\n      <td>1.439995</td>\n      <td>-33.454849</td>\n      <td>-92.222832</td>\n      <td>...</td>\n      <td>379.749146</td>\n      <td>4.119625e+03</td>\n      <td>9.322398e+05</td>\n      <td>1.916549</td>\n      <td>0.038805</td>\n      <td>468.689088</td>\n      <td>183.186301</td>\n      <td>240.795420</td>\n      <td>124.016602</td>\n      <td>1.322598e+04</td>\n    </tr>\n    <tr>\n      <th>std</th>\n      <td>0.832923</td>\n      <td>0.799293</td>\n      <td>13.020929</td>\n      <td>2.928351</td>\n      <td>8.989095</td>\n      <td>2.289877e+07</td>\n      <td>6.523788</td>\n      <td>2.350494</td>\n      <td>80.784378</td>\n      <td>69.349052</td>\n      <td>...</td>\n      <td>36.971046</td>\n      <td>1.394260e+05</td>\n      <td>1.206491e+07</td>\n      <td>0.492239</td>\n      <td>0.785170</td>\n      <td>106.991644</td>\n      <td>48.884988</td>\n      <td>28.709135</td>\n      <td>15.844603</td>\n      <td>4.868272e+05</td>\n    </tr>\n    <tr>\n      <th>min</th>\n      <td>7.000000</td>\n      <td>3.000000</td>\n      <td>18.000000</td>\n      <td>5.000000</td>\n      <td>8.000000</td>\n      <td>4.591262e+02</td>\n      <td>0.923372</td>\n      <td>-1.000000</td>\n      <td>-461.440765</td>\n      <td>-409.231293</td>\n      <td>...</td>\n      <td>177.051849</td>\n      <td>-1.000000e+00</td>\n      <td>2.337003e+02</td>\n      <td>0.684670</td>\n      <td>-1.000000</td>\n      <td>261.425412</td>\n      <td>90.098533</td>\n      <td>109.415466</td>\n      <td>68.257406</td>\n      <td>-1.000000e+00</td>\n    </tr>\n    <tr>\n      <th>25%</th>\n      <td>10.000000</td>\n      <td>3.000000</td>\n      <td>25.000000</td>\n      <td>7.000000</td>\n      <td>15.000000</td>\n      <td>1.642777e+05</td>\n      <td>2.051613</td>\n      <td>-1.000000</td>\n      <td>-90.615677</td>\n      <td>-151.717484</td>\n      <td>...</td>\n      <td>358.117455</td>\n      <td>9.709706e+02</td>\n      <td>8.240024e+04</td>\n      <td>1.295298</td>\n      <td>-1.000000</td>\n      <td>381.066225</td>\n      <td>143.588600</td>\n      <td>222.569734</td>\n      <td>113.994303</td>\n      <td>1.368802e+03</td>\n    </tr>\n    <tr>\n      <th>50%</th>\n      <td>11.000000</td>\n      <td>4.000000</td>\n      <td>43.000000</td>\n      <td>11.000000</td>\n      <td>23.000000</td>\n      <td>5.882137e+05</td>\n      <td>8.140526</td>\n      <td>1.000000</td>\n      <td>-20.255625</td>\n      <td>-71.538723</td>\n      <td>...</td>\n      <td>377.843857</td>\n      <td>1.427761e+03</td>\n      <td>1.440869e+05</td>\n      <td>2.099711</td>\n      <td>0.000000</td>\n      <td>431.901352</td>\n      <td>162.941973</td>\n      <td>238.383832</td>\n      <td>122.388964</td>\n      <td>2.041432e+03</td>\n    </tr>\n    <tr>\n      <th>75%</th>\n      <td>11.000000</td>\n      <td>4.000000</td>\n      <td>51.000000</td>\n      <td>12.000000</td>\n      <td>32.000000</td>\n      <td>1.351434e+06</td>\n      <td>17.592593</td>\n      <td>4.000000</td>\n      <td>23.220109</td>\n      <td>-38.693486</td>\n      <td>...</td>\n      <td>397.018394</td>\n      <td>2.158794e+03</td>\n      <td>2.240529e+05</td>\n      <td>2.316163</td>\n      <td>0.735893</td>\n      <td>585.347609</td>\n      <td>233.385259</td>\n      <td>255.083349</td>\n      <td>132.067430</td>\n      <td>3.105588e+03</td>\n    </tr>\n    <tr>\n      <th>max</th>\n      <td>11.000000</td>\n      <td>6.000000</td>\n      <td>81.000000</td>\n      <td>17.000000</td>\n      <td>48.000000</td>\n      <td>1.191886e+09</td>\n      <td>20.222101</td>\n      <td>6.000000</td>\n      <td>328.096100</td>\n      <td>160.347977</td>\n      <td>...</td>\n      <td>986.192993</td>\n      <td>2.772298e+07</td>\n      <td>9.946229e+08</td>\n      <td>3.580235</td>\n      <td>2.715695</td>\n      <td>817.257133</td>\n      <td>349.049304</td>\n      <td>612.958607</td>\n      <td>331.833790</td>\n      <td>7.837739e+07</td>\n    </tr>\n  </tbody>\n</table>\n<p>8 rows × 21 columns</p>\n</div>"
     },
     "execution_count": 14,
     "metadata": {},
     "output_type": "execute_result"
    }
   ],
   "source": [
    "dataset_df.describe()"
   ]
  },
  {
   "cell_type": "markdown",
   "metadata": {
    "id": "xboIq9oDn2PB",
    "pycharm": {
     "name": "#%% md\n"
    }
   },
   "source": [
    "# Numerical data distribution¶\n",
    "\n",
    "Let us plot some numerical columns and their value against each level_group:"
   ]
  },
  {
   "cell_type": "code",
   "execution_count": 15,
   "metadata": {
    "execution": {
     "iopub.execute_input": "2023-04-11T14:37:01.585060Z",
     "iopub.status.busy": "2023-04-11T14:37:01.584599Z",
     "iopub.status.idle": "2023-04-11T14:37:04.219929Z",
     "shell.execute_reply": "2023-04-11T14:37:04.218926Z",
     "shell.execute_reply.started": "2023-04-11T14:37:01.585021Z"
    },
    "id": "mXIiaq_bn2PC",
    "trusted": true,
    "pycharm": {
     "name": "#%%\n"
    }
   },
   "outputs": [
    {
     "data": {
      "text/plain": "<Figure size 1000x1000 with 6 Axes>",
      "image/png": "[encoded data removed]"
     },
     "metadata": {},
     "output_type": "display_data"
    }
   ],
   "source": [
    "figure, axis = plt.subplots(3, 2, figsize=(10, 10))\n",
    "\n",
    "for name, data in dataset_df.groupby('level_group'):\n",
    "    axis[0, 0].plot(range(1, len(data['room_coor_x_std'])+1), data['room_coor_x_std'], label=name)\n",
    "    axis[0, 1].plot(range(1, len(data['room_coor_y_std'])+1), data['room_coor_y_std'], label=name)\n",
    "    axis[1, 0].plot(range(1, len(data['screen_coor_x_std'])+1), data['screen_coor_x_std'], label=name)\n",
    "    axis[1, 1].plot(range(1, len(data['screen_coor_y_std'])+1), data['screen_coor_y_std'], label=name)\n",
    "    axis[2, 0].plot(range(1, len(data['hover_duration'])+1), data['hover_duration_std'], label=name)\n",
    "    axis[2, 1].plot(range(1, len(data['elapsed_time_std'])+1), data['elapsed_time_std'], label=name)\n",
    "    \n",
    "\n",
    "axis[0, 0].set_title('room_coor_x')\n",
    "axis[0, 1].set_title('room_coor_y')\n",
    "axis[1, 0].set_title('screen_coor_x')\n",
    "axis[1, 1].set_title('screen_coor_y')\n",
    "axis[2, 0].set_title('hover_duration')\n",
    "axis[2, 1].set_title('elapsed_time_std')\n",
    "\n",
    "for i in range(3):\n",
    "    axis[i, 0].legend()\n",
    "    axis[i, 1].legend()\n",
    "\n",
    "plt.show()"
   ]
  },
  {
   "cell_type": "markdown",
   "metadata": {
    "id": "W0ex_Jkln2PC",
    "pycharm": {
     "name": "#%% md\n"
    }
   },
   "source": [
    "Now let us split the dataset into training and testing datasets:"
   ]
  },
  {
   "cell_type": "code",
   "execution_count": 16,
   "metadata": {
    "execution": {
     "iopub.execute_input": "2023-04-11T14:37:26.701142Z",
     "iopub.status.busy": "2023-04-11T14:37:26.700647Z",
     "iopub.status.idle": "2023-04-11T14:37:26.776067Z",
     "shell.execute_reply": "2023-04-11T14:37:26.775080Z",
     "shell.execute_reply.started": "2023-04-11T14:37:26.701099Z"
    },
    "id": "OZfTcCJfn2PC",
    "trusted": true,
    "pycharm": {
     "name": "#%%\n"
    }
   },
   "outputs": [
    {
     "name": "stdout",
     "output_type": "stream",
     "text": [
      "56547 examples in training, 14139 examples in testing.\n"
     ]
    }
   ],
   "source": [
    "def split_dataset(dataset, test_ratio=0.20):\n",
    "    USER_LIST = dataset_df.index.unique()\n",
    "    split = int(len(USER_LIST) * (1 - 0.20))\n",
    "    return dataset.loc[USER_LIST[:split]], dataset.loc[USER_LIST[split:]]\n",
    "\n",
    "train_x, valid_x = split_dataset(dataset_df)\n",
    "print(\"{} examples in training, {} examples in testing.\".format(\n",
    "    len(train_x), len(valid_x)))"
   ]
  },
  {
   "cell_type": "markdown",
   "metadata": {
    "id": "ZnVfKZfzn2PE",
    "pycharm": {
     "name": "#%% md\n"
    }
   },
   "source": [
    "# Select a Model\n",
    "There are several tree-based models for you to choose from.\n",
    "\n",
    "- RandomForestModel\n",
    "- GradientBoostedTreesModel\n",
    "- CartModel\n",
    "- DistributedGradientBoostedTreesModel\n",
    "\n",
    "We can list all the available models in TensorFlow Decision Forests using the following code:"
   ]
  },
  {
   "cell_type": "code",
   "execution_count": 17,
   "metadata": {
    "execution": {
     "iopub.execute_input": "2023-04-11T14:39:52.752683Z",
     "iopub.status.busy": "2023-04-11T14:39:52.752222Z",
     "iopub.status.idle": "2023-04-11T14:39:52.759995Z",
     "shell.execute_reply": "2023-04-11T14:39:52.758877Z",
     "shell.execute_reply.started": "2023-04-11T14:39:52.752645Z"
    },
    "id": "KZBdcVU1n2PE",
    "trusted": true,
    "pycharm": {
     "name": "#%%\n"
    }
   },
   "outputs": [
    {
     "data": {
      "text/plain": "[tensorflow_decision_forests.keras.RandomForestModel,\n tensorflow_decision_forests.keras.GradientBoostedTreesModel,\n tensorflow_decision_forests.keras.CartModel,\n tensorflow_decision_forests.keras.DistributedGradientBoostedTreesModel]"
     },
     "execution_count": 17,
     "metadata": {},
     "output_type": "execute_result"
    }
   ],
   "source": [
    "tfdf.keras.get_all_models()"
   ]
  },
  {
   "cell_type": "markdown",
   "metadata": {
    "id": "cPJ0fJtsWEKI",
    "pycharm": {
     "name": "#%% md\n"
    }
   },
   "source": [
    "To get started, we'll work with a Gradient Boosted Trees Model. This is one of the well-known Decision Forest training algorithms.\n",
    "\n",
    "A Gradient Boosted Decision Tree is a set of shallow decision trees trained sequentially. Each tree is trained to predict and then \"correct\" for the errors of the previously trained trees."
   ]
  },
  {
   "cell_type": "markdown",
   "metadata": {
    "id": "TbIeh3-En2PE",
    "pycharm": {
     "name": "#%% md\n"
    }
   },
   "source": [
    "# How can I configure a tree-based model?\n",
    "\n",
    "TensorFlow Decision Forests provides good defaults for you (e.g., the top ranking hyperparameters on our benchmarks, slightly modified to run in reasonable time). If you would like to configure the learning algorithm, you will find many options you can explore to get the highest possible accuracy.\n",
    "\n",
    "You can select a template and/or set parameters as follows:\n",
    "```\n",
    "rf = tfdf.keras.GradientBoostedTreesModel(hyperparameter_template=\"benchmark_rank1\")\n",
    "```\n",
    "\n",
    "You can read more [here](https://www.tensorflow.org/decision_forests/api_docs/python/tfdf/keras/GradientBoostedTreesModel)."
   ]
  },
  {
   "cell_type": "markdown",
   "metadata": {
    "id": "UdibIrM-XP5-",
    "pycharm": {
     "name": "#%% md\n"
    }
   },
   "source": [
    "# Training"
   ]
  },
  {
   "cell_type": "markdown",
   "metadata": {
    "id": "BtkKMa7sXd65",
    "pycharm": {
     "name": "#%% md\n"
    }
   },
   "source": [
    "\n",
    "We will train a model for each question to predict if the question will be answered correctly by a user. \n",
    "There are a total of 18 questions in the dataset. Hence, we will be training 18 models, one for each question.\n",
    "\n",
    "We need to provide a few data structures to our training loop to store the trained models, predictions on the validation set and evaluation scores for the trained models.\n",
    "\n",
    "We will create these using the following code:\n"
   ]
  },
  {
   "cell_type": "code",
   "execution_count": 18,
   "metadata": {
    "execution": {
     "iopub.execute_input": "2023-04-11T14:42:04.472577Z",
     "iopub.status.busy": "2023-04-11T14:42:04.472171Z",
     "iopub.status.idle": "2023-04-11T14:42:04.481095Z",
     "shell.execute_reply": "2023-04-11T14:42:04.479771Z",
     "shell.execute_reply.started": "2023-04-11T14:42:04.472544Z"
    },
    "id": "7Brds67Wn2PD",
    "trusted": true,
    "pycharm": {
     "name": "#%%\n"
    }
   },
   "outputs": [],
   "source": [
    "# Fetch the unique list of user sessions in the validation dataset. We assigned \n",
    "# `session_id` as the index of our feature engineered dataset. Hence fetching \n",
    "# the unique values in the index column will give us a list of users in the \n",
    "# validation set.\n",
    "VALID_USER_LIST = valid_x.index.unique()\n",
    "\n",
    "# Create a dataframe for storing the predictions of each question for all users\n",
    "# in the validation set.\n",
    "# For this, the required size of the data frame is: \n",
    "# (no: of users in validation set  x no of questions).\n",
    "# We will initialize all the predicted values in the data frame to zero.\n",
    "# The dataframe's index column is the user `session_id`s. \n",
    "prediction_df = pd.DataFrame(data=np.zeros((len(VALID_USER_LIST),18)), index=VALID_USER_LIST)\n",
    "\n",
    "# Create an empty dictionary to store the models created for each question.\n",
    "models = {}\n",
    "\n",
    "# Create an empty dictionary to store the evaluation score for each question.\n",
    "evaluation_dict ={}"
   ]
  },
  {
   "cell_type": "markdown",
   "metadata": {
    "id": "p1GoOMRHn2PF",
    "pycharm": {
     "name": "#%% md\n"
    }
   },
   "source": [
    "Before training the data we have to understand how `level_groups` and `questions` are associated to each other.\n",
    "\n",
    "In this game the first quiz checkpoint(i.e., questions 1 to 3) comes after finishing levels 0 to 4. So for training questions 1 to 3 we will use data from the `level_group` 0-4. Similarly, we will use data from the `level_group` 5-12 to train questions from 4 to 13 and data from the `level_group` 13-22 to train questions from 14 to 18.\n",
    "\n",
    "We will train a model for each question and store the trained model in the `models` dict."
   ]
  },
  {
   "cell_type": "code",
   "execution_count": 19,
   "metadata": {
    "execution": {
     "iopub.execute_input": "2023-04-11T14:47:02.725339Z",
     "iopub.status.busy": "2023-04-11T14:47:02.724880Z",
     "iopub.status.idle": "2023-04-11T14:49:42.576258Z",
     "shell.execute_reply": "2023-04-11T14:49:42.574741Z",
     "shell.execute_reply.started": "2023-04-11T14:47:02.725303Z"
    },
    "id": "VBO3VCOJn2PF",
    "trusted": true,
    "pycharm": {
     "name": "#%%\n"
    }
   },
   "outputs": [
    {
     "name": "stdout",
     "output_type": "stream",
     "text": [
      "### q_no 1 grp 0-4\n"
     ]
    },
    {
     "name": "stderr",
     "output_type": "stream",
     "text": [
      "/var/folders/k7/hb72kbf512b39m7j022dflph0000gp/T/ipykernel_10534/2940252066.py:23: SettingWithCopyWarning: \n",
      "A value is trying to be set on a copy of a slice from a DataFrame.\n",
      "Try using .loc[row_indexer,col_indexer] = value instead\n",
      "\n",
      "See the caveats in the documentation: https://pandas.pydata.org/pandas-docs/stable/user_guide/indexing.html#returning-a-view-versus-a-copy\n",
      "  train_df[\"correct\"] = train_labels[\"correct\"]\n",
      "/var/folders/k7/hb72kbf512b39m7j022dflph0000gp/T/ipykernel_10534/2940252066.py:24: SettingWithCopyWarning: \n",
      "A value is trying to be set on a copy of a slice from a DataFrame.\n",
      "Try using .loc[row_indexer,col_indexer] = value instead\n",
      "\n",
      "See the caveats in the documentation: https://pandas.pydata.org/pandas-docs/stable/user_guide/indexing.html#returning-a-view-versus-a-copy\n",
      "  valid_df[\"correct\"] = valid_labels[\"correct\"]\n"
     ]
    },
    {
     "name": "stdout",
     "output_type": "stream",
     "text": [
      "WARNING:tensorflow:From /Users/nzuchna/opt/anaconda3/envs/gameplay_kaggel_env/lib/python3.9/site-packages/tensorflow/python/autograph/pyct/static_analysis/liveness.py:83: Analyzer.lamba_check (from tensorflow.python.autograph.pyct.static_analysis.liveness) is deprecated and will be removed after 2023-09-23.\n",
      "Instructions for updating:\n",
      "Lambda fuctions will be no more assumed to be used in the statement where they are used, or at least in the same block. https://github.com/tensorflow/tensorflow/issues/56089\n"
     ]
    },
    {
     "name": "stderr",
     "output_type": "stream",
     "text": [
      "WARNING:tensorflow:From /Users/nzuchna/opt/anaconda3/envs/gameplay_kaggel_env/lib/python3.9/site-packages/tensorflow/python/autograph/pyct/static_analysis/liveness.py:83: Analyzer.lamba_check (from tensorflow.python.autograph.pyct.static_analysis.liveness) is deprecated and will be removed after 2023-09-23.\n",
      "Instructions for updating:\n",
      "Lambda fuctions will be no more assumed to be used in the statement where they are used, or at least in the same block. https://github.com/tensorflow/tensorflow/issues/56089\n",
      "2023-05-02 12:17:11.820746: W external/ydf/yggdrasil_decision_forests/learner/gradient_boosted_trees/gradient_boosted_trees.cc:1790] \"goss_alpha\" set but \"sampling_method\" not equal to \"GOSS\".\n",
      "2023-05-02 12:17:11.820768: W external/ydf/yggdrasil_decision_forests/learner/gradient_boosted_trees/gradient_boosted_trees.cc:1800] \"goss_beta\" set but \"sampling_method\" not equal to \"GOSS\".\n",
      "2023-05-02 12:17:11.820774: W external/ydf/yggdrasil_decision_forests/learner/gradient_boosted_trees/gradient_boosted_trees.cc:1814] \"selective_gradient_boosting_ratio\" set but \"sampling_method\" not equal to \"SELGB\".\n",
      "[INFO 2023-05-02T12:17:13.651132+02:00 kernel.cc:1214] Loading model from path /var/folders/k7/hb72kbf512b39m7j022dflph0000gp/T/tmpjth3hm_j/model/ with prefix 47de632366e443f0\n",
      "[INFO 2023-05-02T12:17:13.674492+02:00 quick_scorer_extended.cc:873] The binary was compiled without AVX2 support, but your CPU supports it. Enable it for faster model inference.\n",
      "[INFO 2023-05-02T12:17:13.679969+02:00 abstract_model.cc:1312] Engine \"GradientBoostedTreesQuickScorerExtended\" built\n",
      "[INFO 2023-05-02T12:17:13.680042+02:00 kernel.cc:1046] Use fast generic engine\n"
     ]
    },
    {
     "name": "stdout",
     "output_type": "stream",
     "text": [
      "WARNING:tensorflow:AutoGraph could not transform <function simple_ml_inference_op_with_handle at 0x7f7fef318550> and will run it as-is.\n",
      "Please report this to the TensorFlow team. When filing the bug, set the verbosity to 10 (on Linux, `export AUTOGRAPH_VERBOSITY=10`) and attach the full output.\n",
      "Cause: could not get source code\n",
      "To silence this warning, decorate the function with @tf.autograph.experimental.do_not_convert\n"
     ]
    },
    {
     "name": "stderr",
     "output_type": "stream",
     "text": [
      "WARNING:tensorflow:AutoGraph could not transform <function simple_ml_inference_op_with_handle at 0x7f7fef318550> and will run it as-is.\n",
      "Please report this to the TensorFlow team. When filing the bug, set the verbosity to 10 (on Linux, `export AUTOGRAPH_VERBOSITY=10`) and attach the full output.\n",
      "Cause: could not get source code\n",
      "To silence this warning, decorate the function with @tf.autograph.experimental.do_not_convert\n"
     ]
    },
    {
     "name": "stdout",
     "output_type": "stream",
     "text": [
      "WARNING: AutoGraph could not transform <function simple_ml_inference_op_with_handle at 0x7f7fef318550> and will run it as-is.\n",
      "Please report this to the TensorFlow team. When filing the bug, set the verbosity to 10 (on Linux, `export AUTOGRAPH_VERBOSITY=10`) and attach the full output.\n",
      "Cause: could not get source code\n",
      "To silence this warning, decorate the function with @tf.autograph.experimental.do_not_convert\n",
      "5/5 [==============================] - 0s 16ms/step - loss: 0.0000e+00 - accuracy: 0.7286\n",
      "5/5 [==============================] - 0s 19ms/step\n",
      "### q_no 2 grp 0-4\n"
     ]
    },
    {
     "name": "stderr",
     "output_type": "stream",
     "text": [
      "/var/folders/k7/hb72kbf512b39m7j022dflph0000gp/T/ipykernel_10534/2940252066.py:23: SettingWithCopyWarning: \n",
      "A value is trying to be set on a copy of a slice from a DataFrame.\n",
      "Try using .loc[row_indexer,col_indexer] = value instead\n",
      "\n",
      "See the caveats in the documentation: https://pandas.pydata.org/pandas-docs/stable/user_guide/indexing.html#returning-a-view-versus-a-copy\n",
      "  train_df[\"correct\"] = train_labels[\"correct\"]\n",
      "/var/folders/k7/hb72kbf512b39m7j022dflph0000gp/T/ipykernel_10534/2940252066.py:24: SettingWithCopyWarning: \n",
      "A value is trying to be set on a copy of a slice from a DataFrame.\n",
      "Try using .loc[row_indexer,col_indexer] = value instead\n",
      "\n",
      "See the caveats in the documentation: https://pandas.pydata.org/pandas-docs/stable/user_guide/indexing.html#returning-a-view-versus-a-copy\n",
      "  valid_df[\"correct\"] = valid_labels[\"correct\"]\n",
      "2023-05-02 12:17:16.492036: W external/ydf/yggdrasil_decision_forests/learner/gradient_boosted_trees/gradient_boosted_trees.cc:1790] \"goss_alpha\" set but \"sampling_method\" not equal to \"GOSS\".\n",
      "2023-05-02 12:17:16.492066: W external/ydf/yggdrasil_decision_forests/learner/gradient_boosted_trees/gradient_boosted_trees.cc:1800] \"goss_beta\" set but \"sampling_method\" not equal to \"GOSS\".\n",
      "2023-05-02 12:17:16.492071: W external/ydf/yggdrasil_decision_forests/learner/gradient_boosted_trees/gradient_boosted_trees.cc:1814] \"selective_gradient_boosting_ratio\" set but \"sampling_method\" not equal to \"SELGB\".\n",
      "2023-05-02 12:17:17.474133: W external/ydf/yggdrasil_decision_forests/learner/gradient_boosted_trees/gradient_boosted_trees.cc:267] The best validation loss was obtained during iteration 10. This is the first step during which a validation loss was computed, hence the validation loss might still have been unstable and not optimal. Following are examples of hyper-parameter changes that might help with the situation. Try them in order: (1) Decrease the 'shrinkage rate' parameter (default value of 0.1). For example divide its value by 2. (2) Decrease the 'num_candidate_attributes_ratio' hyper-parameter (default value of 1) by 80%. (3) Increase the early_stopping_num_trees_look_ahead parameter (e.g., try multiplying it by a factor of 2). (4) Use a more expensive but stable version of early stopping with 'early_stopping=MIN_LOSS_FINAL'. (4) Disable early stopping completely with 'early_stopping=NONE'.\n",
      "[INFO 2023-05-02T12:17:17.482715+02:00 kernel.cc:1214] Loading model from path /var/folders/k7/hb72kbf512b39m7j022dflph0000gp/T/tmpfpirp0m3/model/ with prefix c409a4824a6c4d70\n",
      "[INFO 2023-05-02T12:17:17.484263+02:00 kernel.cc:1046] Use fast generic engine\n"
     ]
    },
    {
     "name": "stdout",
     "output_type": "stream",
     "text": [
      "5/5 [==============================] - 0s 17ms/step - loss: 0.0000e+00 - accuracy: 0.9748\n",
      "5/5 [==============================] - 0s 18ms/step\n",
      "### q_no 3 grp 0-4\n"
     ]
    },
    {
     "name": "stderr",
     "output_type": "stream",
     "text": [
      "/var/folders/k7/hb72kbf512b39m7j022dflph0000gp/T/ipykernel_10534/2940252066.py:23: SettingWithCopyWarning: \n",
      "A value is trying to be set on a copy of a slice from a DataFrame.\n",
      "Try using .loc[row_indexer,col_indexer] = value instead\n",
      "\n",
      "See the caveats in the documentation: https://pandas.pydata.org/pandas-docs/stable/user_guide/indexing.html#returning-a-view-versus-a-copy\n",
      "  train_df[\"correct\"] = train_labels[\"correct\"]\n",
      "/var/folders/k7/hb72kbf512b39m7j022dflph0000gp/T/ipykernel_10534/2940252066.py:24: SettingWithCopyWarning: \n",
      "A value is trying to be set on a copy of a slice from a DataFrame.\n",
      "Try using .loc[row_indexer,col_indexer] = value instead\n",
      "\n",
      "See the caveats in the documentation: https://pandas.pydata.org/pandas-docs/stable/user_guide/indexing.html#returning-a-view-versus-a-copy\n",
      "  valid_df[\"correct\"] = valid_labels[\"correct\"]\n",
      "2023-05-02 12:17:18.770650: W external/ydf/yggdrasil_decision_forests/learner/gradient_boosted_trees/gradient_boosted_trees.cc:1790] \"goss_alpha\" set but \"sampling_method\" not equal to \"GOSS\".\n",
      "2023-05-02 12:17:18.770670: W external/ydf/yggdrasil_decision_forests/learner/gradient_boosted_trees/gradient_boosted_trees.cc:1800] \"goss_beta\" set but \"sampling_method\" not equal to \"GOSS\".\n",
      "2023-05-02 12:17:18.770686: W external/ydf/yggdrasil_decision_forests/learner/gradient_boosted_trees/gradient_boosted_trees.cc:1814] \"selective_gradient_boosting_ratio\" set but \"sampling_method\" not equal to \"SELGB\".\n",
      "[INFO 2023-05-02T12:17:19.924717+02:00 kernel.cc:1214] Loading model from path /var/folders/k7/hb72kbf512b39m7j022dflph0000gp/T/tmp_9bbympa/model/ with prefix 3ae3af6533434367\n",
      "[INFO 2023-05-02T12:17:19.927839+02:00 kernel.cc:1046] Use fast generic engine\n"
     ]
    },
    {
     "name": "stdout",
     "output_type": "stream",
     "text": [
      "5/5 [==============================] - 0s 16ms/step - loss: 0.0000e+00 - accuracy: 0.9351\n",
      "WARNING:tensorflow:5 out of the last 13 calls to <function InferenceCoreModel.make_predict_function.<locals>.predict_function_trained at 0x7f7ec8790e50> triggered tf.function retracing. Tracing is expensive and the excessive number of tracings could be due to (1) creating @tf.function repeatedly in a loop, (2) passing tensors with different shapes, (3) passing Python objects instead of tensors. For (1), please define your @tf.function outside of the loop. For (2), @tf.function has reduce_retracing=True option that can avoid unnecessary retracing. For (3), please refer to https://www.tensorflow.org/guide/function#controlling_retracing and https://www.tensorflow.org/api_docs/python/tf/function for  more details.\n"
     ]
    },
    {
     "name": "stderr",
     "output_type": "stream",
     "text": [
      "WARNING:tensorflow:5 out of the last 13 calls to <function InferenceCoreModel.make_predict_function.<locals>.predict_function_trained at 0x7f7ec8790e50> triggered tf.function retracing. Tracing is expensive and the excessive number of tracings could be due to (1) creating @tf.function repeatedly in a loop, (2) passing tensors with different shapes, (3) passing Python objects instead of tensors. For (1), please define your @tf.function outside of the loop. For (2), @tf.function has reduce_retracing=True option that can avoid unnecessary retracing. For (3), please refer to https://www.tensorflow.org/guide/function#controlling_retracing and https://www.tensorflow.org/api_docs/python/tf/function for  more details.\n"
     ]
    },
    {
     "name": "stdout",
     "output_type": "stream",
     "text": [
      "5/5 [==============================] - 0s 17ms/step\n",
      "### q_no 4 grp 5-12\n"
     ]
    },
    {
     "name": "stderr",
     "output_type": "stream",
     "text": [
      "/var/folders/k7/hb72kbf512b39m7j022dflph0000gp/T/ipykernel_10534/2940252066.py:23: SettingWithCopyWarning: \n",
      "A value is trying to be set on a copy of a slice from a DataFrame.\n",
      "Try using .loc[row_indexer,col_indexer] = value instead\n",
      "\n",
      "See the caveats in the documentation: https://pandas.pydata.org/pandas-docs/stable/user_guide/indexing.html#returning-a-view-versus-a-copy\n",
      "  train_df[\"correct\"] = train_labels[\"correct\"]\n",
      "/var/folders/k7/hb72kbf512b39m7j022dflph0000gp/T/ipykernel_10534/2940252066.py:24: SettingWithCopyWarning: \n",
      "A value is trying to be set on a copy of a slice from a DataFrame.\n",
      "Try using .loc[row_indexer,col_indexer] = value instead\n",
      "\n",
      "See the caveats in the documentation: https://pandas.pydata.org/pandas-docs/stable/user_guide/indexing.html#returning-a-view-versus-a-copy\n",
      "  valid_df[\"correct\"] = valid_labels[\"correct\"]\n",
      "2023-05-02 12:17:21.133609: W external/ydf/yggdrasil_decision_forests/learner/gradient_boosted_trees/gradient_boosted_trees.cc:1790] \"goss_alpha\" set but \"sampling_method\" not equal to \"GOSS\".\n",
      "2023-05-02 12:17:21.133639: W external/ydf/yggdrasil_decision_forests/learner/gradient_boosted_trees/gradient_boosted_trees.cc:1800] \"goss_beta\" set but \"sampling_method\" not equal to \"GOSS\".\n",
      "2023-05-02 12:17:21.133643: W external/ydf/yggdrasil_decision_forests/learner/gradient_boosted_trees/gradient_boosted_trees.cc:1814] \"selective_gradient_boosting_ratio\" set but \"sampling_method\" not equal to \"SELGB\".\n",
      "[INFO 2023-05-02T12:17:23.659603+02:00 kernel.cc:1214] Loading model from path /var/folders/k7/hb72kbf512b39m7j022dflph0000gp/T/tmpo12ch1gv/model/ with prefix 85a0e7e87f2a4cef\n",
      "[INFO 2023-05-02T12:17:23.667582+02:00 kernel.cc:1046] Use fast generic engine\n"
     ]
    },
    {
     "name": "stdout",
     "output_type": "stream",
     "text": [
      "5/5 [==============================] - 0s 16ms/step - loss: 0.0000e+00 - accuracy: 0.7957\n",
      "WARNING:tensorflow:5 out of the last 13 calls to <function InferenceCoreModel.make_predict_function.<locals>.predict_function_trained at 0x7f7ec9016310> triggered tf.function retracing. Tracing is expensive and the excessive number of tracings could be due to (1) creating @tf.function repeatedly in a loop, (2) passing tensors with different shapes, (3) passing Python objects instead of tensors. For (1), please define your @tf.function outside of the loop. For (2), @tf.function has reduce_retracing=True option that can avoid unnecessary retracing. For (3), please refer to https://www.tensorflow.org/guide/function#controlling_retracing and https://www.tensorflow.org/api_docs/python/tf/function for  more details.\n"
     ]
    },
    {
     "name": "stderr",
     "output_type": "stream",
     "text": [
      "WARNING:tensorflow:5 out of the last 13 calls to <function InferenceCoreModel.make_predict_function.<locals>.predict_function_trained at 0x7f7ec9016310> triggered tf.function retracing. Tracing is expensive and the excessive number of tracings could be due to (1) creating @tf.function repeatedly in a loop, (2) passing tensors with different shapes, (3) passing Python objects instead of tensors. For (1), please define your @tf.function outside of the loop. For (2), @tf.function has reduce_retracing=True option that can avoid unnecessary retracing. For (3), please refer to https://www.tensorflow.org/guide/function#controlling_retracing and https://www.tensorflow.org/api_docs/python/tf/function for  more details.\n"
     ]
    },
    {
     "name": "stdout",
     "output_type": "stream",
     "text": [
      "5/5 [==============================] - 0s 18ms/step\n",
      "### q_no 5 grp 5-12\n"
     ]
    },
    {
     "name": "stderr",
     "output_type": "stream",
     "text": [
      "/var/folders/k7/hb72kbf512b39m7j022dflph0000gp/T/ipykernel_10534/2940252066.py:23: SettingWithCopyWarning: \n",
      "A value is trying to be set on a copy of a slice from a DataFrame.\n",
      "Try using .loc[row_indexer,col_indexer] = value instead\n",
      "\n",
      "See the caveats in the documentation: https://pandas.pydata.org/pandas-docs/stable/user_guide/indexing.html#returning-a-view-versus-a-copy\n",
      "  train_df[\"correct\"] = train_labels[\"correct\"]\n",
      "/var/folders/k7/hb72kbf512b39m7j022dflph0000gp/T/ipykernel_10534/2940252066.py:24: SettingWithCopyWarning: \n",
      "A value is trying to be set on a copy of a slice from a DataFrame.\n",
      "Try using .loc[row_indexer,col_indexer] = value instead\n",
      "\n",
      "See the caveats in the documentation: https://pandas.pydata.org/pandas-docs/stable/user_guide/indexing.html#returning-a-view-versus-a-copy\n",
      "  valid_df[\"correct\"] = valid_labels[\"correct\"]\n"
     ]
    },
    {
     "name": "stdout",
     "output_type": "stream",
     "text": [
      "WARNING:tensorflow:5 out of the last 5 calls to <function CoreModel._consumes_training_examples_until_eof at 0x7f7fef2f1ca0> triggered tf.function retracing. Tracing is expensive and the excessive number of tracings could be due to (1) creating @tf.function repeatedly in a loop, (2) passing tensors with different shapes, (3) passing Python objects instead of tensors. For (1), please define your @tf.function outside of the loop. For (2), @tf.function has reduce_retracing=True option that can avoid unnecessary retracing. For (3), please refer to https://www.tensorflow.org/guide/function#controlling_retracing and https://www.tensorflow.org/api_docs/python/tf/function for  more details.\n"
     ]
    },
    {
     "name": "stderr",
     "output_type": "stream",
     "text": [
      "WARNING:tensorflow:5 out of the last 5 calls to <function CoreModel._consumes_training_examples_until_eof at 0x7f7fef2f1ca0> triggered tf.function retracing. Tracing is expensive and the excessive number of tracings could be due to (1) creating @tf.function repeatedly in a loop, (2) passing tensors with different shapes, (3) passing Python objects instead of tensors. For (1), please define your @tf.function outside of the loop. For (2), @tf.function has reduce_retracing=True option that can avoid unnecessary retracing. For (3), please refer to https://www.tensorflow.org/guide/function#controlling_retracing and https://www.tensorflow.org/api_docs/python/tf/function for  more details.\n",
      "2023-05-02 12:17:24.865806: W external/ydf/yggdrasil_decision_forests/learner/gradient_boosted_trees/gradient_boosted_trees.cc:1790] \"goss_alpha\" set but \"sampling_method\" not equal to \"GOSS\".\n",
      "2023-05-02 12:17:24.865839: W external/ydf/yggdrasil_decision_forests/learner/gradient_boosted_trees/gradient_boosted_trees.cc:1800] \"goss_beta\" set but \"sampling_method\" not equal to \"GOSS\".\n",
      "2023-05-02 12:17:24.865844: W external/ydf/yggdrasil_decision_forests/learner/gradient_boosted_trees/gradient_boosted_trees.cc:1814] \"selective_gradient_boosting_ratio\" set but \"sampling_method\" not equal to \"SELGB\".\n"
     ]
    },
    {
     "name": "stdout",
     "output_type": "stream",
     "text": [
      "WARNING:tensorflow:5 out of the last 9 calls to <function InferenceCoreModel.yggdrasil_model_path_tensor at 0x7f7ec9016c10> triggered tf.function retracing. Tracing is expensive and the excessive number of tracings could be due to (1) creating @tf.function repeatedly in a loop, (2) passing tensors with different shapes, (3) passing Python objects instead of tensors. For (1), please define your @tf.function outside of the loop. For (2), @tf.function has reduce_retracing=True option that can avoid unnecessary retracing. For (3), please refer to https://www.tensorflow.org/guide/function#controlling_retracing and https://www.tensorflow.org/api_docs/python/tf/function for  more details.\n"
     ]
    },
    {
     "name": "stderr",
     "output_type": "stream",
     "text": [
      "[INFO 2023-05-02T12:17:26.375855+02:00 kernel.cc:1214] Loading model from path /var/folders/k7/hb72kbf512b39m7j022dflph0000gp/T/tmpwv97ytg4/model/ with prefix e26962577c0c430a\n",
      "[INFO 2023-05-02T12:17:26.380321+02:00 abstract_model.cc:1312] Engine \"GradientBoostedTreesQuickScorerExtended\" built\n",
      "[INFO 2023-05-02T12:17:26.380392+02:00 kernel.cc:1046] Use fast generic engine\n",
      "WARNING:tensorflow:5 out of the last 9 calls to <function InferenceCoreModel.yggdrasil_model_path_tensor at 0x7f7ec9016c10> triggered tf.function retracing. Tracing is expensive and the excessive number of tracings could be due to (1) creating @tf.function repeatedly in a loop, (2) passing tensors with different shapes, (3) passing Python objects instead of tensors. For (1), please define your @tf.function outside of the loop. For (2), @tf.function has reduce_retracing=True option that can avoid unnecessary retracing. For (3), please refer to https://www.tensorflow.org/guide/function#controlling_retracing and https://www.tensorflow.org/api_docs/python/tf/function for  more details.\n"
     ]
    },
    {
     "name": "stdout",
     "output_type": "stream",
     "text": [
      "5/5 [==============================] - 0s 17ms/step - loss: 0.0000e+00 - accuracy: 0.6319\n",
      "5/5 [==============================] - 0s 18ms/step\n",
      "### q_no 6 grp 5-12\n"
     ]
    },
    {
     "name": "stderr",
     "output_type": "stream",
     "text": [
      "/var/folders/k7/hb72kbf512b39m7j022dflph0000gp/T/ipykernel_10534/2940252066.py:23: SettingWithCopyWarning: \n",
      "A value is trying to be set on a copy of a slice from a DataFrame.\n",
      "Try using .loc[row_indexer,col_indexer] = value instead\n",
      "\n",
      "See the caveats in the documentation: https://pandas.pydata.org/pandas-docs/stable/user_guide/indexing.html#returning-a-view-versus-a-copy\n",
      "  train_df[\"correct\"] = train_labels[\"correct\"]\n",
      "/var/folders/k7/hb72kbf512b39m7j022dflph0000gp/T/ipykernel_10534/2940252066.py:24: SettingWithCopyWarning: \n",
      "A value is trying to be set on a copy of a slice from a DataFrame.\n",
      "Try using .loc[row_indexer,col_indexer] = value instead\n",
      "\n",
      "See the caveats in the documentation: https://pandas.pydata.org/pandas-docs/stable/user_guide/indexing.html#returning-a-view-versus-a-copy\n",
      "  valid_df[\"correct\"] = valid_labels[\"correct\"]\n"
     ]
    },
    {
     "name": "stdout",
     "output_type": "stream",
     "text": [
      "WARNING:tensorflow:6 out of the last 6 calls to <function CoreModel._consumes_training_examples_until_eof at 0x7f7fef2f1ca0> triggered tf.function retracing. Tracing is expensive and the excessive number of tracings could be due to (1) creating @tf.function repeatedly in a loop, (2) passing tensors with different shapes, (3) passing Python objects instead of tensors. For (1), please define your @tf.function outside of the loop. For (2), @tf.function has reduce_retracing=True option that can avoid unnecessary retracing. For (3), please refer to https://www.tensorflow.org/guide/function#controlling_retracing and https://www.tensorflow.org/api_docs/python/tf/function for  more details.\n"
     ]
    },
    {
     "name": "stderr",
     "output_type": "stream",
     "text": [
      "WARNING:tensorflow:6 out of the last 6 calls to <function CoreModel._consumes_training_examples_until_eof at 0x7f7fef2f1ca0> triggered tf.function retracing. Tracing is expensive and the excessive number of tracings could be due to (1) creating @tf.function repeatedly in a loop, (2) passing tensors with different shapes, (3) passing Python objects instead of tensors. For (1), please define your @tf.function outside of the loop. For (2), @tf.function has reduce_retracing=True option that can avoid unnecessary retracing. For (3), please refer to https://www.tensorflow.org/guide/function#controlling_retracing and https://www.tensorflow.org/api_docs/python/tf/function for  more details.\n",
      "2023-05-02 12:17:27.612603: W external/ydf/yggdrasil_decision_forests/learner/gradient_boosted_trees/gradient_boosted_trees.cc:1790] \"goss_alpha\" set but \"sampling_method\" not equal to \"GOSS\".\n",
      "2023-05-02 12:17:27.612625: W external/ydf/yggdrasil_decision_forests/learner/gradient_boosted_trees/gradient_boosted_trees.cc:1800] \"goss_beta\" set but \"sampling_method\" not equal to \"GOSS\".\n",
      "2023-05-02 12:17:27.612644: W external/ydf/yggdrasil_decision_forests/learner/gradient_boosted_trees/gradient_boosted_trees.cc:1814] \"selective_gradient_boosting_ratio\" set but \"sampling_method\" not equal to \"SELGB\".\n"
     ]
    },
    {
     "name": "stdout",
     "output_type": "stream",
     "text": [
      "WARNING:tensorflow:6 out of the last 11 calls to <function InferenceCoreModel.yggdrasil_model_path_tensor at 0x7f7ec90acdc0> triggered tf.function retracing. Tracing is expensive and the excessive number of tracings could be due to (1) creating @tf.function repeatedly in a loop, (2) passing tensors with different shapes, (3) passing Python objects instead of tensors. For (1), please define your @tf.function outside of the loop. For (2), @tf.function has reduce_retracing=True option that can avoid unnecessary retracing. For (3), please refer to https://www.tensorflow.org/guide/function#controlling_retracing and https://www.tensorflow.org/api_docs/python/tf/function for  more details.\n"
     ]
    },
    {
     "name": "stderr",
     "output_type": "stream",
     "text": [
      "[INFO 2023-05-02T12:17:29.42879+02:00 kernel.cc:1214] Loading model from path /var/folders/k7/hb72kbf512b39m7j022dflph0000gp/T/tmp4qulumkw/model/ with prefix a5eca6c7abe04b75\n",
      "[INFO 2023-05-02T12:17:29.43405+02:00 kernel.cc:1046] Use fast generic engine\n",
      "WARNING:tensorflow:6 out of the last 11 calls to <function InferenceCoreModel.yggdrasil_model_path_tensor at 0x7f7ec90acdc0> triggered tf.function retracing. Tracing is expensive and the excessive number of tracings could be due to (1) creating @tf.function repeatedly in a loop, (2) passing tensors with different shapes, (3) passing Python objects instead of tensors. For (1), please define your @tf.function outside of the loop. For (2), @tf.function has reduce_retracing=True option that can avoid unnecessary retracing. For (3), please refer to https://www.tensorflow.org/guide/function#controlling_retracing and https://www.tensorflow.org/api_docs/python/tf/function for  more details.\n"
     ]
    },
    {
     "name": "stdout",
     "output_type": "stream",
     "text": [
      "5/5 [==============================] - 0s 16ms/step - loss: 0.0000e+00 - accuracy: 0.7885\n",
      "5/5 [==============================] - 0s 18ms/step\n",
      "### q_no 7 grp 5-12\n"
     ]
    },
    {
     "name": "stderr",
     "output_type": "stream",
     "text": [
      "/var/folders/k7/hb72kbf512b39m7j022dflph0000gp/T/ipykernel_10534/2940252066.py:23: SettingWithCopyWarning: \n",
      "A value is trying to be set on a copy of a slice from a DataFrame.\n",
      "Try using .loc[row_indexer,col_indexer] = value instead\n",
      "\n",
      "See the caveats in the documentation: https://pandas.pydata.org/pandas-docs/stable/user_guide/indexing.html#returning-a-view-versus-a-copy\n",
      "  train_df[\"correct\"] = train_labels[\"correct\"]\n",
      "/var/folders/k7/hb72kbf512b39m7j022dflph0000gp/T/ipykernel_10534/2940252066.py:24: SettingWithCopyWarning: \n",
      "A value is trying to be set on a copy of a slice from a DataFrame.\n",
      "Try using .loc[row_indexer,col_indexer] = value instead\n",
      "\n",
      "See the caveats in the documentation: https://pandas.pydata.org/pandas-docs/stable/user_guide/indexing.html#returning-a-view-versus-a-copy\n",
      "  valid_df[\"correct\"] = valid_labels[\"correct\"]\n",
      "2023-05-02 12:17:30.693502: W external/ydf/yggdrasil_decision_forests/learner/gradient_boosted_trees/gradient_boosted_trees.cc:1790] \"goss_alpha\" set but \"sampling_method\" not equal to \"GOSS\".\n",
      "2023-05-02 12:17:30.693533: W external/ydf/yggdrasil_decision_forests/learner/gradient_boosted_trees/gradient_boosted_trees.cc:1800] \"goss_beta\" set but \"sampling_method\" not equal to \"GOSS\".\n",
      "2023-05-02 12:17:30.693538: W external/ydf/yggdrasil_decision_forests/learner/gradient_boosted_trees/gradient_boosted_trees.cc:1814] \"selective_gradient_boosting_ratio\" set but \"sampling_method\" not equal to \"SELGB\".\n",
      "[INFO 2023-05-02T12:17:32.004233+02:00 kernel.cc:1214] Loading model from path /var/folders/k7/hb72kbf512b39m7j022dflph0000gp/T/tmpqeivo6os/model/ with prefix 829c553a92ef455e\n",
      "[INFO 2023-05-02T12:17:32.007478+02:00 kernel.cc:1046] Use fast generic engine\n"
     ]
    },
    {
     "name": "stdout",
     "output_type": "stream",
     "text": [
      "5/5 [==============================] - 0s 16ms/step - loss: 0.0000e+00 - accuracy: 0.7456\n",
      "5/5 [==============================] - 0s 17ms/step\n",
      "### q_no 8 grp 5-12\n"
     ]
    },
    {
     "name": "stderr",
     "output_type": "stream",
     "text": [
      "/var/folders/k7/hb72kbf512b39m7j022dflph0000gp/T/ipykernel_10534/2940252066.py:23: SettingWithCopyWarning: \n",
      "A value is trying to be set on a copy of a slice from a DataFrame.\n",
      "Try using .loc[row_indexer,col_indexer] = value instead\n",
      "\n",
      "See the caveats in the documentation: https://pandas.pydata.org/pandas-docs/stable/user_guide/indexing.html#returning-a-view-versus-a-copy\n",
      "  train_df[\"correct\"] = train_labels[\"correct\"]\n",
      "/var/folders/k7/hb72kbf512b39m7j022dflph0000gp/T/ipykernel_10534/2940252066.py:24: SettingWithCopyWarning: \n",
      "A value is trying to be set on a copy of a slice from a DataFrame.\n",
      "Try using .loc[row_indexer,col_indexer] = value instead\n",
      "\n",
      "See the caveats in the documentation: https://pandas.pydata.org/pandas-docs/stable/user_guide/indexing.html#returning-a-view-versus-a-copy\n",
      "  valid_df[\"correct\"] = valid_labels[\"correct\"]\n",
      "2023-05-02 12:17:33.241413: W external/ydf/yggdrasil_decision_forests/learner/gradient_boosted_trees/gradient_boosted_trees.cc:1790] \"goss_alpha\" set but \"sampling_method\" not equal to \"GOSS\".\n",
      "2023-05-02 12:17:33.241444: W external/ydf/yggdrasil_decision_forests/learner/gradient_boosted_trees/gradient_boosted_trees.cc:1800] \"goss_beta\" set but \"sampling_method\" not equal to \"GOSS\".\n",
      "2023-05-02 12:17:33.241449: W external/ydf/yggdrasil_decision_forests/learner/gradient_boosted_trees/gradient_boosted_trees.cc:1814] \"selective_gradient_boosting_ratio\" set but \"sampling_method\" not equal to \"SELGB\".\n",
      "[INFO 2023-05-02T12:17:34.306606+02:00 kernel.cc:1214] Loading model from path /var/folders/k7/hb72kbf512b39m7j022dflph0000gp/T/tmpd2hk80og/model/ with prefix 3b2a286f4db945e0\n",
      "[INFO 2023-05-02T12:17:34.30867+02:00 kernel.cc:1046] Use fast generic engine\n"
     ]
    },
    {
     "name": "stdout",
     "output_type": "stream",
     "text": [
      "5/5 [==============================] - 0s 18ms/step - loss: 0.0000e+00 - accuracy: 0.6355\n",
      "5/5 [==============================] - 0s 20ms/step\n",
      "### q_no 9 grp 5-12\n"
     ]
    },
    {
     "name": "stderr",
     "output_type": "stream",
     "text": [
      "/var/folders/k7/hb72kbf512b39m7j022dflph0000gp/T/ipykernel_10534/2940252066.py:23: SettingWithCopyWarning: \n",
      "A value is trying to be set on a copy of a slice from a DataFrame.\n",
      "Try using .loc[row_indexer,col_indexer] = value instead\n",
      "\n",
      "See the caveats in the documentation: https://pandas.pydata.org/pandas-docs/stable/user_guide/indexing.html#returning-a-view-versus-a-copy\n",
      "  train_df[\"correct\"] = train_labels[\"correct\"]\n",
      "/var/folders/k7/hb72kbf512b39m7j022dflph0000gp/T/ipykernel_10534/2940252066.py:24: SettingWithCopyWarning: \n",
      "A value is trying to be set on a copy of a slice from a DataFrame.\n",
      "Try using .loc[row_indexer,col_indexer] = value instead\n",
      "\n",
      "See the caveats in the documentation: https://pandas.pydata.org/pandas-docs/stable/user_guide/indexing.html#returning-a-view-versus-a-copy\n",
      "  valid_df[\"correct\"] = valid_labels[\"correct\"]\n",
      "2023-05-02 12:17:35.551958: W external/ydf/yggdrasil_decision_forests/learner/gradient_boosted_trees/gradient_boosted_trees.cc:1790] \"goss_alpha\" set but \"sampling_method\" not equal to \"GOSS\".\n",
      "2023-05-02 12:17:35.551987: W external/ydf/yggdrasil_decision_forests/learner/gradient_boosted_trees/gradient_boosted_trees.cc:1800] \"goss_beta\" set but \"sampling_method\" not equal to \"GOSS\".\n",
      "2023-05-02 12:17:35.551992: W external/ydf/yggdrasil_decision_forests/learner/gradient_boosted_trees/gradient_boosted_trees.cc:1814] \"selective_gradient_boosting_ratio\" set but \"sampling_method\" not equal to \"SELGB\".\n",
      "[INFO 2023-05-02T12:17:37.135403+02:00 kernel.cc:1214] Loading model from path /var/folders/k7/hb72kbf512b39m7j022dflph0000gp/T/tmpl49jejf_/model/ with prefix eb7e29d930d84ba0\n",
      "[INFO 2023-05-02T12:17:37.139879+02:00 abstract_model.cc:1312] Engine \"GradientBoostedTreesQuickScorerExtended\" built\n",
      "[INFO 2023-05-02T12:17:37.139914+02:00 kernel.cc:1046] Use fast generic engine\n"
     ]
    },
    {
     "name": "stdout",
     "output_type": "stream",
     "text": [
      "5/5 [==============================] - 0s 17ms/step - loss: 0.0000e+00 - accuracy: 0.7647\n",
      "5/5 [==============================] - 0s 18ms/step\n",
      "### q_no 10 grp 5-12\n"
     ]
    },
    {
     "name": "stderr",
     "output_type": "stream",
     "text": [
      "/var/folders/k7/hb72kbf512b39m7j022dflph0000gp/T/ipykernel_10534/2940252066.py:23: SettingWithCopyWarning: \n",
      "A value is trying to be set on a copy of a slice from a DataFrame.\n",
      "Try using .loc[row_indexer,col_indexer] = value instead\n",
      "\n",
      "See the caveats in the documentation: https://pandas.pydata.org/pandas-docs/stable/user_guide/indexing.html#returning-a-view-versus-a-copy\n",
      "  train_df[\"correct\"] = train_labels[\"correct\"]\n",
      "/var/folders/k7/hb72kbf512b39m7j022dflph0000gp/T/ipykernel_10534/2940252066.py:24: SettingWithCopyWarning: \n",
      "A value is trying to be set on a copy of a slice from a DataFrame.\n",
      "Try using .loc[row_indexer,col_indexer] = value instead\n",
      "\n",
      "See the caveats in the documentation: https://pandas.pydata.org/pandas-docs/stable/user_guide/indexing.html#returning-a-view-versus-a-copy\n",
      "  valid_df[\"correct\"] = valid_labels[\"correct\"]\n",
      "2023-05-02 12:17:38.408620: W external/ydf/yggdrasil_decision_forests/learner/gradient_boosted_trees/gradient_boosted_trees.cc:1790] \"goss_alpha\" set but \"sampling_method\" not equal to \"GOSS\".\n",
      "2023-05-02 12:17:38.408640: W external/ydf/yggdrasil_decision_forests/learner/gradient_boosted_trees/gradient_boosted_trees.cc:1800] \"goss_beta\" set but \"sampling_method\" not equal to \"GOSS\".\n",
      "2023-05-02 12:17:38.408655: W external/ydf/yggdrasil_decision_forests/learner/gradient_boosted_trees/gradient_boosted_trees.cc:1814] \"selective_gradient_boosting_ratio\" set but \"sampling_method\" not equal to \"SELGB\".\n",
      "[INFO 2023-05-02T12:17:40.42423+02:00 kernel.cc:1214] Loading model from path /var/folders/k7/hb72kbf512b39m7j022dflph0000gp/T/tmpikdvlgk2/model/ with prefix 30b28796050f4968\n",
      "[INFO 2023-05-02T12:17:40.429965+02:00 kernel.cc:1046] Use fast generic engine\n"
     ]
    },
    {
     "name": "stdout",
     "output_type": "stream",
     "text": [
      "5/5 [==============================] - 0s 16ms/step - loss: 0.0000e+00 - accuracy: 0.6109\n",
      "5/5 [==============================] - 0s 16ms/step\n",
      "### q_no 11 grp 5-12\n"
     ]
    },
    {
     "name": "stderr",
     "output_type": "stream",
     "text": [
      "/var/folders/k7/hb72kbf512b39m7j022dflph0000gp/T/ipykernel_10534/2940252066.py:23: SettingWithCopyWarning: \n",
      "A value is trying to be set on a copy of a slice from a DataFrame.\n",
      "Try using .loc[row_indexer,col_indexer] = value instead\n",
      "\n",
      "See the caveats in the documentation: https://pandas.pydata.org/pandas-docs/stable/user_guide/indexing.html#returning-a-view-versus-a-copy\n",
      "  train_df[\"correct\"] = train_labels[\"correct\"]\n",
      "/var/folders/k7/hb72kbf512b39m7j022dflph0000gp/T/ipykernel_10534/2940252066.py:24: SettingWithCopyWarning: \n",
      "A value is trying to be set on a copy of a slice from a DataFrame.\n",
      "Try using .loc[row_indexer,col_indexer] = value instead\n",
      "\n",
      "See the caveats in the documentation: https://pandas.pydata.org/pandas-docs/stable/user_guide/indexing.html#returning-a-view-versus-a-copy\n",
      "  valid_df[\"correct\"] = valid_labels[\"correct\"]\n",
      "2023-05-02 12:17:41.870848: W external/ydf/yggdrasil_decision_forests/learner/gradient_boosted_trees/gradient_boosted_trees.cc:1790] \"goss_alpha\" set but \"sampling_method\" not equal to \"GOSS\".\n",
      "2023-05-02 12:17:41.870871: W external/ydf/yggdrasil_decision_forests/learner/gradient_boosted_trees/gradient_boosted_trees.cc:1800] \"goss_beta\" set but \"sampling_method\" not equal to \"GOSS\".\n",
      "2023-05-02 12:17:41.870876: W external/ydf/yggdrasil_decision_forests/learner/gradient_boosted_trees/gradient_boosted_trees.cc:1814] \"selective_gradient_boosting_ratio\" set but \"sampling_method\" not equal to \"SELGB\".\n",
      "[INFO 2023-05-02T12:17:43.636309+02:00 kernel.cc:1214] Loading model from path /var/folders/k7/hb72kbf512b39m7j022dflph0000gp/T/tmpcsktcmib/model/ with prefix a7e384a108af4c36\n",
      "[INFO 2023-05-02T12:17:43.640657+02:00 kernel.cc:1046] Use fast generic engine\n"
     ]
    },
    {
     "name": "stdout",
     "output_type": "stream",
     "text": [
      "5/5 [==============================] - 0s 20ms/step - loss: 0.0000e+00 - accuracy: 0.6522\n",
      "5/5 [==============================] - 0s 22ms/step\n",
      "### q_no 12 grp 5-12\n"
     ]
    },
    {
     "name": "stderr",
     "output_type": "stream",
     "text": [
      "/var/folders/k7/hb72kbf512b39m7j022dflph0000gp/T/ipykernel_10534/2940252066.py:23: SettingWithCopyWarning: \n",
      "A value is trying to be set on a copy of a slice from a DataFrame.\n",
      "Try using .loc[row_indexer,col_indexer] = value instead\n",
      "\n",
      "See the caveats in the documentation: https://pandas.pydata.org/pandas-docs/stable/user_guide/indexing.html#returning-a-view-versus-a-copy\n",
      "  train_df[\"correct\"] = train_labels[\"correct\"]\n",
      "/var/folders/k7/hb72kbf512b39m7j022dflph0000gp/T/ipykernel_10534/2940252066.py:24: SettingWithCopyWarning: \n",
      "A value is trying to be set on a copy of a slice from a DataFrame.\n",
      "Try using .loc[row_indexer,col_indexer] = value instead\n",
      "\n",
      "See the caveats in the documentation: https://pandas.pydata.org/pandas-docs/stable/user_guide/indexing.html#returning-a-view-versus-a-copy\n",
      "  valid_df[\"correct\"] = valid_labels[\"correct\"]\n",
      "2023-05-02 12:17:45.009975: W external/ydf/yggdrasil_decision_forests/learner/gradient_boosted_trees/gradient_boosted_trees.cc:1790] \"goss_alpha\" set but \"sampling_method\" not equal to \"GOSS\".\n",
      "2023-05-02 12:17:45.010005: W external/ydf/yggdrasil_decision_forests/learner/gradient_boosted_trees/gradient_boosted_trees.cc:1800] \"goss_beta\" set but \"sampling_method\" not equal to \"GOSS\".\n",
      "2023-05-02 12:17:45.010010: W external/ydf/yggdrasil_decision_forests/learner/gradient_boosted_trees/gradient_boosted_trees.cc:1814] \"selective_gradient_boosting_ratio\" set but \"sampling_method\" not equal to \"SELGB\".\n",
      "[INFO 2023-05-02T12:17:46.318586+02:00 kernel.cc:1214] Loading model from path /var/folders/k7/hb72kbf512b39m7j022dflph0000gp/T/tmp8cfrx_sm/model/ with prefix 63d979ce831d4a02\n",
      "[INFO 2023-05-02T12:17:46.320603+02:00 quick_scorer_extended.cc:873] The binary was compiled without AVX2 support, but your CPU supports it. Enable it for faster model inference.\n",
      "[INFO 2023-05-02T12:17:46.320767+02:00 kernel.cc:1046] Use fast generic engine\n"
     ]
    },
    {
     "name": "stdout",
     "output_type": "stream",
     "text": [
      "5/5 [==============================] - 0s 18ms/step - loss: 0.0000e+00 - accuracy: 0.8695\n",
      "5/5 [==============================] - 0s 26ms/step\n",
      "### q_no 13 grp 5-12\n"
     ]
    },
    {
     "name": "stderr",
     "output_type": "stream",
     "text": [
      "/var/folders/k7/hb72kbf512b39m7j022dflph0000gp/T/ipykernel_10534/2940252066.py:23: SettingWithCopyWarning: \n",
      "A value is trying to be set on a copy of a slice from a DataFrame.\n",
      "Try using .loc[row_indexer,col_indexer] = value instead\n",
      "\n",
      "See the caveats in the documentation: https://pandas.pydata.org/pandas-docs/stable/user_guide/indexing.html#returning-a-view-versus-a-copy\n",
      "  train_df[\"correct\"] = train_labels[\"correct\"]\n",
      "/var/folders/k7/hb72kbf512b39m7j022dflph0000gp/T/ipykernel_10534/2940252066.py:24: SettingWithCopyWarning: \n",
      "A value is trying to be set on a copy of a slice from a DataFrame.\n",
      "Try using .loc[row_indexer,col_indexer] = value instead\n",
      "\n",
      "See the caveats in the documentation: https://pandas.pydata.org/pandas-docs/stable/user_guide/indexing.html#returning-a-view-versus-a-copy\n",
      "  valid_df[\"correct\"] = valid_labels[\"correct\"]\n",
      "2023-05-02 12:17:48.052356: W external/ydf/yggdrasil_decision_forests/learner/gradient_boosted_trees/gradient_boosted_trees.cc:1790] \"goss_alpha\" set but \"sampling_method\" not equal to \"GOSS\".\n",
      "2023-05-02 12:17:48.052376: W external/ydf/yggdrasil_decision_forests/learner/gradient_boosted_trees/gradient_boosted_trees.cc:1800] \"goss_beta\" set but \"sampling_method\" not equal to \"GOSS\".\n",
      "2023-05-02 12:17:48.052392: W external/ydf/yggdrasil_decision_forests/learner/gradient_boosted_trees/gradient_boosted_trees.cc:1814] \"selective_gradient_boosting_ratio\" set but \"sampling_method\" not equal to \"SELGB\".\n",
      "[INFO 2023-05-02T12:17:49.987617+02:00 kernel.cc:1214] Loading model from path /var/folders/k7/hb72kbf512b39m7j022dflph0000gp/T/tmp2jqpu2_w/model/ with prefix 17aacc3e93804c71\n",
      "[INFO 2023-05-02T12:17:49.993426+02:00 abstract_model.cc:1312] Engine \"GradientBoostedTreesQuickScorerExtended\" built\n",
      "[INFO 2023-05-02T12:17:49.993463+02:00 kernel.cc:1046] Use fast generic engine\n"
     ]
    },
    {
     "name": "stdout",
     "output_type": "stream",
     "text": [
      "5/5 [==============================] - 0s 17ms/step - loss: 0.0000e+00 - accuracy: 0.7218\n",
      "5/5 [==============================] - 0s 18ms/step\n",
      "### q_no 14 grp 13-22\n"
     ]
    },
    {
     "name": "stderr",
     "output_type": "stream",
     "text": [
      "/var/folders/k7/hb72kbf512b39m7j022dflph0000gp/T/ipykernel_10534/2940252066.py:23: SettingWithCopyWarning: \n",
      "A value is trying to be set on a copy of a slice from a DataFrame.\n",
      "Try using .loc[row_indexer,col_indexer] = value instead\n",
      "\n",
      "See the caveats in the documentation: https://pandas.pydata.org/pandas-docs/stable/user_guide/indexing.html#returning-a-view-versus-a-copy\n",
      "  train_df[\"correct\"] = train_labels[\"correct\"]\n",
      "/var/folders/k7/hb72kbf512b39m7j022dflph0000gp/T/ipykernel_10534/2940252066.py:24: SettingWithCopyWarning: \n",
      "A value is trying to be set on a copy of a slice from a DataFrame.\n",
      "Try using .loc[row_indexer,col_indexer] = value instead\n",
      "\n",
      "See the caveats in the documentation: https://pandas.pydata.org/pandas-docs/stable/user_guide/indexing.html#returning-a-view-versus-a-copy\n",
      "  valid_df[\"correct\"] = valid_labels[\"correct\"]\n",
      "2023-05-02 12:17:51.255231: W external/ydf/yggdrasil_decision_forests/learner/gradient_boosted_trees/gradient_boosted_trees.cc:1790] \"goss_alpha\" set but \"sampling_method\" not equal to \"GOSS\".\n",
      "2023-05-02 12:17:51.255252: W external/ydf/yggdrasil_decision_forests/learner/gradient_boosted_trees/gradient_boosted_trees.cc:1800] \"goss_beta\" set but \"sampling_method\" not equal to \"GOSS\".\n",
      "2023-05-02 12:17:51.255256: W external/ydf/yggdrasil_decision_forests/learner/gradient_boosted_trees/gradient_boosted_trees.cc:1814] \"selective_gradient_boosting_ratio\" set but \"sampling_method\" not equal to \"SELGB\".\n",
      "[INFO 2023-05-02T12:17:52.872543+02:00 kernel.cc:1214] Loading model from path /var/folders/k7/hb72kbf512b39m7j022dflph0000gp/T/tmpb53no23d/model/ with prefix acc0e8f1fc934eef\n",
      "[INFO 2023-05-02T12:17:52.877027+02:00 kernel.cc:1046] Use fast generic engine\n"
     ]
    },
    {
     "name": "stdout",
     "output_type": "stream",
     "text": [
      "5/5 [==============================] - 0s 17ms/step - loss: 0.0000e+00 - accuracy: 0.7337\n",
      "5/5 [==============================] - 0s 17ms/step\n",
      "### q_no 15 grp 13-22\n"
     ]
    },
    {
     "name": "stderr",
     "output_type": "stream",
     "text": [
      "/var/folders/k7/hb72kbf512b39m7j022dflph0000gp/T/ipykernel_10534/2940252066.py:23: SettingWithCopyWarning: \n",
      "A value is trying to be set on a copy of a slice from a DataFrame.\n",
      "Try using .loc[row_indexer,col_indexer] = value instead\n",
      "\n",
      "See the caveats in the documentation: https://pandas.pydata.org/pandas-docs/stable/user_guide/indexing.html#returning-a-view-versus-a-copy\n",
      "  train_df[\"correct\"] = train_labels[\"correct\"]\n",
      "/var/folders/k7/hb72kbf512b39m7j022dflph0000gp/T/ipykernel_10534/2940252066.py:24: SettingWithCopyWarning: \n",
      "A value is trying to be set on a copy of a slice from a DataFrame.\n",
      "Try using .loc[row_indexer,col_indexer] = value instead\n",
      "\n",
      "See the caveats in the documentation: https://pandas.pydata.org/pandas-docs/stable/user_guide/indexing.html#returning-a-view-versus-a-copy\n",
      "  valid_df[\"correct\"] = valid_labels[\"correct\"]\n",
      "2023-05-02 12:17:54.089291: W external/ydf/yggdrasil_decision_forests/learner/gradient_boosted_trees/gradient_boosted_trees.cc:1790] \"goss_alpha\" set but \"sampling_method\" not equal to \"GOSS\".\n",
      "2023-05-02 12:17:54.089321: W external/ydf/yggdrasil_decision_forests/learner/gradient_boosted_trees/gradient_boosted_trees.cc:1800] \"goss_beta\" set but \"sampling_method\" not equal to \"GOSS\".\n",
      "2023-05-02 12:17:54.089326: W external/ydf/yggdrasil_decision_forests/learner/gradient_boosted_trees/gradient_boosted_trees.cc:1814] \"selective_gradient_boosting_ratio\" set but \"sampling_method\" not equal to \"SELGB\".\n",
      "[INFO 2023-05-02T12:17:56.088794+02:00 kernel.cc:1214] Loading model from path /var/folders/k7/hb72kbf512b39m7j022dflph0000gp/T/tmprfi4zgwk/model/ with prefix 0257ed471f704eaf\n",
      "[INFO 2023-05-02T12:17:56.094724+02:00 kernel.cc:1046] Use fast generic engine\n"
     ]
    },
    {
     "name": "stdout",
     "output_type": "stream",
     "text": [
      "5/5 [==============================] - 0s 21ms/step - loss: 0.0000e+00 - accuracy: 0.6166\n",
      "5/5 [==============================] - 0s 23ms/step\n",
      "### q_no 16 grp 13-22\n"
     ]
    },
    {
     "name": "stderr",
     "output_type": "stream",
     "text": [
      "/var/folders/k7/hb72kbf512b39m7j022dflph0000gp/T/ipykernel_10534/2940252066.py:23: SettingWithCopyWarning: \n",
      "A value is trying to be set on a copy of a slice from a DataFrame.\n",
      "Try using .loc[row_indexer,col_indexer] = value instead\n",
      "\n",
      "See the caveats in the documentation: https://pandas.pydata.org/pandas-docs/stable/user_guide/indexing.html#returning-a-view-versus-a-copy\n",
      "  train_df[\"correct\"] = train_labels[\"correct\"]\n",
      "/var/folders/k7/hb72kbf512b39m7j022dflph0000gp/T/ipykernel_10534/2940252066.py:24: SettingWithCopyWarning: \n",
      "A value is trying to be set on a copy of a slice from a DataFrame.\n",
      "Try using .loc[row_indexer,col_indexer] = value instead\n",
      "\n",
      "See the caveats in the documentation: https://pandas.pydata.org/pandas-docs/stable/user_guide/indexing.html#returning-a-view-versus-a-copy\n",
      "  valid_df[\"correct\"] = valid_labels[\"correct\"]\n",
      "2023-05-02 12:17:57.779725: W external/ydf/yggdrasil_decision_forests/learner/gradient_boosted_trees/gradient_boosted_trees.cc:1790] \"goss_alpha\" set but \"sampling_method\" not equal to \"GOSS\".\n",
      "2023-05-02 12:17:57.779744: W external/ydf/yggdrasil_decision_forests/learner/gradient_boosted_trees/gradient_boosted_trees.cc:1800] \"goss_beta\" set but \"sampling_method\" not equal to \"GOSS\".\n",
      "2023-05-02 12:17:57.779750: W external/ydf/yggdrasil_decision_forests/learner/gradient_boosted_trees/gradient_boosted_trees.cc:1814] \"selective_gradient_boosting_ratio\" set but \"sampling_method\" not equal to \"SELGB\".\n",
      "2023-05-02 12:17:59.005971: W external/ydf/yggdrasil_decision_forests/learner/gradient_boosted_trees/gradient_boosted_trees.cc:267] The best validation loss was obtained during iteration 10. This is the first step during which a validation loss was computed, hence the validation loss might still have been unstable and not optimal. Following are examples of hyper-parameter changes that might help with the situation. Try them in order: (1) Decrease the 'shrinkage rate' parameter (default value of 0.1). For example divide its value by 2. (2) Decrease the 'num_candidate_attributes_ratio' hyper-parameter (default value of 1) by 80%. (3) Increase the early_stopping_num_trees_look_ahead parameter (e.g., try multiplying it by a factor of 2). (4) Use a more expensive but stable version of early stopping with 'early_stopping=MIN_LOSS_FINAL'. (4) Disable early stopping completely with 'early_stopping=NONE'.\n",
      "[INFO 2023-05-02T12:17:59.01523+02:00 kernel.cc:1214] Loading model from path /var/folders/k7/hb72kbf512b39m7j022dflph0000gp/T/tmpevje3a29/model/ with prefix dd47ce838d804204\n",
      "[INFO 2023-05-02T12:17:59.017285+02:00 kernel.cc:1046] Use fast generic engine\n"
     ]
    },
    {
     "name": "stdout",
     "output_type": "stream",
     "text": [
      "5/5 [==============================] - 0s 24ms/step - loss: 0.0000e+00 - accuracy: 0.7488\n",
      "5/5 [==============================] - 0s 23ms/step\n",
      "### q_no 17 grp 13-22\n"
     ]
    },
    {
     "name": "stderr",
     "output_type": "stream",
     "text": [
      "/var/folders/k7/hb72kbf512b39m7j022dflph0000gp/T/ipykernel_10534/2940252066.py:23: SettingWithCopyWarning: \n",
      "A value is trying to be set on a copy of a slice from a DataFrame.\n",
      "Try using .loc[row_indexer,col_indexer] = value instead\n",
      "\n",
      "See the caveats in the documentation: https://pandas.pydata.org/pandas-docs/stable/user_guide/indexing.html#returning-a-view-versus-a-copy\n",
      "  train_df[\"correct\"] = train_labels[\"correct\"]\n",
      "/var/folders/k7/hb72kbf512b39m7j022dflph0000gp/T/ipykernel_10534/2940252066.py:24: SettingWithCopyWarning: \n",
      "A value is trying to be set on a copy of a slice from a DataFrame.\n",
      "Try using .loc[row_indexer,col_indexer] = value instead\n",
      "\n",
      "See the caveats in the documentation: https://pandas.pydata.org/pandas-docs/stable/user_guide/indexing.html#returning-a-view-versus-a-copy\n",
      "  valid_df[\"correct\"] = valid_labels[\"correct\"]\n",
      "2023-05-02 12:18:00.703479: W external/ydf/yggdrasil_decision_forests/learner/gradient_boosted_trees/gradient_boosted_trees.cc:1790] \"goss_alpha\" set but \"sampling_method\" not equal to \"GOSS\".\n",
      "2023-05-02 12:18:00.703500: W external/ydf/yggdrasil_decision_forests/learner/gradient_boosted_trees/gradient_boosted_trees.cc:1800] \"goss_beta\" set but \"sampling_method\" not equal to \"GOSS\".\n",
      "2023-05-02 12:18:00.703505: W external/ydf/yggdrasil_decision_forests/learner/gradient_boosted_trees/gradient_boosted_trees.cc:1814] \"selective_gradient_boosting_ratio\" set but \"sampling_method\" not equal to \"SELGB\".\n",
      "[INFO 2023-05-02T12:18:02.187636+02:00 kernel.cc:1214] Loading model from path /var/folders/k7/hb72kbf512b39m7j022dflph0000gp/T/tmpow2a00t5/model/ with prefix f8865f052dbf4440\n",
      "[INFO 2023-05-02T12:18:02.190718+02:00 abstract_model.cc:1312] Engine \"GradientBoostedTreesQuickScorerExtended\" built\n",
      "[INFO 2023-05-02T12:18:02.190748+02:00 kernel.cc:1046] Use fast generic engine\n"
     ]
    },
    {
     "name": "stdout",
     "output_type": "stream",
     "text": [
      "5/5 [==============================] - 0s 16ms/step - loss: 0.0000e+00 - accuracy: 0.7027\n",
      "5/5 [==============================] - 0s 17ms/step\n",
      "### q_no 18 grp 13-22\n"
     ]
    },
    {
     "name": "stderr",
     "output_type": "stream",
     "text": [
      "/var/folders/k7/hb72kbf512b39m7j022dflph0000gp/T/ipykernel_10534/2940252066.py:23: SettingWithCopyWarning: \n",
      "A value is trying to be set on a copy of a slice from a DataFrame.\n",
      "Try using .loc[row_indexer,col_indexer] = value instead\n",
      "\n",
      "See the caveats in the documentation: https://pandas.pydata.org/pandas-docs/stable/user_guide/indexing.html#returning-a-view-versus-a-copy\n",
      "  train_df[\"correct\"] = train_labels[\"correct\"]\n",
      "/var/folders/k7/hb72kbf512b39m7j022dflph0000gp/T/ipykernel_10534/2940252066.py:24: SettingWithCopyWarning: \n",
      "A value is trying to be set on a copy of a slice from a DataFrame.\n",
      "Try using .loc[row_indexer,col_indexer] = value instead\n",
      "\n",
      "See the caveats in the documentation: https://pandas.pydata.org/pandas-docs/stable/user_guide/indexing.html#returning-a-view-versus-a-copy\n",
      "  valid_df[\"correct\"] = valid_labels[\"correct\"]\n",
      "2023-05-02 12:18:03.442013: W external/ydf/yggdrasil_decision_forests/learner/gradient_boosted_trees/gradient_boosted_trees.cc:1790] \"goss_alpha\" set but \"sampling_method\" not equal to \"GOSS\".\n",
      "2023-05-02 12:18:03.442045: W external/ydf/yggdrasil_decision_forests/learner/gradient_boosted_trees/gradient_boosted_trees.cc:1800] \"goss_beta\" set but \"sampling_method\" not equal to \"GOSS\".\n",
      "2023-05-02 12:18:03.442051: W external/ydf/yggdrasil_decision_forests/learner/gradient_boosted_trees/gradient_boosted_trees.cc:1814] \"selective_gradient_boosting_ratio\" set but \"sampling_method\" not equal to \"SELGB\".\n",
      "[INFO 2023-05-02T12:18:07.186842+02:00 kernel.cc:1214] Loading model from path /var/folders/k7/hb72kbf512b39m7j022dflph0000gp/T/tmpb75c5kd_/model/ with prefix 60066951063a45c3\n",
      "[INFO 2023-05-02T12:18:07.198457+02:00 kernel.cc:1046] Use fast generic engine\n"
     ]
    },
    {
     "name": "stdout",
     "output_type": "stream",
     "text": [
      "5/5 [==============================] - 0s 17ms/step - loss: 0.0000e+00 - accuracy: 0.9501\n",
      "5/5 [==============================] - 0s 17ms/step\n"
     ]
    }
   ],
   "source": [
    "# Iterate through questions 1 to 18 to train models for each question, evaluate\n",
    "# the trained model and store the predicted values.\n",
    "for q_no in range(1,19):\n",
    "\n",
    "    # Select level group for the question based on the q_no.\n",
    "    if q_no<=3: grp = '0-4'\n",
    "    elif q_no<=13: grp = '5-12'\n",
    "    elif q_no<=22: grp = '13-22'\n",
    "    print(\"### q_no\", q_no, \"grp\", grp)\n",
    "    \n",
    "        \n",
    "    # Filter the rows in the datasets based on the selected level group. \n",
    "    train_df = train_x.loc[train_x.level_group == grp]\n",
    "    train_users = train_df.index.values\n",
    "    valid_df = valid_x.loc[valid_x.level_group == grp]\n",
    "    valid_users = valid_df.index.values\n",
    "\n",
    "    # Select the labels for the related q_no.\n",
    "    train_labels = labels.loc[labels.q==q_no].set_index('session').loc[train_users]\n",
    "    valid_labels = labels.loc[labels.q==q_no].set_index('session').loc[valid_users]\n",
    "\n",
    "    # Add the label to the filtered datasets.\n",
    "    train_df[\"correct\"] = train_labels[\"correct\"]\n",
    "    valid_df[\"correct\"] = valid_labels[\"correct\"]\n",
    "\n",
    "    # There's one more step required before we can train the model. \n",
    "    # We need to convert the datatset from Pandas format (pd.DataFrame)\n",
    "    # into TensorFlow Datasets format (tf.data.Dataset).\n",
    "    # TensorFlow Datasets is a high performance data loading library \n",
    "    # which is helpful when training neural networks with accelerators like GPUs and TPUs.\n",
    "    # We are omitting `level_group`, since it is not needed for training anymore.\n",
    "    train_ds = tfdf.keras.pd_dataframe_to_tf_dataset(train_df.loc[:, train_df.columns != 'level_group'], label=\"correct\")\n",
    "    valid_ds = tfdf.keras.pd_dataframe_to_tf_dataset(valid_df.loc[:, valid_df.columns != 'level_group'], label=\"correct\")\n",
    "\n",
    "    # We will now create the Gradient Boosted Trees Model with default settings. \n",
    "    # By default the model is set to train for a classification task.\n",
    "    gbtm = tfdf.keras.GradientBoostedTreesModel(verbose=0)\n",
    "    gbtm.compile(metrics=[\"accuracy\"])\n",
    "\n",
    "    # Train the model.\n",
    "    gbtm.fit(x=train_ds)\n",
    "\n",
    "    # Store the model\n",
    "    models[f'{grp}_{q_no}'] = gbtm\n",
    "\n",
    "    # Evaluate the trained model on the validation dataset and store the \n",
    "    # evaluation accuracy in the `evaluation_dict`.\n",
    "    inspector = gbtm.make_inspector()\n",
    "    inspector.evaluation()\n",
    "    evaluation = gbtm.evaluate(x=valid_ds,return_dict=True)\n",
    "    evaluation_dict[q_no] = evaluation[\"accuracy\"]         \n",
    "\n",
    "    # Use the trained model to make predictions on the validation dataset and \n",
    "    # store the predicted values in the `prediction_df` dataframe.\n",
    "    predict = gbtm.predict(x=valid_ds)\n",
    "    prediction_df.loc[valid_users, q_no-1] = predict.flatten()     "
   ]
  },
  {
   "attachments": {},
   "cell_type": "markdown",
   "metadata": {
    "pycharm": {
     "name": "#%% md\n"
    }
   },
   "source": [
    "#### If error at dataframe.drop() occurs, do the following:\n",
    "1. open this file in text editor:\n",
    "      ../anaconda3/envs/tf_df/lib/python3.9/site-packages/tensorflow_decision_forests/keras/core_inference.py\n",
    "2. find the line:\n",
    "      features_dataframe = dataframe.drop(label, 1)\n",
    "3. replace it with:\n",
    "      features_dataframe = dataframe.drop(label, axis=1)\n",
    "4. save the file\n",
    "5. restart the kernel"
   ]
  },
  {
   "cell_type": "markdown",
   "metadata": {
    "id": "oOdr1p-Bn2PF",
    "pycharm": {
     "name": "#%% md\n"
    }
   },
   "source": [
    "# Inspect the Accuracy of the models.\n",
    "\n",
    "We trained a model for each question. Now let us check the accuracy of each model and overall accuracy for all the models combined. \n",
    "\n",
    "Note: Since the label distribution is imbalanced, we can't make an assumption on the model performance from accuracy score alone. "
   ]
  },
  {
   "cell_type": "code",
   "execution_count": 20,
   "metadata": {
    "execution": {
     "iopub.execute_input": "2023-04-11T14:52:34.745979Z",
     "iopub.status.busy": "2023-04-11T14:52:34.745474Z",
     "iopub.status.idle": "2023-04-11T14:52:34.753017Z",
     "shell.execute_reply": "2023-04-11T14:52:34.751991Z",
     "shell.execute_reply.started": "2023-04-11T14:52:34.745937Z"
    },
    "id": "qPOfPkm7n2PG",
    "trusted": true,
    "pycharm": {
     "name": "#%%\n"
    }
   },
   "outputs": [
    {
     "name": "stdout",
     "output_type": "stream",
     "text": [
      "question 1: accuracy 0.7286\n",
      "question 2: accuracy 0.9748\n",
      "question 3: accuracy 0.9351\n",
      "question 4: accuracy 0.7957\n",
      "question 5: accuracy 0.6319\n",
      "question 6: accuracy 0.7885\n",
      "question 7: accuracy 0.7456\n",
      "question 8: accuracy 0.6355\n",
      "question 9: accuracy 0.7647\n",
      "question 10: accuracy 0.6109\n",
      "question 11: accuracy 0.6522\n",
      "question 12: accuracy 0.8695\n",
      "question 13: accuracy 0.7218\n",
      "question 14: accuracy 0.7337\n",
      "question 15: accuracy 0.6166\n",
      "question 16: accuracy 0.7488\n",
      "question 17: accuracy 0.7027\n",
      "question 18: accuracy 0.9501\n",
      "\n",
      "Average accuracy 0.755923330783844\n"
     ]
    }
   ],
   "source": [
    "for name, value in evaluation_dict.items():\n",
    "  print(f\"question {name}: accuracy {value:.4f}\")\n",
    "\n",
    "print(\"\\nAverage accuracy\", sum(evaluation_dict.values())/18)"
   ]
  },
  {
   "cell_type": "markdown",
   "metadata": {
    "id": "qtiCtfNCn2PG",
    "pycharm": {
     "name": "#%% md\n"
    }
   },
   "source": [
    "# Visualize the model\n",
    "\n",
    "One benefit of tree-based models is that we can easily visualize them. The default number of trees used in the Random Forests is 300. \n",
    "\n",
    "Let us pick one model from `models` dict and select a tree to display below."
   ]
  },
  {
   "cell_type": "code",
   "execution_count": 21,
   "metadata": {
    "execution": {
     "iopub.execute_input": "2023-04-11T14:52:43.602581Z",
     "iopub.status.busy": "2023-04-11T14:52:43.602162Z",
     "iopub.status.idle": "2023-04-11T14:52:43.618124Z",
     "shell.execute_reply": "2023-04-11T14:52:43.616740Z",
     "shell.execute_reply.started": "2023-04-11T14:52:43.602545Z"
    },
    "id": "od__6uAan2PG",
    "trusted": true,
    "pycharm": {
     "name": "#%%\n"
    }
   },
   "outputs": [
    {
     "data": {
      "text/plain": "<IPython.core.display.HTML object>",
      "text/html": "\n<script src=\"https://d3js.org/d3.v6.min.js\"></script>\n<div id=\"tree_plot_e76a50bf5d6a4c12b146c19b65a5a842\"></div>\n<script>\n/*\n * Copyright 2021 Google LLC.\n * Licensed under the Apache License, Version 2.0 (the \"License\");\n * you may not use this file except in compliance with the License.\n * You may obtain a copy of the License at\n *\n *     https://www.apache.org/licenses/LICENSE-2.0\n *\n * Unless required by applicable law or agreed to in writing, software\n * distributed under the License is distributed on an \"AS IS\" BASIS,\n * WITHOUT WARRANTIES OR CONDITIONS OF ANY KIND, either express or implied.\n * See the License for the specific language governing permissions and\n * limitations under the License.\n */\n\n/**\n *  Plotting of decision trees generated by TF-DF.\n *\n *  A tree is a recursive structure of node objects.\n *  A node contains one or more of the following components:\n *\n *    - A value: Representing the output of the node. If the node is not a leaf,\n *      the value is only present for analysis i.e. it is not used for\n *      predictions.\n *\n *    - A condition : For non-leaf nodes, the condition (also known as split)\n *      defines a binary test to branch to the positive or negative child.\n *\n *    - An explanation: Generally a plot showing the relation between the label\n *      and the condition to give insights about the effect of the condition.\n *\n *    - Two children : For non-leaf nodes, the children nodes. The first\n *      children (i.e. \"node.children[0]\") is the negative children (drawn in\n *      red). The second children is the positive one (drawn in green).\n *\n */\n\n/**\n * Plots a single decision tree into a DOM element.\n * @param {!options} options Dictionary of configurations.\n * @param {!tree} raw_tree Recursive tree structure.\n * @param {string} canvas_id Id of the output dom element.\n */\nfunction display_tree(options, raw_tree, canvas_id) {\n  console.log(options);\n\n  // Determine the node placement.\n  const tree_struct = d3.tree().nodeSize(\n      [options.node_y_offset, options.node_x_offset])(d3.hierarchy(raw_tree));\n\n  // Boundaries of the node placement.\n  let x_min = Infinity;\n  let x_max = -x_min;\n  let y_min = Infinity;\n  let y_max = -x_min;\n\n  tree_struct.each(d => {\n    if (d.x > x_max) x_max = d.x;\n    if (d.x < x_min) x_min = d.x;\n    if (d.y > y_max) y_max = d.y;\n    if (d.y < y_min) y_min = d.y;\n  });\n\n  // Size of the plot.\n  const width = y_max - y_min + options.node_x_size + options.margin * 2;\n  const height = x_max - x_min + options.node_y_size + options.margin * 2 +\n      options.node_y_offset - options.node_y_size;\n\n  const plot = d3.select(canvas_id);\n\n  // Tool tip\n  options.tooltip = plot.append('div')\n                        .attr('width', 100)\n                        .attr('height', 100)\n                        .style('padding', '4px')\n                        .style('background', '#fff')\n                        .style('box-shadow', '4px 4px 0px rgba(0,0,0,0.1)')\n                        .style('border', '1px solid black')\n                        .style('font-family', 'sans-serif')\n                        .style('font-size', options.font_size)\n                        .style('position', 'absolute')\n                        .style('z-index', '10')\n                        .attr('pointer-events', 'none')\n                        .style('display', 'none');\n\n  // Create canvas\n  const svg = plot.append('svg').attr('width', width).attr('height', height);\n  const graph =\n      svg.style('overflow', 'visible')\n          .append('g')\n          .attr('font-family', 'sans-serif')\n          .attr('font-size', options.font_size)\n          .attr(\n              'transform',\n              () => `translate(${options.margin},${\n                  - x_min + options.node_y_offset / 2 + options.margin})`);\n\n  // Plot bounding box.\n  if (options.show_plot_bounding_box) {\n    svg.append('rect')\n        .attr('width', width)\n        .attr('height', height)\n        .attr('fill', 'none')\n        .attr('stroke-width', 1.0)\n        .attr('stroke', 'black');\n  }\n\n  // Draw the edges.\n  display_edges(options, graph, tree_struct);\n\n  // Draw the nodes.\n  display_nodes(options, graph, tree_struct);\n}\n\n/**\n * Draw the nodes of the tree.\n * @param {!options} options Dictionary of configurations.\n * @param {!graph} graph D3 search handle containing the graph.\n * @param {!tree_struct} tree_struct Structure of the tree (node placement,\n *     data, etc.).\n */\nfunction display_nodes(options, graph, tree_struct) {\n  const nodes = graph.append('g')\n                    .selectAll('g')\n                    .data(tree_struct.descendants())\n                    .join('g')\n                    .attr('transform', d => `translate(${d.y},${d.x})`);\n\n  nodes.append('rect')\n      .attr('x', 0.5)\n      .attr('y', 0.5)\n      .attr('width', options.node_x_size)\n      .attr('height', options.node_y_size)\n      .attr('stroke', 'lightgrey')\n      .attr('stroke-width', 1)\n      .attr('fill', 'white')\n      .attr('y', -options.node_y_size / 2);\n\n  // Brackets on the right of condition nodes without children.\n  non_leaf_node_without_children =\n      nodes.filter(node => node.data.condition != null && node.children == null)\n          .append('g')\n          .attr('transform', `translate(${options.node_x_size},0)`);\n\n  non_leaf_node_without_children.append('path')\n      .attr('d', 'M0,0 C 10,0 0,10 10,10')\n      .attr('fill', 'none')\n      .attr('stroke-width', 1.0)\n      .attr('stroke', '#F00');\n\n  non_leaf_node_without_children.append('path')\n      .attr('d', 'M0,0 C 10,0 0,-10 10,-10')\n      .attr('fill', 'none')\n      .attr('stroke-width', 1.0)\n      .attr('stroke', '#0F0');\n\n  const node_content = nodes.append('g').attr(\n      'transform',\n      `translate(0,${options.node_padding - options.node_y_size / 2})`);\n\n  node_content.append(node => create_node_element(options, node));\n}\n\n/**\n * Creates the D3 content for a single node.\n * @param {!options} options Dictionary of configurations.\n * @param {!node} node Node to draw.\n * @return {!d3} D3 content.\n */\nfunction create_node_element(options, node) {\n  // Output accumulator.\n  let output = {\n    // Content to draw.\n    content: d3.create('svg:g'),\n    // Vertical offset to the next element to draw.\n    vertical_offset: 0\n  };\n\n  // Conditions.\n  if (node.data.condition != null) {\n    display_condition(options, node.data.condition, output);\n  }\n\n  // Values.\n  if (node.data.value != null) {\n    display_value(options, node.data.value, output);\n  }\n\n  // Explanations.\n  if (node.data.explanation != null) {\n    display_explanation(options, node.data.explanation, output);\n  }\n\n  return output.content.node();\n}\n\n\n/**\n * Adds a single line of text inside of a node.\n * @param {!options} options Dictionary of configurations.\n * @param {string} text Text to display.\n * @param {!output} output Output display accumulator.\n */\nfunction display_node_text(options, text, output) {\n  output.content.append('text')\n      .attr('x', options.node_padding)\n      .attr('y', output.vertical_offset)\n      .attr('alignment-baseline', 'hanging')\n      .text(text);\n  output.vertical_offset += 10;\n}\n\n/**\n * Adds a single line of text inside of a node with a tooltip.\n * @param {!options} options Dictionary of configurations.\n * @param {string} text Text to display.\n * @param {string} tooltip Text in the Tooltip.\n * @param {!output} output Output display accumulator.\n */\nfunction display_node_text_with_tooltip(options, text, tooltip, output) {\n  const item = output.content.append('text')\n                   .attr('x', options.node_padding)\n                   .attr('alignment-baseline', 'hanging')\n                   .text(text);\n\n  add_tooltip(options, item, () => tooltip);\n  output.vertical_offset += 10;\n}\n\n/**\n * Adds a tooltip to a dom element.\n * @param {!options} options Dictionary of configurations.\n * @param {!dom} target Dom element to equip with a tooltip.\n * @param {!func} get_content Generates the html content of the tooltip.\n */\nfunction add_tooltip(options, target, get_content) {\n  function show(d) {\n    options.tooltip.style('display', 'block');\n    options.tooltip.html(get_content());\n  }\n\n  function hide(d) {\n    options.tooltip.style('display', 'none');\n  }\n\n  function move(d) {\n    options.tooltip.style('display', 'block');\n    options.tooltip.style('left', (d.pageX + 5) + 'px');\n    options.tooltip.style('top', d.pageY + 'px');\n  }\n\n  target.on('mouseover', show);\n  target.on('mouseout', hide);\n  target.on('mousemove', move);\n}\n\n/**\n * Adds a condition inside of a node.\n * @param {!options} options Dictionary of configurations.\n * @param {!condition} condition Condition to display.\n * @param {!output} output Output display accumulator.\n */\nfunction display_condition(options, condition, output) {\n  threshold_format = d3.format('r');\n\n  if (condition.type === 'IS_MISSING') {\n    display_node_text(options, `${condition.attribute} is missing`, output);\n    return;\n  }\n\n  if (condition.type === 'IS_TRUE') {\n    display_node_text(options, `${condition.attribute} is true`, output);\n    return;\n  }\n\n  if (condition.type === 'NUMERICAL_IS_HIGHER_THAN') {\n    format = d3.format('r');\n    display_node_text(\n        options,\n        `${condition.attribute} >= ${threshold_format(condition.threshold)}`,\n        output);\n    return;\n  }\n\n  if (condition.type === 'CATEGORICAL_IS_IN') {\n    display_node_text_with_tooltip(\n        options, `${condition.attribute} in [...]`,\n        `${condition.attribute} in [${condition.mask}]`, output);\n    return;\n  }\n\n  if (condition.type === 'CATEGORICAL_SET_CONTAINS') {\n    display_node_text_with_tooltip(\n        options, `${condition.attribute} intersect [...]`,\n        `${condition.attribute} intersect [${condition.mask}]`, output);\n    return;\n  }\n\n  if (condition.type === 'NUMERICAL_SPARSE_OBLIQUE') {\n    display_node_text_with_tooltip(\n        options, `Sparse oblique split...`,\n        `[${condition.attributes}]*[${condition.weights}]>=${\n            threshold_format(condition.threshold)}`,\n        output);\n    return;\n  }\n\n  display_node_text(\n      options, `Non supported condition ${condition.type}`, output);\n}\n\n/**\n * Adds a value inside of a node.\n * @param {!options} options Dictionary of configurations.\n * @param {!value} value Value to display.\n * @param {!output} output Output display accumulator.\n */\nfunction display_value(options, value, output) {\n  if (value.type === 'PROBABILITY') {\n    const left_margin = 0;\n    const right_margin = 50;\n    const plot_width = options.node_x_size - options.node_padding * 2 -\n        left_margin - right_margin;\n\n    let cusum = Array.from(d3.cumsum(value.distribution));\n    cusum.unshift(0);\n    const distribution_plot = output.content.append('g').attr(\n        'transform', `translate(0,${output.vertical_offset + 0.5})`);\n\n    distribution_plot.selectAll('rect')\n        .data(value.distribution)\n        .join('rect')\n        .attr('height', 10)\n        .attr(\n            'x',\n            (d, i) =>\n                (cusum[i] * plot_width + left_margin + options.node_padding))\n        .attr('width', (d, i) => d * plot_width)\n        .style('fill', (d, i) => d3.schemeSet1[i]);\n\n    const num_examples =\n        output.content.append('g')\n            .attr('transform', `translate(0,${output.vertical_offset})`)\n            .append('text')\n            .attr('x', options.node_x_size - options.node_padding)\n            .attr('alignment-baseline', 'hanging')\n            .attr('text-anchor', 'end')\n            .text(`(${value.num_examples})`);\n\n    const distribution_details = d3.create('ul');\n    distribution_details.selectAll('li')\n        .data(value.distribution)\n        .join('li')\n        .append('span')\n        .text(\n            (d, i) =>\n                'class ' + i + ': ' + d3.format('.3%')(value.distribution[i]));\n\n    add_tooltip(options, distribution_plot, () => distribution_details.html());\n    add_tooltip(options, num_examples, () => 'Number of examples');\n\n    output.vertical_offset += 10;\n    return;\n  }\n\n  if (value.type === 'REGRESSION') {\n    display_node_text(\n        options,\n        'value: ' + d3.format('r')(value.value) + ` (` +\n            d3.format('.6')(value.num_examples) + `)`,\n        output);\n    return;\n  }\n\n  display_node_text(options, `Non supported value ${value.type}`, output);\n}\n\n/**\n * Adds an explanation inside of a node.\n * @param {!options} options Dictionary of configurations.\n * @param {!explanation} explanation Explanation to display.\n * @param {!output} output Output display accumulator.\n */\nfunction display_explanation(options, explanation, output) {\n  // Margin before the explanation.\n  output.vertical_offset += 10;\n\n  display_node_text(\n      options, `Non supported explanation ${explanation.type}`, output);\n}\n\n\n/**\n * Draw the edges of the tree.\n * @param {!options} options Dictionary of configurations.\n * @param {!graph} graph D3 search handle containing the graph.\n * @param {!tree_struct} tree_struct Structure of the tree (node placement,\n *     data, etc.).\n */\nfunction display_edges(options, graph, tree_struct) {\n  // Draw an edge between a parent and a child node with a bezier.\n  function draw_single_edge(d) {\n    return 'M' + (d.source.y + options.node_x_size) + ',' + d.source.x + ' C' +\n        (d.source.y + options.node_x_size + options.edge_rounding) + ',' +\n        d.source.x + ' ' + (d.target.y - options.edge_rounding) + ',' +\n        d.target.x + ' ' + d.target.y + ',' + d.target.x;\n  }\n\n  graph.append('g')\n      .attr('fill', 'none')\n      .attr('stroke-width', 1.2)\n      .selectAll('path')\n      .data(tree_struct.links())\n      .join('path')\n      .attr('d', draw_single_edge)\n      .attr(\n          'stroke', d => (d.target === d.source.children[0]) ? '#0F0' : '#F00');\n}\n\ndisplay_tree({\"margin\": 10, \"node_x_size\": 160, \"node_y_size\": 28, \"node_x_offset\": 180, \"node_y_offset\": 33, \"font_size\": 10, \"edge_rounding\": 20, \"node_padding\": 2, \"show_plot_bounding_box\": false}, {\"value\": {\"type\": \"REGRESSION\", \"value\": -2.1855042220408905e-08, \"num_examples\": 16996.0, \"standard_deviation\": 0.4464282663721316}, \"condition\": {\"type\": \"NUMERICAL_IS_HIGHER_THAN\", \"attribute\": \"room_fqid_nunique\", \"threshold\": 6.5}, \"children\": [{\"value\": {\"type\": \"REGRESSION\", \"value\": -0.03232884034514427, \"num_examples\": 6974.0, \"standard_deviation\": 0.4734582323460902}, \"condition\": {\"type\": \"NUMERICAL_IS_HIGHER_THAN\", \"attribute\": \"level\", \"threshold\": 2.1360745429992676}, \"children\": [{\"value\": {\"type\": \"REGRESSION\", \"value\": -0.08538084477186203, \"num_examples\": 1218.0, \"standard_deviation\": 0.4969648976725014}, \"condition\": {\"type\": \"NUMERICAL_IS_HIGHER_THAN\", \"attribute\": \"elapsed_time\", \"threshold\": 184100.90625}, \"children\": [{\"value\": {\"type\": \"REGRESSION\", \"value\": -0.11555054038763046, \"num_examples\": 586.0, \"standard_deviation\": 0.4999738045551828}, \"condition\": {\"type\": \"NUMERICAL_IS_HIGHER_THAN\", \"attribute\": \"screen_coor_x\", \"threshold\": 398.0360107421875}}, {\"value\": {\"type\": \"REGRESSION\", \"value\": -0.057407040148973465, \"num_examples\": 632.0, \"standard_deviation\": 0.48757804095503127}, \"condition\": {\"type\": \"NUMERICAL_IS_HIGHER_THAN\", \"attribute\": \"room_coor_x\", \"threshold\": -49.48102569580078}}]}, {\"value\": {\"type\": \"REGRESSION\", \"value\": -0.021102752536535263, \"num_examples\": 5756.0, \"standard_deviation\": 0.4652628709179715}, \"condition\": {\"type\": \"NUMERICAL_IS_HIGHER_THAN\", \"attribute\": \"name_nunique\", \"threshold\": 3.5}, \"children\": [{\"value\": {\"type\": \"REGRESSION\", \"value\": -0.033657096326351166, \"num_examples\": 4121.0, \"standard_deviation\": 0.47434872181742194}, \"condition\": {\"type\": \"NUMERICAL_IS_HIGHER_THAN\", \"attribute\": \"level\", \"threshold\": 1.9388999938964844}}, {\"value\": {\"type\": \"REGRESSION\", \"value\": 0.01054033637046814, \"num_examples\": 1635.0, \"standard_deviation\": 0.43519732411605905}, \"condition\": {\"type\": \"NUMERICAL_IS_HIGHER_THAN\", \"attribute\": \"room_coor_y_std\", \"threshold\": 117.21273803710938}}]}]}, {\"value\": {\"type\": \"REGRESSION\", \"value\": 0.022496601566672325, \"num_examples\": 10022.0, \"standard_deviation\": 0.420828676514388}, \"condition\": {\"type\": \"NUMERICAL_IS_HIGHER_THAN\", \"attribute\": \"page_std\", \"threshold\": -0.5}, \"children\": [{\"value\": {\"type\": \"REGRESSION\", \"value\": 0.004670690279453993, \"num_examples\": 4945.0, \"standard_deviation\": 0.4416100991831687}, \"condition\": {\"type\": \"NUMERICAL_IS_HIGHER_THAN\", \"attribute\": \"screen_coor_x_std\", \"threshold\": 255.74615478515625}, \"children\": [{\"value\": {\"type\": \"REGRESSION\", \"value\": 0.02452477253973484, \"num_examples\": 1996.0, \"standard_deviation\": 0.4182076622723715}, \"condition\": {\"type\": \"NUMERICAL_IS_HIGHER_THAN\", \"attribute\": \"level\", \"threshold\": 2.1232266426086426}}, {\"value\": {\"type\": \"REGRESSION\", \"value\": -0.008767339400947094, \"num_examples\": 2949.0, \"standard_deviation\": 0.4548205663494899}, \"condition\": {\"type\": \"NUMERICAL_IS_HIGHER_THAN\", \"attribute\": \"level\", \"threshold\": 2.008774995803833}}]}, {\"value\": {\"type\": \"REGRESSION\", \"value\": 0.039859045296907425, \"num_examples\": 5077.0, \"standard_deviation\": 0.3965013889084953}, \"condition\": {\"type\": \"NUMERICAL_IS_HIGHER_THAN\", \"attribute\": \"elapsed_time_std\", \"threshold\": 37676.99609375}, \"children\": [{\"value\": {\"type\": \"REGRESSION\", \"value\": 0.04867090657353401, \"num_examples\": 3897.0, \"standard_deviation\": 0.3823688238875233}, \"condition\": {\"type\": \"NUMERICAL_IS_HIGHER_THAN\", \"attribute\": \"level_std\", \"threshold\": 1.1658055782318115}}, {\"value\": {\"type\": \"REGRESSION\", \"value\": 0.010757498443126678, \"num_examples\": 1180.0, \"standard_deviation\": 0.43495221890069613}, \"condition\": {\"type\": \"NUMERICAL_IS_HIGHER_THAN\", \"attribute\": \"level\", \"threshold\": 1.7549023628234863}}]}]}]}, \"#tree_plot_e76a50bf5d6a4c12b146c19b65a5a842\")\n</script>\n"
     },
     "execution_count": 21,
     "metadata": {},
     "output_type": "execute_result"
    }
   ],
   "source": [
    "tfdf.model_plotter.plot_model_in_colab(models['0-4_1'], tree_idx=0, max_depth=3)"
   ]
  },
  {
   "cell_type": "markdown",
   "metadata": {
    "id": "emVV6509n2PG",
    "pycharm": {
     "name": "#%% md\n"
    }
   },
   "source": [
    "# Variable importances\n",
    "\n",
    "Variable importances generally indicate how much a feature contributes to the model predictions or quality. There are several ways to identify important features using TensorFlow Decision Forests. Let us pick one model from models dict and inspect it.\n",
    "\n",
    "Let us list the available Variable Importances for Decision Trees:"
   ]
  },
  {
   "cell_type": "code",
   "execution_count": 22,
   "metadata": {
    "execution": {
     "iopub.execute_input": "2023-04-11T14:53:02.386699Z",
     "iopub.status.busy": "2023-04-11T14:53:02.386273Z",
     "iopub.status.idle": "2023-04-11T14:53:02.395883Z",
     "shell.execute_reply": "2023-04-11T14:53:02.394846Z",
     "shell.execute_reply.started": "2023-04-11T14:53:02.386662Z"
    },
    "id": "d_gvL9nbn2PH",
    "trusted": true,
    "pycharm": {
     "name": "#%%\n"
    }
   },
   "outputs": [
    {
     "name": "stdout",
     "output_type": "stream",
     "text": [
      "Available variable importances:\n",
      "\t INV_MEAN_MIN_DEPTH\n",
      "\t SUM_SCORE\n",
      "\t NUM_AS_ROOT\n",
      "\t NUM_NODES\n"
     ]
    }
   ],
   "source": [
    "inspector = models['0-4_1'].make_inspector()\n",
    "\n",
    "print(f\"Available variable importances:\")\n",
    "for importance in inspector.variable_importances().keys():\n",
    "  print(\"\\t\", importance)"
   ]
  },
  {
   "cell_type": "markdown",
   "metadata": {
    "id": "rnfYz_aGn2PH",
    "pycharm": {
     "name": "#%% md\n"
    }
   },
   "source": [
    "As an example, let us display the important features for the Variable Importance NUM_AS_ROOT.\n",
    "\n",
    "The larger the importance score for NUM_AS_ROOT, the more impact it has on the outcome of the model for Question 1(i.e., model\\[\"0-4_1\"\\]).\n",
    "\n",
    "By default, the list is sorted from the most important to the least. From the output you can infer that the feature at the top of the list is used as the root node in most number of trees in the gradient boosted trees  than any other feature."
   ]
  },
  {
   "cell_type": "code",
   "execution_count": 23,
   "metadata": {
    "execution": {
     "iopub.execute_input": "2023-04-11T14:53:46.073505Z",
     "iopub.status.busy": "2023-04-11T14:53:46.073080Z",
     "iopub.status.idle": "2023-04-11T14:53:46.082043Z",
     "shell.execute_reply": "2023-04-11T14:53:46.080811Z",
     "shell.execute_reply.started": "2023-04-11T14:53:46.073468Z"
    },
    "id": "ZDsxqRrwn2PH",
    "trusted": true,
    "pycharm": {
     "name": "#%%\n"
    }
   },
   "outputs": [
    {
     "data": {
      "text/plain": "[(\"room_fqid_nunique\" (1; #16), 9.0),\n (\"name_nunique\" (1; #9), 8.0),\n (\"level\" (1; #7), 5.0),\n (\"text_fqid_nunique\" (1; #21), 5.0),\n (\"hover_duration_std\" (1; #6), 4.0),\n (\"screen_coor_x_std\" (1; #18), 4.0),\n (\"elapsed_time\" (1; #1), 2.0),\n (\"page_std\" (1; #11), 2.0),\n (\"room_coor_x\" (1; #12), 2.0),\n (\"event_name_nunique\" (1; #3), 1.0),\n (\"page\" (1; #10), 1.0),\n (\"room_coor_y_std\" (1; #15), 1.0)]"
     },
     "execution_count": 23,
     "metadata": {},
     "output_type": "execute_result"
    }
   ],
   "source": [
    "# Each line is: (feature name, (index of the feature), importance score)\n",
    "inspector.variable_importances()[\"NUM_AS_ROOT\"]"
   ]
  },
  {
   "cell_type": "markdown",
   "metadata": {
    "id": "PIK5aUH-n2PH",
    "pycharm": {
     "name": "#%% md\n"
    }
   },
   "source": [
    "# Threshold-Moving for Imbalanced Classification\n",
    "\n",
    "Since the values of the column `correct` is fairly imbalanced, using the default threshold of `0.5` to map the predictions into classes 0 or 1 can result in poor performance. \n",
    "In such cases, to improve performance we will calculate the `F1 score` for a certain range of thresholds and try to find the best threshold aka, threshold with highest `F1 score`. Then we will use this threshold to map the predicted probabilities to class labels 0 or 1.\n",
    "\n",
    "Please note that we are using `F1 score` since it is a better metric than `accuracy` to evaluate problems with class imbalance."
   ]
  },
  {
   "cell_type": "code",
   "execution_count": 24,
   "metadata": {
    "execution": {
     "iopub.execute_input": "2023-04-11T15:03:33.348866Z",
     "iopub.status.busy": "2023-04-11T15:03:33.348399Z",
     "iopub.status.idle": "2023-04-11T15:03:34.525896Z",
     "shell.execute_reply": "2023-04-11T15:03:34.524896Z",
     "shell.execute_reply.started": "2023-04-11T15:03:33.348829Z"
    },
    "id": "2wptRs3In2PH",
    "trusted": true,
    "pycharm": {
     "name": "#%%\n"
    }
   },
   "outputs": [
    {
     "name": "stdout",
     "output_type": "stream",
     "text": [
      "Best threshold  0.6300000000000002 \tF1 score  0.67374396\n"
     ]
    }
   ],
   "source": [
    "# Create a dataframe of required size:\n",
    "# (no: of users in validation set x no: of questions) initialized to zero values\n",
    "# to store true values of the label `correct`. \n",
    "true_df = pd.DataFrame(data=np.zeros((len(VALID_USER_LIST),18)), index=VALID_USER_LIST)\n",
    "for i in range(18):\n",
    "    # Get the true labels.\n",
    "    tmp = labels.loc[labels.q == i+1].set_index('session').loc[VALID_USER_LIST]\n",
    "    true_df[i] = tmp.correct.values\n",
    "\n",
    "max_score = 0; best_threshold = 0\n",
    "\n",
    "# Loop through threshold values from 0.4 to 0.8 and select the threshold with \n",
    "# the highest `F1 score`.\n",
    "for threshold in np.arange(0.4,0.8,0.01):\n",
    "    metric = tfa.metrics.F1Score(num_classes=2,average=\"macro\",threshold=threshold)\n",
    "    y_true = tf.one_hot(true_df.values.reshape((-1)), depth=2)\n",
    "    y_pred = tf.one_hot((prediction_df.values.reshape((-1))>threshold).astype('int'), depth=2)\n",
    "    metric.update_state(y_true, y_pred)\n",
    "    f1_score = metric.result().numpy()\n",
    "    if f1_score > max_score:\n",
    "        max_score = f1_score\n",
    "        best_threshold = threshold\n",
    "        \n",
    "print(\"Best threshold \", best_threshold, \"\\tF1 score \", max_score)"
   ]
  },
  {
   "cell_type": "markdown",
   "metadata": {
    "id": "ezA40GQ4n2PH",
    "pycharm": {
     "name": "#%% md\n"
    }
   },
   "source": [
    "# Submission\n",
    "\n",
    "Here you'll use the `best_threshold` calculate in the previous cell"
   ]
  },
  {
   "cell_type": "code",
   "execution_count": 25,
   "metadata": {
    "execution": {
     "iopub.execute_input": "2023-04-11T15:07:46.993288Z",
     "iopub.status.busy": "2023-04-11T15:07:46.992778Z",
     "iopub.status.idle": "2023-04-11T15:07:48.902986Z",
     "shell.execute_reply": "2023-04-11T15:07:48.901928Z",
     "shell.execute_reply.started": "2023-04-11T15:07:46.993246Z"
    },
    "id": "gHiXTnTVn2PI",
    "trusted": true,
    "pycharm": {
     "name": "#%%\n"
    }
   },
   "outputs": [
    {
     "ename": "ModuleNotFoundError",
     "evalue": "No module named 'data.raw.jo_wilder.competition'",
     "output_type": "error",
     "traceback": [
      "\u001B[0;31m---------------------------------------------------------------------------\u001B[0m",
      "\u001B[0;31mModuleNotFoundError\u001B[0m                       Traceback (most recent call last)",
      "Cell \u001B[0;32mIn[25], line 6\u001B[0m\n\u001B[1;32m      1\u001B[0m \u001B[38;5;66;03m# Reference\u001B[39;00m\n\u001B[1;32m      2\u001B[0m \u001B[38;5;66;03m# https://www.kaggle.com/code/philculliton/basic-submission-demo\u001B[39;00m\n\u001B[1;32m      3\u001B[0m \u001B[38;5;66;03m# https://www.kaggle.com/code/cdeotte/random-forest-baseline-0-664/notebook\u001B[39;00m\n\u001B[0;32m----> 6\u001B[0m \u001B[38;5;28;01mfrom\u001B[39;00m \u001B[38;5;21;01mdata\u001B[39;00m\u001B[38;5;21;01m.\u001B[39;00m\u001B[38;5;21;01mraw\u001B[39;00m \u001B[38;5;28;01mimport\u001B[39;00m jo_wilder\n\u001B[1;32m      7\u001B[0m env \u001B[38;5;241m=\u001B[39m jo_wilder\u001B[38;5;241m.\u001B[39mmake_env()\n\u001B[1;32m      8\u001B[0m iter_test \u001B[38;5;241m=\u001B[39m env\u001B[38;5;241m.\u001B[39miter_test()\n",
      "File \u001B[0;32m~/Desktop/Drive/2. Areas/University/Master-TUC/M2/4_Forschungsmodul/student-performance/data/raw/jo_wilder/__init__.py:2\u001B[0m\n\u001B[0;32m----> 2\u001B[0m \u001B[38;5;28;01mfrom\u001B[39;00m \u001B[38;5;21;01m.\u001B[39;00m\u001B[38;5;21;01mcompetition\u001B[39;00m \u001B[38;5;28;01mimport\u001B[39;00m make_env\n\u001B[1;32m      4\u001B[0m __all__ \u001B[38;5;241m=\u001B[39m [\u001B[38;5;124m'\u001B[39m\u001B[38;5;124mmake_env\u001B[39m\u001B[38;5;124m'\u001B[39m]\n",
      "\u001B[0;31mModuleNotFoundError\u001B[0m: No module named 'data.raw.jo_wilder.competition'"
     ]
    }
   ],
   "source": [
    "# Reference\n",
    "# https://www.kaggle.com/code/philculliton/basic-submission-demo\n",
    "# https://www.kaggle.com/code/cdeotte/random-forest-baseline-0-664/notebook\n",
    "\n",
    "\n",
    "from data.raw import jo_wilder\n",
    "env = jo_wilder.make_env()\n",
    "iter_test = env.iter_test()\n",
    "\n",
    "limits = {'0-4':(1,4), '5-12':(4,14), '13-22':(14,19)}\n",
    "\n",
    "for (test, sample_submission) in iter_test:\n",
    "    test_df = feature_engineer(test)\n",
    "    grp = test_df.level_group.values[0]\n",
    "    a,b = limits[grp]\n",
    "    for t in range(a,b):\n",
    "        gbtm = models[f'{grp}_{t}']\n",
    "        test_ds = tfdf.keras.pd_dataframe_to_tf_dataset(test_df.loc[:, test_df.columns != 'level_group'])\n",
    "        predictions = gbtm.predict(test_ds)\n",
    "        mask = sample_submission.session_id.str.contains(f'q{t}')\n",
    "        n_predictions = (predictions > best_threshold).astype(int)\n",
    "        sample_submission.loc[mask,'correct'] = n_predictions.flatten()\n",
    "    \n",
    "    env.predict(sample_submission)"
   ]
  },
  {
   "cell_type": "code",
   "execution_count": null,
   "metadata": {
    "execution": {
     "iopub.execute_input": "2023-04-11T15:08:02.438826Z",
     "iopub.status.busy": "2023-04-11T15:08:02.438390Z",
     "iopub.status.idle": "2023-04-11T15:08:03.619129Z",
     "shell.execute_reply": "2023-04-11T15:08:03.617743Z",
     "shell.execute_reply.started": "2023-04-11T15:08:02.438789Z"
    },
    "id": "iYBXokAyn2PI",
    "trusted": true,
    "pycharm": {
     "name": "#%%\n"
    }
   },
   "outputs": [],
   "source": [
    "! head submission.csv"
   ]
  }
 ],
 "metadata": {
  "kernelspec": {
   "display_name": "tf_df",
   "language": "python",
   "name": "python3"
  },
  "language_info": {
   "codemirror_mode": {
    "name": "ipython",
    "version": 3
   },
   "file_extension": ".py",
   "mimetype": "text/x-python",
   "name": "python",
   "nbconvert_exporter": "python",
   "pygments_lexer": "ipython3",
   "version": "3.9.16"
  }
 },
 "nbformat": 4,
 "nbformat_minor": 4
}