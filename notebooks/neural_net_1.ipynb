{
 "cells": [
  {
   "cell_type": "code",
   "execution_count": 3,
   "outputs": [],
   "source": [
    "#import tensorflow as tf\n",
    "\n",
    "import pandas as pd\n",
    "import numpy as np\n",
    "import matplotlib.pyplot as plt\n",
    "import os\n",
    "import seaborn as sns\n",
    "\n",
    "from sklearn.preprocessing import StandardScaler\n",
    "from sklearn.metrics import classification_report\n",
    "\n",
    "from sklearn.model_selection import train_test_split\n",
    "from sklearn import metrics\n",
    "from sklearn.metrics import confusion_matrix, ConfusionMatrixDisplay, accuracy_score\n",
    "from sklearn.model_selection import StratifiedShuffleSplit, cross_val_score, StratifiedKFold\n",
    "\n",
    "from sktime.classification.kernel_based import RocketClassifier\n",
    "from sktime.classification.dictionary_based import MUSE"
   ],
   "metadata": {
    "collapsed": false,
    "pycharm": {
     "name": "#%%\n"
    }
   }
  },
  {
   "cell_type": "code",
   "execution_count": 2,
   "outputs": [
    {
     "name": "stdout",
     "output_type": "stream",
     "text": [
      "Working Directory:  /Users/nzuchna/Desktop/Drive/2. Areas/University/Master-TUC/M2/4_Forschungsmodul/student-performance\n"
     ]
    }
   ],
   "source": [
    "# get working directory and remove last folder\n",
    "wd = os.path.dirname(os.getcwd())\n",
    "os.chdir(wd)\n",
    "print(\"Working Directory: \", os.getcwd())"
   ],
   "metadata": {
    "collapsed": false,
    "pycharm": {
     "name": "#%%\n"
    }
   }
  },
  {
   "cell_type": "markdown",
   "source": [
    "df_0_4 = pd.read_csv('data/processed/df_0_4_flattened.csv')\n",
    "labels = pd.read_csv('data/processed/labels.csv')\n",
    "\n",
    "df_0_4.head(10)"
   ],
   "metadata": {
    "collapsed": false,
    "pycharm": {
     "name": "#%% md\n"
    }
   }
  },
  {
   "cell_type": "markdown",
   "source": [
    "df_edit = df_0_4.drop(columns=['Unnamed: 0', 'level_group_1'])\n",
    "df_edit.head()"
   ],
   "metadata": {
    "collapsed": false,
    "pycharm": {
     "name": "#%% md\n"
    }
   }
  },
  {
   "cell_type": "markdown",
   "source": [
    "#df_edit = df_edit[~df_edit['session_id_1'].isin(labels.session)]\n",
    "#labels = labels[~labels['session'].isin(df_edit.session_id_1)]\n",
    "\n",
    "labels_q1_3 = labels[labels['q'] <= 3]\n",
    "\n",
    "print(df_edit.shape, labels_q1_3.shape)"
   ],
   "metadata": {
    "collapsed": false,
    "pycharm": {
     "name": "#%% md\n"
    }
   }
  },
  {
   "cell_type": "markdown",
   "source": [
    "X1 = df_edit.drop(columns=['session_id_1'])\n",
    "y1 = labels.drop(columns=['session', 'q'])"
   ],
   "metadata": {
    "collapsed": false,
    "pycharm": {
     "name": "#%% md\n"
    }
   }
  },
  {
   "cell_type": "markdown",
   "source": [
    "X_train1, X_test1, y_train1, y_test1 = train_test_split(X1, y1, train_size=.75) # , test_size=0.5\n",
    "print(X_train1.shape, y_train1.shape, X_test1.shape, y_test1.shape)"
   ],
   "metadata": {
    "collapsed": false,
    "pycharm": {
     "name": "#%% md\n"
    }
   }
  },
  {
   "cell_type": "code",
   "execution_count": 4,
   "outputs": [],
   "source": [
    "# X\n",
    "df = pd.read_csv(\"data/processed/df_5_12_flattened.csv\", index_col=0)\n",
    "X = df.iloc[:, 2:].values\n",
    "# X = np.delete(X, 61, 1)\n",
    "\n",
    "# y\n",
    "labels = pd.read_csv(\"data/processed/labels_q4-13.csv\")\n",
    "y = labels['correct'][labels['q'] == 10].values\n",
    "\n",
    "# Creating training and test split\n",
    "X_train, X_test, y_train, y_test = train_test_split(X, y, test_size=0.3, random_state=1, stratify = y)\n",
    "\n",
    "# Feature Scaling\n",
    "\n",
    "sc = StandardScaler()\n",
    "sc.fit(X_train)\n",
    "X_train_std = sc.transform(X_train)\n",
    "X_test_std = sc.transform(X_test)\n",
    "\n",
    "def eval_model(model, cm_title: str, ):\n",
    "    # Model evalutation\n",
    "    y_pred = model.predict(X_test)\n",
    "    # print('Accuracy: %.3f' % accuracy_score(y_test, y_pred))\n",
    "\n",
    "    # fmt='d' formats the numbers as digits, which means integers\n",
    "    cm = confusion_matrix(y_test, y_pred)\n",
    "    hp = sns.heatmap(cm, annot=True, fmt='d')\n",
    "    hp.set_title(f\"Confusion matrix of {cm_title}\")\n",
    "    hp.set(xlabel='Predicted', ylabel='Actual')\n",
    "\n",
    "    print(classification_report(y_test,y_pred))"
   ],
   "metadata": {
    "collapsed": false,
    "pycharm": {
     "name": "#%%\n"
    }
   }
  },
  {
   "cell_type": "code",
   "execution_count": 5,
   "outputs": [
    {
     "name": "stdout",
     "output_type": "stream",
     "text": [
      "Rocket1 Accuracy: 0.5054463148960249\n",
      "CPU times: user 55min 49s, sys: 1min 23s, total: 57min 12s\n",
      "Wall time: 29min 14s\n"
     ]
    }
   ],
   "source": [
    "%%time\n",
    "rocket1 = RocketClassifier()\n",
    "\n",
    "rocket1.fit(X_train, y_train)\n",
    "\n",
    "rocket_preds = rocket1.predict(X_test)\n",
    "print(\"Rocket1 Accuracy: \" + str(metrics.accuracy_score(y_test, rocket_preds)))"
   ],
   "metadata": {
    "collapsed": false,
    "pycharm": {
     "name": "#%%\n"
    }
   }
  },
  {
   "cell_type": "code",
   "execution_count": null,
   "outputs": [],
   "source": [
    "eval_model(rocket1, 'Rocket1')"
   ],
   "metadata": {
    "collapsed": false,
    "pycharm": {
     "name": "#%%\n"
    }
   }
  },
  {
   "cell_type": "code",
   "execution_count": 6,
   "outputs": [
    {
     "name": "stdout",
     "output_type": "stream",
     "text": [
      "(16493, 170) (16493,) (7069, 170) (7069,)\n"
     ]
    }
   ],
   "source": [
    "print(X_train.shape, y_train.shape, X_test.shape, y_test.shape)"
   ],
   "metadata": {
    "collapsed": false,
    "pycharm": {
     "name": "#%%\n"
    }
   }
  },
  {
   "cell_type": "code",
   "execution_count": null,
   "outputs": [],
   "source": [],
   "metadata": {
    "collapsed": false,
    "pycharm": {
     "name": "#%%\n"
    }
   }
  }
 ],
 "metadata": {
  "kernelspec": {
   "display_name": "Python 3",
   "language": "python",
   "name": "python3"
  },
  "language_info": {
   "codemirror_mode": {
    "name": "ipython",
    "version": 2
   },
   "file_extension": ".py",
   "mimetype": "text/x-python",
   "name": "python",
   "nbconvert_exporter": "python",
   "pygments_lexer": "ipython2",
   "version": "2.7.6"
  }
 },
 "nbformat": 4,
 "nbformat_minor": 0
}