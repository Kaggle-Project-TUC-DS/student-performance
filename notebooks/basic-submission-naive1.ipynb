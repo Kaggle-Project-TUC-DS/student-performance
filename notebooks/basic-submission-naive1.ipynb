{
 "metadata": {
  "kernelspec": {
   "language": "python",
   "display_name": "Python 3",
   "name": "python3"
  },
  "language_info": {
   "name": "python",
   "version": "3.7.12",
   "mimetype": "text/x-python",
   "codemirror_mode": {
    "name": "ipython",
    "version": 3
   },
   "pygments_lexer": "ipython3",
   "nbconvert_exporter": "python",
   "file_extension": ".py"
  }
 },
 "nbformat_minor": 4,
 "nbformat": 4,
 "cells": [
  {
   "cell_type": "code",
   "source": [
    "import numpy as np\n",
    "import pandas as pd"
   ],
   "metadata": {
    "papermill": {
     "duration": 0.023295,
     "end_time": "2022-06-03T21:13:10.412151",
     "exception": false,
     "start_time": "2022-06-03T21:13:10.388856",
     "status": "completed"
    },
    "tags": [],
    "execution": {
     "iopub.status.busy": "2023-05-20T10:02:37.096811Z",
     "iopub.execute_input": "2023-05-20T10:02:37.097316Z",
     "iopub.status.idle": "2023-05-20T10:02:37.133857Z",
     "shell.execute_reply.started": "2023-05-20T10:02:37.097216Z",
     "shell.execute_reply": "2023-05-20T10:02:37.132640Z"
    },
    "trusted": true,
    "pycharm": {
     "name": "#%%\n"
    }
   },
   "execution_count": 1,
   "outputs": []
  },
  {
   "cell_type": "code",
   "source": [
    "models = {'1': {'model': None,\n",
    "  'prob_0': 0.2724572075258169,\n",
    "  'prob_1': 0.7274849333672863,\n",
    "  'acc': 0.7275427924741831,\n",
    "  'f1_score': 0.8422862757943007},\n",
    " '2': {'model': None,\n",
    "  'prob_0': 0.02121940868581129,\n",
    "  'prob_1': 0.7274849333672863,\n",
    "  'acc': 0.9787805913141887,\n",
    "  'f1_score': 0.9892765227337718},\n",
    " '3': {'model': None,\n",
    "  'prob_0': 0.06606309237515914,\n",
    "  'prob_1': 0.7274849333672863,\n",
    "  'acc': 0.9339369076248408,\n",
    "  'f1_score': 0.9658400994806525},\n",
    " '4': {'model': None,\n",
    "  'prob_0': 0.20172584523977932,\n",
    "  'prob_1': 0.7274849333672863,\n",
    "  'acc': 0.7982741547602207,\n",
    "  'f1_score': 0.8878225298930145},\n",
    " '5': {'model': None,\n",
    "  'prob_0': 0.4516904795586363,\n",
    "  'prob_1': 0.7274849333672863,\n",
    "  'acc': 0.5483095204413637,\n",
    "  'f1_score': 0.7082686158063043},\n",
    " '6': {'model': None,\n",
    "  'prob_0': 0.2240769557221672,\n",
    "  'prob_1': 0.7274849333672863,\n",
    "  'acc': 0.7759230442778328,\n",
    "  'f1_score': 0.8738250756730923},\n",
    " '7': {'model': None,\n",
    "  'prob_0': 0.2639694440514924,\n",
    "  'prob_1': 0.7274849333672863,\n",
    "  'acc': 0.7360305559485075,\n",
    "  'f1_score': 0.8479465449804432},\n",
    " '8': {'model': None,\n",
    "  'prob_0': 0.38279813269203566,\n",
    "  'prob_1': 0.7274849333672863,\n",
    "  'acc': 0.6172018673079643,\n",
    "  'f1_score': 0.763296011196641},\n",
    " '9': {'model': None,\n",
    "  'prob_0': 0.26368651860234826,\n",
    "  'prob_1': 0.7274849333672863,\n",
    "  'acc': 0.7363134813976517,\n",
    "  'f1_score': 0.8481342675574385},\n",
    " '10': {'model': None,\n",
    "  'prob_0': 0.4945536851039751,\n",
    "  'prob_1': 0.7274849333672863,\n",
    "  'acc': 0.5054463148960249,\n",
    "  'f1_score': 0.6714903213681639},\n",
    " '11': {'model': None,\n",
    "  'prob_0': 0.3563446031970576,\n",
    "  'prob_1': 0.7274849333672863,\n",
    "  'acc': 0.6436553968029424,\n",
    "  'f1_score': 0.7831999311472587},\n",
    " '12': {'model': None,\n",
    "  'prob_0': 0.13707738011034093,\n",
    "  'prob_1': 0.7274849333672863,\n",
    "  'acc': 0.8629226198896591,\n",
    "  'f1_score': 0.926418103120966},\n",
    " '13': {'model': None,\n",
    "  'prob_0': 0.7248550007073136,\n",
    "  'prob_1': 0.7274849333672863,\n",
    "  'acc': 0.7248550007073136,\n",
    "  'f1_score': 0.0},\n",
    " '14': {'model': None,\n",
    "  'prob_0': 0.29240345169047954,\n",
    "  'prob_1': 0.7274849333672863,\n",
    "  'acc': 0.7075965483095205,\n",
    "  'f1_score': 0.8287631513544859},\n",
    " '15': {'model': None,\n",
    "  'prob_0': 0.5190267364549441,\n",
    "  'prob_1': 0.7274849333672863,\n",
    "  'acc': 0.5190267364549441,\n",
    "  'f1_score': 0.0},\n",
    " '16': {'model': None,\n",
    "  'prob_0': 0.26510114584806904,\n",
    "  'prob_1': 0.7274849333672863,\n",
    "  'acc': 0.734898854151931,\n",
    "  'f1_score': 0.8471950424005219},\n",
    " '17': {'model': None,\n",
    "  'prob_0': 0.3122082331305701,\n",
    "  'prob_1': 0.7274849333672863,\n",
    "  'acc': 0.6877917668694299,\n",
    "  'f1_score': 0.8150196965887184},\n",
    " '18': {'model': None,\n",
    "  'prob_0': 0.04937049087565427,\n",
    "  'prob_1': 0.7274849333672863,\n",
    "  'acc': 0.9506295091243457,\n",
    "  'f1_score': 0.9746899702661542}}"
   ],
   "metadata": {
    "execution": {
     "iopub.status.busy": "2023-05-20T10:02:37.139338Z",
     "iopub.execute_input": "2023-05-20T10:02:37.139746Z",
     "iopub.status.idle": "2023-05-20T10:02:37.166960Z",
     "shell.execute_reply.started": "2023-05-20T10:02:37.139706Z",
     "shell.execute_reply": "2023-05-20T10:02:37.165743Z"
    },
    "trusted": true,
    "pycharm": {
     "name": "#%%\n"
    }
   },
   "execution_count": 2,
   "outputs": []
  },
  {
   "cell_type": "code",
   "source": [
    "models['18']['prob_0']"
   ],
   "metadata": {
    "execution": {
     "iopub.status.busy": "2023-05-20T10:02:37.168998Z",
     "iopub.execute_input": "2023-05-20T10:02:37.170190Z",
     "iopub.status.idle": "2023-05-20T10:02:37.188455Z",
     "shell.execute_reply.started": "2023-05-20T10:02:37.170149Z",
     "shell.execute_reply": "2023-05-20T10:02:37.187526Z"
    },
    "trusted": true,
    "pycharm": {
     "name": "#%%\n"
    }
   },
   "execution_count": 3,
   "outputs": [
    {
     "data": {
      "text/plain": "0.04937049087565427"
     },
     "execution_count": 3,
     "metadata": {},
     "output_type": "execute_result"
    }
   ]
  },
  {
   "cell_type": "markdown",
   "source": [
    "# Maybe change variable names to this later\n",
    "import jo_wilder\n",
    "env = jo_wilder.make_env()\n",
    "iter_test = env.iter_test()\n",
    "\n",
    "counter = 0\n",
    "The API will deliver two dataframes in this specific order,\n",
    "for every session+level grouping (one group per session for each checkpoint)\n",
    "for (test_data, prediction_submission) in iter_test:\n",
    "    if counter == 0:\n",
    "        print(prediction_submission.head())\n",
    "        print(test_data.head())\n",
    "        print(test_data.shape)\n",
    "        print(test_data['session_id'])\n",
    "        print(test_data.level_group.values[0])\n",
    "    \n",
    "    # loop over all session_id's with\n",
    "    for session_id_q in prediction_submission['session_id']:\n",
    "        if models[session_id_q.split(\"q\")[1]]['prob_0'] > .5:\n",
    "            prediction_submission.loc[prediction_submission.session_id == session_id_q] = 0\n",
    "        else:\n",
    "            prediction_submission.loc[prediction_submission.session_id == session_id_q] = 1\n",
    "    \n",
    "    \n",
    "    # append the prediction to the overall submission\n",
    "    env.predict(prediction_submission)\n",
    "    counter += 1\n",
    "    "
   ],
   "metadata": {
    "execution": {
     "iopub.status.busy": "2023-05-19T15:06:45.602326Z",
     "iopub.execute_input": "2023-05-19T15:06:45.602892Z",
     "iopub.status.idle": "2023-05-19T15:06:45.714774Z",
     "shell.execute_reply.started": "2023-05-19T15:06:45.602834Z",
     "shell.execute_reply": "2023-05-19T15:06:45.713527Z"
    },
    "pycharm": {
     "name": "#%% md\n"
    }
   }
  },
  {
   "cell_type": "markdown",
   "source": [
    "# Running NNmodel 1\n",
    "**Warnings**:\n",
    "- submission.csv is NOT automatically reseted, even after a Kernel reboot the iter_test will continue to add sample submissions to the submission.csv\n",
    "- the iter_tester needs a kernel reboot after each run - or you will get the error: \"Exception: You can only iterate over `iter_test()` once.\""
   ],
   "metadata": {
    "pycharm": {
     "name": "#%% md\n"
    }
   }
  },
  {
   "cell_type": "code",
   "source": [
    "import jo_wilder\n",
    "env = jo_wilder.make_env()\n",
    "iter_test = env.iter_test()\n",
    "\n",
    "limits = {'0-4':(1,4), '5-12':(4,14), '13-22':(14,19)}\n",
    "lvl_to_group = {}\n",
    "rng = np.random.default_rng()\n",
    "\n",
    "for (test, sample_submission) in iter_test: # Only one session_id at a time?\n",
    "    # Pre-process the raw test data\n",
    "    # test_df = feature_engineer(test)\n",
    "    test_df = test\n",
    "    \n",
    "    # Apparently each test data in each iteration of iter_test has only data of one level_group. We find it here and then only go through the questions of this particular level_group:\n",
    "    grp = test_df.level_group.values[0]\n",
    "    a,b = limits[grp]\n",
    "    \n",
    "    # We loop for each question - t\n",
    "    for t in range(a,b):\n",
    "        # Choose your model\n",
    "        prob_0 = models[f'{t}']['prob_0']\n",
    "        \n",
    "        # Filter the test data to be of the correct level_group\n",
    "        # test_ds = tfdf.keras.pd_dataframe_to_tf_dataset(test_df.loc[:, test_df.columns != 'level_group'])\n",
    "        # Predict\n",
    "        # predictions = model.predict(test_ds)\n",
    "        # Mask to only adress the session_id's in the submission which are of question t\n",
    "        \n",
    "        # Make predictions\n",
    "        mask = sample_submission.session_id.str.contains(f'q{t}')\n",
    "          \n",
    "        r = rng.uniform()\n",
    "        if r <= prob_0:\n",
    "            print('0: '+str(r)+ ' <= '+str(prob_0))\n",
    "            sample_submission.loc[mask,'correct'] = 0\n",
    "        else:\n",
    "            print('1: '+str(r)+ ' > '+str(prob_0))\n",
    "            sample_submission.loc[mask,'correct'] = 1\n",
    "        \n",
    "    env.predict(sample_submission)"
   ],
   "metadata": {
    "execution": {
     "iopub.status.busy": "2023-05-20T10:02:37.230896Z",
     "iopub.execute_input": "2023-05-20T10:02:37.232098Z",
     "iopub.status.idle": "2023-05-20T10:02:37.391380Z",
     "shell.execute_reply.started": "2023-05-20T10:02:37.232049Z",
     "shell.execute_reply": "2023-05-20T10:02:37.390442Z"
    },
    "trusted": true,
    "pycharm": {
     "name": "#%%\n"
    }
   },
   "execution_count": 5,
   "outputs": [
    {
     "ename": "ModuleNotFoundError",
     "evalue": "No module named 'data.raw.jo_wilder.competition'",
     "output_type": "error",
     "traceback": [
      "\u001B[0;31m---------------------------------------------------------------------------\u001B[0m",
      "\u001B[0;31mModuleNotFoundError\u001B[0m                       Traceback (most recent call last)",
      "Cell \u001B[0;32mIn[5], line 1\u001B[0m\n\u001B[0;32m----> 1\u001B[0m \u001B[38;5;28;01mfrom\u001B[39;00m \u001B[38;5;21;01mdata\u001B[39;00m\u001B[38;5;21;01m.\u001B[39;00m\u001B[38;5;21;01mraw\u001B[39;00m \u001B[38;5;28;01mimport\u001B[39;00m jo_wilder\n\u001B[1;32m      2\u001B[0m env \u001B[38;5;241m=\u001B[39m jo_wilder\u001B[38;5;241m.\u001B[39mmake_env()\n\u001B[1;32m      3\u001B[0m iter_test \u001B[38;5;241m=\u001B[39m env\u001B[38;5;241m.\u001B[39miter_test()\n",
      "File \u001B[0;32m~/Desktop/Drive/2. Areas/University/Master-TUC/M2/4_Forschungsmodul/student-performance/data/raw/jo_wilder/__init__.py:2\u001B[0m\n\u001B[0;32m----> 2\u001B[0m \u001B[38;5;28;01mfrom\u001B[39;00m \u001B[38;5;21;01m.\u001B[39;00m\u001B[38;5;21;01mcompetition\u001B[39;00m \u001B[38;5;28;01mimport\u001B[39;00m make_env\n\u001B[1;32m      4\u001B[0m __all__ \u001B[38;5;241m=\u001B[39m [\u001B[38;5;124m'\u001B[39m\u001B[38;5;124mmake_env\u001B[39m\u001B[38;5;124m'\u001B[39m]\n",
      "\u001B[0;31mModuleNotFoundError\u001B[0m: No module named 'data.raw.jo_wilder.competition'"
     ]
    }
   ]
  },
  {
   "cell_type": "code",
   "source": [
    "df = pd.read_csv('submission.csv')\n",
    "print(df.shape)\n",
    "print(df.head(50))\n",
    "print(df.correct.mean())"
   ],
   "metadata": {
    "execution": {
     "iopub.status.busy": "2023-05-20T10:02:37.393007Z",
     "iopub.execute_input": "2023-05-20T10:02:37.394023Z",
     "iopub.status.idle": "2023-05-20T10:02:37.409591Z",
     "shell.execute_reply.started": "2023-05-20T10:02:37.393971Z",
     "shell.execute_reply": "2023-05-20T10:02:37.408259Z"
    },
    "trusted": true,
    "pycharm": {
     "name": "#%%\n"
    }
   },
   "execution_count": null,
   "outputs": []
  },
  {
   "cell_type": "code",
   "source": [
    "## the end result is a submission file containing all test session predictions\n",
    "! head submission.csv"
   ],
   "metadata": {
    "papermill": {
     "duration": 0.767504,
     "end_time": "2022-06-03T21:13:11.572788",
     "exception": false,
     "start_time": "2022-06-03T21:13:10.805284",
     "status": "completed"
    },
    "tags": [],
    "execution": {
     "iopub.status.busy": "2023-05-20T10:02:37.411265Z",
     "iopub.execute_input": "2023-05-20T10:02:37.412239Z",
     "iopub.status.idle": "2023-05-20T10:02:38.524965Z",
     "shell.execute_reply.started": "2023-05-20T10:02:37.412192Z",
     "shell.execute_reply": "2023-05-20T10:02:38.523421Z"
    },
    "trusted": true,
    "pycharm": {
     "name": "#%%\n"
    }
   },
   "execution_count": null,
   "outputs": []
  },
  {
   "cell_type": "markdown",
   "source": [
    "for index, row in sample_submission.iterrows():\n",
    "            if (row['session_id'].find(f'q{t}') != -1):\n",
    "                r = np.random.default_rng().uniform(1)\n",
    "                if r <= prob_0:\n",
    "                    sample_submission.at[index, 'correct'] = 0\n",
    "                else:\n",
    "                    sample_submission.at[index, 'correct'] = 1\n",
    "            print(\"q\"+ str(t) + \"at:\" + str(index) +\": \" +str(sample_submission.at[index, 'correct']))\n",
    "    "
   ],
   "metadata": {
    "execution": {
     "iopub.status.busy": "2023-05-20T09:41:46.401321Z",
     "iopub.status.idle": "2023-05-20T09:41:46.401927Z",
     "shell.execute_reply.started": "2023-05-20T09:41:46.401694Z",
     "shell.execute_reply": "2023-05-20T09:41:46.401717Z"
    },
    "pycharm": {
     "name": "#%% md\n"
    }
   }
  }
 ]
}