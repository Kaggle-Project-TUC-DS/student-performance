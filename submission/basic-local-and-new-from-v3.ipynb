{
 "metadata": {
  "kernelspec": {
   "language": "python",
   "display_name": "Python 3",
   "name": "python3"
  },
  "language_info": {
   "name": "python",
   "version": "3.7.12",
   "mimetype": "text/x-python",
   "codemirror_mode": {
    "name": "ipython",
    "version": 3
   },
   "pygments_lexer": "ipython3",
   "nbconvert_exporter": "python",
   "file_extension": ".py"
  }
 },
 "nbformat_minor": 4,
 "nbformat": 4,
 "cells": [
  {
   "cell_type": "code",
   "source": [
    "import numpy as np\n",
    "import pandas as pd\n",
    "import os\n",
    "\n",
    "dtypes_raw = {\n",
    "    'elapsed_time': np.int32,\n",
    "    'event_name': 'category',\n",
    "    'name': 'category',\n",
    "    'level': np.uint8,\n",
    "    'room_coor_x': np.float32,\n",
    "    \"index\": np.int32,\n",
    "    'room_coor_y': np.float32,\n",
    "    'screen_coor_x': np.float32,\n",
    "    'screen_coor_y': np.float32,\n",
    "    'hover_duration': np.float32,\n",
    "    'text': 'category',\n",
    "    'fqid': 'category',\n",
    "    'room_fqid': 'category',\n",
    "    'text_fqid': 'category',\n",
    "    'fullscreen': 'category',\n",
    "    'hq': 'category',\n",
    "    'music': 'category',\n",
    "    'level_group': 'category'}\n",
    "\n",
    "dtypes_pp = {\n",
    "            'level': np.uint8,  \n",
    "            'session_id': np.int64,\n",
    "            'level_group': 'category',\n",
    "            'event_name': np.uint8,\n",
    "            'name': np.uint8,\n",
    "            'fqid': np.uint8,\n",
    "            'room_fqid': np.uint8,\n",
    "            'text_fqid': np.uint8,\n",
    "            'fullscreen': np.uint8,\n",
    "            'hq': np.uint8,\n",
    "            'music': np.uint8,\n",
    "            'hover_duration_mean': np.float32,\n",
    "            'difference_clicks_mean': np.float32,\n",
    "            \"distance_clicks_mean\": np.float32,\n",
    "            \"screen_distance_clicks_mean\": np.float32,            \n",
    "            'elapsed_time_std': np.float32,\n",
    "            'page_std': np.float32,\n",
    "            'room_coor_x_std': np.float32,\n",
    "            'room_coor_y_std': np.float32,\n",
    "            'screen_coor_x_std': np.float32,\n",
    "            'screen_coor_y_std': np.float32,\n",
    "            'hover_duration_std': np.float32,\n",
    "            'difference_clicks_std': np.float32,\n",
    "            \"distance_clicks_std\": np.float32,\n",
    "            \"screen_distance_clicks_std\": np.float32,\n",
    "            'index_sum_of_actions': np.int32,\n",
    "            'difference_clicks_max': np.float32,\n",
    "            'elapsed_time_max': np.float32,\n",
    "            'clicks_per_second': np.float32,\n",
    "            \"sum_distance_clicks_max\": np.float32}\n",
    "\n",
    "wd = os.getcwd()\n",
    "print(\"Current working directory: \", wd)\n",
    "if wd[-10:] == 'submission': wd = wd[:-11]\n",
    "os.chdir(wd)\n",
    "print(\"New working directory: \", os.getcwd())"
   ],
   "metadata": {
    "papermill": {
     "duration": 0.023295,
     "end_time": "2022-06-03T21:13:10.412151",
     "exception": false,
     "start_time": "2022-06-03T21:13:10.388856",
     "status": "completed"
    },
    "tags": [],
    "execution": {
     "iopub.status.busy": "2023-05-24T13:38:54.905763Z",
     "iopub.execute_input": "2023-05-24T13:38:54.907020Z",
     "iopub.status.idle": "2023-05-24T13:38:54.951935Z",
     "shell.execute_reply.started": "2023-05-24T13:38:54.906901Z",
     "shell.execute_reply": "2023-05-24T13:38:54.950172Z"
    },
    "trusted": true,
    "pycharm": {
     "name": "#%%\n"
    }
   },
   "execution_count": 2,
   "outputs": [
    {
     "name": "stdout",
     "output_type": "stream",
     "text": [
      "Current working directory:  /Users/nzuchna/Desktop/Drive/2. Areas/University/Master-TUC/M2/4_Forschungsmodul/student-performance/submission\n",
      "New working directory:  /Users/nzuchna/Desktop/Drive/2. Areas/University/Master-TUC/M2/4_Forschungsmodul/student-performance\n"
     ]
    }
   ]
  },
  {
   "cell_type": "markdown",
   "source": [
    "# 1. Load your model: [your model name here] (in this case: steves optuna xgboost decision tree)"
   ],
   "metadata": {
    "pycharm": {
     "name": "#%% md\n"
    }
   }
  },
  {
   "cell_type": "code",
   "source": [
    "import xgboost as xgb\n",
    "import pickle\n",
    "\n",
    "print(\"New working directory: \", os.getcwd())\n",
    "\n",
    "# Load the model from file\n",
    "with open('models/best_models_dict_optunahp.pkl', 'rb') as f:\n",
    "    models = pickle.load(f)"
   ],
   "metadata": {
    "execution": {
     "iopub.status.busy": "2023-05-24T13:38:54.954714Z",
     "iopub.execute_input": "2023-05-24T13:38:54.955998Z",
     "iopub.status.idle": "2023-05-24T13:38:57.373666Z",
     "shell.execute_reply.started": "2023-05-24T13:38:54.955939Z",
     "shell.execute_reply": "2023-05-24T13:38:57.372541Z"
    },
    "trusted": true,
    "pycharm": {
     "name": "#%%\n",
     "is_executing": true
    }
   },
   "execution_count": null,
   "outputs": []
  },
  {
   "cell_type": "code",
   "execution_count": 2,
   "outputs": [
    {
     "name": "stdout",
     "output_type": "stream",
     "text": [
      "Name: xgboost\r\n",
      "Version: 1.7.3\r\n",
      "Summary: XGBoost Python Package\r\n",
      "Home-page: https://github.com/dmlc/xgboost\r\n",
      "Author: \r\n",
      "Author-email: \r\n",
      "License: Apache-2.0\r\n",
      "Location: /Users/nzuchna/opt/anaconda3/envs/gameplay_kaggel_env/lib/python3.9/site-packages\r\n",
      "Requires: numpy, scipy\r\n",
      "Required-by: \r\n"
     ]
    }
   ],
   "source": [
    "!pip show xgboost"
   ],
   "metadata": {
    "collapsed": false,
    "pycharm": {
     "name": "#%%\n"
    }
   }
  },
  {
   "cell_type": "code",
   "execution_count": 1,
   "outputs": [
    {
     "ename": "NameError",
     "evalue": "name 'models' is not defined",
     "output_type": "error",
     "traceback": [
      "\u001B[0;31m---------------------------------------------------------------------------\u001B[0m",
      "\u001B[0;31mNameError\u001B[0m                                 Traceback (most recent call last)",
      "Cell \u001B[0;32mIn[1], line 1\u001B[0m\n\u001B[0;32m----> 1\u001B[0m \u001B[43mmodels\u001B[49m[\u001B[38;5;124m'\u001B[39m\u001B[38;5;124m1\u001B[39m\u001B[38;5;124m'\u001B[39m]\n",
      "\u001B[0;31mNameError\u001B[0m: name 'models' is not defined"
     ]
    }
   ],
   "source": [
    "models['1']"
   ],
   "metadata": {
    "collapsed": false,
    "pycharm": {
     "name": "#%%\n"
    }
   }
  },
  {
   "cell_type": "markdown",
   "source": [
    "# 2. Run the model\n",
    "DON'T READ THIS: This jo_wilder-kind-of-timeseries-API simulates the real world scenario for the model you've trained. The iter_test gives you pairs of: \n",
    "1. X_test_raw: gamelog data of a single session_id from only one level_group \n",
    "2. y_test_label_preds: and secondly a dataframe (similiar to raw/train_labels.csv) in which you have to fill in your predictions for each question of that level_group.\n",
    "\n",
    "**Additional WARNINGS**:\n",
    "- submission.csv is NOT automatically reseted, even after a Kernel reboot the iter_test will continue to add sample submissions to the submission.csv. Therefor, before your final run, do a factory reset (Run > Factory reset).\n",
    "- the iter_tester needs a kernel reboot after each run - or you will get the error: \"Exception: You can only iterate over `iter_test()` once.\""
   ],
   "metadata": {
    "pycharm": {
     "name": "#%% md\n"
    }
   }
  },
  {
   "cell_type": "code",
   "execution_count": 2,
   "outputs": [],
   "source": [
    "X_train = pd.read_csv('data/raw/train.csv')  #TODO: try with test.csv also\n",
    "y_train = pd.read_csv('data/raw/train_labels.csv')"
   ],
   "metadata": {
    "collapsed": false,
    "pycharm": {
     "name": "#%%\n"
    }
   }
  },
  {
   "cell_type": "code",
   "execution_count": 3,
   "outputs": [
    {
     "name": "stdout",
     "output_type": "stream",
     "text": [
      "sess: 20090312431273200\n",
      "sess: 20090312431273200, grp: 0-4\n",
      "          session_id  index  elapsed_time      event_name   name  level  page  \\\n",
      "0  20090312431273200      0             0  cutscene_click  basic      0   NaN   \n",
      "1  20090312431273200      1          1323    person_click  basic      0   NaN   \n",
      "2  20090312431273200      2           831    person_click  basic      0   NaN   \n",
      "3  20090312431273200      3          1147    person_click  basic      0   NaN   \n",
      "4  20090312431273200      4          1863    person_click  basic      0   NaN   \n",
      "\n",
      "   room_coor_x  room_coor_y  screen_coor_x  screen_coor_y  hover_duration  \\\n",
      "0  -413.991405  -159.314686          380.0          494.0             NaN   \n",
      "1  -413.991405  -159.314686          380.0          494.0             NaN   \n",
      "2  -413.991405  -159.314686          380.0          494.0             NaN   \n",
      "3  -413.991405  -159.314686          380.0          494.0             NaN   \n",
      "4  -412.991405  -159.314686          381.0          494.0             NaN   \n",
      "\n",
      "                            text    fqid                       room_fqid  \\\n",
      "0                      undefined   intro  tunic.historicalsociety.closet   \n",
      "1  Whatcha doing over there, Jo?  gramps  tunic.historicalsociety.closet   \n",
      "2         Just talking to Teddy.  gramps  tunic.historicalsociety.closet   \n",
      "3     I gotta run to my meeting!  gramps  tunic.historicalsociety.closet   \n",
      "4            Can I come, Gramps?  gramps  tunic.historicalsociety.closet   \n",
      "\n",
      "                                           text_fqid  fullscreen  hq  music  \\\n",
      "0               tunic.historicalsociety.closet.intro           0   0      1   \n",
      "1  tunic.historicalsociety.closet.gramps.intro_0_...           0   0      1   \n",
      "2  tunic.historicalsociety.closet.gramps.intro_0_...           0   0      1   \n",
      "3  tunic.historicalsociety.closet.gramps.intro_0_...           0   0      1   \n",
      "4  tunic.historicalsociety.closet.gramps.intro_0_...           0   0      1   \n",
      "\n",
      "  level_group  \n",
      "0         0-4  \n",
      "1         0-4  \n",
      "2         0-4  \n",
      "3         0-4  \n",
      "4         0-4  \n",
      "                 session_id  correct\n",
      "0      20090312431273200_q1        1\n",
      "23562  20090312431273200_q2        1\n",
      "47124  20090312431273200_q3        1\n",
      "Working Directory:  /Users/nzuchna/Desktop/Drive/2. Areas/University/Master-TUC/M2/4_Forschungsmodul\n"
     ]
    },
    {
     "ename": "NameError",
     "evalue": "name 'models' is not defined",
     "output_type": "error",
     "traceback": [
      "\u001B[0;31m---------------------------------------------------------------------------\u001B[0m",
      "\u001B[0;31mNameError\u001B[0m                                 Traceback (most recent call last)",
      "Cell \u001B[0;32mIn[3], line 51\u001B[0m\n\u001B[1;32m     48\u001B[0m \u001B[38;5;66;03m# We loop for each question - t\u001B[39;00m\n\u001B[1;32m     49\u001B[0m \u001B[38;5;28;01mfor\u001B[39;00m t \u001B[38;5;129;01min\u001B[39;00m \u001B[38;5;28mrange\u001B[39m(a,b):\n\u001B[1;32m     50\u001B[0m     \u001B[38;5;66;03m# Get the model for question t\u001B[39;00m\n\u001B[0;32m---> 51\u001B[0m     model \u001B[38;5;241m=\u001B[39m \u001B[43mmodels\u001B[49m[\u001B[38;5;124mf\u001B[39m\u001B[38;5;124m'\u001B[39m\u001B[38;5;132;01m{\u001B[39;00mt\u001B[38;5;132;01m}\u001B[39;00m\u001B[38;5;124m'\u001B[39m]\n\u001B[1;32m     52\u001B[0m     \u001B[38;5;66;03m# Make prediction\u001B[39;00m\n\u001B[1;32m     53\u001B[0m     y_preds \u001B[38;5;241m=\u001B[39m model\u001B[38;5;241m.\u001B[39mpredict(X_test)\n",
      "\u001B[0;31mNameError\u001B[0m: name 'models' is not defined"
     ]
    }
   ],
   "source": [
    "# Import utils for feature engineering\n",
    "from utils.data_preprocessing_steve import pp_pipeline_noah\n",
    "\n",
    "limits = {'0-4':(1,4), '5-12':(4,14), '13-22':(14,19)}\n",
    "questions = {'0-4':('_q1', '_q2', '_q3'), '5-12':('_q4', '_q5', '_q6', '_q7', '_q8', '_q9', '_q10', '_q11', '_q12', '_q13'), '13-22':('_q14', '_q15', '_q16', '_q17', '_q18')}\n",
    "level_groups = ['0-4', '5-12', '13-22']\n",
    "\n",
    "submission_df = pd.DataFrame()\n",
    "\n",
    "# Simulate the time series API\n",
    "for sess in pd.unique(X_train.session_id.astype('str')):  # Raw data from only ONE session_id and level_group in each loop\n",
    "    print('sess: '+sess)\n",
    "    X_test_sess = X_train[X_train['session_id'] == int(sess)]\n",
    "    y_test_sess = y_train[y_train['session_id'].str.contains(sess)] #err\n",
    "    #print(X_test_sess.shape)\n",
    "    #print(X_test_sess.head())\n",
    "    #print(y_test_sess.shape)\n",
    "    #print(y_test_sess.info)\n",
    "    #print(y_test_sess.head())\n",
    "    for grps in pd.unique(X_test_sess.level_group.astype('str')):\n",
    "        print('sess: '+sess+', grp: '+grps)\n",
    "\n",
    "        X_test_raw = X_test_sess[X_test_sess['level_group'] == grps]\n",
    "        group_endings = questions[grps]\n",
    "        y_test_label_preds = y_test_sess[y_test_sess['session_id'].str.endswith(group_endings)]\n",
    "\n",
    "        print(X_test_raw.head())\n",
    "        print(y_test_label_preds.head())\n",
    "\n",
    "        # Pre-process the raw test data: the pipeline returns a dict with datasets split by level_group.\n",
    "        X_test_dict = pp_pipeline_noah(data=X_test_raw, file_path=None, flatten=True, saveIntermediateFiles=False,\n",
    "                         dtypes=dtypes_raw, output=True)\n",
    "\n",
    "        # Since we only have data from one level_group, we just take the first dataset out of the dict.\n",
    "        grp = list(X_test_dict.keys())[0]\n",
    "        X_test = X_test_dict[grp].drop(['session_id_1', 'level_group_1'], axis=1)\n",
    "\n",
    "        # Here we adapt the dtypes of our processed data\n",
    "        for column in X_test.columns:\n",
    "            base_name = column.rsplit('_', 1)[0]  # get the base name by splitting on the last \"_\" character\n",
    "            if base_name in dtypes_pp:\n",
    "                column_number = column.rsplit('_', 1)[1]  # get the number from the index by splitting on the last \"_\" character\n",
    "                new_column_name = f\"{base_name}_{column_number}\"  # construct the new column name\n",
    "                column_dtype = dtypes_pp[base_name]\n",
    "                X_test[new_column_name] = X_test[column].astype(column_dtype)  # set the same data type for all columns with the same base name\n",
    "\n",
    "\n",
    "        a,b = limits[grp]\n",
    "\n",
    "        # We loop for each question - t\n",
    "        for t in range(a,b):\n",
    "            # Get the model for question t\n",
    "            model = models[f'{t}']\n",
    "            # Make prediction\n",
    "            y_preds = model.predict(X_test)\n",
    "            # Write prediction to y_test_label_preds\n",
    "            mask = y_test_label_preds.session_id.str.contains(f'q{t}')\n",
    "            y_test_label_preds.loc[mask,'correct'] = y_preds[0]\n",
    "            submission_df = pd.concat([submission_df, y_test_label_preds.loc[mask,'correct']])\n",
    "\n",
    "        # Add your predictions of this session_id to the submission before getting the next session_id data\n",
    "        print(submission_df.head(40))"
   ],
   "metadata": {
    "collapsed": false,
    "pycharm": {
     "name": "#%%\n"
    }
   }
  },
  {
   "cell_type": "markdown",
   "source": [
    "# 3. Quick submission EDA\n",
    "- Check if your submission file looks correct"
   ],
   "metadata": {
    "pycharm": {
     "name": "#%% md\n"
    }
   }
  },
  {
   "cell_type": "code",
   "source": [
    "df = pd.read_csv('submission.csv')\n",
    "print(df.shape)\n",
    "print(df.head(20))\n",
    "print(df.correct.mean())"
   ],
   "metadata": {
    "execution": {
     "iopub.status.busy": "2023-05-24T13:38:59.870519Z",
     "iopub.execute_input": "2023-05-24T13:38:59.871667Z",
     "iopub.status.idle": "2023-05-24T13:38:59.887951Z",
     "shell.execute_reply.started": "2023-05-24T13:38:59.871599Z",
     "shell.execute_reply": "2023-05-24T13:38:59.886477Z"
    },
    "trusted": true,
    "pycharm": {
     "name": "#%%\n"
    }
   },
   "execution_count": 4,
   "outputs": [
    {
     "name": "stdout",
     "text": "(54, 2)\n               session_id  correct\n0    20090109393214576_q1        1\n1    20090109393214576_q2        1\n2    20090109393214576_q3        1\n3    20090109393214576_q4        1\n4    20090109393214576_q5        1\n5    20090109393214576_q6        1\n6    20090109393214576_q7        1\n7    20090109393214576_q8        1\n8    20090109393214576_q9        1\n9   20090109393214576_q10        0\n10  20090109393214576_q11        1\n11  20090109393214576_q12        1\n12  20090109393214576_q13        1\n13  20090109393214576_q14        1\n14  20090109393214576_q15        1\n15  20090109393214576_q16        1\n16  20090109393214576_q17        1\n17  20090109393214576_q18        1\n18   20090312143683264_q1        1\n19   20090312143683264_q2        1\n0.7962962962962963\n",
     "output_type": "stream"
    }
   ]
  },
  {
   "cell_type": "code",
   "source": [
    "## the end result is a submission file containing all test session predictions\n",
    "! head submission.csv"
   ],
   "metadata": {
    "papermill": {
     "duration": 0.767504,
     "end_time": "2022-06-03T21:13:11.572788",
     "exception": false,
     "start_time": "2022-06-03T21:13:10.805284",
     "status": "completed"
    },
    "tags": [],
    "execution": {
     "iopub.status.busy": "2023-05-24T13:38:59.890658Z",
     "iopub.execute_input": "2023-05-24T13:38:59.891547Z",
     "iopub.status.idle": "2023-05-24T13:39:00.182911Z",
     "shell.execute_reply.started": "2023-05-24T13:38:59.891507Z",
     "shell.execute_reply": "2023-05-24T13:39:00.181613Z"
    },
    "trusted": true,
    "pycharm": {
     "name": "#%%\n"
    }
   },
   "execution_count": 5,
   "outputs": [
    {
     "name": "stdout",
     "text": "session_id,correct\n20090109393214576_q1,1\n20090109393214576_q2,1\n20090109393214576_q3,1\n20090109393214576_q4,1\n20090109393214576_q5,1\n20090109393214576_q6,1\n20090109393214576_q7,1\n20090109393214576_q8,1\n20090109393214576_q9,1\n",
     "output_type": "stream"
    }
   ]
  },
  {
   "cell_type": "markdown",
   "source": [
    "# 4. Final steps for submission\n",
    "* In the top right corner choose \"Save Version\" with Version type \"Save & Run All (Commit)\". Note the correct Version for later.\n",
    "* In the lower left corner you'll see the process running. When it's done, press on the \"Open in viewer\" option and check if the output is a submission.csv with 1.29 kB\n",
    "* Then go to the competition page, choose \"Submit Predictions\", choose your file with the correct version and correct output file - submit and you're done.\n",
    "* Your submitted notebook will now be re-runned with private test data by the competition host. The public socre will appear in your submission section.\n",
    "* The scoring will take a while..."
   ],
   "metadata": {
    "pycharm": {
     "name": "#%% md\n"
    }
   }
  }
 ]
}