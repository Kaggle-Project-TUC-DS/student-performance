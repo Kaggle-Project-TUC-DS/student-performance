{
 "cells": [
  {
   "cell_type": "code",
   "execution_count": 1,
   "id": "d7304f22",
   "metadata": {
    "execution": {
     "iopub.execute_input": "2023-05-19T15:34:39.530062Z",
     "iopub.status.busy": "2023-05-19T15:34:39.528875Z",
     "iopub.status.idle": "2023-05-19T15:34:39.546951Z",
     "shell.execute_reply": "2023-05-19T15:34:39.545974Z"
    },
    "papermill": {
     "duration": 0.02719,
     "end_time": "2023-05-19T15:34:39.549520",
     "exception": false,
     "start_time": "2023-05-19T15:34:39.522330",
     "status": "completed"
    },
    "tags": []
   },
   "outputs": [],
   "source": [
    "import numpy as np\n",
    "import pandas as pd"
   ]
  },
  {
   "cell_type": "code",
   "execution_count": 2,
   "id": "f78b6852",
   "metadata": {
    "execution": {
     "iopub.execute_input": "2023-05-19T15:34:39.559673Z",
     "iopub.status.busy": "2023-05-19T15:34:39.558948Z",
     "iopub.status.idle": "2023-05-19T15:34:39.578154Z",
     "shell.execute_reply": "2023-05-19T15:34:39.577256Z"
    },
    "jupyter": {
     "source_hidden": true
    },
    "papermill": {
     "duration": 0.026984,
     "end_time": "2023-05-19T15:34:39.580732",
     "exception": false,
     "start_time": "2023-05-19T15:34:39.553748",
     "status": "completed"
    },
    "tags": []
   },
   "outputs": [],
   "source": [
    "models = {'1': {'model': None,\n",
    "  'prob_0': 0.2724572075258169,\n",
    "  'prob_1': 0.7274849333672863,\n",
    "  'acc': 0.7275427924741831,\n",
    "  'f1_score': 0.8422862757943007},\n",
    " '2': {'model': None,\n",
    "  'prob_0': 0.02121940868581129,\n",
    "  'prob_1': 0.7274849333672863,\n",
    "  'acc': 0.9787805913141887,\n",
    "  'f1_score': 0.9892765227337718},\n",
    " '3': {'model': None,\n",
    "  'prob_0': 0.06606309237515914,\n",
    "  'prob_1': 0.7274849333672863,\n",
    "  'acc': 0.9339369076248408,\n",
    "  'f1_score': 0.9658400994806525},\n",
    " '4': {'model': None,\n",
    "  'prob_0': 0.20172584523977932,\n",
    "  'prob_1': 0.7274849333672863,\n",
    "  'acc': 0.7982741547602207,\n",
    "  'f1_score': 0.8878225298930145},\n",
    " '5': {'model': None,\n",
    "  'prob_0': 0.4516904795586363,\n",
    "  'prob_1': 0.7274849333672863,\n",
    "  'acc': 0.5483095204413637,\n",
    "  'f1_score': 0.7082686158063043},\n",
    " '6': {'model': None,\n",
    "  'prob_0': 0.2240769557221672,\n",
    "  'prob_1': 0.7274849333672863,\n",
    "  'acc': 0.7759230442778328,\n",
    "  'f1_score': 0.8738250756730923},\n",
    " '7': {'model': None,\n",
    "  'prob_0': 0.2639694440514924,\n",
    "  'prob_1': 0.7274849333672863,\n",
    "  'acc': 0.7360305559485075,\n",
    "  'f1_score': 0.8479465449804432},\n",
    " '8': {'model': None,\n",
    "  'prob_0': 0.38279813269203566,\n",
    "  'prob_1': 0.7274849333672863,\n",
    "  'acc': 0.6172018673079643,\n",
    "  'f1_score': 0.763296011196641},\n",
    " '9': {'model': None,\n",
    "  'prob_0': 0.26368651860234826,\n",
    "  'prob_1': 0.7274849333672863,\n",
    "  'acc': 0.7363134813976517,\n",
    "  'f1_score': 0.8481342675574385},\n",
    " '10': {'model': None,\n",
    "  'prob_0': 0.4945536851039751,\n",
    "  'prob_1': 0.7274849333672863,\n",
    "  'acc': 0.5054463148960249,\n",
    "  'f1_score': 0.6714903213681639},\n",
    " '11': {'model': None,\n",
    "  'prob_0': 0.3563446031970576,\n",
    "  'prob_1': 0.7274849333672863,\n",
    "  'acc': 0.6436553968029424,\n",
    "  'f1_score': 0.7831999311472587},\n",
    " '12': {'model': None,\n",
    "  'prob_0': 0.13707738011034093,\n",
    "  'prob_1': 0.7274849333672863,\n",
    "  'acc': 0.8629226198896591,\n",
    "  'f1_score': 0.926418103120966},\n",
    " '13': {'model': None,\n",
    "  'prob_0': 0.7248550007073136,\n",
    "  'prob_1': 0.7274849333672863,\n",
    "  'acc': 0.7248550007073136,\n",
    "  'f1_score': 0.0},\n",
    " '14': {'model': None,\n",
    "  'prob_0': 0.29240345169047954,\n",
    "  'prob_1': 0.7274849333672863,\n",
    "  'acc': 0.7075965483095205,\n",
    "  'f1_score': 0.8287631513544859},\n",
    " '15': {'model': None,\n",
    "  'prob_0': 0.5190267364549441,\n",
    "  'prob_1': 0.7274849333672863,\n",
    "  'acc': 0.5190267364549441,\n",
    "  'f1_score': 0.0},\n",
    " '16': {'model': None,\n",
    "  'prob_0': 0.26510114584806904,\n",
    "  'prob_1': 0.7274849333672863,\n",
    "  'acc': 0.734898854151931,\n",
    "  'f1_score': 0.8471950424005219},\n",
    " '17': {'model': None,\n",
    "  'prob_0': 0.3122082331305701,\n",
    "  'prob_1': 0.7274849333672863,\n",
    "  'acc': 0.6877917668694299,\n",
    "  'f1_score': 0.8150196965887184},\n",
    " '18': {'model': None,\n",
    "  'prob_0': 0.04937049087565427,\n",
    "  'prob_1': 0.7274849333672863,\n",
    "  'acc': 0.9506295091243457,\n",
    "  'f1_score': 0.9746899702661542}}"
   ]
  },
  {
   "cell_type": "code",
   "execution_count": 3,
   "id": "497ac473",
   "metadata": {
    "execution": {
     "iopub.execute_input": "2023-05-19T15:34:39.590287Z",
     "iopub.status.busy": "2023-05-19T15:34:39.589666Z",
     "iopub.status.idle": "2023-05-19T15:34:39.597919Z",
     "shell.execute_reply": "2023-05-19T15:34:39.597109Z"
    },
    "papermill": {
     "duration": 0.016039,
     "end_time": "2023-05-19T15:34:39.600666",
     "exception": false,
     "start_time": "2023-05-19T15:34:39.584627",
     "status": "completed"
    },
    "tags": []
   },
   "outputs": [
    {
     "data": {
      "text/plain": [
       "0.04937049087565427"
      ]
     },
     "execution_count": 3,
     "metadata": {},
     "output_type": "execute_result"
    }
   ],
   "source": [
    "models['18']['prob_0']"
   ]
  },
  {
   "cell_type": "markdown",
   "id": "aa0f59a2",
   "metadata": {
    "execution": {
     "iopub.execute_input": "2023-05-19T14:19:57.812470Z",
     "iopub.status.busy": "2023-05-19T14:19:57.809826Z",
     "iopub.status.idle": "2023-05-19T14:19:57.909712Z",
     "shell.execute_reply": "2023-05-19T14:19:57.906989Z",
     "shell.execute_reply.started": "2023-05-19T14:19:57.812424Z"
    },
    "papermill": {
     "duration": 0.003684,
     "end_time": "2023-05-19T15:34:39.608452",
     "exception": false,
     "start_time": "2023-05-19T15:34:39.604768",
     "status": "completed"
    },
    "tags": []
   },
   "source": [
    "# Version 1 from first submission attempt\n",
    "counter = 0\n",
    "The API will deliver two dataframes in this specific order,\n",
    "for every session+level grouping (one group per session for each checkpoint)\n",
    "for (test, sample_submission) in iter_test:\n",
    "    if counter == 0:\n",
    "        print(\"test\")\n",
    "        print(test['session_id'])\n",
    "    \n",
    "    for q in test['session_id']:\n",
    "        if models[q.split(\"q\")[1]]['prob_0'] > .5:\n",
    "            sample_submission['correct'] = 0\n",
    "        else:\n",
    "            sample_submission['correct'] = 1\n",
    "        sample_submission['correct'] = 1\n",
    "    \n",
    "    # append the prediction to the overall submission\n",
    "    env.predict(sample_submission)\n",
    "    counter += 1\n",
    "    "
   ]
  },
  {
   "cell_type": "code",
   "execution_count": 4,
   "id": "ca8b9f88",
   "metadata": {
    "execution": {
     "iopub.execute_input": "2023-05-19T15:34:39.618543Z",
     "iopub.status.busy": "2023-05-19T15:34:39.617763Z",
     "iopub.status.idle": "2023-05-19T15:34:39.760738Z",
     "shell.execute_reply": "2023-05-19T15:34:39.759832Z"
    },
    "papermill": {
     "duration": 0.151115,
     "end_time": "2023-05-19T15:34:39.763415",
     "exception": false,
     "start_time": "2023-05-19T15:34:39.612300",
     "status": "completed"
    },
    "tags": []
   },
   "outputs": [
    {
     "name": "stdout",
     "output_type": "stream",
     "text": [
      "This version of the API is not optimized and should not be used to estimate the runtime of your code on the hidden test set.\n"
     ]
    }
   ],
   "source": [
    "import jo_wilder\n",
    "env = jo_wilder.make_env()\n",
    "iter_test = env.iter_test()\n",
    "\n",
    "limits = {'0-4':(1,4), '5-12':(4,14), '13-22':(14,19)}\n",
    "lvl_to_group = {}\n",
    "\n",
    "for (test, sample_submission) in iter_test:\n",
    "    # Pre-process the raw test data\n",
    "    # test_df = feature_engineer(test)\n",
    "    test_df = test\n",
    "    # Apparently each test data in each iteration of iter_test has only data of one level_group. We find it here and then only go through the questions of this particular level_group:\n",
    "    grp = test_df.level_group.values[0]\n",
    "    a,b = limits[grp]\n",
    "    # We loop for each question - t\n",
    "    for t in range(a,b):\n",
    "        nn0_model = models[f'{t}']['prob_0']\n",
    "        # Filter the test data to be of the correct level_group\n",
    "        # test_ds = tfdf.keras.pd_dataframe_to_tf_dataset(test_df.loc[:, test_df.columns != 'level_group'])\n",
    "        # Predict\n",
    "        # predictions = model.predict(test_ds)\n",
    "        # Mask to only adress the session_id's in the submission which are of question t\n",
    "        mask = sample_submission.session_id.str.contains(f'q{t}')\n",
    "        if nn0_model > 0.5:\n",
    "            sample_submission.loc[mask,'correct'] = 0\n",
    "        else:\n",
    "            sample_submission.loc[mask,'correct'] = 1\n",
    "    \n",
    "    env.predict(sample_submission)"
   ]
  },
  {
   "cell_type": "code",
   "execution_count": 5,
   "id": "81d73840",
   "metadata": {
    "execution": {
     "iopub.execute_input": "2023-05-19T15:34:39.773549Z",
     "iopub.status.busy": "2023-05-19T15:34:39.772942Z",
     "iopub.status.idle": "2023-05-19T15:34:39.790377Z",
     "shell.execute_reply": "2023-05-19T15:34:39.789368Z"
    },
    "papermill": {
     "duration": 0.025303,
     "end_time": "2023-05-19T15:34:39.792853",
     "exception": false,
     "start_time": "2023-05-19T15:34:39.767550",
     "status": "completed"
    },
    "tags": []
   },
   "outputs": [
    {
     "name": "stdout",
     "output_type": "stream",
     "text": [
      "(54, 2)\n",
      "0.8888888888888888\n"
     ]
    },
    {
     "data": {
      "text/html": [
       "<div>\n",
       "<style scoped>\n",
       "    .dataframe tbody tr th:only-of-type {\n",
       "        vertical-align: middle;\n",
       "    }\n",
       "\n",
       "    .dataframe tbody tr th {\n",
       "        vertical-align: top;\n",
       "    }\n",
       "\n",
       "    .dataframe thead th {\n",
       "        text-align: right;\n",
       "    }\n",
       "</style>\n",
       "<table border=\"1\" class=\"dataframe\">\n",
       "  <thead>\n",
       "    <tr style=\"text-align: right;\">\n",
       "      <th></th>\n",
       "      <th>session_id</th>\n",
       "      <th>correct</th>\n",
       "    </tr>\n",
       "  </thead>\n",
       "  <tbody>\n",
       "    <tr>\n",
       "      <th>0</th>\n",
       "      <td>20090109393214576_q1</td>\n",
       "      <td>1</td>\n",
       "    </tr>\n",
       "    <tr>\n",
       "      <th>1</th>\n",
       "      <td>20090109393214576_q2</td>\n",
       "      <td>1</td>\n",
       "    </tr>\n",
       "    <tr>\n",
       "      <th>2</th>\n",
       "      <td>20090109393214576_q3</td>\n",
       "      <td>1</td>\n",
       "    </tr>\n",
       "    <tr>\n",
       "      <th>3</th>\n",
       "      <td>20090109393214576_q4</td>\n",
       "      <td>1</td>\n",
       "    </tr>\n",
       "    <tr>\n",
       "      <th>4</th>\n",
       "      <td>20090109393214576_q5</td>\n",
       "      <td>1</td>\n",
       "    </tr>\n",
       "  </tbody>\n",
       "</table>\n",
       "</div>"
      ],
      "text/plain": [
       "             session_id  correct\n",
       "0  20090109393214576_q1        1\n",
       "1  20090109393214576_q2        1\n",
       "2  20090109393214576_q3        1\n",
       "3  20090109393214576_q4        1\n",
       "4  20090109393214576_q5        1"
      ]
     },
     "execution_count": 5,
     "metadata": {},
     "output_type": "execute_result"
    }
   ],
   "source": [
    "df = pd.read_csv('submission.csv')\n",
    "print( df.shape )\n",
    "print(df.correct.mean())\n",
    "df.head()"
   ]
  },
  {
   "cell_type": "code",
   "execution_count": 6,
   "id": "62424780",
   "metadata": {
    "execution": {
     "iopub.execute_input": "2023-05-19T15:34:39.803877Z",
     "iopub.status.busy": "2023-05-19T15:34:39.803208Z",
     "iopub.status.idle": "2023-05-19T15:34:40.881660Z",
     "shell.execute_reply": "2023-05-19T15:34:40.880339Z"
    },
    "papermill": {
     "duration": 1.087266,
     "end_time": "2023-05-19T15:34:40.884538",
     "exception": false,
     "start_time": "2023-05-19T15:34:39.797272",
     "status": "completed"
    },
    "tags": []
   },
   "outputs": [
    {
     "name": "stdout",
     "output_type": "stream",
     "text": [
      "session_id,correct\r\n",
      "20090109393214576_q1,1\r\n",
      "20090109393214576_q2,1\r\n",
      "20090109393214576_q3,1\r\n",
      "20090109393214576_q4,1\r\n",
      "20090109393214576_q5,1\r\n",
      "20090109393214576_q6,1\r\n",
      "20090109393214576_q7,1\r\n",
      "20090109393214576_q8,1\r\n",
      "20090109393214576_q9,1\r\n"
     ]
    }
   ],
   "source": [
    "## the end result is a submission file containing all test session predictions\n",
    "! head submission.csv"
   ]
  },
  {
   "cell_type": "code",
   "execution_count": null,
   "id": "347d3c67",
   "metadata": {
    "papermill": {
     "duration": 0.004733,
     "end_time": "2023-05-19T15:34:40.894134",
     "exception": false,
     "start_time": "2023-05-19T15:34:40.889401",
     "status": "completed"
    },
    "tags": []
   },
   "outputs": [],
   "source": []
  }
 ],
 "metadata": {
  "kernelspec": {
   "display_name": "Python 3",
   "language": "python",
   "name": "python3"
  },
  "language_info": {
   "codemirror_mode": {
    "name": "ipython",
    "version": 3
   },
   "file_extension": ".py",
   "mimetype": "text/x-python",
   "name": "python",
   "nbconvert_exporter": "python",
   "pygments_lexer": "ipython3",
   "version": "3.7.12"
  },
  "papermill": {
   "default_parameters": {},
   "duration": 13.575764,
   "end_time": "2023-05-19T15:34:41.621794",
   "environment_variables": {},
   "exception": null,
   "input_path": "__notebook__.ipynb",
   "output_path": "__notebook__.ipynb",
   "parameters": {},
   "start_time": "2023-05-19T15:34:28.046030",
   "version": "2.3.4"
  }
 },
 "nbformat": 4,
 "nbformat_minor": 5
}
