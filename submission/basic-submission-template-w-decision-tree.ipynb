{
 "metadata": {
  "kernelspec": {
   "language": "python",
   "display_name": "Python 3",
   "name": "python3"
  },
  "language_info": {
   "name": "python",
   "version": "3.7.12",
   "mimetype": "text/x-python",
   "codemirror_mode": {
    "name": "ipython",
    "version": 3
   },
   "pygments_lexer": "ipython3",
   "nbconvert_exporter": "python",
   "file_extension": ".py"
  }
 },
 "nbformat_minor": 4,
 "nbformat": 4,
 "cells": [
  {
   "cell_type": "code",
   "source": [
    "import numpy as np\n",
    "import pandas as pd\n",
    "\n",
    "dtypes_raw = {\n",
    "    'elapsed_time': np.int32,\n",
    "    'event_name': 'category',\n",
    "    'name': 'category',\n",
    "    'level': np.uint8,\n",
    "    'room_coor_x': np.float32,\n",
    "    \"index\": np.int32,\n",
    "    'room_coor_y': np.float32,\n",
    "    'screen_coor_x': np.float32,\n",
    "    'screen_coor_y': np.float32,\n",
    "    'hover_duration': np.float32,\n",
    "    'text': 'category',\n",
    "    'fqid': 'category',\n",
    "    'room_fqid': 'category',\n",
    "    'text_fqid': 'category',\n",
    "    'fullscreen': 'category',\n",
    "    'hq': 'category',\n",
    "    'music': 'category',\n",
    "    'level_group': 'category'}\n",
    "\n",
    "dtypes_pp = {\n",
    "            'level': np.uint8,  \n",
    "            'session_id': np.int64,\n",
    "            'level_group': 'category',\n",
    "            'event_name': np.uint8,\n",
    "            'name': np.uint8,\n",
    "            'fqid': np.uint8,\n",
    "            'room_fqid': np.uint8,\n",
    "            'text_fqid': np.uint8,\n",
    "            'fullscreen': np.uint8,\n",
    "            'hq': np.uint8,\n",
    "            'music': np.uint8,\n",
    "            'hover_duration_mean': np.float32,\n",
    "            'difference_clicks_mean': np.float32,\n",
    "            \"distance_clicks_mean\": np.float32,\n",
    "            \"screen_distance_clicks_mean\": np.float32,            \n",
    "            'elapsed_time_std': np.float32,\n",
    "            'page_std': np.float32,\n",
    "            'room_coor_x_std': np.float32,\n",
    "            'room_coor_y_std': np.float32,\n",
    "            'screen_coor_x_std': np.float32,\n",
    "            'screen_coor_y_std': np.float32,\n",
    "            'hover_duration_std': np.float32,\n",
    "            'difference_clicks_std': np.float32,\n",
    "            \"distance_clicks_std\": np.float32,\n",
    "            \"screen_distance_clicks_std\": np.float32,\n",
    "            'index_sum_of_actions': np.int32,\n",
    "            'difference_clicks_max': np.float32,\n",
    "            'elapsed_time_max': np.float32,\n",
    "            'clicks_per_second': np.float32,\n",
    "            \"sum_distance_clicks_max\": np.float32}"
   ],
   "metadata": {
    "papermill": {
     "duration": 0.023295,
     "end_time": "2022-06-03T21:13:10.412151",
     "exception": false,
     "start_time": "2022-06-03T21:13:10.388856",
     "status": "completed"
    },
    "tags": [],
    "execution": {
     "iopub.status.busy": "2023-05-24T13:38:54.905763Z",
     "iopub.execute_input": "2023-05-24T13:38:54.907020Z",
     "iopub.status.idle": "2023-05-24T13:38:54.951935Z",
     "shell.execute_reply.started": "2023-05-24T13:38:54.906901Z",
     "shell.execute_reply": "2023-05-24T13:38:54.950172Z"
    },
    "trusted": true,
    "pycharm": {
     "name": "#%%\n"
    }
   },
   "execution_count": 1,
   "outputs": []
  },
  {
   "cell_type": "markdown",
   "source": [
    "# 1. Load your model: [your model name here] (in this case: steves optuna xgboost decision tree)"
   ],
   "metadata": {
    "pycharm": {
     "name": "#%% md\n"
    }
   }
  },
  {
   "cell_type": "code",
   "source": [
    "import xgboost as xgb #delete?\n",
    "import pickle\n",
    "\n",
    "# Load the model from file\n",
    "with open('/kaggle/input/best-models-dict-optunahp/best_models_dict_optunahp.pkl', 'rb') as f:\n",
    "    models = pickle.load(f)"
   ],
   "metadata": {
    "execution": {
     "iopub.status.busy": "2023-05-24T13:38:54.954714Z",
     "iopub.execute_input": "2023-05-24T13:38:54.955998Z",
     "iopub.status.idle": "2023-05-24T13:38:57.373666Z",
     "shell.execute_reply.started": "2023-05-24T13:38:54.955939Z",
     "shell.execute_reply": "2023-05-24T13:38:57.372541Z"
    },
    "trusted": true,
    "pycharm": {
     "name": "#%%\n"
    }
   },
   "execution_count": 2,
   "outputs": []
  },
  {
   "cell_type": "markdown",
   "source": [
    "# 2. Run the model\n",
    "DON'T READ THIS: This jo_wilder-kind-of-timeseries-API simulates the real world scenario for the model you've trained. The iter_test gives you pairs of: \n",
    "1. X_test_raw: gamelog data of a single session_id from only one level_group \n",
    "2. y_test_label_preds: and secondly a dataframe (similiar to raw/train_labels.csv) in which you have to fill in your predictions for each question of that level_group.\n",
    "\n",
    "**Additional WARNINGS**:\n",
    "- submission.csv is NOT automatically reseted, even after a Kernel reboot the iter_test will continue to add sample submissions to the submission.csv. Therefor, before your final run, do a factory reset (Run > Factory reset).\n",
    "- the iter_tester needs a kernel reboot after each run - or you will get the error: \"Exception: You can only iterate over `iter_test()` once.\""
   ],
   "metadata": {
    "pycharm": {
     "name": "#%% md\n"
    }
   }
  },
  {
   "cell_type": "code",
   "source": [
    "# Unfortunately this doesn't work because you don't have the rights to do this on Kaggle:\n",
    "# os.remove(\"/kaggle/working/submission.csv\")\n",
    "\n",
    "# Import utils for feature engineering\n",
    "import sys\n",
    "sys.path.insert(1, '/kaggle/input/utils-for-preprocessing')\n",
    "import data_preprocessing_steve\n",
    "\n",
    "# Import the time series API\n",
    "import jo_wilder\n",
    "env = jo_wilder.make_env()\n",
    "iter_test = env.iter_test()\n",
    "\n",
    "limits = {'0-4':(1,4), '5-12':(4,14), '13-22':(14,19)}\n",
    "\n",
    "for (X_test_raw, y_test_label_preds) in iter_test: # Raw data from only ONE session_id and level_group in each loop \n",
    "    # Pre-process the raw test data: the pipeline returns a dict with datasets split by level_group.\n",
    "    X_test_dict = data_preprocessing_steve.pp_pipeline_noah(data=X_test_raw, file_path=None, flatten=True, saveIntermediateFiles=False,\n",
    "                     dtypes=dtypes_raw, output=True)\n",
    "    \n",
    "    # Since we only have data from one level_group, we just take the first dataset out of the dict.\n",
    "    grp = list(X_test_dict.keys())[0]\n",
    "    X_test = X_test_dict[grp].drop(['session_id_1', 'level_group_1'], axis=1)\n",
    "    \n",
    "    # Here we adapt the dtypes of our processed data\n",
    "    for column in X_test.columns:\n",
    "        base_name = column.rsplit('_', 1)[0]  # get the base name by splitting on the last \"_\" character\n",
    "        if base_name in dtypes_pp:\n",
    "            column_number = column.rsplit('_', 1)[1]  # get the number from the index by splitting on the last \"_\" character\n",
    "            new_column_name = f\"{base_name}_{column_number}\"  # construct the new column name\n",
    "            column_dtype = dtypes_pp[base_name]\n",
    "            X_test[new_column_name] = X_test[column].astype(column_dtype)  # set the same data type for all columns with the same base name\n",
    "\n",
    "    \n",
    "    a,b = limits[grp]\n",
    "    \n",
    "    # We loop for each question - t\n",
    "    for t in range(a,b):\n",
    "        # Get the model for question t\n",
    "        model = models[f'{t}']\n",
    "        # Make prediction\n",
    "        y_preds = model.predict(X_test)\n",
    "        # Write prediction to y_test_label_preds\n",
    "        mask = y_test_label_preds.session_id.str.contains(f'q{t}')\n",
    "        y_test_label_preds.loc[mask,'correct'] = y_preds[0]\n",
    "    \n",
    "    # Add your predictions of this session_id to the submission before getting the next session_id data\n",
    "    env.predict(y_test_label_preds)"
   ],
   "metadata": {
    "execution": {
     "iopub.status.busy": "2023-05-24T13:38:57.375120Z",
     "iopub.execute_input": "2023-05-24T13:38:57.375589Z",
     "iopub.status.idle": "2023-05-24T13:38:59.866248Z",
     "shell.execute_reply.started": "2023-05-24T13:38:57.375562Z",
     "shell.execute_reply": "2023-05-24T13:38:59.865052Z"
    },
    "trusted": true,
    "pycharm": {
     "name": "#%%\n"
    }
   },
   "execution_count": 3,
   "outputs": [
    {
     "name": "stdout",
     "text": "This version of the API is not optimized and should not be used to estimate the runtime of your code on the hidden test set.\n",
     "output_type": "stream"
    }
   ]
  },
  {
   "cell_type": "markdown",
   "source": [
    "# 3. Quick submission EDA\n",
    "- Check if your submission file looks correct"
   ],
   "metadata": {
    "pycharm": {
     "name": "#%% md\n"
    }
   }
  },
  {
   "cell_type": "code",
   "source": [
    "df = pd.read_csv('submission.csv')\n",
    "print(df.shape)\n",
    "print(df.head(20))\n",
    "print(df.correct.mean())"
   ],
   "metadata": {
    "execution": {
     "iopub.status.busy": "2023-05-24T13:38:59.870519Z",
     "iopub.execute_input": "2023-05-24T13:38:59.871667Z",
     "iopub.status.idle": "2023-05-24T13:38:59.887951Z",
     "shell.execute_reply.started": "2023-05-24T13:38:59.871599Z",
     "shell.execute_reply": "2023-05-24T13:38:59.886477Z"
    },
    "trusted": true,
    "pycharm": {
     "name": "#%%\n"
    }
   },
   "execution_count": 4,
   "outputs": [
    {
     "name": "stdout",
     "text": "(54, 2)\n               session_id  correct\n0    20090109393214576_q1        1\n1    20090109393214576_q2        1\n2    20090109393214576_q3        1\n3    20090109393214576_q4        1\n4    20090109393214576_q5        1\n5    20090109393214576_q6        1\n6    20090109393214576_q7        1\n7    20090109393214576_q8        1\n8    20090109393214576_q9        1\n9   20090109393214576_q10        0\n10  20090109393214576_q11        1\n11  20090109393214576_q12        1\n12  20090109393214576_q13        1\n13  20090109393214576_q14        1\n14  20090109393214576_q15        1\n15  20090109393214576_q16        1\n16  20090109393214576_q17        1\n17  20090109393214576_q18        1\n18   20090312143683264_q1        1\n19   20090312143683264_q2        1\n0.7962962962962963\n",
     "output_type": "stream"
    }
   ]
  },
  {
   "cell_type": "code",
   "source": [
    "## the end result is a submission file containing all test session predictions\n",
    "! head submission.csv"
   ],
   "metadata": {
    "papermill": {
     "duration": 0.767504,
     "end_time": "2022-06-03T21:13:11.572788",
     "exception": false,
     "start_time": "2022-06-03T21:13:10.805284",
     "status": "completed"
    },
    "tags": [],
    "execution": {
     "iopub.status.busy": "2023-05-24T13:38:59.890658Z",
     "iopub.execute_input": "2023-05-24T13:38:59.891547Z",
     "iopub.status.idle": "2023-05-24T13:39:00.182911Z",
     "shell.execute_reply.started": "2023-05-24T13:38:59.891507Z",
     "shell.execute_reply": "2023-05-24T13:39:00.181613Z"
    },
    "trusted": true,
    "pycharm": {
     "name": "#%%\n"
    }
   },
   "execution_count": 5,
   "outputs": [
    {
     "name": "stdout",
     "text": "session_id,correct\n20090109393214576_q1,1\n20090109393214576_q2,1\n20090109393214576_q3,1\n20090109393214576_q4,1\n20090109393214576_q5,1\n20090109393214576_q6,1\n20090109393214576_q7,1\n20090109393214576_q8,1\n20090109393214576_q9,1\n",
     "output_type": "stream"
    }
   ]
  },
  {
   "cell_type": "markdown",
   "source": [
    "# 4. Final steps for submission\n",
    "* In the top right corner choose \"Save Version\" with Version type \"Save & Run All (Commit)\". Note the correct Version for later.\n",
    "* In the lower left corner you'll see the process running. When it's done, press on the \"Open in viewer\" option and check if the output is a submission.csv with 1.29 kB\n",
    "* Then go to the competition page, choose \"Submit Predictions\", choose your file with the correct version and correct output file - submit and you're done.\n",
    "* Your submitted notebook will now be re-runned with private test data by the competition host. The public socre will appear in your submission section.\n",
    "* The scoring will take a while..."
   ],
   "metadata": {
    "pycharm": {
     "name": "#%% md\n"
    }
   }
  }
 ]
}