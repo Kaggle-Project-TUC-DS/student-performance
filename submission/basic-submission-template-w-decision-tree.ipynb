{
 "metadata": {
  "kernelspec": {
   "language": "python",
   "display_name": "Python 3",
   "name": "python3"
  },
  "language_info": {
   "name": "python",
   "version": "3.7.12",
   "mimetype": "text/x-python",
   "codemirror_mode": {
    "name": "ipython",
    "version": 3
   },
   "pygments_lexer": "ipython3",
   "nbconvert_exporter": "python",
   "file_extension": ".py"
  }
 },
 "nbformat_minor": 4,
 "nbformat": 4,
 "cells": [
  {
   "cell_type": "code",
   "source": [
    "import numpy as np\n",
    "import pandas as pd\n",
    "\n",
    "dtypes_raw = {\n",
    "    'elapsed_time': np.int32,\n",
    "    'event_name': 'category',\n",
    "    'name': 'category',\n",
    "    'level': np.uint8,\n",
    "    'room_coor_x': np.float32,\n",
    "    \"index\": np.int32,\n",
    "    'room_coor_y': np.float32,\n",
    "    'screen_coor_x': np.float32,\n",
    "    'screen_coor_y': np.float32,\n",
    "    'hover_duration': np.float32,\n",
    "    'text': 'category',\n",
    "    'fqid': 'category',\n",
    "    'room_fqid': 'category',\n",
    "    'text_fqid': 'category',\n",
    "    'fullscreen': 'category',\n",
    "    'hq': 'category',\n",
    "    'music': 'category',\n",
    "    'level_group': 'category'}"
   ],
   "metadata": {
    "papermill": {
     "duration": 0.023295,
     "end_time": "2022-06-03T21:13:10.412151",
     "exception": false,
     "start_time": "2022-06-03T21:13:10.388856",
     "status": "completed"
    },
    "tags": [],
    "execution": {
     "iopub.status.busy": "2023-05-20T11:55:34.316664Z",
     "iopub.execute_input": "2023-05-20T11:55:34.317322Z",
     "iopub.status.idle": "2023-05-20T11:55:34.338105Z",
     "shell.execute_reply.started": "2023-05-20T11:55:34.317195Z",
     "shell.execute_reply": "2023-05-20T11:55:34.336665Z"
    },
    "trusted": true,
    "pycharm": {
     "name": "#%%\n"
    }
   },
   "execution_count": 1,
   "outputs": []
  },
  {
   "cell_type": "markdown",
   "source": [
    "# 1. Load your model: [your model name here] (in this case: steves optuna xgboost decision tree)"
   ],
   "metadata": {
    "pycharm": {
     "name": "#%% md\n"
    }
   }
  },
  {
   "cell_type": "code",
   "source": [
    "import xgboost as xgb #delete?\n",
    "import pickle\n",
    "\n",
    "# Variant 1.: On Kaggle: Load the model from kaggle input files\n",
    "with open('/kaggle/input/best-models-dict-optunahp/best_models_dict_optunahp.pkl', 'rb') as f:\n",
    "    models = pickle.load(f)\n",
    "\n",
    "# Variant 2.: Locally load model files\n"
   ],
   "metadata": {
    "execution": {
     "iopub.status.busy": "2023-05-20T11:55:34.340043Z",
     "iopub.execute_input": "2023-05-20T11:55:34.340506Z",
     "iopub.status.idle": "2023-05-20T11:55:35.094359Z",
     "shell.execute_reply.started": "2023-05-20T11:55:34.340467Z",
     "shell.execute_reply": "2023-05-20T11:55:35.093078Z"
    },
    "trusted": true,
    "pycharm": {
     "name": "#%%\n"
    }
   },
   "execution_count": 2,
   "outputs": []
  },
  {
   "cell_type": "markdown",
   "source": [
    "# 2. Run the model\n",
    "DON'T READ THIS: This jo_wilder-kind-of-timeseries-API simulates the real world scenario for the model you've trained. The iter_test gives you pairs of: \n",
    "1. X_test_raw: gamelog data of a single session_id from only one level_group \n",
    "2. y_test_label_preds: and secondly a dataframe (similiar to raw/train_labels.csv) in which you have to fill in your predictions for each question of that level_group.\n",
    "\n",
    "**Additional WARNINGS**:\n",
    "- submission.csv is NOT automatically reseted, even after a Kernel reboot the iter_test will continue to add sample submissions to the submission.csv\n",
    "- the iter_tester needs a kernel reboot after each run - or you will get the error: \"Exception: You can only iterate over `iter_test()` once.\""
   ],
   "metadata": {
    "pycharm": {
     "name": "#%% md\n"
    }
   }
  },
  {
   "cell_type": "code",
   "source": [
    "# Unfortunately this doesn't work because you don't have the rights to do this on Kaggle:\n",
    "# os.remove(\"/kaggle/working/submission.csv\")\n",
    "\n",
    "# Import utils for feature engineering\n",
    "import sys\n",
    "sys.path.insert(1, '/kaggle/input/utils-for-preprocessing')\n",
    "import data_preprocessing_steve, loader_steve, preprocessing_func\n",
    "# from /kaggle/input/utils-for-preprocessing import data_preprocessing_steve, loader_steve, preprocessing_func\n",
    "\n",
    "import jo_wilder\n",
    "env = jo_wilder.make_env()\n",
    "iter_test = env.iter_test()\n",
    "\n",
    "limits = {'0-4':(1,4), '5-12':(4,14), '13-22':(14,19)}\n",
    "\n",
    "for (X_test_raw, y_test_label_preds) in iter_test: # Only one session_id at a time?\n",
    "    print(X_test_raw)\n",
    "    # Pre-process the raw test data\n",
    "    X_test = data_preprocessing_steve.pp_pipeline_noah(data=X_test_raw, file_path=None, flatten=True, saveIntermediateFiles=False,\n",
    "                     dtypes=dtypes_raw, output=True)\n",
    "    \n",
    "    # Apparently each test data in each iteration of iter_test has only data of one level_group. We find it here and then only go through the questions of this particular level_group:\n",
    "    grp = X_test.level_group.values[0]\n",
    "    a,b = limits[grp]\n",
    "    \n",
    "    # We loop for each question - t\n",
    "    for t in range(a,b):\n",
    "        # Get the model for question t\n",
    "        model = models[f'{t}']\n",
    "        y_preds = model.predict(X_test)\n",
    "        print(y_preds)\n",
    "        # Make predictions\n",
    "        mask = y_test_label_preds.session_id.str.contains(f'q{t}')\n",
    "        r = rng.uniform()\n",
    "        if r <= prob_0:\n",
    "            y_test_label_preds.loc[mask,'correct'] = 0\n",
    "        else:\n",
    "            y_test_label_preds.loc[mask,'correct'] = 1\n",
    "    \n",
    "    # Add your predictions of this session_id to the submission before getting the next session_id data\n",
    "    env.predict(y_test_label_preds)"
   ],
   "metadata": {
    "execution": {
     "iopub.status.busy": "2023-05-20T11:55:35.095882Z",
     "iopub.execute_input": "2023-05-20T11:55:35.096216Z",
     "iopub.status.idle": "2023-05-20T11:55:35.387717Z",
     "shell.execute_reply.started": "2023-05-20T11:55:35.096185Z",
     "shell.execute_reply": "2023-05-20T11:55:35.385902Z"
    },
    "trusted": true,
    "pycharm": {
     "name": "#%%\n"
    }
   },
   "execution_count": 3,
   "outputs": [
    {
     "name": "stdout",
     "text": "This version of the API is not optimized and should not be used to estimate the runtime of your code on the hidden test set.\n            session_id  index  elapsed_time      event_name       name  level  \\\n0    20090109393214576      0             0  cutscene_click      basic      0   \n1    20090109393214576      1          1965    person_click      basic      0   \n2    20090109393214576      2          3614    person_click      basic      0   \n3    20090109393214576      3          5330    person_click      basic      0   \n4    20090109393214576      4          6397    person_click      basic      0   \n..                 ...    ...           ...             ...        ...    ...   \n135  20090109393214576    135        206861       map_click      basic      4   \n136  20090109393214576    136        207212       map_hover      basic      4   \n137  20090109393214576    137        207927       map_click  undefined      4   \n138  20090109393214576    138        210493  navigate_click  undefined      4   \n139  20090109393214576    139        267350      checkpoint      basic      4   \n\n     page  room_coor_x  room_coor_y  screen_coor_x  screen_coor_y  \\\n0     NaN  -413.991405    75.685314          380.0          259.0   \n1     NaN  -105.991405   -63.314686          688.0          398.0   \n2     NaN  -418.991405    47.685314          375.0          287.0   \n3     NaN  -110.991405   -57.314686          683.0          392.0   \n4     NaN  -110.991405   -57.314686          683.0          392.0   \n..    ...          ...          ...            ...            ...   \n135   NaN  -941.617960   -26.000000           37.0          356.0   \n136   NaN          NaN          NaN            NaN            NaN   \n137   NaN  -532.742758    31.000000          467.0          299.0   \n138   NaN   -43.991497    24.579814          227.0          281.0   \n139   NaN          NaN          NaN            NaN            NaN   \n\n     hover_duration                           text             fqid  \\\n0               NaN                      undefined            intro   \n1               NaN  Whatcha doing over there, Jo?           gramps   \n2               NaN         Just talking to Teddy.           gramps   \n3               NaN     I gotta run to my meeting!           gramps   \n4               NaN            Can I come, Gramps?           gramps   \n..              ...                            ...              ...   \n135             NaN                            NaN              NaN   \n136           885.0                            NaN          toentry   \n137             NaN                            NaN  tunic.capitol_0   \n138             NaN                            NaN     chap1_finale   \n139             NaN                            NaN   chap1_finale_c   \n\n                          room_fqid  \\\n0    tunic.historicalsociety.closet   \n1    tunic.historicalsociety.closet   \n2    tunic.historicalsociety.closet   \n3    tunic.historicalsociety.closet   \n4    tunic.historicalsociety.closet   \n..                              ...   \n135     tunic.kohlcenter.halloffame   \n136     tunic.kohlcenter.halloffame   \n137     tunic.kohlcenter.halloffame   \n138            tunic.capitol_0.hall   \n139            tunic.capitol_0.hall   \n\n                                             text_fqid  fullscreen   hq  \\\n0                 tunic.historicalsociety.closet.intro         0.0  0.0   \n1    tunic.historicalsociety.closet.gramps.intro_0_...         0.0  0.0   \n2    tunic.historicalsociety.closet.gramps.intro_0_...         0.0  0.0   \n3    tunic.historicalsociety.closet.gramps.intro_0_...         0.0  0.0   \n4    tunic.historicalsociety.closet.gramps.intro_0_...         0.0  0.0   \n..                                                 ...         ...  ...   \n135                                                NaN         0.0  0.0   \n136                                                NaN         0.0  0.0   \n137                                                NaN         0.0  0.0   \n138                                                NaN         0.0  0.0   \n139                                                NaN         0.0  0.0   \n\n     music level_group  \n0      1.0         0-4  \n1      1.0         0-4  \n2      1.0         0-4  \n3      1.0         0-4  \n4      1.0         0-4  \n..     ...         ...  \n135    1.0         0-4  \n136    1.0         0-4  \n137    1.0         0-4  \n138    1.0         0-4  \n139    1.0         0-4  \n\n[140 rows x 20 columns]\nWorking Directory:  /kaggle\n",
     "output_type": "stream"
    },
    {
     "traceback": [
      "\u001B[0;31m---------------------------------------------------------------------------\u001B[0m",
      "\u001B[0;31mKeyError\u001B[0m                                  Traceback (most recent call last)",
      "\u001B[0;32m/tmp/ipykernel_726/4085448434.py\u001B[0m in \u001B[0;36m<module>\u001B[0;34m\u001B[0m\n\u001B[1;32m     18\u001B[0m     \u001B[0;31m# Pre-process the raw test data\u001B[0m\u001B[0;34m\u001B[0m\u001B[0;34m\u001B[0m\u001B[0;34m\u001B[0m\u001B[0m\n\u001B[1;32m     19\u001B[0m     X_test = data_preprocessing_steve.pp_pipeline_noah(data=X_test_raw, file_path=None, flatten=True, saveIntermediateFiles=False,\n\u001B[0;32m---> 20\u001B[0;31m                      dtypes=dtypes_raw, output=True)\n\u001B[0m\u001B[1;32m     21\u001B[0m \u001B[0;34m\u001B[0m\u001B[0m\n\u001B[1;32m     22\u001B[0m     \u001B[0;31m# Apparently each test data in each iteration of iter_test has only data of one level_group. We find it here and then only go through the questions of this particular level_group:\u001B[0m\u001B[0;34m\u001B[0m\u001B[0;34m\u001B[0m\u001B[0;34m\u001B[0m\u001B[0m\n",
      "\u001B[0;32m/kaggle/input/utils-for-preprocessing/data_preprocessing_steve.py\u001B[0m in \u001B[0;36mpp_pipeline_noah\u001B[0;34m(data, file_path, flatten, saveIntermediateFiles, dtypes, output)\u001B[0m\n\u001B[1;32m     80\u001B[0m \u001B[0;34m\u001B[0m\u001B[0m\n\u001B[1;32m     81\u001B[0m     \u001B[0;31m# split the dataset into three parts based on level group\u001B[0m\u001B[0;34m\u001B[0m\u001B[0;34m\u001B[0m\u001B[0;34m\u001B[0m\u001B[0m\n\u001B[0;32m---> 82\u001B[0;31m     \u001B[0mdf_0_4\u001B[0m\u001B[0;34m,\u001B[0m \u001B[0mdf_5_12\u001B[0m\u001B[0;34m,\u001B[0m \u001B[0mdf_13_22\u001B[0m \u001B[0;34m=\u001B[0m \u001B[0msplit_level_groups\u001B[0m\u001B[0;34m(\u001B[0m\u001B[0mdataset_df\u001B[0m\u001B[0;34m)\u001B[0m\u001B[0;34m\u001B[0m\u001B[0;34m\u001B[0m\u001B[0m\n\u001B[0m\u001B[1;32m     83\u001B[0m \u001B[0;34m\u001B[0m\u001B[0m\n\u001B[1;32m     84\u001B[0m     \u001B[0;31m# load the data\u001B[0m\u001B[0;34m\u001B[0m\u001B[0;34m\u001B[0m\u001B[0;34m\u001B[0m\u001B[0m\n",
      "\u001B[0;32m/kaggle/input/utils-for-preprocessing/preprocessing_func.py\u001B[0m in \u001B[0;36msplit_level_groups\u001B[0;34m(df)\u001B[0m\n\u001B[1;32m    135\u001B[0m     \u001B[0;31m# Access the resulting dataframes using their keys\u001B[0m\u001B[0;34m\u001B[0m\u001B[0;34m\u001B[0m\u001B[0;34m\u001B[0m\u001B[0m\n\u001B[1;32m    136\u001B[0m     \u001B[0mdf_0_4\u001B[0m \u001B[0;34m=\u001B[0m \u001B[0mresult\u001B[0m\u001B[0;34m[\u001B[0m\u001B[0;34m'0-4'\u001B[0m\u001B[0;34m]\u001B[0m\u001B[0;34m\u001B[0m\u001B[0;34m\u001B[0m\u001B[0m\n\u001B[0;32m--> 137\u001B[0;31m     \u001B[0mdf_5_12\u001B[0m \u001B[0;34m=\u001B[0m \u001B[0mresult\u001B[0m\u001B[0;34m[\u001B[0m\u001B[0;34m'5-12'\u001B[0m\u001B[0;34m]\u001B[0m\u001B[0;34m\u001B[0m\u001B[0;34m\u001B[0m\u001B[0m\n\u001B[0m\u001B[1;32m    138\u001B[0m     \u001B[0mdf_13_22\u001B[0m \u001B[0;34m=\u001B[0m \u001B[0mresult\u001B[0m\u001B[0;34m[\u001B[0m\u001B[0;34m'13-22'\u001B[0m\u001B[0;34m]\u001B[0m\u001B[0;34m\u001B[0m\u001B[0;34m\u001B[0m\u001B[0m\n\u001B[1;32m    139\u001B[0m \u001B[0;34m\u001B[0m\u001B[0m\n",
      "\u001B[0;31mKeyError\u001B[0m: '5-12'"
     ],
     "ename": "KeyError",
     "evalue": "'5-12'",
     "output_type": "error"
    }
   ]
  },
  {
   "cell_type": "markdown",
   "source": [
    "# 3. Quick submission EDA\n"
   ],
   "metadata": {
    "pycharm": {
     "name": "#%% md\n"
    }
   }
  },
  {
   "cell_type": "code",
   "source": [
    "df = pd.read_csv('submission.csv')\n",
    "print(df.shape)\n",
    "print(df.head(20))\n",
    "print(df.correct.mean())"
   ],
   "metadata": {
    "execution": {
     "iopub.status.busy": "2023-05-20T11:55:35.389080Z",
     "iopub.status.idle": "2023-05-20T11:55:35.389868Z",
     "shell.execute_reply.started": "2023-05-20T11:55:35.389620Z",
     "shell.execute_reply": "2023-05-20T11:55:35.389643Z"
    },
    "trusted": true,
    "pycharm": {
     "name": "#%%\n"
    }
   },
   "execution_count": null,
   "outputs": []
  },
  {
   "cell_type": "code",
   "source": [
    "## the end result is a submission file containing all test session predictions\n",
    "! head submission.csv"
   ],
   "metadata": {
    "papermill": {
     "duration": 0.767504,
     "end_time": "2022-06-03T21:13:11.572788",
     "exception": false,
     "start_time": "2022-06-03T21:13:10.805284",
     "status": "completed"
    },
    "tags": [],
    "execution": {
     "iopub.status.busy": "2023-05-20T11:55:35.391265Z",
     "iopub.status.idle": "2023-05-20T11:55:35.392026Z",
     "shell.execute_reply.started": "2023-05-20T11:55:35.391786Z",
     "shell.execute_reply": "2023-05-20T11:55:35.391809Z"
    },
    "trusted": true,
    "pycharm": {
     "name": "#%%\n"
    }
   },
   "execution_count": null,
   "outputs": []
  }
 ]
}