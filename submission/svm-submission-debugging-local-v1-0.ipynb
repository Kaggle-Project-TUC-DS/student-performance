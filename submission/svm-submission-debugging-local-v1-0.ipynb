{
 "metadata": {
  "kernelspec": {
   "language": "python",
   "display_name": "Python 3",
   "name": "python3"
  },
  "language_info": {
   "name": "python",
   "version": "3.7.12",
   "mimetype": "text/x-python",
   "codemirror_mode": {
    "name": "ipython",
    "version": 3
   },
   "pygments_lexer": "ipython3",
   "nbconvert_exporter": "python",
   "file_extension": ".py"
  }
 },
 "nbformat_minor": 4,
 "nbformat": 4,
 "cells": [
  {
   "cell_type": "code",
   "source": [
    "import numpy as np\n",
    "import pandas as pd\n",
    "import os\n",
    "from tqdm import tqdm\n",
    "\n",
    "dtypes_raw = {\n",
    "    'elapsed_time': np.int32,\n",
    "    'event_name': 'category',\n",
    "    'name': 'category',\n",
    "    'level': np.uint8,\n",
    "    'room_coor_x': np.float32,\n",
    "    \"index\": np.int32,\n",
    "    'room_coor_y': np.float32,\n",
    "    'screen_coor_x': np.float32,\n",
    "    'screen_coor_y': np.float32,\n",
    "    'hover_duration': np.float32,\n",
    "    'text': 'category',\n",
    "    'fqid': 'category',\n",
    "    'room_fqid': 'category',\n",
    "    'text_fqid': 'category',\n",
    "    'fullscreen': 'category',\n",
    "    'hq': 'category',\n",
    "    'music': 'category',\n",
    "    'level_group': 'category'}\n",
    "\n",
    "dtypes_pp = {\n",
    "            'level': np.uint8,  \n",
    "            'session_id': np.int64,\n",
    "            'level_group': 'category',\n",
    "            'event_name': np.uint8,\n",
    "            'name': np.uint8,\n",
    "            'fqid': np.uint8,\n",
    "            'room_fqid': np.uint8,\n",
    "            'text_fqid': np.uint8,\n",
    "            'fullscreen': np.uint8,\n",
    "            'hq': np.uint8,\n",
    "            'music': np.uint8,\n",
    "            'hover_duration_mean': np.float32,\n",
    "            'difference_clicks_mean': np.float32,\n",
    "            \"distance_clicks_mean\": np.float32,\n",
    "            \"screen_distance_clicks_mean\": np.float32,            \n",
    "            'elapsed_time_std': np.float32,\n",
    "            'page_std': np.float32,\n",
    "            'room_coor_x_std': np.float32,\n",
    "            'room_coor_y_std': np.float32,\n",
    "            'screen_coor_x_std': np.float32,\n",
    "            'screen_coor_y_std': np.float32,\n",
    "            'hover_duration_std': np.float32,\n",
    "            'difference_clicks_std': np.float32,\n",
    "            \"distance_clicks_std\": np.float32,\n",
    "            \"screen_distance_clicks_std\": np.float32,\n",
    "            'index_sum_of_actions': np.int32,\n",
    "            'difference_clicks_max': np.float32,\n",
    "            'elapsed_time_max': np.float32,\n",
    "            'clicks_per_second': np.float32,\n",
    "            \"sum_distance_clicks_max\": np.float32}\n",
    "\n",
    "wd = os.getcwd()\n",
    "print(\"Current working directory: \", wd)\n",
    "if wd[-10:] == 'submission': wd = wd[:-11]\n",
    "os.chdir(wd)\n",
    "print(\"New working directory: \", os.getcwd())"
   ],
   "metadata": {
    "papermill": {
     "duration": 0.023295,
     "end_time": "2022-06-03T21:13:10.412151",
     "exception": false,
     "start_time": "2022-06-03T21:13:10.388856",
     "status": "completed"
    },
    "tags": [],
    "execution": {
     "iopub.status.busy": "2023-05-24T13:38:54.905763Z",
     "iopub.execute_input": "2023-05-24T13:38:54.907020Z",
     "iopub.status.idle": "2023-05-24T13:38:54.951935Z",
     "shell.execute_reply.started": "2023-05-24T13:38:54.906901Z",
     "shell.execute_reply": "2023-05-24T13:38:54.950172Z"
    },
    "trusted": true,
    "pycharm": {
     "name": "#%%\n"
    }
   },
   "execution_count": 1,
   "outputs": [
    {
     "name": "stdout",
     "output_type": "stream",
     "text": [
      "Current working directory:  /Users/nzuchna/Desktop/Drive/2. Areas/University/Master-TUC/M2/4_Forschungsmodul/student-performance/submission\n",
      "New working directory:  /Users/nzuchna/Desktop/Drive/2. Areas/University/Master-TUC/M2/4_Forschungsmodul/student-performance\n"
     ]
    }
   ]
  },
  {
   "cell_type": "markdown",
   "source": [
    "# 1. Load your model: [your model name here] (in this case: steves optuna xgboost decision tree)"
   ],
   "metadata": {
    "pycharm": {
     "name": "#%% md\n"
    }
   }
  },
  {
   "cell_type": "code",
   "source": [
    "import xgboost as xgb\n",
    "import pickle\n",
    "\n",
    "print(\"New working directory: \", os.getcwd())\n",
    "\n",
    "# Load the model from file\n",
    "with open('/kaggle/input/svm-hyptertuned-10feats/svms_bestpara_10feat_f1.82_skl1.0.2.pkl', 'rb') as f:\n",
    "    models = pickle.load(f)\n",
    "if models: print(\"loaded models succesfully\")"
   ],
   "metadata": {
    "execution": {
     "iopub.status.busy": "2023-05-24T13:38:54.954714Z",
     "iopub.execute_input": "2023-05-24T13:38:54.955998Z",
     "iopub.status.idle": "2023-05-24T13:38:57.373666Z",
     "shell.execute_reply.started": "2023-05-24T13:38:54.955939Z",
     "shell.execute_reply": "2023-05-24T13:38:57.372541Z"
    },
    "trusted": true,
    "pycharm": {
     "name": "#%%\n"
    }
   },
   "execution_count": null,
   "outputs": []
  },
  {
   "cell_type": "code",
   "execution_count": 2,
   "outputs": [
    {
     "name": "stdout",
     "output_type": "stream",
     "text": [
      "Name: xgboost\r\n",
      "Version: 1.7.3\r\n",
      "Summary: XGBoost Python Package\r\n",
      "Home-page: https://github.com/dmlc/xgboost\r\n",
      "Author: \r\n",
      "Author-email: \r\n",
      "License: Apache-2.0\r\n",
      "Location: /Users/nzuchna/opt/anaconda3/envs/gameplay_kaggel_env/lib/python3.9/site-packages\r\n",
      "Requires: numpy, scipy\r\n",
      "Required-by: \r\n"
     ]
    }
   ],
   "source": [
    "!pip show xgboost"
   ],
   "metadata": {
    "collapsed": false,
    "pycharm": {
     "name": "#%%\n"
    }
   }
  },
  {
   "cell_type": "code",
   "execution_count": 1,
   "outputs": [
    {
     "ename": "NameError",
     "evalue": "name 'models' is not defined",
     "output_type": "error",
     "traceback": [
      "\u001B[0;31m---------------------------------------------------------------------------\u001B[0m",
      "\u001B[0;31mNameError\u001B[0m                                 Traceback (most recent call last)",
      "Cell \u001B[0;32mIn[1], line 1\u001B[0m\n\u001B[0;32m----> 1\u001B[0m \u001B[43mmodels\u001B[49m[\u001B[38;5;124m'\u001B[39m\u001B[38;5;124m1\u001B[39m\u001B[38;5;124m'\u001B[39m]\n",
      "\u001B[0;31mNameError\u001B[0m: name 'models' is not defined"
     ]
    }
   ],
   "source": [
    "models['1']"
   ],
   "metadata": {
    "collapsed": false,
    "pycharm": {
     "name": "#%%\n"
    }
   }
  },
  {
   "cell_type": "markdown",
   "source": [
    "# 2. Run the model\n",
    "DON'T READ THIS: This jo_wilder-kind-of-timeseries-API simulates the real world scenario for the model you've trained. The iter_test gives you pairs of: \n",
    "1. X_test_raw: gamelog data of a single session_id from only one level_group \n",
    "2. y_test_label_preds: and secondly a dataframe (similiar to raw/train_labels.csv) in which you have to fill in your predictions for each question of that level_group.\n",
    "\n",
    "**Additional WARNINGS**:\n",
    "- submission.csv is NOT automatically reseted, even after a Kernel reboot the iter_test will continue to add sample submissions to the submission.csv. Therefor, before your final run, do a factory reset (Run > Factory reset).\n",
    "- the iter_tester needs a kernel reboot after each run - or you will get the error: \"Exception: You can only iterate over `iter_test()` once.\""
   ],
   "metadata": {
    "pycharm": {
     "name": "#%% md\n"
    }
   }
  },
  {
   "cell_type": "code",
   "execution_count": 2,
   "outputs": [],
   "source": [
    "X_train = pd.read_csv('data/raw/train.csv')  #TODO: try with test.csv also\n",
    "y_train = pd.read_csv('data/raw/train_labels.csv')"
   ],
   "metadata": {
    "collapsed": false,
    "pycharm": {
     "name": "#%%\n"
    }
   }
  },
  {
   "cell_type": "code",
   "execution_count": 3,
   "outputs": [
    {
     "name": "stderr",
     "output_type": "stream",
     "text": [
      "  9%|▊         | 2023/23562 [18:04<3:12:31,  1.86it/s]\n"
     ]
    },
    {
     "ename": "KeyboardInterrupt",
     "evalue": "",
     "output_type": "error",
     "traceback": [
      "\u001B[0;31m---------------------------------------------------------------------------\u001B[0m",
      "\u001B[0;31mKeyboardInterrupt\u001B[0m                         Traceback (most recent call last)",
      "Cell \u001B[0;32mIn[3], line 34\u001B[0m\n\u001B[1;32m     31\u001B[0m sys\u001B[38;5;241m.\u001B[39mstdout \u001B[38;5;241m=\u001B[39m text_trap\n\u001B[1;32m     33\u001B[0m \u001B[38;5;66;03m# Pre-process the raw test data: the pipeline returns a dict with datasets split by level_group.\u001B[39;00m\n\u001B[0;32m---> 34\u001B[0m X_test_dict \u001B[38;5;241m=\u001B[39m \u001B[43mpp_pipeline_noah\u001B[49m\u001B[43m(\u001B[49m\u001B[43mdata\u001B[49m\u001B[38;5;241;43m=\u001B[39;49m\u001B[43mX_test_raw\u001B[49m\u001B[43m,\u001B[49m\u001B[43m \u001B[49m\u001B[43mfile_path\u001B[49m\u001B[38;5;241;43m=\u001B[39;49m\u001B[38;5;28;43;01mNone\u001B[39;49;00m\u001B[43m,\u001B[49m\u001B[43m \u001B[49m\u001B[43mflatten\u001B[49m\u001B[38;5;241;43m=\u001B[39;49m\u001B[38;5;28;43;01mTrue\u001B[39;49;00m\u001B[43m,\u001B[49m\u001B[43m \u001B[49m\u001B[43msaveIntermediateFiles\u001B[49m\u001B[38;5;241;43m=\u001B[39;49m\u001B[38;5;28;43;01mFalse\u001B[39;49;00m\u001B[43m,\u001B[49m\n\u001B[1;32m     35\u001B[0m \u001B[43m                 \u001B[49m\u001B[43mdtypes\u001B[49m\u001B[38;5;241;43m=\u001B[39;49m\u001B[43mdtypes_raw\u001B[49m\u001B[43m,\u001B[49m\u001B[43m \u001B[49m\u001B[43moutput\u001B[49m\u001B[38;5;241;43m=\u001B[39;49m\u001B[38;5;28;43;01mTrue\u001B[39;49;00m\u001B[43m)\u001B[49m\n\u001B[1;32m     37\u001B[0m \u001B[38;5;66;03m# Restore stdout.\u001B[39;00m\n\u001B[1;32m     38\u001B[0m sys\u001B[38;5;241m.\u001B[39mstdout \u001B[38;5;241m=\u001B[39m sys\u001B[38;5;241m.\u001B[39m__stdout__\n",
      "File \u001B[0;32m~/Desktop/Drive/2. Areas/University/Master-TUC/M2/4_Forschungsmodul/student-performance/utils/data_preprocessing_steve.py:77\u001B[0m, in \u001B[0;36mpp_pipeline_noah\u001B[0;34m(data, file_path, flatten, saveIntermediateFiles, dtypes, output)\u001B[0m\n\u001B[1;32m     70\u001B[0m MAXIMUM \u001B[38;5;241m=\u001B[39m [\u001B[38;5;124m'\u001B[39m\u001B[38;5;124mdifference_clicks\u001B[39m\u001B[38;5;124m'\u001B[39m, \u001B[38;5;124m'\u001B[39m\u001B[38;5;124melapsed_time\u001B[39m\u001B[38;5;124m'\u001B[39m, \u001B[38;5;124m\"\u001B[39m\u001B[38;5;124msum_distance_clicks\u001B[39m\u001B[38;5;124m\"\u001B[39m]\n\u001B[1;32m     72\u001B[0m \u001B[38;5;66;03m# copy them into the feature engineer function\u001B[39;00m\n\u001B[1;32m     73\u001B[0m \n\u001B[1;32m     74\u001B[0m \u001B[38;5;66;03m# Careful, werid fix of a problem: when changing the categories and variables. copy them into the right place in the deature engeneer function.\u001B[39;00m\n\u001B[1;32m     75\u001B[0m \u001B[38;5;66;03m# they cant be loaded across the files.\u001B[39;00m\n\u001B[0;32m---> 77\u001B[0m dataset_df \u001B[38;5;241m=\u001B[39m \u001B[43mfeature_engineer_steve\u001B[49m\u001B[43m(\u001B[49m\u001B[43mdataset_df\u001B[49m\u001B[43m)\u001B[49m\n\u001B[1;32m     79\u001B[0m \u001B[38;5;28;01mif\u001B[39;00m saveIntermediateFiles:\n\u001B[1;32m     80\u001B[0m     \u001B[38;5;66;03m# save the leveled data (aggregated)\u001B[39;00m\n\u001B[1;32m     81\u001B[0m     dataset_df\u001B[38;5;241m.\u001B[39mto_csv(\u001B[38;5;124m'\u001B[39m\u001B[38;5;124mdata/processed/df_level.csv\u001B[39m\u001B[38;5;124m'\u001B[39m)\n",
      "File \u001B[0;32m~/Desktop/Drive/2. Areas/University/Master-TUC/M2/4_Forschungsmodul/student-performance/utils/preprocessing_func.py:47\u001B[0m, in \u001B[0;36mfeature_engineer_steve\u001B[0;34m(dataset_df)\u001B[0m\n\u001B[1;32m     45\u001B[0m         tmp \u001B[38;5;241m=\u001B[39m dataset_df\u001B[38;5;241m.\u001B[39mgroupby([\u001B[38;5;124m'\u001B[39m\u001B[38;5;124msession_id\u001B[39m\u001B[38;5;124m'\u001B[39m, \u001B[38;5;124m'\u001B[39m\u001B[38;5;124mlevel\u001B[39m\u001B[38;5;124m'\u001B[39m])[c]\u001B[38;5;241m.\u001B[39magg(\u001B[38;5;124m'\u001B[39m\u001B[38;5;124mnunique\u001B[39m\u001B[38;5;124m'\u001B[39m)\n\u001B[1;32m     46\u001B[0m     \u001B[38;5;28;01melse\u001B[39;00m:\n\u001B[0;32m---> 47\u001B[0m         tmp \u001B[38;5;241m=\u001B[39m \u001B[43mdataset_df\u001B[49m\u001B[38;5;241;43m.\u001B[39;49m\u001B[43mgroupby\u001B[49m\u001B[43m(\u001B[49m\u001B[43m[\u001B[49m\u001B[38;5;124;43m'\u001B[39;49m\u001B[38;5;124;43msession_id\u001B[39;49m\u001B[38;5;124;43m'\u001B[39;49m\u001B[43m,\u001B[49m\u001B[43m \u001B[49m\u001B[38;5;124;43m'\u001B[39;49m\u001B[38;5;124;43mlevel\u001B[39;49m\u001B[38;5;124;43m'\u001B[39;49m\u001B[43m]\u001B[49m\u001B[43m)\u001B[49m\u001B[43m[\u001B[49m\u001B[43mc\u001B[49m\u001B[43m]\u001B[49m\u001B[38;5;241;43m.\u001B[39;49m\u001B[43mfirst\u001B[49m\u001B[43m(\u001B[49m\u001B[43m)\u001B[49m\u001B[38;5;241m.\u001B[39mastype(\u001B[38;5;28mint\u001B[39m)\u001B[38;5;241m.\u001B[39mfillna(\u001B[38;5;241m0\u001B[39m)\n\u001B[1;32m     48\u001B[0m     dfs\u001B[38;5;241m.\u001B[39mappend(tmp)\n\u001B[1;32m     49\u001B[0m \u001B[38;5;28;01mfor\u001B[39;00m c \u001B[38;5;129;01min\u001B[39;00m NUMERICALmean:\n",
      "File \u001B[0;32m~/opt/anaconda3/envs/gameplay_kaggel_env/lib/python3.9/site-packages/pandas/core/groupby/groupby.py:2580\u001B[0m, in \u001B[0;36mGroupBy.first\u001B[0;34m(self, numeric_only, min_count)\u001B[0m\n\u001B[1;32m   2577\u001B[0m     \u001B[38;5;28;01melse\u001B[39;00m:  \u001B[38;5;66;03m# pragma: no cover\u001B[39;00m\n\u001B[1;32m   2578\u001B[0m         \u001B[38;5;28;01mraise\u001B[39;00m \u001B[38;5;167;01mTypeError\u001B[39;00m(\u001B[38;5;28mtype\u001B[39m(obj))\n\u001B[0;32m-> 2580\u001B[0m \u001B[38;5;28;01mreturn\u001B[39;00m \u001B[38;5;28;43mself\u001B[39;49m\u001B[38;5;241;43m.\u001B[39;49m\u001B[43m_agg_general\u001B[49m\u001B[43m(\u001B[49m\n\u001B[1;32m   2581\u001B[0m \u001B[43m    \u001B[49m\u001B[43mnumeric_only\u001B[49m\u001B[38;5;241;43m=\u001B[39;49m\u001B[43mnumeric_only\u001B[49m\u001B[43m,\u001B[49m\n\u001B[1;32m   2582\u001B[0m \u001B[43m    \u001B[49m\u001B[43mmin_count\u001B[49m\u001B[38;5;241;43m=\u001B[39;49m\u001B[43mmin_count\u001B[49m\u001B[43m,\u001B[49m\n\u001B[1;32m   2583\u001B[0m \u001B[43m    \u001B[49m\u001B[43malias\u001B[49m\u001B[38;5;241;43m=\u001B[39;49m\u001B[38;5;124;43m\"\u001B[39;49m\u001B[38;5;124;43mfirst\u001B[39;49m\u001B[38;5;124;43m\"\u001B[39;49m\u001B[43m,\u001B[49m\n\u001B[1;32m   2584\u001B[0m \u001B[43m    \u001B[49m\u001B[43mnpfunc\u001B[49m\u001B[38;5;241;43m=\u001B[39;49m\u001B[43mfirst_compat\u001B[49m\u001B[43m,\u001B[49m\n\u001B[1;32m   2585\u001B[0m \u001B[43m\u001B[49m\u001B[43m)\u001B[49m\n",
      "File \u001B[0;32m~/opt/anaconda3/envs/gameplay_kaggel_env/lib/python3.9/site-packages/pandas/core/groupby/groupby.py:1711\u001B[0m, in \u001B[0;36mGroupBy._agg_general\u001B[0;34m(self, numeric_only, min_count, alias, npfunc)\u001B[0m\n\u001B[1;32m   1699\u001B[0m \u001B[38;5;129m@final\u001B[39m\n\u001B[1;32m   1700\u001B[0m \u001B[38;5;28;01mdef\u001B[39;00m \u001B[38;5;21m_agg_general\u001B[39m(\n\u001B[1;32m   1701\u001B[0m     \u001B[38;5;28mself\u001B[39m,\n\u001B[0;32m   (...)\u001B[0m\n\u001B[1;32m   1706\u001B[0m     npfunc: Callable,\n\u001B[1;32m   1707\u001B[0m ):\n\u001B[1;32m   1709\u001B[0m     \u001B[38;5;28;01mwith\u001B[39;00m \u001B[38;5;28mself\u001B[39m\u001B[38;5;241m.\u001B[39m_group_selection_context():\n\u001B[1;32m   1710\u001B[0m         \u001B[38;5;66;03m# try a cython aggregation if we can\u001B[39;00m\n\u001B[0;32m-> 1711\u001B[0m         result \u001B[38;5;241m=\u001B[39m \u001B[38;5;28;43mself\u001B[39;49m\u001B[38;5;241;43m.\u001B[39;49m\u001B[43m_cython_agg_general\u001B[49m\u001B[43m(\u001B[49m\n\u001B[1;32m   1712\u001B[0m \u001B[43m            \u001B[49m\u001B[43mhow\u001B[49m\u001B[38;5;241;43m=\u001B[39;49m\u001B[43malias\u001B[49m\u001B[43m,\u001B[49m\n\u001B[1;32m   1713\u001B[0m \u001B[43m            \u001B[49m\u001B[43malt\u001B[49m\u001B[38;5;241;43m=\u001B[39;49m\u001B[43mnpfunc\u001B[49m\u001B[43m,\u001B[49m\n\u001B[1;32m   1714\u001B[0m \u001B[43m            \u001B[49m\u001B[43mnumeric_only\u001B[49m\u001B[38;5;241;43m=\u001B[39;49m\u001B[43mnumeric_only\u001B[49m\u001B[43m,\u001B[49m\n\u001B[1;32m   1715\u001B[0m \u001B[43m            \u001B[49m\u001B[43mmin_count\u001B[49m\u001B[38;5;241;43m=\u001B[39;49m\u001B[43mmin_count\u001B[49m\u001B[43m,\u001B[49m\n\u001B[1;32m   1716\u001B[0m \u001B[43m        \u001B[49m\u001B[43m)\u001B[49m\n\u001B[1;32m   1717\u001B[0m         \u001B[38;5;28;01mreturn\u001B[39;00m result\u001B[38;5;241m.\u001B[39m__finalize__(\u001B[38;5;28mself\u001B[39m\u001B[38;5;241m.\u001B[39mobj, method\u001B[38;5;241m=\u001B[39m\u001B[38;5;124m\"\u001B[39m\u001B[38;5;124mgroupby\u001B[39m\u001B[38;5;124m\"\u001B[39m)\n",
      "File \u001B[0;32m~/opt/anaconda3/envs/gameplay_kaggel_env/lib/python3.9/site-packages/pandas/core/groupby/groupby.py:1810\u001B[0m, in \u001B[0;36mGroupBy._cython_agg_general\u001B[0;34m(self, how, alt, numeric_only, min_count, ignore_failures, **kwargs)\u001B[0m\n\u001B[1;32m   1806\u001B[0m     \u001B[38;5;28;01mreturn\u001B[39;00m result\n\u001B[1;32m   1808\u001B[0m \u001B[38;5;66;03m# TypeError -> we may have an exception in trying to aggregate\u001B[39;00m\n\u001B[1;32m   1809\u001B[0m \u001B[38;5;66;03m#  continue and exclude the block\u001B[39;00m\n\u001B[0;32m-> 1810\u001B[0m new_mgr \u001B[38;5;241m=\u001B[39m \u001B[43mdata\u001B[49m\u001B[38;5;241;43m.\u001B[39;49m\u001B[43mgrouped_reduce\u001B[49m\u001B[43m(\u001B[49m\u001B[43marray_func\u001B[49m\u001B[43m,\u001B[49m\u001B[43m \u001B[49m\u001B[43mignore_failures\u001B[49m\u001B[38;5;241;43m=\u001B[39;49m\u001B[43mignore_failures\u001B[49m\u001B[43m)\u001B[49m\n\u001B[1;32m   1812\u001B[0m \u001B[38;5;28;01mif\u001B[39;00m \u001B[38;5;129;01mnot\u001B[39;00m is_ser \u001B[38;5;129;01mand\u001B[39;00m \u001B[38;5;28mlen\u001B[39m(new_mgr) \u001B[38;5;241m<\u001B[39m orig_len:\n\u001B[1;32m   1813\u001B[0m     warn_dropping_nuisance_columns_deprecated(\u001B[38;5;28mtype\u001B[39m(\u001B[38;5;28mself\u001B[39m), how, numeric_only)\n",
      "File \u001B[0;32m~/opt/anaconda3/envs/gameplay_kaggel_env/lib/python3.9/site-packages/pandas/core/internals/base.py:199\u001B[0m, in \u001B[0;36mSingleDataManager.grouped_reduce\u001B[0;34m(self, func, ignore_failures)\u001B[0m\n\u001B[1;32m    193\u001B[0m \u001B[38;5;124;03m\"\"\"\u001B[39;00m\n\u001B[1;32m    194\u001B[0m \u001B[38;5;124;03mignore_failures : bool, default False\u001B[39;00m\n\u001B[1;32m    195\u001B[0m \u001B[38;5;124;03m    Not used; for compatibility with ArrayManager/BlockManager.\u001B[39;00m\n\u001B[1;32m    196\u001B[0m \u001B[38;5;124;03m\"\"\"\u001B[39;00m\n\u001B[1;32m    198\u001B[0m arr \u001B[38;5;241m=\u001B[39m \u001B[38;5;28mself\u001B[39m\u001B[38;5;241m.\u001B[39marray\n\u001B[0;32m--> 199\u001B[0m res \u001B[38;5;241m=\u001B[39m \u001B[43mfunc\u001B[49m\u001B[43m(\u001B[49m\u001B[43marr\u001B[49m\u001B[43m)\u001B[49m\n\u001B[1;32m    200\u001B[0m index \u001B[38;5;241m=\u001B[39m default_index(\u001B[38;5;28mlen\u001B[39m(res))\n\u001B[1;32m    202\u001B[0m mgr \u001B[38;5;241m=\u001B[39m \u001B[38;5;28mtype\u001B[39m(\u001B[38;5;28mself\u001B[39m)\u001B[38;5;241m.\u001B[39mfrom_array(res, index)\n",
      "File \u001B[0;32m~/opt/anaconda3/envs/gameplay_kaggel_env/lib/python3.9/site-packages/pandas/core/groupby/groupby.py:1791\u001B[0m, in \u001B[0;36mGroupBy._cython_agg_general.<locals>.array_func\u001B[0;34m(values)\u001B[0m\n\u001B[1;32m   1789\u001B[0m \u001B[38;5;28;01mdef\u001B[39;00m \u001B[38;5;21marray_func\u001B[39m(values: ArrayLike) \u001B[38;5;241m-\u001B[39m\u001B[38;5;241m>\u001B[39m ArrayLike:\n\u001B[1;32m   1790\u001B[0m     \u001B[38;5;28;01mtry\u001B[39;00m:\n\u001B[0;32m-> 1791\u001B[0m         result \u001B[38;5;241m=\u001B[39m \u001B[38;5;28;43mself\u001B[39;49m\u001B[38;5;241;43m.\u001B[39;49m\u001B[43mgrouper\u001B[49m\u001B[38;5;241;43m.\u001B[39;49m\u001B[43m_cython_operation\u001B[49m\u001B[43m(\u001B[49m\n\u001B[1;32m   1792\u001B[0m \u001B[43m            \u001B[49m\u001B[38;5;124;43m\"\u001B[39;49m\u001B[38;5;124;43maggregate\u001B[39;49m\u001B[38;5;124;43m\"\u001B[39;49m\u001B[43m,\u001B[49m\n\u001B[1;32m   1793\u001B[0m \u001B[43m            \u001B[49m\u001B[43mvalues\u001B[49m\u001B[43m,\u001B[49m\n\u001B[1;32m   1794\u001B[0m \u001B[43m            \u001B[49m\u001B[43mhow\u001B[49m\u001B[43m,\u001B[49m\n\u001B[1;32m   1795\u001B[0m \u001B[43m            \u001B[49m\u001B[43maxis\u001B[49m\u001B[38;5;241;43m=\u001B[39;49m\u001B[43mdata\u001B[49m\u001B[38;5;241;43m.\u001B[39;49m\u001B[43mndim\u001B[49m\u001B[43m \u001B[49m\u001B[38;5;241;43m-\u001B[39;49m\u001B[43m \u001B[49m\u001B[38;5;241;43m1\u001B[39;49m\u001B[43m,\u001B[49m\n\u001B[1;32m   1796\u001B[0m \u001B[43m            \u001B[49m\u001B[43mmin_count\u001B[49m\u001B[38;5;241;43m=\u001B[39;49m\u001B[43mmin_count\u001B[49m\u001B[43m,\u001B[49m\n\u001B[1;32m   1797\u001B[0m \u001B[43m            \u001B[49m\u001B[38;5;241;43m*\u001B[39;49m\u001B[38;5;241;43m*\u001B[39;49m\u001B[43mkwargs\u001B[49m\u001B[43m,\u001B[49m\n\u001B[1;32m   1798\u001B[0m \u001B[43m        \u001B[49m\u001B[43m)\u001B[49m\n\u001B[1;32m   1799\u001B[0m     \u001B[38;5;28;01mexcept\u001B[39;00m \u001B[38;5;167;01mNotImplementedError\u001B[39;00m:\n\u001B[1;32m   1800\u001B[0m         \u001B[38;5;66;03m# generally if we have numeric_only=False\u001B[39;00m\n\u001B[1;32m   1801\u001B[0m         \u001B[38;5;66;03m# and non-applicable functions\u001B[39;00m\n\u001B[1;32m   1802\u001B[0m         \u001B[38;5;66;03m# try to python agg\u001B[39;00m\n\u001B[1;32m   1803\u001B[0m         \u001B[38;5;66;03m# TODO: shouldn't min_count matter?\u001B[39;00m\n\u001B[1;32m   1804\u001B[0m         result \u001B[38;5;241m=\u001B[39m \u001B[38;5;28mself\u001B[39m\u001B[38;5;241m.\u001B[39m_agg_py_fallback(values, ndim\u001B[38;5;241m=\u001B[39mdata\u001B[38;5;241m.\u001B[39mndim, alt\u001B[38;5;241m=\u001B[39malt)\n",
      "File \u001B[0;32m~/opt/anaconda3/envs/gameplay_kaggel_env/lib/python3.9/site-packages/pandas/core/groupby/ops.py:1035\u001B[0m, in \u001B[0;36mBaseGrouper._cython_operation\u001B[0;34m(self, kind, values, how, axis, min_count, **kwargs)\u001B[0m\n\u001B[1;32m   1030\u001B[0m \u001B[38;5;124;03m\"\"\"\u001B[39;00m\n\u001B[1;32m   1031\u001B[0m \u001B[38;5;124;03mReturns the values of a cython operation.\u001B[39;00m\n\u001B[1;32m   1032\u001B[0m \u001B[38;5;124;03m\"\"\"\u001B[39;00m\n\u001B[1;32m   1033\u001B[0m \u001B[38;5;28;01massert\u001B[39;00m kind \u001B[38;5;129;01min\u001B[39;00m [\u001B[38;5;124m\"\u001B[39m\u001B[38;5;124mtransform\u001B[39m\u001B[38;5;124m\"\u001B[39m, \u001B[38;5;124m\"\u001B[39m\u001B[38;5;124maggregate\u001B[39m\u001B[38;5;124m\"\u001B[39m]\n\u001B[0;32m-> 1035\u001B[0m cy_op \u001B[38;5;241m=\u001B[39m WrappedCythonOp(kind\u001B[38;5;241m=\u001B[39mkind, how\u001B[38;5;241m=\u001B[39mhow, has_dropped_na\u001B[38;5;241m=\u001B[39m\u001B[38;5;28;43mself\u001B[39;49m\u001B[38;5;241;43m.\u001B[39;49m\u001B[43mhas_dropped_na\u001B[49m)\n\u001B[1;32m   1037\u001B[0m ids, _, _ \u001B[38;5;241m=\u001B[39m \u001B[38;5;28mself\u001B[39m\u001B[38;5;241m.\u001B[39mgroup_info\n\u001B[1;32m   1038\u001B[0m ngroups \u001B[38;5;241m=\u001B[39m \u001B[38;5;28mself\u001B[39m\u001B[38;5;241m.\u001B[39mngroups\n",
      "File \u001B[0;32m~/opt/anaconda3/envs/gameplay_kaggel_env/lib/python3.9/site-packages/pandas/_libs/properties.pyx:36\u001B[0m, in \u001B[0;36mpandas._libs.properties.CachedProperty.__get__\u001B[0;34m()\u001B[0m\n",
      "File \u001B[0;32m~/opt/anaconda3/envs/gameplay_kaggel_env/lib/python3.9/site-packages/pandas/core/groupby/ops.py:942\u001B[0m, in \u001B[0;36mBaseGrouper.has_dropped_na\u001B[0;34m(self)\u001B[0m\n\u001B[1;32m    936\u001B[0m \u001B[38;5;129m@final\u001B[39m\n\u001B[1;32m    937\u001B[0m \u001B[38;5;129m@cache_readonly\u001B[39m\n\u001B[1;32m    938\u001B[0m \u001B[38;5;28;01mdef\u001B[39;00m \u001B[38;5;21mhas_dropped_na\u001B[39m(\u001B[38;5;28mself\u001B[39m) \u001B[38;5;241m-\u001B[39m\u001B[38;5;241m>\u001B[39m \u001B[38;5;28mbool\u001B[39m:\n\u001B[1;32m    939\u001B[0m     \u001B[38;5;124;03m\"\"\"\u001B[39;00m\n\u001B[1;32m    940\u001B[0m \u001B[38;5;124;03m    Whether grouper has null value(s) that are dropped.\u001B[39;00m\n\u001B[1;32m    941\u001B[0m \u001B[38;5;124;03m    \"\"\"\u001B[39;00m\n\u001B[0;32m--> 942\u001B[0m     \u001B[38;5;28;01mreturn\u001B[39;00m \u001B[38;5;28mbool\u001B[39m((\u001B[38;5;28;43mself\u001B[39;49m\u001B[38;5;241;43m.\u001B[39;49m\u001B[43mgroup_info\u001B[49m[\u001B[38;5;241m0\u001B[39m] \u001B[38;5;241m<\u001B[39m \u001B[38;5;241m0\u001B[39m)\u001B[38;5;241m.\u001B[39many())\n",
      "File \u001B[0;32m~/opt/anaconda3/envs/gameplay_kaggel_env/lib/python3.9/site-packages/pandas/_libs/properties.pyx:36\u001B[0m, in \u001B[0;36mpandas._libs.properties.CachedProperty.__get__\u001B[0;34m()\u001B[0m\n",
      "File \u001B[0;32m~/opt/anaconda3/envs/gameplay_kaggel_env/lib/python3.9/site-packages/pandas/core/groupby/ops.py:946\u001B[0m, in \u001B[0;36mBaseGrouper.group_info\u001B[0;34m(self)\u001B[0m\n\u001B[1;32m    944\u001B[0m \u001B[38;5;129m@cache_readonly\u001B[39m\n\u001B[1;32m    945\u001B[0m \u001B[38;5;28;01mdef\u001B[39;00m \u001B[38;5;21mgroup_info\u001B[39m(\u001B[38;5;28mself\u001B[39m) \u001B[38;5;241m-\u001B[39m\u001B[38;5;241m>\u001B[39m \u001B[38;5;28mtuple\u001B[39m[npt\u001B[38;5;241m.\u001B[39mNDArray[np\u001B[38;5;241m.\u001B[39mintp], npt\u001B[38;5;241m.\u001B[39mNDArray[np\u001B[38;5;241m.\u001B[39mintp], \u001B[38;5;28mint\u001B[39m]:\n\u001B[0;32m--> 946\u001B[0m     comp_ids, obs_group_ids \u001B[38;5;241m=\u001B[39m \u001B[38;5;28;43mself\u001B[39;49m\u001B[38;5;241;43m.\u001B[39;49m\u001B[43m_get_compressed_codes\u001B[49m\u001B[43m(\u001B[49m\u001B[43m)\u001B[49m\n\u001B[1;32m    948\u001B[0m     ngroups \u001B[38;5;241m=\u001B[39m \u001B[38;5;28mlen\u001B[39m(obs_group_ids)\n\u001B[1;32m    949\u001B[0m     comp_ids \u001B[38;5;241m=\u001B[39m ensure_platform_int(comp_ids)\n",
      "File \u001B[0;32m~/opt/anaconda3/envs/gameplay_kaggel_env/lib/python3.9/site-packages/pandas/core/groupby/ops.py:972\u001B[0m, in \u001B[0;36mBaseGrouper._get_compressed_codes\u001B[0;34m(self)\u001B[0m\n\u001B[1;32m    966\u001B[0m \u001B[38;5;129m@final\u001B[39m\n\u001B[1;32m    967\u001B[0m \u001B[38;5;28;01mdef\u001B[39;00m \u001B[38;5;21m_get_compressed_codes\u001B[39m(\n\u001B[1;32m    968\u001B[0m     \u001B[38;5;28mself\u001B[39m,\n\u001B[1;32m    969\u001B[0m ) \u001B[38;5;241m-\u001B[39m\u001B[38;5;241m>\u001B[39m \u001B[38;5;28mtuple\u001B[39m[npt\u001B[38;5;241m.\u001B[39mNDArray[np\u001B[38;5;241m.\u001B[39msignedinteger], npt\u001B[38;5;241m.\u001B[39mNDArray[np\u001B[38;5;241m.\u001B[39mintp]]:\n\u001B[1;32m    970\u001B[0m     \u001B[38;5;66;03m# The first returned ndarray may have any signed integer dtype\u001B[39;00m\n\u001B[1;32m    971\u001B[0m     \u001B[38;5;28;01mif\u001B[39;00m \u001B[38;5;28mlen\u001B[39m(\u001B[38;5;28mself\u001B[39m\u001B[38;5;241m.\u001B[39mgroupings) \u001B[38;5;241m>\u001B[39m \u001B[38;5;241m1\u001B[39m:\n\u001B[0;32m--> 972\u001B[0m         group_index \u001B[38;5;241m=\u001B[39m get_group_index(\u001B[38;5;28mself\u001B[39m\u001B[38;5;241m.\u001B[39mcodes, \u001B[38;5;28;43mself\u001B[39;49m\u001B[38;5;241;43m.\u001B[39;49m\u001B[43mshape\u001B[49m, sort\u001B[38;5;241m=\u001B[39m\u001B[38;5;28;01mTrue\u001B[39;00m, xnull\u001B[38;5;241m=\u001B[39m\u001B[38;5;28;01mTrue\u001B[39;00m)\n\u001B[1;32m    973\u001B[0m         \u001B[38;5;28;01mreturn\u001B[39;00m compress_group_index(group_index, sort\u001B[38;5;241m=\u001B[39m\u001B[38;5;28mself\u001B[39m\u001B[38;5;241m.\u001B[39m_sort)\n\u001B[1;32m    974\u001B[0m         \u001B[38;5;66;03m# FIXME: compress_group_index's second return value is int64, not intp\u001B[39;00m\n",
      "File \u001B[0;32m~/opt/anaconda3/envs/gameplay_kaggel_env/lib/python3.9/site-packages/pandas/core/groupby/ops.py:768\u001B[0m, in \u001B[0;36mBaseGrouper.shape\u001B[0;34m(self)\u001B[0m\n\u001B[1;32m    766\u001B[0m \u001B[38;5;129m@property\u001B[39m\n\u001B[1;32m    767\u001B[0m \u001B[38;5;28;01mdef\u001B[39;00m \u001B[38;5;21mshape\u001B[39m(\u001B[38;5;28mself\u001B[39m) \u001B[38;5;241m-\u001B[39m\u001B[38;5;241m>\u001B[39m Shape:\n\u001B[0;32m--> 768\u001B[0m     \u001B[38;5;28;01mreturn\u001B[39;00m \u001B[38;5;28;43mtuple\u001B[39;49m\u001B[43m(\u001B[49m\u001B[43mping\u001B[49m\u001B[38;5;241;43m.\u001B[39;49m\u001B[43mngroups\u001B[49m\u001B[43m \u001B[49m\u001B[38;5;28;43;01mfor\u001B[39;49;00m\u001B[43m \u001B[49m\u001B[43mping\u001B[49m\u001B[43m \u001B[49m\u001B[38;5;129;43;01min\u001B[39;49;00m\u001B[43m \u001B[49m\u001B[38;5;28;43mself\u001B[39;49m\u001B[38;5;241;43m.\u001B[39;49m\u001B[43mgroupings\u001B[49m\u001B[43m)\u001B[49m\n",
      "File \u001B[0;32m~/opt/anaconda3/envs/gameplay_kaggel_env/lib/python3.9/site-packages/pandas/core/groupby/ops.py:768\u001B[0m, in \u001B[0;36m<genexpr>\u001B[0;34m(.0)\u001B[0m\n\u001B[1;32m    766\u001B[0m \u001B[38;5;129m@property\u001B[39m\n\u001B[1;32m    767\u001B[0m \u001B[38;5;28;01mdef\u001B[39;00m \u001B[38;5;21mshape\u001B[39m(\u001B[38;5;28mself\u001B[39m) \u001B[38;5;241m-\u001B[39m\u001B[38;5;241m>\u001B[39m Shape:\n\u001B[0;32m--> 768\u001B[0m     \u001B[38;5;28;01mreturn\u001B[39;00m \u001B[38;5;28mtuple\u001B[39m(\u001B[43mping\u001B[49m\u001B[38;5;241;43m.\u001B[39;49m\u001B[43mngroups\u001B[49m \u001B[38;5;28;01mfor\u001B[39;00m ping \u001B[38;5;129;01min\u001B[39;00m \u001B[38;5;28mself\u001B[39m\u001B[38;5;241m.\u001B[39mgroupings)\n",
      "File \u001B[0;32m~/opt/anaconda3/envs/gameplay_kaggel_env/lib/python3.9/site-packages/pandas/core/groupby/grouper.py:604\u001B[0m, in \u001B[0;36mGrouping.ngroups\u001B[0;34m(self)\u001B[0m\n\u001B[1;32m    602\u001B[0m \u001B[38;5;129m@property\u001B[39m\n\u001B[1;32m    603\u001B[0m \u001B[38;5;28;01mdef\u001B[39;00m \u001B[38;5;21mngroups\u001B[39m(\u001B[38;5;28mself\u001B[39m) \u001B[38;5;241m-\u001B[39m\u001B[38;5;241m>\u001B[39m \u001B[38;5;28mint\u001B[39m:\n\u001B[0;32m--> 604\u001B[0m     \u001B[38;5;28;01mreturn\u001B[39;00m \u001B[38;5;28mlen\u001B[39m(\u001B[38;5;28;43mself\u001B[39;49m\u001B[38;5;241;43m.\u001B[39;49m\u001B[43mgroup_index\u001B[49m)\n",
      "File \u001B[0;32m~/opt/anaconda3/envs/gameplay_kaggel_env/lib/python3.9/site-packages/pandas/_libs/properties.pyx:36\u001B[0m, in \u001B[0;36mpandas._libs.properties.CachedProperty.__get__\u001B[0;34m()\u001B[0m\n",
      "File \u001B[0;32m~/opt/anaconda3/envs/gameplay_kaggel_env/lib/python3.9/site-packages/pandas/core/groupby/grouper.py:656\u001B[0m, in \u001B[0;36mGrouping.group_index\u001B[0;34m(self)\u001B[0m\n\u001B[1;32m    653\u001B[0m     \u001B[38;5;28;01mreturn\u001B[39;00m \u001B[38;5;28mself\u001B[39m\u001B[38;5;241m.\u001B[39m_group_index\n\u001B[1;32m    655\u001B[0m uniques \u001B[38;5;241m=\u001B[39m \u001B[38;5;28mself\u001B[39m\u001B[38;5;241m.\u001B[39m_codes_and_uniques[\u001B[38;5;241m1\u001B[39m]\n\u001B[0;32m--> 656\u001B[0m \u001B[38;5;28;01mreturn\u001B[39;00m \u001B[43mIndex\u001B[49m\u001B[38;5;241;43m.\u001B[39;49m\u001B[43m_with_infer\u001B[49m\u001B[43m(\u001B[49m\u001B[43muniques\u001B[49m\u001B[43m,\u001B[49m\u001B[43m \u001B[49m\u001B[43mname\u001B[49m\u001B[38;5;241;43m=\u001B[39;49m\u001B[38;5;28;43mself\u001B[39;49m\u001B[38;5;241;43m.\u001B[39;49m\u001B[43mname\u001B[49m\u001B[43m)\u001B[49m\n",
      "File \u001B[0;32m~/opt/anaconda3/envs/gameplay_kaggel_env/lib/python3.9/site-packages/pandas/core/indexes/base.py:716\u001B[0m, in \u001B[0;36mIndex._with_infer\u001B[0;34m(cls, *args, **kwargs)\u001B[0m\n\u001B[1;32m    714\u001B[0m \u001B[38;5;28;01mwith\u001B[39;00m warnings\u001B[38;5;241m.\u001B[39mcatch_warnings():\n\u001B[1;32m    715\u001B[0m     warnings\u001B[38;5;241m.\u001B[39mfilterwarnings(\u001B[38;5;124m\"\u001B[39m\u001B[38;5;124mignore\u001B[39m\u001B[38;5;124m\"\u001B[39m, \u001B[38;5;124m\"\u001B[39m\u001B[38;5;124m.*the Index constructor\u001B[39m\u001B[38;5;124m\"\u001B[39m, \u001B[38;5;167;01mFutureWarning\u001B[39;00m)\n\u001B[0;32m--> 716\u001B[0m     result \u001B[38;5;241m=\u001B[39m \u001B[38;5;28;43mcls\u001B[39;49m\u001B[43m(\u001B[49m\u001B[38;5;241;43m*\u001B[39;49m\u001B[43margs\u001B[49m\u001B[43m,\u001B[49m\u001B[43m \u001B[49m\u001B[38;5;241;43m*\u001B[39;49m\u001B[38;5;241;43m*\u001B[39;49m\u001B[43mkwargs\u001B[49m\u001B[43m)\u001B[49m\n\u001B[1;32m    718\u001B[0m \u001B[38;5;28;01mif\u001B[39;00m result\u001B[38;5;241m.\u001B[39mdtype \u001B[38;5;241m==\u001B[39m _dtype_obj \u001B[38;5;129;01mand\u001B[39;00m \u001B[38;5;129;01mnot\u001B[39;00m result\u001B[38;5;241m.\u001B[39m_is_multi:\n\u001B[1;32m    719\u001B[0m     \u001B[38;5;66;03m# error: Argument 1 to \"maybe_convert_objects\" has incompatible type\u001B[39;00m\n\u001B[1;32m    720\u001B[0m     \u001B[38;5;66;03m# \"Union[ExtensionArray, ndarray[Any, Any]]\"; expected\u001B[39;00m\n\u001B[1;32m    721\u001B[0m     \u001B[38;5;66;03m# \"ndarray[Any, Any]\"\u001B[39;00m\n\u001B[1;32m    722\u001B[0m     values \u001B[38;5;241m=\u001B[39m lib\u001B[38;5;241m.\u001B[39mmaybe_convert_objects(result\u001B[38;5;241m.\u001B[39m_values)  \u001B[38;5;66;03m# type: ignore[arg-type]\u001B[39;00m\n",
      "File \u001B[0;32m~/opt/anaconda3/envs/gameplay_kaggel_env/lib/python3.9/site-packages/pandas/core/indexes/base.py:541\u001B[0m, in \u001B[0;36mIndex.__new__\u001B[0;34m(cls, data, dtype, copy, name, tupleize_cols, **kwargs)\u001B[0m\n\u001B[1;32m    539\u001B[0m     klass \u001B[38;5;241m=\u001B[39m \u001B[38;5;28mcls\u001B[39m\u001B[38;5;241m.\u001B[39m_dtype_to_subclass(arr\u001B[38;5;241m.\u001B[39mdtype)\n\u001B[1;32m    540\u001B[0m     arr \u001B[38;5;241m=\u001B[39m klass\u001B[38;5;241m.\u001B[39m_ensure_array(arr, dtype, copy)\n\u001B[0;32m--> 541\u001B[0m     \u001B[43mdisallow_kwargs\u001B[49m\u001B[43m(\u001B[49m\u001B[43mkwargs\u001B[49m\u001B[43m)\u001B[49m\n\u001B[1;32m    542\u001B[0m     \u001B[38;5;28;01mreturn\u001B[39;00m klass\u001B[38;5;241m.\u001B[39m_simple_new(arr, name)\n\u001B[1;32m    544\u001B[0m \u001B[38;5;28;01melif\u001B[39;00m is_scalar(data):\n",
      "File \u001B[0;32m~/opt/anaconda3/envs/gameplay_kaggel_env/lib/python3.9/site-packages/pandas/core/indexes/base.py:241\u001B[0m, in \u001B[0;36mdisallow_kwargs\u001B[0;34m(kwargs)\u001B[0m\n\u001B[1;32m    236\u001B[0m         \u001B[38;5;28;01mreturn\u001B[39;00m join_index, lidx, ridx\n\u001B[1;32m    238\u001B[0m     \u001B[38;5;28;01mreturn\u001B[39;00m cast(F, join)\n\u001B[0;32m--> 241\u001B[0m \u001B[38;5;28;01mdef\u001B[39;00m \u001B[38;5;21mdisallow_kwargs\u001B[39m(kwargs: \u001B[38;5;28mdict\u001B[39m[\u001B[38;5;28mstr\u001B[39m, Any]) \u001B[38;5;241m-\u001B[39m\u001B[38;5;241m>\u001B[39m \u001B[38;5;28;01mNone\u001B[39;00m:\n\u001B[1;32m    242\u001B[0m     \u001B[38;5;28;01mif\u001B[39;00m kwargs:\n\u001B[1;32m    243\u001B[0m         \u001B[38;5;28;01mraise\u001B[39;00m \u001B[38;5;167;01mTypeError\u001B[39;00m(\u001B[38;5;124mf\u001B[39m\u001B[38;5;124m\"\u001B[39m\u001B[38;5;124mUnexpected keyword arguments \u001B[39m\u001B[38;5;132;01m{\u001B[39;00m\u001B[38;5;28mrepr\u001B[39m(\u001B[38;5;28mset\u001B[39m(kwargs))\u001B[38;5;132;01m}\u001B[39;00m\u001B[38;5;124m\"\u001B[39m)\n",
      "\u001B[0;31mKeyboardInterrupt\u001B[0m: "
     ]
    }
   ],
   "source": [
    "import sys\n",
    "import io\n",
    "\n",
    "# Import utils for feature engineering\n",
    "from utils.data_preprocessing_steve import pp_pipeline_noah\n",
    "\n",
    "limits = {'0-4':(1,4), '5-12':(4,14), '13-22':(14,19)}\n",
    "questions = {'0-4':('_q1', '_q2', '_q3'), '5-12':('_q4', '_q5', '_q6', '_q7', '_q8', '_q9', '_q10', '_q11', '_q12', '_q13'), '13-22':('_q14', '_q15', '_q16', '_q17', '_q18')}\n",
    "level_groups = ['0-4', '5-12', '13-22']\n",
    "\n",
    "submission_df = pd.DataFrame()\n",
    "\n",
    "# Simulate the time series API\n",
    "for sess in tqdm(pd.unique(X_train.session_id.astype('str'))):  # Raw data from only ONE session_id and level_group in each loop\n",
    "    # print('sess: '+sess)\n",
    "    X_test_sess = X_train[X_train['session_id'] == int(sess)]\n",
    "    y_test_sess = y_train[y_train['session_id'].str.contains(sess)]\n",
    "\n",
    "    for grps in pd.unique(X_test_sess.level_group.astype('str')):\n",
    "        #print('sess: '+sess+', grp: '+grps)\n",
    "\n",
    "        X_test_raw = X_test_sess[X_test_sess['level_group'] == grps]\n",
    "        group_endings = questions[grps]\n",
    "        y_test_label_preds = y_test_sess[y_test_sess['session_id'].str.endswith(group_endings)]\n",
    "\n",
    "        #print(X_test_raw.head())\n",
    "        #print(y_test_label_preds.head())\n",
    "\n",
    "        # Suppress the print's inside of steve's preprocessing functions...\n",
    "        text_trap = io.StringIO()\n",
    "        sys.stdout = text_trap\n",
    "\n",
    "        # Pre-process the raw test data: the pipeline returns a dict with datasets split by level_group.\n",
    "        X_test_dict = pp_pipeline_noah(data=X_test_raw, file_path=None, flatten=True, saveIntermediateFiles=False,\n",
    "                         dtypes=dtypes_raw, output=True)\n",
    "\n",
    "        # Restore stdout.\n",
    "        sys.stdout = sys.__stdout__\n",
    "\n",
    "        # Since we only have data from one level_group, we just take the first dataset out of the dict.\n",
    "        grp = list(X_test_dict.keys())[0]\n",
    "        X_test = X_test_dict[grp].drop(['session_id_1', 'level_group_1'], axis=1)\n",
    "\n",
    "        # Here we adapt the dtypes of our processed data\n",
    "        for column in X_test.columns:       # TODO: put this in a function and optimize it\n",
    "            base_name = column.rsplit('_', 1)[0]  # get the base name by splitting on the last \"_\" character\n",
    "            if base_name in dtypes_pp:\n",
    "                column_number = column.rsplit('_', 1)[1]  # get the number from the index by splitting on the last \"_\" character\n",
    "                new_column_name = f\"{base_name}_{column_number}\"  # construct the new column name\n",
    "                column_dtype = dtypes_pp[base_name]\n",
    "                try:\n",
    "                    X_test[new_column_name] = X_test[column].astype(column_dtype)  # set the same data type for all columns with the same base name\n",
    "                except:\n",
    "                    X_test[new_column_name] = pd.Series(int(0)).astype(column_dtype)\n",
    "\n",
    "        a,b = limits[grp]\n",
    "\n",
    "        # We loop for each question - t\n",
    "        for t in range(a,b):\n",
    "            # Get the model for question t\n",
    "            #model = models[f'{t}']     # TODO: load actual models\n",
    "            # Make prediction\n",
    "            y_preds = 1 #model.predict(X_test)\n",
    "            # Write prediction to y_test_label_preds\n",
    "            mask = y_test_label_preds.session_id.str.contains(f'q{t}')\n",
    "            y_test_label_preds.loc[mask,'correct'] = y_preds    #[0]\n",
    "            submission_df = pd.concat([submission_df, y_test_label_preds.loc[mask,'correct']])  # TODO: make submission_df actually mirror submission.csv\n",
    "\n",
    "        # Add your predictions of this session_id to the submission before getting the next session_id data\n",
    "        #print(submission_df.head(40))\n",
    "\n",
    "submission_df.reset_index(inplace=True)"
   ],
   "metadata": {
    "collapsed": false,
    "pycharm": {
     "name": "#%%\n"
    }
   }
  },
  {
   "cell_type": "markdown",
   "source": [
    "# 3. Quick submission EDA\n",
    "- Check if your submission file looks correct"
   ],
   "metadata": {
    "pycharm": {
     "name": "#%% md\n"
    }
   }
  },
  {
   "cell_type": "code",
   "source": [
    "#df = pd.read_csv('submission.csv')\n",
    "print(submission_df.shape)\n",
    "print(submission_df.head(20))\n",
    "print(submission_df.correct.mean())"
   ],
   "metadata": {
    "execution": {
     "iopub.status.busy": "2023-05-24T13:38:59.870519Z",
     "iopub.execute_input": "2023-05-24T13:38:59.871667Z",
     "iopub.status.idle": "2023-05-24T13:38:59.887951Z",
     "shell.execute_reply.started": "2023-05-24T13:38:59.871599Z",
     "shell.execute_reply": "2023-05-24T13:38:59.886477Z"
    },
    "trusted": true,
    "pycharm": {
     "name": "#%%\n"
    }
   },
   "execution_count": 5,
   "outputs": [
    {
     "ename": "AttributeError",
     "evalue": "'DataFrame' object has no attribute 'correct'",
     "output_type": "error",
     "traceback": [
      "\u001B[0;31m---------------------------------------------------------------------------\u001B[0m",
      "\u001B[0;31mAttributeError\u001B[0m                            Traceback (most recent call last)",
      "Cell \u001B[0;32mIn[5], line 4\u001B[0m\n\u001B[1;32m      2\u001B[0m \u001B[38;5;28mprint\u001B[39m(submission_df\u001B[38;5;241m.\u001B[39mshape)\n\u001B[1;32m      3\u001B[0m \u001B[38;5;28mprint\u001B[39m(submission_df\u001B[38;5;241m.\u001B[39mhead(\u001B[38;5;241m20\u001B[39m))\n\u001B[0;32m----> 4\u001B[0m \u001B[38;5;28mprint\u001B[39m(\u001B[43msubmission_df\u001B[49m\u001B[38;5;241;43m.\u001B[39;49m\u001B[43mcorrect\u001B[49m\u001B[38;5;241m.\u001B[39mmean())\n",
      "File \u001B[0;32m~/opt/anaconda3/envs/gameplay_kaggel_env/lib/python3.9/site-packages/pandas/core/generic.py:5902\u001B[0m, in \u001B[0;36mNDFrame.__getattr__\u001B[0;34m(self, name)\u001B[0m\n\u001B[1;32m   5895\u001B[0m \u001B[38;5;28;01mif\u001B[39;00m (\n\u001B[1;32m   5896\u001B[0m     name \u001B[38;5;129;01mnot\u001B[39;00m \u001B[38;5;129;01min\u001B[39;00m \u001B[38;5;28mself\u001B[39m\u001B[38;5;241m.\u001B[39m_internal_names_set\n\u001B[1;32m   5897\u001B[0m     \u001B[38;5;129;01mand\u001B[39;00m name \u001B[38;5;129;01mnot\u001B[39;00m \u001B[38;5;129;01min\u001B[39;00m \u001B[38;5;28mself\u001B[39m\u001B[38;5;241m.\u001B[39m_metadata\n\u001B[1;32m   5898\u001B[0m     \u001B[38;5;129;01mand\u001B[39;00m name \u001B[38;5;129;01mnot\u001B[39;00m \u001B[38;5;129;01min\u001B[39;00m \u001B[38;5;28mself\u001B[39m\u001B[38;5;241m.\u001B[39m_accessors\n\u001B[1;32m   5899\u001B[0m     \u001B[38;5;129;01mand\u001B[39;00m \u001B[38;5;28mself\u001B[39m\u001B[38;5;241m.\u001B[39m_info_axis\u001B[38;5;241m.\u001B[39m_can_hold_identifiers_and_holds_name(name)\n\u001B[1;32m   5900\u001B[0m ):\n\u001B[1;32m   5901\u001B[0m     \u001B[38;5;28;01mreturn\u001B[39;00m \u001B[38;5;28mself\u001B[39m[name]\n\u001B[0;32m-> 5902\u001B[0m \u001B[38;5;28;01mreturn\u001B[39;00m \u001B[38;5;28;43mobject\u001B[39;49m\u001B[38;5;241;43m.\u001B[39;49m\u001B[38;5;21;43m__getattribute__\u001B[39;49m\u001B[43m(\u001B[49m\u001B[38;5;28;43mself\u001B[39;49m\u001B[43m,\u001B[49m\u001B[43m \u001B[49m\u001B[43mname\u001B[49m\u001B[43m)\u001B[49m\n",
      "\u001B[0;31mAttributeError\u001B[0m: 'DataFrame' object has no attribute 'correct'"
     ]
    }
   ]
  },
  {
   "cell_type": "code",
   "source": [
    "## the end result is a submission file containing all test session predictions\n",
    "! head submission.csv"
   ],
   "metadata": {
    "papermill": {
     "duration": 0.767504,
     "end_time": "2022-06-03T21:13:11.572788",
     "exception": false,
     "start_time": "2022-06-03T21:13:10.805284",
     "status": "completed"
    },
    "tags": [],
    "execution": {
     "iopub.status.busy": "2023-05-24T13:38:59.890658Z",
     "iopub.execute_input": "2023-05-24T13:38:59.891547Z",
     "iopub.status.idle": "2023-05-24T13:39:00.182911Z",
     "shell.execute_reply.started": "2023-05-24T13:38:59.891507Z",
     "shell.execute_reply": "2023-05-24T13:39:00.181613Z"
    },
    "trusted": true,
    "pycharm": {
     "name": "#%%\n"
    }
   },
   "execution_count": 6,
   "outputs": []
  },
  {
   "cell_type": "markdown",
   "source": [
    "# 4. Final steps for submission\n",
    "* In the top right corner choose \"Save Version\" with Version type \"Save & Run All (Commit)\". Note the correct Version for later.\n",
    "* In the lower left corner you'll see the process running. When it's done, press on the \"Open in viewer\" option and check if the output is a submission.csv with 1.29 kB\n",
    "* Then go to the competition page, choose \"Submit Predictions\", choose your file with the correct version and correct output file - submit and you're done.\n",
    "* Your submitted notebook will now be re-runned with private test data by the competition host. The public socre will appear in your submission section.\n",
    "* The scoring will take a while..."
   ],
   "metadata": {
    "pycharm": {
     "name": "#%% md\n"
    }
   }
  }
 ]
}