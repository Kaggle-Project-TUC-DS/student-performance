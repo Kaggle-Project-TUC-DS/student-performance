{
 "metadata": {
  "kernelspec": {
   "language": "python",
   "display_name": "Python 3",
   "name": "python3"
  },
  "language_info": {
   "name": "python",
   "version": "3.7.12",
   "mimetype": "text/x-python",
   "codemirror_mode": {
    "name": "ipython",
    "version": 3
   },
   "pygments_lexer": "ipython3",
   "nbconvert_exporter": "python",
   "file_extension": ".py"
  }
 },
 "nbformat_minor": 4,
 "nbformat": 4,
 "cells": [
  {
   "cell_type": "code",
   "execution_count": null,
   "outputs": [],
   "source": [
    "import numpy as np\n",
    "import pandas as pd\n",
    "import os\n",
    "\n",
    "dtypes_raw = {\n",
    "    'elapsed_time': np.int32,\n",
    "    'event_name': 'category',\n",
    "    'name': 'category',\n",
    "    'level': np.uint8,\n",
    "    'room_coor_x': np.float32,\n",
    "    \"index\": np.int32,\n",
    "    'room_coor_y': np.float32,\n",
    "    'screen_coor_x': np.float32,\n",
    "    'screen_coor_y': np.float32,\n",
    "    'hover_duration': np.float32,\n",
    "    'text': 'category',\n",
    "    'fqid': 'category',\n",
    "    'room_fqid': 'category',\n",
    "    'text_fqid': 'category',\n",
    "    'fullscreen': 'category',\n",
    "    'hq': 'category',\n",
    "    'music': 'category',\n",
    "    'level_group': 'category'}"
   ],
   "metadata": {
    "collapsed": false,
    "pycharm": {
     "name": "#%%\n"
    }
   }
  },
  {
   "cell_type": "code",
   "execution_count": null,
   "outputs": [],
   "source": [
    "wd = os.getcwd()\n",
    "print(wd[-10:])"
   ],
   "metadata": {
    "collapsed": false,
    "pycharm": {
     "name": "#%%\n"
    }
   }
  },
  {
   "cell_type": "markdown",
   "source": [
    "# 1. Load your model: [your model name here] (in this case: steves optuna xgboost decision tree)"
   ],
   "metadata": {
    "collapsed": false,
    "pycharm": {
     "name": "#%% md\n"
    }
   }
  },
  {
   "cell_type": "code",
   "execution_count": null,
   "outputs": [],
   "source": [
    "import xgboost as xgb #delete?\n",
    "import pickle\n",
    "\n",
    "# Variant 1.: On Kaggle: Load the model from kaggle input files\n",
    "#with open('/kaggle/input/best-models-dict-optunahp/best_models_dict_optunahp.pkl', 'rb') as f:\n",
    "#    models = pickle.load(f)\n",
    "\n",
    "# Variant 2.: Locally load model files\n",
    "# set correct working directory\n",
    "wd = os.getcwd()\n",
    "print(\"Current working directory: \", wd)\n",
    "if wd[-10:] == 'submission': wd = wd[:-11]\n",
    "os.chdir(wd)\n",
    "print(\"New working directory: \", os.getcwd())\n",
    "\n",
    "#with open('models/best_models_dict_optunahp.pkl', 'rb') as f:\n",
    "  #  models = pickle.load(f)"
   ],
   "metadata": {
    "collapsed": false,
    "pycharm": {
     "name": "#%%\n"
    }
   }
  },
  {
   "cell_type": "markdown",
   "source": [
    "# 2. Run the model\n",
    "DON'T READ THIS: This jo_wilder-kind-of-timeseries-API simulates the real world scenario for the model you've trained. The iter_test gives you pairs of: \n",
    "1. X_test_raw: gamelog data of a single session_id from only one level_group \n",
    "2. y_test_label_preds: and secondly a dataframe (similiar to raw/train_labels.csv) in which you have to fill in your predictions for each question of that level_group.\n",
    "\n",
    "**Additional WARNINGS**:\n",
    "- submission.csv is NOT automatically reseted, even after a Kernel reboot the iter_test will continue to add sample submissions to the submission.csv\n",
    "- the iter_tester needs a kernel reboot after each run - or you will get the error: \"Exception: You can only iterate over `iter_test()` once.\""
   ],
   "metadata": {
    "collapsed": false,
    "pycharm": {
     "name": "#%% md\n"
    }
   }
  },
  {
   "cell_type": "code",
   "execution_count": null,
   "outputs": [],
   "source": [
    "# Unfortunately this doesn't work because you don't have the rights to do this on Kaggle:\n",
    "# os.remove(\"/kaggle/working/submission.csv\")\n",
    "\n",
    "# 1. On Kaggle: Import utils for feature engineering\n",
    "#import sys\n",
    "#sys.path.insert(1, '/kaggle/input/utils-for-preprocessing')\n",
    "#import data_preprocessing_steve, loader_steve, preprocessing_func\n",
    "# from /kaggle/input/utils-for-preprocessing import data_preprocessing_steve, loader_steve, preprocessing_func\n",
    "\n",
    "# 2. Locally:\n",
    "from utils.data_preprocessing_steve import pp_pipeline_noah\n",
    "\n",
    "# 1. On Kaggle:\n",
    "#import jo_wilder\n",
    "# 2.Locally:\n",
    "import data.raw.jo_wilder\n",
    "env = jo_wilder.make_env()\n",
    "iter_test = env.iter_test()\n",
    "\n",
    "limits = {'0-4':(1,4), '5-12':(4,14), '13-22':(14,19)}\n",
    "\n",
    "for (X_test_raw, y_test_label_preds) in iter_test: # Only one session_id at a time?\n",
    "    print(X_test_raw)\n",
    "    # Pre-process the raw test data\n",
    "    X_test = data_preprocessing_steve.pp_pipeline_noah(data=X_test_raw, file_path=None, flatten=True, saveIntermediateFiles=False,\n",
    "                     dtypes=dtypes_raw, output=True)\n",
    "    \n",
    "    # Apparently each test data in each iteration of iter_test has only data of one level_group. We find it here and then only go through the questions of this particular level_group:\n",
    "    grp = X_test.level_group.values[0]\n",
    "    a,b = limits[grp]\n",
    "    \n",
    "    # We loop for each question - t\n",
    "    for t in range(a,b):\n",
    "        # Get the model for question t\n",
    "        model = models[f'{t}']\n",
    "        y_preds = model.predict(X_test)\n",
    "        print(y_preds)\n",
    "        # Make predictions\n",
    "        mask = y_test_label_preds.session_id.str.contains(f'q{t}')\n",
    "        r = rng.uniform()\n",
    "        if r <= prob_0:\n",
    "            y_test_label_preds.loc[mask,'correct'] = 0\n",
    "        else:\n",
    "            y_test_label_preds.loc[mask,'correct'] = 1\n",
    "    \n",
    "    # Add your predictions of this session_id to the submission before getting the next session_id data\n",
    "    env.predict(y_test_label_preds)"
   ],
   "metadata": {
    "collapsed": false,
    "pycharm": {
     "name": "#%%\n"
    }
   }
  },
  {
   "cell_type": "code",
   "execution_count": null,
   "outputs": [],
   "source": [
    "from utils.data_preprocessing_steve import pp_pipeline_noah\n",
    "#from utils.loader_steve import load_data\n",
    "\n",
    "X_test_raw = pd.read_csv('data/submission/X_test_raw_1.csv')\n",
    "y_test_label_preds = pd.read_csv('data/submission/y_test_label_preds_1.csv')\n",
    "\n",
    "# Pre-process the raw test data\n",
    "X_test_dict = pp_pipeline_noah(data=X_test_raw, file_path=None, flatten=True, saveIntermediateFiles=False,\n",
    "                 dtypes=dtypes_raw, output=True)\n",
    "\n",
    "# Apparently each test data in each iteration of iter_test has only data of one level_group. We find it here and then only go through the questions of this particular level_group:\n",
    "grp = list(X_test_dict.keys())[0]\n",
    "X_test = X_test_dict[grp]\n",
    "\n",
    "limits = {'0-4':(1,4), '5-12':(4,14), '13-22':(14,19)}\n",
    "a,b = limits[grp]\n",
    "\n",
    "# We loop for each question - t\n",
    "for t in range(a,b):\n",
    "    # Get the model for question t\n",
    "    model = models[f'{t}']\n",
    "    y_preds = model.predict(X_test)\n",
    "    print(y_preds)\n",
    "    # Make predictions\n",
    "    mask = y_test_label_preds.session_id.str.contains(f'q{t}')\n",
    "    r = rng.uniform()\n",
    "    if r <= prob_0:\n",
    "        y_test_label_preds.loc[mask,'correct'] = 0\n",
    "    else:\n",
    "        y_test_label_preds.loc[mask,'correct'] = 1\n",
    "\n",
    "# Add your predictions of this session_id to the submission before getting the next session_id data"
   ],
   "metadata": {
    "collapsed": false,
    "pycharm": {
     "name": "#%%\n"
    }
   }
  },
  {
   "cell_type": "markdown",
   "source": [
    "# 3. Quick submission EDA\n"
   ],
   "metadata": {
    "collapsed": false,
    "pycharm": {
     "name": "#%% md\n"
    }
   }
  },
  {
   "cell_type": "code",
   "execution_count": null,
   "outputs": [],
   "source": [
    "df = pd.read_csv('submission.csv')\n",
    "print(df.shape)\n",
    "print(df.head(20))\n",
    "print(df.correct.mean())"
   ],
   "metadata": {
    "collapsed": false,
    "pycharm": {
     "name": "#%%\n"
    }
   }
  },
  {
   "cell_type": "code",
   "execution_count": null,
   "outputs": [],
   "source": [
    "## the end result is a submission file containing all test session predictions\n",
    "! head submission.csv"
   ],
   "metadata": {
    "collapsed": false,
    "pycharm": {
     "name": "#%%\n"
    }
   }
  },
  {
   "cell_type": "code",
   "source": [
    "## the end result is a submission file containing all test session predictions\n",
    "! head submission.csv"
   ],
   "metadata": {
    "papermill": {
     "duration": 0.767504,
     "end_time": "2022-06-03T21:13:11.572788",
     "exception": false,
     "start_time": "2022-06-03T21:13:10.805284",
     "status": "completed"
    },
    "tags": [],
    "execution": {
     "iopub.status.busy": "2023-05-20T11:55:35.391265Z",
     "iopub.status.idle": "2023-05-20T11:55:35.392026Z",
     "shell.execute_reply.started": "2023-05-20T11:55:35.391786Z",
     "shell.execute_reply": "2023-05-20T11:55:35.391809Z"
    },
    "trusted": true,
    "pycharm": {
     "name": "#%%\n"
    }
   },
   "execution_count": null,
   "outputs": []
  }
 ]
}