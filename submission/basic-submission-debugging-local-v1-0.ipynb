{
 "metadata": {
  "kernelspec": {
   "language": "python",
   "display_name": "Python 3",
   "name": "python3"
  },
  "language_info": {
   "name": "python",
   "version": "3.7.12",
   "mimetype": "text/x-python",
   "codemirror_mode": {
    "name": "ipython",
    "version": 3
   },
   "pygments_lexer": "ipython3",
   "nbconvert_exporter": "python",
   "file_extension": ".py"
  }
 },
 "nbformat_minor": 4,
 "nbformat": 4,
 "cells": [
  {
   "cell_type": "code",
   "source": [
    "import numpy as np\n",
    "import pandas as pd\n",
    "import os\n",
    "from tqdm import tqdm\n",
    "\n",
    "dtypes_raw = {\n",
    "    'elapsed_time': np.int32,\n",
    "    'event_name': 'category',\n",
    "    'name': 'category',\n",
    "    'level': np.uint8,\n",
    "    'room_coor_x': np.float32,\n",
    "    \"index\": np.int32,\n",
    "    'room_coor_y': np.float32,\n",
    "    'screen_coor_x': np.float32,\n",
    "    'screen_coor_y': np.float32,\n",
    "    'hover_duration': np.float32,\n",
    "    'text': 'category',\n",
    "    'fqid': 'category',\n",
    "    'room_fqid': 'category',\n",
    "    'text_fqid': 'category',\n",
    "    'fullscreen': 'category',\n",
    "    'hq': 'category',\n",
    "    'music': 'category',\n",
    "    'level_group': 'category'}\n",
    "\n",
    "dtypes_pp = {\n",
    "            'level': np.uint8,  \n",
    "            'session_id': np.int64,\n",
    "            'level_group': 'category',\n",
    "            'event_name': np.uint8,\n",
    "            'name': np.uint8,\n",
    "            'fqid': np.uint8,\n",
    "            'room_fqid': np.uint8,\n",
    "            'text_fqid': np.uint8,\n",
    "            'fullscreen': np.uint8,\n",
    "            'hq': np.uint8,\n",
    "            'music': np.uint8,\n",
    "            'hover_duration_mean': np.float32,\n",
    "            'difference_clicks_mean': np.float32,\n",
    "            \"distance_clicks_mean\": np.float32,\n",
    "            \"screen_distance_clicks_mean\": np.float32,            \n",
    "            'elapsed_time_std': np.float32,\n",
    "            'page_std': np.float32,\n",
    "            'room_coor_x_std': np.float32,\n",
    "            'room_coor_y_std': np.float32,\n",
    "            'screen_coor_x_std': np.float32,\n",
    "            'screen_coor_y_std': np.float32,\n",
    "            'hover_duration_std': np.float32,\n",
    "            'difference_clicks_std': np.float32,\n",
    "            \"distance_clicks_std\": np.float32,\n",
    "            \"screen_distance_clicks_std\": np.float32,\n",
    "            'index_sum_of_actions': np.int32,\n",
    "            'difference_clicks_max': np.float32,\n",
    "            'elapsed_time_max': np.float32,\n",
    "            'clicks_per_second': np.float32,\n",
    "            \"sum_distance_clicks_max\": np.float32}\n",
    "\n",
    "wd = os.getcwd()\n",
    "print(\"Current working directory: \", wd)\n",
    "if wd[-10:] == 'submission': wd = wd[:-11]\n",
    "os.chdir(wd)\n",
    "print(\"New working directory: \", os.getcwd())"
   ],
   "metadata": {
    "papermill": {
     "duration": 0.023295,
     "end_time": "2022-06-03T21:13:10.412151",
     "exception": false,
     "start_time": "2022-06-03T21:13:10.388856",
     "status": "completed"
    },
    "tags": [],
    "execution": {
     "iopub.status.busy": "2023-05-24T13:38:54.905763Z",
     "iopub.execute_input": "2023-05-24T13:38:54.907020Z",
     "iopub.status.idle": "2023-05-24T13:38:54.951935Z",
     "shell.execute_reply.started": "2023-05-24T13:38:54.906901Z",
     "shell.execute_reply": "2023-05-24T13:38:54.950172Z"
    },
    "trusted": true,
    "pycharm": {
     "name": "#%%\n"
    }
   },
   "execution_count": 2,
   "outputs": [
    {
     "name": "stdout",
     "output_type": "stream",
     "text": [
      "Current working directory:  /Users/nzuchna/Desktop/Drive/2. Areas/University/Master-TUC/M2/4_Forschungsmodul/student-performance/submission\n",
      "New working directory:  /Users/nzuchna/Desktop/Drive/2. Areas/University/Master-TUC/M2/4_Forschungsmodul/student-performance\n"
     ]
    }
   ]
  },
  {
   "cell_type": "markdown",
   "source": [
    "# 1. Load your model: [your model name here] (in this case: steves optuna xgboost decision tree)"
   ],
   "metadata": {
    "pycharm": {
     "name": "#%% md\n"
    }
   }
  },
  {
   "cell_type": "code",
   "source": [
    "import xgboost as xgb\n",
    "import pickle\n",
    "\n",
    "print(\"New working directory: \", os.getcwd())\n",
    "\n",
    "# Load the model from file\n",
    "with open('models/best_models_dict_optunahp.pkl', 'rb') as f:\n",
    "    models = pickle.load(f)"
   ],
   "metadata": {
    "execution": {
     "iopub.status.busy": "2023-05-24T13:38:54.954714Z",
     "iopub.execute_input": "2023-05-24T13:38:54.955998Z",
     "iopub.status.idle": "2023-05-24T13:38:57.373666Z",
     "shell.execute_reply.started": "2023-05-24T13:38:54.955939Z",
     "shell.execute_reply": "2023-05-24T13:38:57.372541Z"
    },
    "trusted": true,
    "pycharm": {
     "name": "#%%\n"
    }
   },
   "execution_count": null,
   "outputs": []
  },
  {
   "cell_type": "code",
   "execution_count": 2,
   "outputs": [
    {
     "name": "stdout",
     "output_type": "stream",
     "text": [
      "Name: xgboost\r\n",
      "Version: 1.7.3\r\n",
      "Summary: XGBoost Python Package\r\n",
      "Home-page: https://github.com/dmlc/xgboost\r\n",
      "Author: \r\n",
      "Author-email: \r\n",
      "License: Apache-2.0\r\n",
      "Location: /Users/nzuchna/opt/anaconda3/envs/gameplay_kaggel_env/lib/python3.9/site-packages\r\n",
      "Requires: numpy, scipy\r\n",
      "Required-by: \r\n"
     ]
    }
   ],
   "source": [
    "!pip show xgboost"
   ],
   "metadata": {
    "collapsed": false,
    "pycharm": {
     "name": "#%%\n"
    }
   }
  },
  {
   "cell_type": "code",
   "execution_count": 1,
   "outputs": [
    {
     "ename": "NameError",
     "evalue": "name 'models' is not defined",
     "output_type": "error",
     "traceback": [
      "\u001B[0;31m---------------------------------------------------------------------------\u001B[0m",
      "\u001B[0;31mNameError\u001B[0m                                 Traceback (most recent call last)",
      "Cell \u001B[0;32mIn[1], line 1\u001B[0m\n\u001B[0;32m----> 1\u001B[0m \u001B[43mmodels\u001B[49m[\u001B[38;5;124m'\u001B[39m\u001B[38;5;124m1\u001B[39m\u001B[38;5;124m'\u001B[39m]\n",
      "\u001B[0;31mNameError\u001B[0m: name 'models' is not defined"
     ]
    }
   ],
   "source": [
    "models['1']"
   ],
   "metadata": {
    "collapsed": false,
    "pycharm": {
     "name": "#%%\n"
    }
   }
  },
  {
   "cell_type": "markdown",
   "source": [
    "# 2. Run the model\n",
    "DON'T READ THIS: This jo_wilder-kind-of-timeseries-API simulates the real world scenario for the model you've trained. The iter_test gives you pairs of: \n",
    "1. X_test_raw: gamelog data of a single session_id from only one level_group \n",
    "2. y_test_label_preds: and secondly a dataframe (similiar to raw/train_labels.csv) in which you have to fill in your predictions for each question of that level_group.\n",
    "\n",
    "**Additional WARNINGS**:\n",
    "- submission.csv is NOT automatically reseted, even after a Kernel reboot the iter_test will continue to add sample submissions to the submission.csv. Therefor, before your final run, do a factory reset (Run > Factory reset).\n",
    "- the iter_tester needs a kernel reboot after each run - or you will get the error: \"Exception: You can only iterate over `iter_test()` once.\""
   ],
   "metadata": {
    "pycharm": {
     "name": "#%% md\n"
    }
   }
  },
  {
   "cell_type": "code",
   "execution_count": 3,
   "outputs": [],
   "source": [
    "X_train = pd.read_csv('data/raw/train.csv')  #TODO: try with test.csv also\n",
    "y_train = pd.read_csv('data/raw/train_labels.csv')"
   ],
   "metadata": {
    "collapsed": false,
    "pycharm": {
     "name": "#%%\n"
    }
   }
  },
  {
   "cell_type": "code",
   "execution_count": 7,
   "outputs": [
    {
     "name": "stderr",
     "output_type": "stream",
     "text": [
      "  1%|          | 149/23562 [01:21<3:34:34,  1.82it/s]\n"
     ]
    },
    {
     "ename": "KeyboardInterrupt",
     "evalue": "",
     "output_type": "error",
     "traceback": [
      "\u001B[0;31m---------------------------------------------------------------------------\u001B[0m",
      "\u001B[0;31mKeyboardInterrupt\u001B[0m                         Traceback (most recent call last)",
      "Cell \u001B[0;32mIn[7], line 34\u001B[0m\n\u001B[1;32m     31\u001B[0m sys\u001B[38;5;241m.\u001B[39mstdout \u001B[38;5;241m=\u001B[39m text_trap\n\u001B[1;32m     33\u001B[0m \u001B[38;5;66;03m# Pre-process the raw test data: the pipeline returns a dict with datasets split by level_group.\u001B[39;00m\n\u001B[0;32m---> 34\u001B[0m X_test_dict \u001B[38;5;241m=\u001B[39m \u001B[43mpp_pipeline_noah\u001B[49m\u001B[43m(\u001B[49m\u001B[43mdata\u001B[49m\u001B[38;5;241;43m=\u001B[39;49m\u001B[43mX_test_raw\u001B[49m\u001B[43m,\u001B[49m\u001B[43m \u001B[49m\u001B[43mfile_path\u001B[49m\u001B[38;5;241;43m=\u001B[39;49m\u001B[38;5;28;43;01mNone\u001B[39;49;00m\u001B[43m,\u001B[49m\u001B[43m \u001B[49m\u001B[43mflatten\u001B[49m\u001B[38;5;241;43m=\u001B[39;49m\u001B[38;5;28;43;01mTrue\u001B[39;49;00m\u001B[43m,\u001B[49m\u001B[43m \u001B[49m\u001B[43msaveIntermediateFiles\u001B[49m\u001B[38;5;241;43m=\u001B[39;49m\u001B[38;5;28;43;01mFalse\u001B[39;49;00m\u001B[43m,\u001B[49m\n\u001B[1;32m     35\u001B[0m \u001B[43m                 \u001B[49m\u001B[43mdtypes\u001B[49m\u001B[38;5;241;43m=\u001B[39;49m\u001B[43mdtypes_raw\u001B[49m\u001B[43m,\u001B[49m\u001B[43m \u001B[49m\u001B[43moutput\u001B[49m\u001B[38;5;241;43m=\u001B[39;49m\u001B[38;5;28;43;01mTrue\u001B[39;49;00m\u001B[43m)\u001B[49m\n\u001B[1;32m     37\u001B[0m \u001B[38;5;66;03m# Restore stdout.\u001B[39;00m\n\u001B[1;32m     38\u001B[0m sys\u001B[38;5;241m.\u001B[39mstdout \u001B[38;5;241m=\u001B[39m sys\u001B[38;5;241m.\u001B[39m__stdout__\n",
      "File \u001B[0;32m~/Desktop/Drive/2. Areas/University/Master-TUC/M2/4_Forschungsmodul/student-performance/utils/data_preprocessing_steve.py:77\u001B[0m, in \u001B[0;36mpp_pipeline_noah\u001B[0;34m(data, file_path, flatten, saveIntermediateFiles, dtypes, output)\u001B[0m\n\u001B[1;32m     70\u001B[0m MAXIMUM \u001B[38;5;241m=\u001B[39m [\u001B[38;5;124m'\u001B[39m\u001B[38;5;124mdifference_clicks\u001B[39m\u001B[38;5;124m'\u001B[39m, \u001B[38;5;124m'\u001B[39m\u001B[38;5;124melapsed_time\u001B[39m\u001B[38;5;124m'\u001B[39m, \u001B[38;5;124m\"\u001B[39m\u001B[38;5;124msum_distance_clicks\u001B[39m\u001B[38;5;124m\"\u001B[39m]\n\u001B[1;32m     72\u001B[0m \u001B[38;5;66;03m# copy them into the feature engineer function\u001B[39;00m\n\u001B[1;32m     73\u001B[0m \n\u001B[1;32m     74\u001B[0m \u001B[38;5;66;03m# Careful, werid fix of a problem: when changing the categories and variables. copy them into the right place in the deature engeneer function.\u001B[39;00m\n\u001B[1;32m     75\u001B[0m \u001B[38;5;66;03m# they cant be loaded across the files.\u001B[39;00m\n\u001B[0;32m---> 77\u001B[0m dataset_df \u001B[38;5;241m=\u001B[39m \u001B[43mfeature_engineer_steve\u001B[49m\u001B[43m(\u001B[49m\u001B[43mdataset_df\u001B[49m\u001B[43m)\u001B[49m\n\u001B[1;32m     79\u001B[0m \u001B[38;5;28;01mif\u001B[39;00m saveIntermediateFiles:\n\u001B[1;32m     80\u001B[0m     \u001B[38;5;66;03m# save the leveled data (aggregated)\u001B[39;00m\n\u001B[1;32m     81\u001B[0m     dataset_df\u001B[38;5;241m.\u001B[39mto_csv(\u001B[38;5;124m'\u001B[39m\u001B[38;5;124mdata/processed/df_level.csv\u001B[39m\u001B[38;5;124m'\u001B[39m)\n",
      "File \u001B[0;32m~/Desktop/Drive/2. Areas/University/Master-TUC/M2/4_Forschungsmodul/student-performance/utils/preprocessing_func.py:63\u001B[0m, in \u001B[0;36mfeature_engineer_steve\u001B[0;34m(dataset_df)\u001B[0m\n\u001B[1;32m     61\u001B[0m     dfs\u001B[38;5;241m.\u001B[39mappend(tmp)\n\u001B[1;32m     62\u001B[0m \u001B[38;5;28;01mfor\u001B[39;00m c \u001B[38;5;129;01min\u001B[39;00m MAXIMUM:\n\u001B[0;32m---> 63\u001B[0m     tmp \u001B[38;5;241m=\u001B[39m \u001B[43mdataset_df\u001B[49m\u001B[38;5;241;43m.\u001B[39;49m\u001B[43mgroupby\u001B[49m\u001B[43m(\u001B[49m\u001B[43m[\u001B[49m\u001B[38;5;124;43m'\u001B[39;49m\u001B[38;5;124;43msession_id\u001B[39;49m\u001B[38;5;124;43m'\u001B[39;49m\u001B[43m,\u001B[49m\u001B[43m \u001B[49m\u001B[38;5;124;43m'\u001B[39;49m\u001B[38;5;124;43mlevel\u001B[39;49m\u001B[38;5;124;43m'\u001B[39;49m\u001B[43m]\u001B[49m\u001B[43m)\u001B[49m\u001B[43m[\u001B[49m\u001B[43mc\u001B[49m\u001B[43m]\u001B[49m\u001B[38;5;241;43m.\u001B[39;49m\u001B[43magg\u001B[49m\u001B[43m(\u001B[49m\u001B[38;5;124;43m'\u001B[39;49m\u001B[38;5;124;43mmax\u001B[39;49m\u001B[38;5;124;43m'\u001B[39;49m\u001B[43m)\u001B[49m\u001B[43m \u001B[49m\u001B[38;5;241;43m-\u001B[39;49m\u001B[43m \u001B[49m\u001B[43mdataset_df\u001B[49m\u001B[38;5;241;43m.\u001B[39;49m\u001B[43mgroupby\u001B[49m\u001B[43m(\u001B[49m\u001B[43m[\u001B[49m\u001B[38;5;124;43m'\u001B[39;49m\u001B[38;5;124;43msession_id\u001B[39;49m\u001B[38;5;124;43m'\u001B[39;49m\u001B[43m,\u001B[49m\u001B[43m \u001B[49m\u001B[38;5;124;43m'\u001B[39;49m\u001B[38;5;124;43mlevel\u001B[39;49m\u001B[38;5;124;43m'\u001B[39;49m\u001B[43m]\u001B[49m\u001B[43m)\u001B[49m\u001B[43m[\u001B[49m\n\u001B[1;32m     64\u001B[0m \u001B[43m        \u001B[49m\u001B[43mc\u001B[49m\u001B[43m]\u001B[49m\u001B[38;5;241;43m.\u001B[39;49m\u001B[43magg\u001B[49m\u001B[43m(\u001B[49m\u001B[38;5;124;43m'\u001B[39;49m\u001B[38;5;124;43mmin\u001B[39;49m\u001B[38;5;124;43m'\u001B[39;49m\u001B[43m)\u001B[49m\n\u001B[1;32m     65\u001B[0m     tmp\u001B[38;5;241m.\u001B[39mname \u001B[38;5;241m=\u001B[39m tmp\u001B[38;5;241m.\u001B[39mname \u001B[38;5;241m+\u001B[39m \u001B[38;5;124m'\u001B[39m\u001B[38;5;124m_max\u001B[39m\u001B[38;5;124m'\u001B[39m\n\u001B[1;32m     66\u001B[0m     dfs\u001B[38;5;241m.\u001B[39mappend(tmp)\n",
      "File \u001B[0;32m~/opt/anaconda3/envs/gameplay_kaggel_env/lib/python3.9/site-packages/pandas/core/ops/common.py:72\u001B[0m, in \u001B[0;36m_unpack_zerodim_and_defer.<locals>.new_method\u001B[0;34m(self, other)\u001B[0m\n\u001B[1;32m     68\u001B[0m             \u001B[38;5;28;01mreturn\u001B[39;00m \u001B[38;5;28mNotImplemented\u001B[39m\n\u001B[1;32m     70\u001B[0m other \u001B[38;5;241m=\u001B[39m item_from_zerodim(other)\n\u001B[0;32m---> 72\u001B[0m \u001B[38;5;28;01mreturn\u001B[39;00m \u001B[43mmethod\u001B[49m\u001B[43m(\u001B[49m\u001B[38;5;28;43mself\u001B[39;49m\u001B[43m,\u001B[49m\u001B[43m \u001B[49m\u001B[43mother\u001B[49m\u001B[43m)\u001B[49m\n",
      "File \u001B[0;32m~/opt/anaconda3/envs/gameplay_kaggel_env/lib/python3.9/site-packages/pandas/core/arraylike.py:110\u001B[0m, in \u001B[0;36mOpsMixin.__sub__\u001B[0;34m(self, other)\u001B[0m\n\u001B[1;32m    108\u001B[0m \u001B[38;5;129m@unpack_zerodim_and_defer\u001B[39m(\u001B[38;5;124m\"\u001B[39m\u001B[38;5;124m__sub__\u001B[39m\u001B[38;5;124m\"\u001B[39m)\n\u001B[1;32m    109\u001B[0m \u001B[38;5;28;01mdef\u001B[39;00m \u001B[38;5;21m__sub__\u001B[39m(\u001B[38;5;28mself\u001B[39m, other):\n\u001B[0;32m--> 110\u001B[0m     \u001B[38;5;28;01mreturn\u001B[39;00m \u001B[38;5;28;43mself\u001B[39;49m\u001B[38;5;241;43m.\u001B[39;49m\u001B[43m_arith_method\u001B[49m\u001B[43m(\u001B[49m\u001B[43mother\u001B[49m\u001B[43m,\u001B[49m\u001B[43m \u001B[49m\u001B[43moperator\u001B[49m\u001B[38;5;241;43m.\u001B[39;49m\u001B[43msub\u001B[49m\u001B[43m)\u001B[49m\n",
      "File \u001B[0;32m~/opt/anaconda3/envs/gameplay_kaggel_env/lib/python3.9/site-packages/pandas/core/series.py:6258\u001B[0m, in \u001B[0;36mSeries._arith_method\u001B[0;34m(self, other, op)\u001B[0m\n\u001B[1;32m   6257\u001B[0m \u001B[38;5;28;01mdef\u001B[39;00m \u001B[38;5;21m_arith_method\u001B[39m(\u001B[38;5;28mself\u001B[39m, other, op):\n\u001B[0;32m-> 6258\u001B[0m     \u001B[38;5;28mself\u001B[39m, other \u001B[38;5;241m=\u001B[39m \u001B[43mops\u001B[49m\u001B[38;5;241;43m.\u001B[39;49m\u001B[43malign_method_SERIES\u001B[49m\u001B[43m(\u001B[49m\u001B[38;5;28;43mself\u001B[39;49m\u001B[43m,\u001B[49m\u001B[43m \u001B[49m\u001B[43mother\u001B[49m\u001B[43m)\u001B[49m\n\u001B[1;32m   6259\u001B[0m     \u001B[38;5;28;01mreturn\u001B[39;00m base\u001B[38;5;241m.\u001B[39mIndexOpsMixin\u001B[38;5;241m.\u001B[39m_arith_method(\u001B[38;5;28mself\u001B[39m, other, op)\n",
      "File \u001B[0;32m~/opt/anaconda3/envs/gameplay_kaggel_env/lib/python3.9/site-packages/pandas/core/ops/__init__.py:160\u001B[0m, in \u001B[0;36malign_method_SERIES\u001B[0;34m(left, right, align_asobject)\u001B[0m\n\u001B[1;32m    154\u001B[0m \u001B[38;5;66;03m# ToDo: Different from align_method_FRAME, list, tuple and ndarray\u001B[39;00m\n\u001B[1;32m    155\u001B[0m \u001B[38;5;66;03m# are not coerced here\u001B[39;00m\n\u001B[1;32m    156\u001B[0m \u001B[38;5;66;03m# because Series has inconsistencies described in #13637\u001B[39;00m\n\u001B[1;32m    158\u001B[0m \u001B[38;5;28;01mif\u001B[39;00m \u001B[38;5;28misinstance\u001B[39m(right, ABCSeries):\n\u001B[1;32m    159\u001B[0m     \u001B[38;5;66;03m# avoid repeated alignment\u001B[39;00m\n\u001B[0;32m--> 160\u001B[0m     \u001B[38;5;28;01mif\u001B[39;00m \u001B[38;5;129;01mnot\u001B[39;00m \u001B[43mleft\u001B[49m\u001B[38;5;241;43m.\u001B[39;49m\u001B[43mindex\u001B[49m\u001B[38;5;241;43m.\u001B[39;49m\u001B[43mequals\u001B[49m\u001B[43m(\u001B[49m\u001B[43mright\u001B[49m\u001B[38;5;241;43m.\u001B[39;49m\u001B[43mindex\u001B[49m\u001B[43m)\u001B[49m:\n\u001B[1;32m    162\u001B[0m         \u001B[38;5;28;01mif\u001B[39;00m align_asobject:\n\u001B[1;32m    163\u001B[0m             \u001B[38;5;66;03m# to keep original value's dtype for bool ops\u001B[39;00m\n\u001B[1;32m    164\u001B[0m             left \u001B[38;5;241m=\u001B[39m left\u001B[38;5;241m.\u001B[39mastype(\u001B[38;5;28mobject\u001B[39m)\n",
      "File \u001B[0;32m~/opt/anaconda3/envs/gameplay_kaggel_env/lib/python3.9/site-packages/pandas/core/indexes/multi.py:3586\u001B[0m, in \u001B[0;36mMultiIndex.equals\u001B[0;34m(self, other)\u001B[0m\n\u001B[1;32m   3584\u001B[0m     \u001B[38;5;28;01mreturn\u001B[39;00m \u001B[38;5;28;01mFalse\u001B[39;00m\n\u001B[1;32m   3585\u001B[0m self_codes \u001B[38;5;241m=\u001B[39m self_codes[\u001B[38;5;241m~\u001B[39mself_mask]\n\u001B[0;32m-> 3586\u001B[0m self_values \u001B[38;5;241m=\u001B[39m \u001B[38;5;28;43mself\u001B[39;49m\u001B[38;5;241;43m.\u001B[39;49m\u001B[43mlevels\u001B[49m\u001B[43m[\u001B[49m\u001B[43mi\u001B[49m\u001B[43m]\u001B[49m\u001B[38;5;241;43m.\u001B[39;49m\u001B[43m_values\u001B[49m\u001B[38;5;241;43m.\u001B[39;49m\u001B[43mtake\u001B[49m\u001B[43m(\u001B[49m\u001B[43mself_codes\u001B[49m\u001B[43m)\u001B[49m\n\u001B[1;32m   3588\u001B[0m other_codes \u001B[38;5;241m=\u001B[39m other_codes[\u001B[38;5;241m~\u001B[39mother_mask]\n\u001B[1;32m   3589\u001B[0m other_values \u001B[38;5;241m=\u001B[39m other\u001B[38;5;241m.\u001B[39mlevels[i]\u001B[38;5;241m.\u001B[39m_values\u001B[38;5;241m.\u001B[39mtake(other_codes)\n",
      "\u001B[0;31mKeyboardInterrupt\u001B[0m: "
     ]
    }
   ],
   "source": [
    "import sys\n",
    "import io\n",
    "\n",
    "# Import utils for feature engineering\n",
    "from utils.data_preprocessing_steve import pp_pipeline_noah\n",
    "\n",
    "limits = {'0-4':(1,4), '5-12':(4,14), '13-22':(14,19)}\n",
    "questions = {'0-4':('_q1', '_q2', '_q3'), '5-12':('_q4', '_q5', '_q6', '_q7', '_q8', '_q9', '_q10', '_q11', '_q12', '_q13'), '13-22':('_q14', '_q15', '_q16', '_q17', '_q18')}\n",
    "level_groups = ['0-4', '5-12', '13-22']\n",
    "\n",
    "submission_df = pd.DataFrame()\n",
    "\n",
    "# Simulate the time series API\n",
    "for sess in tqdm(pd.unique(X_train.session_id.astype('str'))):  # Raw data from only ONE session_id and level_group in each loop\n",
    "    # print('sess: '+sess)\n",
    "    X_test_sess = X_train[X_train['session_id'] == int(sess)]\n",
    "    y_test_sess = y_train[y_train['session_id'].str.contains(sess)]\n",
    "\n",
    "    for grps in pd.unique(X_test_sess.level_group.astype('str')):\n",
    "        #print('sess: '+sess+', grp: '+grps)\n",
    "\n",
    "        X_test_raw = X_test_sess[X_test_sess['level_group'] == grps]\n",
    "        group_endings = questions[grps]\n",
    "        y_test_label_preds = y_test_sess[y_test_sess['session_id'].str.endswith(group_endings)]\n",
    "\n",
    "        #print(X_test_raw.head())\n",
    "        #print(y_test_label_preds.head())\n",
    "\n",
    "        # Suppress the print's inside of steve's preprocessing functions...\n",
    "        text_trap = io.StringIO()\n",
    "        sys.stdout = text_trap\n",
    "\n",
    "        # Pre-process the raw test data: the pipeline returns a dict with datasets split by level_group.\n",
    "        X_test_dict = pp_pipeline_noah(data=X_test_raw, file_path=None, flatten=True, saveIntermediateFiles=False,\n",
    "                         dtypes=dtypes_raw, output=True)\n",
    "\n",
    "        # Restore stdout.\n",
    "        sys.stdout = sys.__stdout__\n",
    "\n",
    "        # Since we only have data from one level_group, we just take the first dataset out of the dict.\n",
    "        grp = list(X_test_dict.keys())[0]\n",
    "        X_test = X_test_dict[grp].drop(['session_id_1', 'level_group_1'], axis=1)\n",
    "\n",
    "        # Here we adapt the dtypes of our processed data\n",
    "        for column in X_test.columns:       # TODO: put this in a function and optimize it\n",
    "            base_name = column.rsplit('_', 1)[0]  # get the base name by splitting on the last \"_\" character\n",
    "            if base_name in dtypes_pp:\n",
    "                column_number = column.rsplit('_', 1)[1]  # get the number from the index by splitting on the last \"_\" character\n",
    "                new_column_name = f\"{base_name}_{column_number}\"  # construct the new column name\n",
    "                column_dtype = dtypes_pp[base_name]\n",
    "                try:\n",
    "                    X_test[new_column_name] = X_test[column].astype(column_dtype)  # set the same data type for all columns with the same base name\n",
    "                except:\n",
    "                    X_test[new_column_name] = pd.Series(int(0)).astype(column_dtype)\n",
    "\n",
    "        a,b = limits[grp]\n",
    "\n",
    "        # We loop for each question - t\n",
    "        for t in range(a,b):\n",
    "            # Get the model for question t\n",
    "            #model = models[f'{t}']     # TODO: load actual models\n",
    "            # Make prediction\n",
    "            y_preds = 1 #model.predict(X_test)\n",
    "            # Write prediction to y_test_label_preds\n",
    "            mask = y_test_label_preds.session_id.str.contains(f'q{t}')\n",
    "            y_test_label_preds.loc[mask,'correct'] = y_preds    #[0]\n",
    "            submission_df = pd.concat([submission_df, y_test_label_preds.loc[mask,'correct']])  # TODO: make submission_df actually mirror submission.csv\n",
    "\n",
    "        # Add your predictions of this session_id to the submission before getting the next session_id data\n",
    "        #print(submission_df.head(40))\n",
    "\n",
    "submission_df.reset_index(inplace=True)"
   ],
   "metadata": {
    "collapsed": false,
    "pycharm": {
     "name": "#%%\n"
    }
   }
  },
  {
   "cell_type": "markdown",
   "source": [
    "# 3. Quick submission EDA\n",
    "- Check if your submission file looks correct"
   ],
   "metadata": {
    "pycharm": {
     "name": "#%% md\n"
    }
   }
  },
  {
   "cell_type": "code",
   "source": [
    "#df = pd.read_csv('submission.csv')\n",
    "print(submission_df.shape)\n",
    "print(submission_df.head(20))\n",
    "print(submission_df.correct.mean())"
   ],
   "metadata": {
    "execution": {
     "iopub.status.busy": "2023-05-24T13:38:59.870519Z",
     "iopub.execute_input": "2023-05-24T13:38:59.871667Z",
     "iopub.status.idle": "2023-05-24T13:38:59.887951Z",
     "shell.execute_reply.started": "2023-05-24T13:38:59.871599Z",
     "shell.execute_reply": "2023-05-24T13:38:59.886477Z"
    },
    "trusted": true,
    "pycharm": {
     "name": "#%%\n"
    }
   },
   "execution_count": 5,
   "outputs": [
    {
     "ename": "AttributeError",
     "evalue": "'DataFrame' object has no attribute 'correct'",
     "output_type": "error",
     "traceback": [
      "\u001B[0;31m---------------------------------------------------------------------------\u001B[0m",
      "\u001B[0;31mAttributeError\u001B[0m                            Traceback (most recent call last)",
      "Cell \u001B[0;32mIn[5], line 4\u001B[0m\n\u001B[1;32m      2\u001B[0m \u001B[38;5;28mprint\u001B[39m(submission_df\u001B[38;5;241m.\u001B[39mshape)\n\u001B[1;32m      3\u001B[0m \u001B[38;5;28mprint\u001B[39m(submission_df\u001B[38;5;241m.\u001B[39mhead(\u001B[38;5;241m20\u001B[39m))\n\u001B[0;32m----> 4\u001B[0m \u001B[38;5;28mprint\u001B[39m(\u001B[43msubmission_df\u001B[49m\u001B[38;5;241;43m.\u001B[39;49m\u001B[43mcorrect\u001B[49m\u001B[38;5;241m.\u001B[39mmean())\n",
      "File \u001B[0;32m~/opt/anaconda3/envs/gameplay_kaggel_env/lib/python3.9/site-packages/pandas/core/generic.py:5902\u001B[0m, in \u001B[0;36mNDFrame.__getattr__\u001B[0;34m(self, name)\u001B[0m\n\u001B[1;32m   5895\u001B[0m \u001B[38;5;28;01mif\u001B[39;00m (\n\u001B[1;32m   5896\u001B[0m     name \u001B[38;5;129;01mnot\u001B[39;00m \u001B[38;5;129;01min\u001B[39;00m \u001B[38;5;28mself\u001B[39m\u001B[38;5;241m.\u001B[39m_internal_names_set\n\u001B[1;32m   5897\u001B[0m     \u001B[38;5;129;01mand\u001B[39;00m name \u001B[38;5;129;01mnot\u001B[39;00m \u001B[38;5;129;01min\u001B[39;00m \u001B[38;5;28mself\u001B[39m\u001B[38;5;241m.\u001B[39m_metadata\n\u001B[1;32m   5898\u001B[0m     \u001B[38;5;129;01mand\u001B[39;00m name \u001B[38;5;129;01mnot\u001B[39;00m \u001B[38;5;129;01min\u001B[39;00m \u001B[38;5;28mself\u001B[39m\u001B[38;5;241m.\u001B[39m_accessors\n\u001B[1;32m   5899\u001B[0m     \u001B[38;5;129;01mand\u001B[39;00m \u001B[38;5;28mself\u001B[39m\u001B[38;5;241m.\u001B[39m_info_axis\u001B[38;5;241m.\u001B[39m_can_hold_identifiers_and_holds_name(name)\n\u001B[1;32m   5900\u001B[0m ):\n\u001B[1;32m   5901\u001B[0m     \u001B[38;5;28;01mreturn\u001B[39;00m \u001B[38;5;28mself\u001B[39m[name]\n\u001B[0;32m-> 5902\u001B[0m \u001B[38;5;28;01mreturn\u001B[39;00m \u001B[38;5;28;43mobject\u001B[39;49m\u001B[38;5;241;43m.\u001B[39;49m\u001B[38;5;21;43m__getattribute__\u001B[39;49m\u001B[43m(\u001B[49m\u001B[38;5;28;43mself\u001B[39;49m\u001B[43m,\u001B[49m\u001B[43m \u001B[49m\u001B[43mname\u001B[49m\u001B[43m)\u001B[49m\n",
      "\u001B[0;31mAttributeError\u001B[0m: 'DataFrame' object has no attribute 'correct'"
     ]
    }
   ]
  },
  {
   "cell_type": "code",
   "source": [
    "## the end result is a submission file containing all test session predictions\n",
    "! head submission.csv"
   ],
   "metadata": {
    "papermill": {
     "duration": 0.767504,
     "end_time": "2022-06-03T21:13:11.572788",
     "exception": false,
     "start_time": "2022-06-03T21:13:10.805284",
     "status": "completed"
    },
    "tags": [],
    "execution": {
     "iopub.status.busy": "2023-05-24T13:38:59.890658Z",
     "iopub.execute_input": "2023-05-24T13:38:59.891547Z",
     "iopub.status.idle": "2023-05-24T13:39:00.182911Z",
     "shell.execute_reply.started": "2023-05-24T13:38:59.891507Z",
     "shell.execute_reply": "2023-05-24T13:39:00.181613Z"
    },
    "trusted": true,
    "pycharm": {
     "name": "#%%\n"
    }
   },
   "execution_count": 6,
   "outputs": []
  },
  {
   "cell_type": "markdown",
   "source": [
    "# 4. Final steps for submission\n",
    "* In the top right corner choose \"Save Version\" with Version type \"Save & Run All (Commit)\". Note the correct Version for later.\n",
    "* In the lower left corner you'll see the process running. When it's done, press on the \"Open in viewer\" option and check if the output is a submission.csv with 1.29 kB\n",
    "* Then go to the competition page, choose \"Submit Predictions\", choose your file with the correct version and correct output file - submit and you're done.\n",
    "* Your submitted notebook will now be re-runned with private test data by the competition host. The public socre will appear in your submission section.\n",
    "* The scoring will take a while..."
   ],
   "metadata": {
    "pycharm": {
     "name": "#%% md\n"
    }
   }
  }
 ]
}